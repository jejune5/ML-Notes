{
 "cells": [
  {
   "cell_type": "markdown",
   "source": [
    "# word2vec 做分类\n",
    "[参考地址](https://tianchi.aliyun.com/competition/entrance/531810/forum)\n"
   ],
   "metadata": {
    "collapsed": false,
    "pycharm": {
     "name": "#%% md\n"
    }
   }
  },
  {
   "cell_type": "code",
   "execution_count": 2,
   "outputs": [],
   "source": [
    "import pandas as pd\n",
    "from sklearn.metrics import f1_score"
   ],
   "metadata": {
    "collapsed": false,
    "pycharm": {
     "name": "#%%\n"
    }
   }
  },
  {
   "cell_type": "markdown",
   "source": [
    "## 1. 载入数据"
   ],
   "metadata": {
    "collapsed": false,
    "pycharm": {
     "name": "#%% md\n"
    }
   }
  },
  {
   "cell_type": "code",
   "execution_count": 3,
   "outputs": [
    {
     "name": "stdout",
     "output_type": "stream",
     "text": [
      "All:200000, Train:190000, Valid:10000\n"
     ]
    },
    {
     "data": {
      "text/plain": "                                                     text     label_ft\n0       2967 6758 339 2021 1854 3731 4109 3792 4149 15...   __label__2\n1       4464 486 6352 5619 2465 4802 1452 3137 5778 54...  __label__11\n2       7346 4068 5074 3747 5681 6093 1777 2226 7354 6...   __label__3\n3       7159 948 4866 2109 5520 2490 211 3956 5520 549...   __label__2\n4       3646 3055 3055 2490 4659 6065 3370 5814 2465 5...   __label__3\n...                                                   ...          ...\n189995  1970 5036 1815 5036 2538 6093 2693 4986 1324 2...   __label__1\n189996  5602 6250 6065 264 4876 6639 314 1152 1264 364...   __label__0\n189997  669 4293 3099 1940 5917 4128 669 4293 3099 174...   __label__8\n189998  2400 6811 2986 2252 1457 4893 62 2376 2490 219...   __label__4\n189999  5284 1779 5410 5520 2109 3811 7039 5677 3994 4...   __label__5\n\n[190000 rows x 2 columns]",
      "text/html": "<div>\n<style scoped>\n    .dataframe tbody tr th:only-of-type {\n        vertical-align: middle;\n    }\n\n    .dataframe tbody tr th {\n        vertical-align: top;\n    }\n\n    .dataframe thead th {\n        text-align: right;\n    }\n</style>\n<table border=\"1\" class=\"dataframe\">\n  <thead>\n    <tr style=\"text-align: right;\">\n      <th></th>\n      <th>text</th>\n      <th>label_ft</th>\n    </tr>\n  </thead>\n  <tbody>\n    <tr>\n      <th>0</th>\n      <td>2967 6758 339 2021 1854 3731 4109 3792 4149 15...</td>\n      <td>__label__2</td>\n    </tr>\n    <tr>\n      <th>1</th>\n      <td>4464 486 6352 5619 2465 4802 1452 3137 5778 54...</td>\n      <td>__label__11</td>\n    </tr>\n    <tr>\n      <th>2</th>\n      <td>7346 4068 5074 3747 5681 6093 1777 2226 7354 6...</td>\n      <td>__label__3</td>\n    </tr>\n    <tr>\n      <th>3</th>\n      <td>7159 948 4866 2109 5520 2490 211 3956 5520 549...</td>\n      <td>__label__2</td>\n    </tr>\n    <tr>\n      <th>4</th>\n      <td>3646 3055 3055 2490 4659 6065 3370 5814 2465 5...</td>\n      <td>__label__3</td>\n    </tr>\n    <tr>\n      <th>...</th>\n      <td>...</td>\n      <td>...</td>\n    </tr>\n    <tr>\n      <th>189995</th>\n      <td>1970 5036 1815 5036 2538 6093 2693 4986 1324 2...</td>\n      <td>__label__1</td>\n    </tr>\n    <tr>\n      <th>189996</th>\n      <td>5602 6250 6065 264 4876 6639 314 1152 1264 364...</td>\n      <td>__label__0</td>\n    </tr>\n    <tr>\n      <th>189997</th>\n      <td>669 4293 3099 1940 5917 4128 669 4293 3099 174...</td>\n      <td>__label__8</td>\n    </tr>\n    <tr>\n      <th>189998</th>\n      <td>2400 6811 2986 2252 1457 4893 62 2376 2490 219...</td>\n      <td>__label__4</td>\n    </tr>\n    <tr>\n      <th>189999</th>\n      <td>5284 1779 5410 5520 2109 3811 7039 5677 3994 4...</td>\n      <td>__label__5</td>\n    </tr>\n  </tbody>\n</table>\n<p>190000 rows × 2 columns</p>\n</div>"
     },
     "execution_count": 3,
     "metadata": {},
     "output_type": "execute_result"
    }
   ],
   "source": [
    "split_ratio = 0.95\n",
    "\n",
    "df_all = pd.read_csv('data/train_set.csv', sep='\\t')\n",
    "df_all['label_ft'] = '__label__' + df_all['label'].astype(str)\n",
    "\n",
    "n_all = len(df_all)\n",
    "n_train = int(n_all * split_ratio)\n",
    "n_valid = n_all - n_train\n",
    "df_train = df_all[['text', 'label_ft']].head(n_train)\n",
    "df_valid = df_all.tail(n_valid)\n",
    "df_train.to_csv('data/train.csv', index=None, header=None, sep='\\t')\n",
    "df_valid[['text', 'label_ft']].to_csv('data/valid.csv', index=None, header=None, sep='\\t')\n",
    "print('All:{}, Train:{}, Valid:{}'.format(n_all, n_train, n_valid))\n",
    "df_train"
   ],
   "metadata": {
    "collapsed": false,
    "pycharm": {
     "name": "#%%\n"
    }
   }
  },
  {
   "cell_type": "markdown",
   "source": [
    "## 2. word2vec 模型"
   ],
   "metadata": {
    "collapsed": false,
    "pycharm": {
     "name": "#%% md\n"
    }
   }
  },
  {
   "cell_type": "code",
   "execution_count": 10,
   "outputs": [
    {
     "name": "stderr",
     "output_type": "stream",
     "text": [
      "C:\\Users\\Jejune\\AppData\\Local\\Temp/ipykernel_16708/4228640026.py:10: DeprecationWarning: Call to deprecated `init_sims` (Gensim 4.0.0 implemented internal optimizations that make calls to init_sims() unnecessary. init_sims() is now obsoleted and will be completely removed in future versions. See https://github.com/RaRe-Technologies/gensim/wiki/Migrating-from-Gensim-3.x-to-4).\n",
      "  model.init_sims(replace=True)\n"
     ]
    }
   ],
   "source": [
    "from gensim.models.word2vec import Word2Vec\n",
    "\n",
    "num_features = 100     # Word vector dimensionality\n",
    "num_workers = 8       # Number of threads to run in parallel\n",
    "\n",
    "train_texts = df_train.head(10)['text'].tolist()\n",
    "train_texts = list(map(lambda x: list(x.split()), train_texts))\n",
    "\n",
    "model = Word2Vec(train_texts, workers=num_workers, vector_size=num_features)\n",
    "model.init_sims(replace=True)\n",
    "#\n",
    "# # save model\n",
    "model.save(\"./word2vec.bin\")"
   ],
   "metadata": {
    "collapsed": false,
    "pycharm": {
     "name": "#%%\n"
    }
   }
  },
  {
   "cell_type": "markdown",
   "source": [
    "## 3. 评估、保存模型"
   ],
   "metadata": {
    "collapsed": false,
    "pycharm": {
     "name": "#%% md\n"
    }
   }
  },
  {
   "cell_type": "code",
   "execution_count": 5,
   "outputs": [
    {
     "ename": "NameError",
     "evalue": "name 'model' is not defined",
     "output_type": "error",
     "traceback": [
      "\u001B[1;31m---------------------------------------------------------------------------\u001B[0m",
      "\u001B[1;31mNameError\u001B[0m                                 Traceback (most recent call last)",
      "\u001B[1;32m~\\AppData\\Local\\Temp/ipykernel_16708/1478410407.py\u001B[0m in \u001B[0;36m<module>\u001B[1;34m\u001B[0m\n\u001B[0;32m      1\u001B[0m \u001B[0mnow_str\u001B[0m \u001B[1;33m=\u001B[0m \u001B[0mpd\u001B[0m\u001B[1;33m.\u001B[0m\u001B[0mTimestamp\u001B[0m\u001B[1;33m.\u001B[0m\u001B[0mnow\u001B[0m\u001B[1;33m(\u001B[0m\u001B[1;33m)\u001B[0m\u001B[1;33m.\u001B[0m\u001B[0mstrftime\u001B[0m\u001B[1;33m(\u001B[0m\u001B[1;34m'%Y%m%d%H%M%S'\u001B[0m\u001B[1;33m)\u001B[0m\u001B[1;33m\u001B[0m\u001B[1;33m\u001B[0m\u001B[0m\n\u001B[1;32m----> 2\u001B[1;33m \u001B[0mmodel\u001B[0m\u001B[1;33m.\u001B[0m\u001B[0msave_model\u001B[0m\u001B[1;33m(\u001B[0m\u001B[1;34m'model/fasttext_{}.mdl'\u001B[0m\u001B[1;33m.\u001B[0m\u001B[0mformat\u001B[0m\u001B[1;33m(\u001B[0m\u001B[0mnow_str\u001B[0m\u001B[1;33m)\u001B[0m\u001B[1;33m)\u001B[0m\u001B[1;33m\u001B[0m\u001B[1;33m\u001B[0m\u001B[0m\n\u001B[0m\u001B[0;32m      3\u001B[0m \u001B[1;33m\u001B[0m\u001B[0m\n\u001B[0;32m      4\u001B[0m \u001B[0mdf_valid\u001B[0m \u001B[1;33m=\u001B[0m \u001B[0mdf_valid\u001B[0m\u001B[1;33m.\u001B[0m\u001B[0mcopy\u001B[0m\u001B[1;33m(\u001B[0m\u001B[1;33m)\u001B[0m\u001B[1;33m\u001B[0m\u001B[1;33m\u001B[0m\u001B[0m\n\u001B[0;32m      5\u001B[0m \u001B[0mdf_valid\u001B[0m\u001B[1;33m[\u001B[0m\u001B[1;34m'label_ft'\u001B[0m\u001B[1;33m]\u001B[0m \u001B[1;33m=\u001B[0m \u001B[1;34m'__label__'\u001B[0m \u001B[1;33m+\u001B[0m \u001B[0mdf_valid\u001B[0m\u001B[1;33m[\u001B[0m\u001B[1;34m'label'\u001B[0m\u001B[1;33m]\u001B[0m\u001B[1;33m.\u001B[0m\u001B[0mastype\u001B[0m\u001B[1;33m(\u001B[0m\u001B[0mstr\u001B[0m\u001B[1;33m)\u001B[0m\u001B[1;33m\u001B[0m\u001B[1;33m\u001B[0m\u001B[0m\n",
      "\u001B[1;31mNameError\u001B[0m: name 'model' is not defined"
     ]
    }
   ],
   "source": [
    "now_str = pd.Timestamp.now().strftime('%Y%m%d%H%M%S')\n",
    "model.save_model('model/fasttext_{}.mdl'.format(now_str))\n",
    "\n",
    "df_valid = df_valid.copy()\n",
    "df_valid['label_ft'] = '__label__' + df_valid['label'].astype(str)\n",
    "\n",
    "val_pred = [model.predict(x)[0][0].split('__')[-1] for x in df_valid['text']]\n",
    "y_true = df_valid['label'].to_numpy().astype(str)\n",
    "y_pred = val_pred\n",
    "score = f1_score(y_true, y_pred, average='macro')\n",
    "score\n"
   ],
   "metadata": {
    "collapsed": false,
    "pycharm": {
     "name": "#%%\n"
    }
   }
  },
  {
   "cell_type": "markdown",
   "source": [
    "## 4. 使用模型预测测试集"
   ],
   "metadata": {
    "collapsed": false,
    "pycharm": {
     "name": "#%% md\n"
    }
   }
  },
  {
   "cell_type": "code",
   "execution_count": null,
   "outputs": [],
   "source": [
    "df_test = pd.read_csv('data/test_a.csv', sep='\\t')\n",
    "test_pred = [model.predict(x)[0][0].split('__')[-1] for x in df_test['text']]\n",
    "df_submit = pd.DataFrame(test_pred, columns=['label'])\n",
    "df_submit.to_csv('data/submit_fasttext.csv', index=None)\n",
    "df_submit.head()"
   ],
   "metadata": {
    "collapsed": false,
    "pycharm": {
     "name": "#%%\n"
    }
   }
  }
 ],
 "metadata": {
  "kernelspec": {
   "display_name": "Python 3",
   "language": "python",
   "name": "python3"
  },
  "language_info": {
   "codemirror_mode": {
    "name": "ipython",
    "version": 2
   },
   "file_extension": ".py",
   "mimetype": "text/x-python",
   "name": "python",
   "nbconvert_exporter": "python",
   "pygments_lexer": "ipython2",
   "version": "2.7.6"
  }
 },
 "nbformat": 4,
 "nbformat_minor": 0
}