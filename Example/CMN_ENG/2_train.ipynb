{
 "cells": [
  {
   "cell_type": "code",
   "execution_count": 1,
   "metadata": {
    "collapsed": true
   },
   "outputs": [
    {
     "name": "stderr",
     "output_type": "stream",
     "text": [
      "d:\\python\\python38\\lib\\site-packages\\setuptools\\distutils_patch.py:25: UserWarning: Distutils was imported before Setuptools. This usage is discouraged and may exhibit undesirable behaviors or errors. Please use Setuptools' objects directly or at least import Setuptools first.\n",
      "  warnings.warn(\n"
     ]
    },
    {
     "name": "stdout",
     "output_type": "stream",
     "text": [
      "D:\\REPO\\github\\ML-Notes\\Example\\CMN-ENG\\..\\..\\Example\\CMN-ENG\\vocab\n"
     ]
    }
   ],
   "source": [
    "import os\n",
    "import torch\n",
    "from torch.utils.data import TensorDataset, DataLoader\n",
    "\n",
    "from config import *"
   ]
  },
  {
   "cell_type": "code",
   "execution_count": 2,
   "outputs": [],
   "source": [
    "\"\"\"\n",
    "读取vocab\n",
    "\"\"\"\n",
    "en_vocab = torch.load(os.path.join(vocab_path, \"en_vocab\"))\n",
    "zh_vocab = torch.load(os.path.join(vocab_path, \"zh_vocab\"))"
   ],
   "metadata": {
    "collapsed": false,
    "pycharm": {
     "name": "#%%\n"
    }
   }
  },
  {
   "cell_type": "code",
   "execution_count": 3,
   "outputs": [
    {
     "name": "stdout",
     "output_type": "stream",
     "text": [
      "torch.Size([28394, 20]) --> torch.Size([28394, 20])\n",
      "torch.Size([28394, 1]) --> torch.Size([28394, 1])\n"
     ]
    }
   ],
   "source": [
    "\"\"\"\n",
    "读取corpus\n",
    "\"\"\"\n",
    "\n",
    "sentence = torch.load(os.path.join(corpus_path, 'sentence'))\n",
    "valid_len = torch.load(os.path.join(corpus_path, 'valid_len'))\n",
    "en_sentence = sentence[:, 0, :].to(DEVICE)\n",
    "zh_sentence = sentence[:, 1, :].to(DEVICE)\n",
    "en_valid_len = valid_len[:, 0, :].to(DEVICE)\n",
    "zh_valid_len = valid_len[:, 1, :].to(DEVICE)\n",
    "\n",
    "ds_sentence = TensorDataset(en_sentence, zh_sentence)\n",
    "dl_sentence = DataLoader(ds_sentence, batch_size=BATCH_SIZE)\n",
    "\n",
    "ds_valid_len = TensorDataset(en_valid_len, zh_valid_len)\n",
    "dl_valid_len = DataLoader(ds_valid_len, batch_size=BATCH_SIZE)\n",
    "\n",
    "print(en_sentence.shape, '-->', zh_sentence.shape)\n",
    "print(en_valid_len.shape, '-->', zh_valid_len.shape)"
   ],
   "metadata": {
    "collapsed": false,
    "pycharm": {
     "name": "#%%\n"
    }
   }
  },
  {
   "cell_type": "code",
   "execution_count": 4,
   "outputs": [
    {
     "name": "stdout",
     "output_type": "stream",
     "text": [
      "tensor([[1],\n",
      "        [2]])\n"
     ]
    },
    {
     "data": {
      "text/plain": "tensor([[1., 0., 0.],\n        [3., 4., 0.]])"
     },
     "execution_count": 4,
     "metadata": {},
     "output_type": "execute_result"
    }
   ],
   "source": [
    "# 张量指定长度掩蔽，dim=1\n",
    "def sequence_mask(X: torch.Tensor, valid_len: torch.Tensor, value=0):\n",
    "    max_len = X.size(1)\n",
    "    mask = torch.arange((max_len), dtype=torch.float, device=X.device)[None, :] < valid_len[:, None]\n",
    "    X[~mask] = value\n",
    "    return X\n",
    "\n",
    "\n",
    "X = torch.tensor([[1., 2., 7.], [3., 4., 8.]])\n",
    "valid_len = torch.tensor([1, 2])\n",
    "print(valid_len[:, None])\n",
    "sequence_mask(X, torch.tensor([1, 2]))"
   ],
   "metadata": {
    "collapsed": false,
    "pycharm": {
     "name": "#%%\n"
    }
   }
  },
  {
   "cell_type": "code",
   "execution_count": 5,
   "outputs": [
    {
     "name": "stdout",
     "output_type": "stream",
     "text": [
      "loss: tensor([4.6052, 2.3026, 0.0000])\n"
     ]
    }
   ],
   "source": [
    "\"\"\"\n",
    "掩蔽交叉熵损失\n",
    "\"\"\"\n",
    "from torch import nn\n",
    "\n",
    "\n",
    "class MaskedSoftmaxCELoss(nn.CrossEntropyLoss):\n",
    "    \"\"\"\n",
    "    pred:(batch_size, seq_len, vocab_size)\n",
    "    label:(batch_size, seq_len)\n",
    "    valid_len:(batch_size, )\n",
    "\n",
    "    \"\"\"\n",
    "\n",
    "    def forward(self, pred, label, valid_len):\n",
    "        weights = torch.ones_like(label)\n",
    "        weights = sequence_mask(weights, valid_len)\n",
    "        self.reduction = 'none'\n",
    "        unweighted_loss = super(MaskedSoftmaxCELoss, self).forward(\n",
    "            pred.permute(0, 2, 1), label)\n",
    "        weighted_loss = (unweighted_loss * weights).mean(dim=1)\n",
    "        return weighted_loss\n",
    "\n",
    "\n",
    "loss = MaskedSoftmaxCELoss()\n",
    "l = loss(torch.ones(3, 4, 100), torch.ones((3, 4), dtype=torch.long),\n",
    "         torch.tensor([4, 2, 0]))\n",
    "print('loss:', l)"
   ],
   "metadata": {
    "collapsed": false,
    "pycharm": {
     "name": "#%%\n"
    }
   }
  },
  {
   "cell_type": "code",
   "execution_count": 6,
   "outputs": [
    {
     "ename": "TypeError",
     "evalue": "__init__() missing 2 required positional arguments: 'encoder' and 'decoder'",
     "output_type": "error",
     "traceback": [
      "\u001B[1;31m---------------------------------------------------------------------------\u001B[0m",
      "\u001B[1;31mTypeError\u001B[0m                                 Traceback (most recent call last)",
      "\u001B[1;32m~\\AppData\\Local\\Temp/ipykernel_10420/613178650.py\u001B[0m in \u001B[0;36m<module>\u001B[1;34m\u001B[0m\n\u001B[0;32m      1\u001B[0m \u001B[1;32mfrom\u001B[0m \u001B[0mNeuralNetwork\u001B[0m \u001B[1;32mimport\u001B[0m \u001B[0mSeq2Seq\u001B[0m\u001B[1;33m\u001B[0m\u001B[1;33m\u001B[0m\u001B[0m\n\u001B[0;32m      2\u001B[0m \u001B[1;33m\u001B[0m\u001B[0m\n\u001B[1;32m----> 3\u001B[1;33m \u001B[0mmodel\u001B[0m \u001B[1;33m=\u001B[0m \u001B[0mSeq2Seq\u001B[0m\u001B[1;33m.\u001B[0m\u001B[0mEncoderDecoder\u001B[0m\u001B[1;33m(\u001B[0m\u001B[1;33m)\u001B[0m\u001B[1;33m.\u001B[0m\u001B[0mto\u001B[0m\u001B[1;33m(\u001B[0m\u001B[0mDEVICE\u001B[0m\u001B[1;33m)\u001B[0m\u001B[1;33m\u001B[0m\u001B[1;33m\u001B[0m\u001B[0m\n\u001B[0m\u001B[0;32m      4\u001B[0m \u001B[0mloss_func\u001B[0m \u001B[1;33m=\u001B[0m \u001B[0mMaskedSoftmaxCELoss\u001B[0m\u001B[1;33m(\u001B[0m\u001B[1;33m)\u001B[0m\u001B[1;33m\u001B[0m\u001B[1;33m\u001B[0m\u001B[0m\n\u001B[0;32m      5\u001B[0m \u001B[0moptimizer\u001B[0m \u001B[1;33m=\u001B[0m \u001B[0mtorch\u001B[0m\u001B[1;33m.\u001B[0m\u001B[0moptim\u001B[0m\u001B[1;33m.\u001B[0m\u001B[0mAdam\u001B[0m\u001B[1;33m(\u001B[0m\u001B[0mmodel\u001B[0m\u001B[1;33m.\u001B[0m\u001B[0mparameters\u001B[0m\u001B[1;33m(\u001B[0m\u001B[1;33m)\u001B[0m\u001B[1;33m,\u001B[0m \u001B[0mlr\u001B[0m\u001B[1;33m=\u001B[0m\u001B[0mLR\u001B[0m\u001B[1;33m)\u001B[0m\u001B[1;33m\u001B[0m\u001B[1;33m\u001B[0m\u001B[0m\n",
      "\u001B[1;31mTypeError\u001B[0m: __init__() missing 2 required positional arguments: 'encoder' and 'decoder'"
     ]
    }
   ],
   "source": [
    "from NeuralNetwork import Seq2Seq\n",
    "\n",
    "model = Seq2Seq.EncoderDecoder().to(DEVICE)\n",
    "loss_func = MaskedSoftmaxCELoss()\n",
    "optimizer = torch.optim.Adam(model.parameters(), lr=LR)\n",
    "\n",
    "\n",
    "def train_step(model, features, labels, features_valid_len, labels_valid_len):\n",
    "    # 正向传播求损失\n",
    "    predictions = model.forward(features)\n",
    "    loss = loss_func(predictions, labels, labels_valid_len)\n",
    "    # 反向传播求梯度\n",
    "    loss.sum().backward()\n",
    "    # 参数更新\n",
    "    optimizer.step()\n",
    "    optimizer.zero_grad()\n",
    "    return loss.item()\n"
   ],
   "metadata": {
    "collapsed": false,
    "pycharm": {
     "name": "#%%\n"
    }
   }
  }
 ],
 "metadata": {
  "kernelspec": {
   "display_name": "Python 3",
   "language": "python",
   "name": "python3"
  },
  "language_info": {
   "codemirror_mode": {
    "name": "ipython",
    "version": 2
   },
   "file_extension": ".py",
   "mimetype": "text/x-python",
   "name": "python",
   "nbconvert_exporter": "python",
   "pygments_lexer": "ipython2",
   "version": "2.7.6"
  }
 },
 "nbformat": 4,
 "nbformat_minor": 0
}