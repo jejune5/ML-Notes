{
 "cells": [
  {
   "cell_type": "markdown",
   "source": [
    "# 基于缺失值与异常值的分析对Lending Club数据进行预处理"
   ],
   "metadata": {
    "collapsed": false,
    "pycharm": {
     "name": "#%% md\n"
    }
   }
  },
  {
   "cell_type": "code",
   "execution_count": 23,
   "outputs": [],
   "source": [
    "#coding=utf-8\n",
    "import pandas as pd\n",
    "import numpy as np"
   ],
   "metadata": {
    "collapsed": false,
    "pycharm": {
     "name": "#%%\n",
     "is_executing": false
    }
   }
  },
  {
   "cell_type": "code",
   "execution_count": 24,
   "outputs": [
    {
     "name": "stderr",
     "text": [
      "D:\\pro\\anaconda3\\lib\\site-packages\\IPython\\core\\interactiveshell.py:3063: DtypeWarning: Columns (19,47,55,112,123,124,125,128,129,130,133) have mixed types.Specify dtype option on import or set low_memory=False.\n  interactivity=interactivity, compiler=compiler, result=result)\n"
     ],
     "output_type": "stream"
    },
    {
     "name": "stdout",
     "text": [
      "   id  member_id  loan_amnt  funded_amnt  funded_amnt_inv        term  \\\n0 NaN        NaN      14000        14000          14000.0   36 months   \n1 NaN        NaN      35000        35000          34725.0   36 months   \n2 NaN        NaN      21000        21000          21000.0   60 months   \n3 NaN        NaN       6400         6400           6400.0   36 months   \n4 NaN        NaN       9500         9500           9500.0   36 months   \n5 NaN        NaN      30000        30000          30000.0   36 months   \n6 NaN        NaN      12000        12000          12000.0   36 months   \n7 NaN        NaN       7000         7000           7000.0   36 months   \n8 NaN        NaN      28000        28000          28000.0   36 months   \n9 NaN        NaN      20500        20500          20500.0   36 months   \n\n   int_rate  installment grade sub_grade  ... hardship_payoff_balance_amount  \\\n0     13.49       475.03     C        C1  ...                            NaN   \n1     17.27      1252.56     D        D3  ...                            NaN   \n2     19.42       549.62     E        E3  ...                            NaN   \n3     10.65       208.47     B        B2  ...                            NaN   \n4     11.71       314.23     B        B3  ...                            NaN   \n5     17.27      1073.62     D        D3  ...                            NaN   \n6      7.90       375.49     A        A4  ...                            NaN   \n7     12.69       234.82     B        B5  ...                            NaN   \n8     14.27       960.65     C        C2  ...                            NaN   \n9      7.90       641.46     A        A4  ...                            NaN   \n\n  hardship_last_payment_amount disbursement_method  debt_settlement_flag  \\\n0                          NaN                Cash                     N   \n1                          NaN                Cash                     N   \n2                          NaN                Cash                     N   \n3                          NaN                Cash                     N   \n4                          NaN                Cash                     N   \n5                          NaN                Cash                     N   \n6                          NaN                Cash                     N   \n7                          NaN                Cash                     N   \n8                          NaN                Cash                     N   \n9                          NaN                Cash                     N   \n\n  debt_settlement_flag_date settlement_status settlement_date  \\\n0                       NaN               NaN             NaN   \n1                       NaN               NaN             NaN   \n2                       NaN               NaN             NaN   \n3                       NaN               NaN             NaN   \n4                       NaN               NaN             NaN   \n5                       NaN               NaN             NaN   \n6                       NaN               NaN             NaN   \n7                       NaN               NaN             NaN   \n8                       NaN               NaN             NaN   \n9                       NaN               NaN             NaN   \n\n  settlement_amount  settlement_percentage settlement_term  \n0               NaN                    NaN             NaN  \n1               NaN                    NaN             NaN  \n2               NaN                    NaN             NaN  \n3               NaN                    NaN             NaN  \n4               NaN                    NaN             NaN  \n5               NaN                    NaN             NaN  \n6               NaN                    NaN             NaN  \n7               NaN                    NaN             NaN  \n8               NaN                    NaN             NaN  \n9               NaN                    NaN             NaN  \n\n[10 rows x 145 columns]\n"
     ],
     "output_type": "stream"
    }
   ],
   "source": [
    "### 读取原始数据\n",
    "data = pd.read_csv('loan.csv')\n",
    "print(data.head(10))\n"
   ],
   "metadata": {
    "collapsed": false,
    "pycharm": {
     "name": "#%%\n",
     "is_executing": false
    }
   }
  },
  {
   "cell_type": "code",
   "execution_count": 25,
   "outputs": [
    {
     "name": "stdout",
     "text": [
      "                                      feature  miss_num  miss_percentage\n0                                          id    400000         1.000000\n1                                   member_id    400000         1.000000\n2                                         url    400000         1.000000\n3  orig_projected_additional_accrued_interest    399275         0.998188\n4                         hardship_start_date    399109         0.997772\n5                           hardship_end_date    399109         0.997772\n6                     payment_plan_start_date    399109         0.997772\n7                             hardship_length    399109         0.997772\n8                                hardship_dpd    399109         0.997772\n9                        hardship_loan_status    399109         0.997772\n"
     ],
     "output_type": "stream"
    }
   ],
   "source": [
    "### 查看数据集缺失情况\n",
    "missDf = data.isnull().sum().sort_values(ascending=False).reset_index()\n",
    "missDf.columns = ['feature', 'miss_num']\n",
    "# 确实比值\n",
    "missDf['miss_percentage'] = missDf['miss_num']/len(data)\n",
    "\n",
    "print(missDf.head(10))"
   ],
   "metadata": {
    "collapsed": false,
    "pycharm": {
     "name": "#%%\n",
     "is_executing": false
    }
   }
  },
  {
   "cell_type": "code",
   "execution_count": 34,
   "outputs": [
    {
     "name": "stdout",
     "text": [
      "共有缺失列数： 112\n缺失数大于30%列数： 58\n"
     ],
     "output_type": "stream"
    }
   ],
   "source": [
    "### 统计缺失值\n",
    "print('共有缺失列数：', missDf[missDf['miss_percentage']>0].shape[0])\n",
    "print('缺失数大于30%列数：', missDf[missDf['miss_percentage']>0.3].shape[0])"
   ],
   "metadata": {
    "collapsed": false,
    "pycharm": {
     "name": "#%%\n",
     "is_executing": false
    }
   }
  },
  {
   "cell_type": "code",
   "execution_count": 36,
   "outputs": [
    {
     "name": "stdout",
     "text": [
      "   loan_amnt  funded_amnt  funded_amnt_inv        term  int_rate  installment  \\\n0      14000        14000          14000.0   36 months     13.49       475.03   \n1      35000        35000          34725.0   36 months     17.27      1252.56   \n2      21000        21000          21000.0   60 months     19.42       549.62   \n3       6400         6400           6400.0   36 months     10.65       208.47   \n4       9500         9500           9500.0   36 months     11.71       314.23   \n5      30000        30000          30000.0   36 months     17.27      1073.62   \n6      12000        12000          12000.0   36 months      7.90       375.49   \n7       7000         7000           7000.0   36 months     12.69       234.82   \n8      28000        28000          28000.0   36 months     14.27       960.65   \n9      20500        20500          20500.0   36 months      7.90       641.46   \n\n  grade sub_grade                           emp_title emp_length  ...  \\\n0     C        C1            Eric J. Coligado, MD, PA    4 years  ...   \n1     D        D3                    Roos Instruments  10+ years  ...   \n2     E        E3                     JP Morgan Chase    3 years  ...   \n3     B        B2               Waterloo Icehouse Inc    2 years  ...   \n4     B        B3                        SQA Services    2 years  ...   \n5     D        D3  University of California, Berkeley    5 years  ...   \n6     A        A4     University of California Irvine   < 1 year  ...   \n7     B        B5                   Royal Health Care    2 years  ...   \n8     C        C2                            Breville     1 year  ...   \n9     A        A4  Lake Tahoe Unified School District  10+ years  ...   \n\n  percent_bc_gt_75  pub_rec_bankruptcies tax_liens tot_hi_cred_lim  \\\n0              NaN                   0.0       0.0             NaN   \n1              NaN                   0.0       0.0             NaN   \n2              NaN                   0.0       0.0             NaN   \n3              NaN                   0.0       0.0             NaN   \n4              NaN                   0.0       0.0             NaN   \n5              NaN                   0.0       0.0             NaN   \n6              NaN                   0.0       0.0             NaN   \n7              NaN                   0.0       0.0             NaN   \n8              NaN                   0.0       0.0             NaN   \n9              NaN                   0.0       0.0             NaN   \n\n  total_bal_ex_mort total_bc_limit total_il_high_credit_limit hardship_flag  \\\n0               NaN            NaN                        NaN             N   \n1               NaN            NaN                        NaN             N   \n2               NaN            NaN                        NaN             N   \n3               NaN            NaN                        NaN             N   \n4               NaN            NaN                        NaN             N   \n5               NaN            NaN                        NaN             N   \n6               NaN            NaN                        NaN             N   \n7               NaN            NaN                        NaN             N   \n8               NaN            NaN                        NaN             N   \n9               NaN            NaN                        NaN             N   \n\n  disbursement_method debt_settlement_flag  \n0                Cash                    N  \n1                Cash                    N  \n2                Cash                    N  \n3                Cash                    N  \n4                Cash                    N  \n5                Cash                    N  \n6                Cash                    N  \n7                Cash                    N  \n8                Cash                    N  \n9                Cash                    N  \n\n[10 rows x 87 columns]\n"
     ],
     "output_type": "stream"
    }
   ],
   "source": [
    "### 处理方法1--直接删除\n",
    "# 适应场景：缺失值比例过大的特征可以考虑直接整列删除。\n",
    "# 阈值设 0.3\n",
    "thr = (1-0.3) * data.shape[0]\n",
    "data = data.dropna(thresh=thr, axis=1)\n",
    "print(data.head(10))\n"
   ],
   "metadata": {
    "collapsed": false,
    "pycharm": {
     "name": "#%%\n",
     "is_executing": false
    }
   }
  },
  {
   "cell_type": "code",
   "execution_count": 47,
   "outputs": [
    {
     "name": "stdout",
     "text": [
      "0         34\n1         34\n2         34\n3         34\n4         34\n          ..\n399995     0\n399996     0\n399997     0\n399998     2\n399999     1\nName: miss_rowNums, Length: 395625, dtype: int64\n0     273488\n1      51951\n34     41348\n2      19353\n3       4755\n4       3494\n5        721\n6        365\n7        120\n8         26\n9          3\n10         1\nName: miss_rowNums, dtype: int64\n"
     ],
     "output_type": "stream"
    }
   ],
   "source": [
    "### 缺失特征过多的样本可以考虑直接整行删除\n",
    "data['miss_rowNums'] = data.apply(lambda x:x.isnull().sum(), axis=1)\n",
    "print(data['miss_rowNums'])\n",
    "print(data['miss_rowNums'].value_counts())"
   ],
   "metadata": {
    "collapsed": false,
    "pycharm": {
     "name": "#%%\n",
     "is_executing": false
    }
   }
  },
  {
   "cell_type": "code",
   "execution_count": 49,
   "outputs": [
    {
     "name": "stdout",
     "text": [
      "        loan_amnt  funded_amnt  funded_amnt_inv        term  int_rate  \\\n0           14000        14000          14000.0   36 months     13.49   \n1           35000        35000          34725.0   36 months     17.27   \n2           21000        21000          21000.0   60 months     19.42   \n3            6400         6400           6400.0   36 months     10.65   \n4            9500         9500           9500.0   36 months     11.71   \n...           ...          ...              ...         ...       ...   \n399995      12000        12000          12000.0   60 months     14.08   \n399996      12000        12000          12000.0   60 months     25.82   \n399997      10000        10000          10000.0   36 months     11.99   \n399998      12000        12000          12000.0   60 months     21.45   \n399999      16550        16550          16550.0   60 months     21.45   \n\n        installment grade sub_grade                 emp_title emp_length  ...  \\\n0            475.03     C        C1  Eric J. Coligado, MD, PA    4 years  ...   \n1           1252.56     D        D3          Roos Instruments  10+ years  ...   \n2            549.62     E        E3           JP Morgan Chase    3 years  ...   \n3            208.47     B        B2     Waterloo Icehouse Inc    2 years  ...   \n4            314.23     B        B3              SQA Services    2 years  ...   \n...             ...   ...       ...                       ...        ...  ...   \n399995       279.72     C        C3              house keeper  10+ years  ...   \n399996       358.01     E        E4             Skilled Labor   < 1 year  ...   \n399997       332.10     B        B5                   Teacher  10+ years  ...   \n399998       327.69     D        D5                       NaN        NaN  ...   \n399999       451.94     D        D5                BABYSITTER    3 years  ...   \n\n       percent_bc_gt_75  pub_rec_bankruptcies tax_liens tot_hi_cred_lim  \\\n0                   NaN                   0.0       0.0             NaN   \n1                   NaN                   0.0       0.0             NaN   \n2                   NaN                   0.0       0.0             NaN   \n3                   NaN                   0.0       0.0             NaN   \n4                   NaN                   0.0       0.0             NaN   \n...                 ...                   ...       ...             ...   \n399995             66.7                   0.0       0.0         73948.0   \n399996             50.0                   0.0       0.0        382275.0   \n399997            100.0                   0.0       0.0        203417.0   \n399998              0.0                   0.0       0.0        118975.0   \n399999             20.0                   0.0       0.0         50700.0   \n\n       total_bal_ex_mort total_bc_limit total_il_high_credit_limit  \\\n0                    NaN            NaN                        NaN   \n1                    NaN            NaN                        NaN   \n2                    NaN            NaN                        NaN   \n3                    NaN            NaN                        NaN   \n4                    NaN            NaN                        NaN   \n...                  ...            ...                        ...   \n399995           45212.0         6200.0                    49448.0   \n399996           12928.0        11400.0                    12125.0   \n399997           36448.0         2000.0                    29317.0   \n399998           65238.0        22000.0                    81975.0   \n399999           25760.0        19500.0                        0.0   \n\n       hardship_flag disbursement_method debt_settlement_flag  \n0                  N                Cash                    N  \n1                  N                Cash                    N  \n2                  N                Cash                    N  \n3                  N                Cash                    N  \n4                  N                Cash                    N  \n...              ...                 ...                  ...  \n399995             N                Cash                    N  \n399996             N                Cash                    N  \n399997             N                Cash                    N  \n399998             N                Cash                    N  \n399999             N                Cash                    N  \n\n[395625 rows x 87 columns]\n"
     ],
     "output_type": "stream"
    }
   ],
   "source": [
    "### 删掉缺失值大于35列的样本\n",
    "data = data[data['miss_rowNums']<35]\n",
    "data.drop(['miss_rowNums'], axis=1, inplace=True)\n",
    "print(data)"
   ],
   "metadata": {
    "collapsed": false,
    "pycharm": {
     "name": "#%%\n",
     "is_executing": false
    }
   }
  },
  {
   "cell_type": "code",
   "execution_count": 55,
   "outputs": [
    {
     "name": "stdout",
     "text": [
      "10+ years    127152\n2 years       35782\n< 1 year      35591\n3 years       31895\n1 year        25612\n4 years       24503\n5 years       23573\n7 years       19366\n6 years       19364\n8 years       16677\n9 years       14369\nName: emp_length, dtype: int64\n10+ years    127152\n2 years       35782\n< 1 year      35591\n3 years       31895\n1 year        25612\n4 years       24503\n5 years       23573\n7 years       19366\n6 years       19364\n8 years       16677\n9 years       14369\nName: emp_length, dtype: int64\n"
     ],
     "output_type": "stream"
    }
   ],
   "source": [
    "### 处理方法2--固定值填充\n",
    "# 特征emp_length中的缺失值可以尝试用特殊字符表示，代表独立的一类特征值。\n",
    "print(data['emp_length'].value_counts())\n",
    "# 将emp_length特征列中的缺失值替换为特殊字符'Unknown'\n",
    "data.loc[data['emp_length']=='n/a', 'emp_length'] = 'Unknown'\n",
    "print(data['emp_length'].value_counts())\n"
   ],
   "metadata": {
    "collapsed": false,
    "pycharm": {
     "name": "#%%\n",
     "is_executing": false
    }
   }
  },
  {
   "cell_type": "code",
   "execution_count": 60,
   "outputs": [
    {
     "name": "stdout",
     "text": [
      "填充前： 222\n填充前： count    395403.000000\nmean         18.002763\nstd          12.966729\nmin           0.000000\n25%          11.390000\n50%          17.150000\n75%          23.480000\nmax         999.000000\nName: dti, dtype: float64\n填充后： count    395625.000000\nmean         18.002284\nstd          12.963106\nmin           0.000000\n25%          11.390000\n50%          17.150000\n75%          23.470000\nmax         999.000000\nName: dti, dtype: float64\n填充后： 0\n"
     ],
     "output_type": "stream"
    }
   ],
   "source": [
    "### 处理方法3--统计值填充\n",
    "### dti属性是数值特征，可以使用均值或中位数进行填充\n",
    "print('填充前：', data['dti'].isnull().sum())\n",
    "print('填充前：', data['dti'].describe())\n",
    "data['dti'].fillna(data['dti'].median(), inplace=True)\n",
    "print('填充后：', data['dti'].describe())\n",
    "print('填充后：', data['dti'].isnull().sum())"
   ],
   "metadata": {
    "collapsed": false,
    "pycharm": {
     "name": "#%%\n",
     "is_executing": false
    }
   }
  },
  {
   "cell_type": "code",
   "execution_count": 61,
   "outputs": [
    {
     "name": "stdout",
     "text": [
      "此时的revol_util特征统计指标:\n\ncount    395625.000000\nmean         51.670616\nstd          24.870029\nmin           0.000000\n25%          33.000000\n50%          52.100000\n75%          70.900000\nmax         892.300000\nName: revol_util, dtype: float64\n"
     ],
     "output_type": "stream"
    }
   ],
   "source": [
    "# 处理方法4--建模填充\n",
    "### 以revol_util(信用账户的使用率)特征为例，导入sklearn的随机森林算法预测缺失值\n",
    "from sklearn.ensemble import RandomForestRegressor    \n",
    "from sklearn.metrics import r2_score\n",
    "rfDf = data.copy()\n",
    "# 用revol_util特征值非空的样本构建训练集，revol_util特征值缺失的样本构建测试集\n",
    "rfDf_train = rfDf.loc[rfDf['revol_util'].notnull()]\n",
    "rfDf_test = rfDf.loc[rfDf['revol_util'].isnull()]\n",
    "\n",
    "col = ['loan_amnt', 'int_rate', 'installment', 'revol_bal', 'collection_recovery_fee']    # 原始数据集中的无缺失数值特征\n",
    "# 划分训练数据和标签（label）\n",
    "X = rfDf_train[col]\n",
    "y = rfDf_train['revol_util']\n",
    "# 训练过程\n",
    "rf = RandomForestRegressor(n_estimators=100,n_jobs=-1)    # 这里重在理解过程，因此仅简单选取部分参数\n",
    "rf.fit(X, y)\n",
    "# 预测过程\n",
    "pred = rf.predict(rfDf_test[col])\n",
    "rfDf.loc[(rfDf['revol_util'].isnull()), 'revol_util'] = pred    # 填补缺失值\n",
    "print(\"此时的revol_util特征统计指标:\\n\")\n",
    "print(rfDf['revol_util'].describe()) "
   ],
   "metadata": {
    "collapsed": false,
    "pycharm": {
     "name": "#%%\n",
     "is_executing": false
    }
   }
  }
 ],
 "metadata": {
  "kernelspec": {
   "display_name": "Python 3",
   "language": "python",
   "name": "python3"
  },
  "language_info": {
   "codemirror_mode": {
    "name": "ipython",
    "version": 2
   },
   "file_extension": ".py",
   "mimetype": "text/x-python",
   "name": "python",
   "nbconvert_exporter": "python",
   "pygments_lexer": "ipython2",
   "version": "2.7.6"
  },
  "pycharm": {
   "stem_cell": {
    "cell_type": "raw",
    "source": [],
    "metadata": {
     "collapsed": false
    }
   }
  }
 },
 "nbformat": 4,
 "nbformat_minor": 0
}