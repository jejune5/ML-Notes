{
 "cells": [
  {
   "cell_type": "code",
   "execution_count": 1,
   "metadata": {
    "collapsed": true,
    "pycharm": {
     "is_executing": false
    }
   },
   "outputs": [],
   "source": [
    "from sklearn import gaussian_process\n",
    "from sklearn.gaussian_process import GaussianProcessRegressor as GPR\n",
    "from sklearn.gaussian_process.kernels import ConstantKernel as C, RBF\n",
    "\n",
    "from sklearn.datasets import load_boston\n",
    "\n",
    "from sklearn.model_selection import KFold, cross_val_score as CVS , train_test_split as TTS\n",
    "from ML_Algorithm_test.EvaluationModel import EvaluationModel as EM\n",
    "\n",
    "import matplotlib.pyplot as plt\n",
    "import numpy as np"
   ]
  },
  {
   "cell_type": "code",
   "execution_count": 2,
   "outputs": [
    {
     "name": "stdout",
     "text": [
      "all: (506, 13) ---> (506,)\n"
     ],
     "output_type": "stream"
    }
   ],
   "source": [
    "# 1 准备数据\n",
    "# 读取波士顿地区房价信息\n",
    "boston = load_boston()\n",
    "\n",
    "x = boston.data\n",
    "y = boston.target\n",
    "\n",
    "print('all:',x.shape,'--->',y.shape)"
   ],
   "metadata": {
    "collapsed": false,
    "pycharm": {
     "name": "#%%\n",
     "is_executing": false
    }
   }
  },
  {
   "cell_type": "code",
   "execution_count": 3,
   "outputs": [
    {
     "name": "stdout",
     "text": [
      "train: (379, 13) ---> (379,)\ntest: (127, 13) ---> (127,)\n"
     ],
     "output_type": "stream"
    }
   ],
   "source": [
    "# 2 分割训练数据和测试数据\n",
    "# 随机采样25%作为测试 75%作为训练\n",
    "x_train, x_test, y_train, y_test = TTS(x, y, test_size=0.25, random_state=33)\n",
    "\n",
    "print('train:',x_train.shape,'--->',y_train.shape)\n",
    "print('test:',x_test.shape,'--->',y_test.shape)"
   ],
   "metadata": {
    "collapsed": false,
    "pycharm": {
     "name": "#%%\n",
     "is_executing": false
    }
   }
  },
  {
   "cell_type": "code",
   "execution_count": 4,
   "outputs": [
    {
     "name": "stderr",
     "text": [
      "F:\\Python\\anaconda3\\lib\\site-packages\\sklearn\\gaussian_process\\_gpr.py:494: ConvergenceWarning: lbfgs failed to converge (status=2):\nABNORMAL_TERMINATION_IN_LNSRCH.\n\nIncrease the number of iterations (max_iter) or scale the data as shown in:\n    https://scikit-learn.org/stable/modules/preprocessing.html\n  _check_optimize_result(\"lbfgs\", opt_res)\n"
     ],
     "output_type": "stream"
    },
    {
     "name": "stdout",
     "text": [
      "=============== GaussianProcessRegressor ===============\n默认评估值为： 0.7976366080043549\nR^2值为： 0.7976366080043549\n均方误差(MSE)为: 15.691519387419005\n平均绝对误差(MAE)为: 2.8589129318599826\n========================================================\nmu: (127,) cov: (127, 127)\n"
     ],
     "output_type": "stream"
    }
   ],
   "source": [
    "# kernel = C(constant_value=0.2, constant_value_bounds=(1e1, 1e4)) * RBF(length_scale=0.5, length_scale_bounds=(1e1, 1e4))\n",
    "# kernel = RBF(length_scale=0.1,length_scale_bounds=(1e1, 1e3))\n",
    "# kernel = RBF(length_scale=0.5, length_scale_bounds=(1e-4, 1e4))\n",
    "# kernel = RBF(length_scale=0.1, length_scale_bounds=(1e2, 1e4))\n",
    "\n",
    "# gpr = GPR(kernel=kernel, n_restarts_optimizer=10, alpha=0.1)\n",
    "\n",
    "mixed_kernel = kernel = C(1.0, (1e-4, 1e4)) * RBF(0.1, (1e-4, 1e4))\n",
    "gpr = GPR(alpha=5,n_restarts_optimizer=20,kernel = mixed_kernel)\n",
    "\n",
    "gpr.fit(x_train, y_train)\n",
    "\n",
    "EM.modelEvaluate(gpr,x_test, y_test)\n",
    "\n",
    "mu, cov = gpr.predict(x_test, return_cov=True)\n",
    "print('mu:',mu.shape,'cov:',cov.shape)\n",
    "\n",
    "\n",
    "Ytest = mu.ravel()\n",
    "# print(Ytest)\n",
    "uncertainty = 1.96 * np.sqrt(np.diag(cov))\n",
    "# print(uncertainty)"
   ],
   "metadata": {
    "collapsed": false,
    "pycharm": {
     "name": "#%%\n",
     "is_executing": false
    }
   }
  },
  {
   "cell_type": "code",
   "execution_count": 5,
   "outputs": [],
   "source": [
    "# plt.figure()\n",
    "# # plt.title(\"l=%.2f sigma_f=%.2f\" % (gpr.kernel_.k2.length_scale, gpr.kernel_.k1.constant_value))\n",
    "# # plt.fill_between(Xtest.ravel(), Ytest + uncertainty, Ytest - uncertainty, alpha=0.1)\n",
    "# plt.plot(x_test, y_test, label=\"predict\")\n",
    "# plt.scatter(x_train, y_train, label=\"train\", c=\"red\", marker=\"x\")\n",
    "# plt.legend()\n",
    "# plt.show()"
   ],
   "metadata": {
    "collapsed": false,
    "pycharm": {
     "name": "#%%\n",
     "is_executing": false
    }
   }
  }
 ],
 "metadata": {
  "language_info": {
   "codemirror_mode": {
    "name": "ipython",
    "version": 2
   },
   "file_extension": ".py",
   "mimetype": "text/x-python",
   "name": "python",
   "nbconvert_exporter": "python",
   "pygments_lexer": "ipython2",
   "version": "2.7.6"
  },
  "kernelspec": {
   "name": "python3",
   "language": "python",
   "display_name": "Python 3"
  },
  "pycharm": {
   "stem_cell": {
    "cell_type": "raw",
    "source": [],
    "metadata": {
     "collapsed": false
    }
   }
  }
 },
 "nbformat": 4,
 "nbformat_minor": 0
}