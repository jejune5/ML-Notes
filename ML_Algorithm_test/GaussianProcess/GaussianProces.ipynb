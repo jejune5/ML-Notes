{
 "cells": [
  {
   "cell_type": "code",
   "execution_count": 13,
   "metadata": {
    "collapsed": true,
    "pycharm": {
     "is_executing": false
    }
   },
   "outputs": [],
   "source": [
    "from sklearn.gaussian_process import GaussianProcessRegressor as GPR\n",
    "from sklearn.gaussian_process.kernels import RBF, ConstantKernel as C\n",
    "from sklearn.datasets import load_boston\n",
    "from sklearn.model_selection import KFold, cross_val_score as CVS , train_test_split as TTS\n",
    "from sklearn.metrics import mean_squared_error as MSE\n",
    "import matplotlib.pyplot as plt\n",
    "import numpy as np\n",
    "\n",
    "from sklearn.gaussian_process import GaussianProcessRegressor\n",
    "from sklearn.gaussian_process.kernels import ConstantKernel, RBF"
   ]
  },
  {
   "cell_type": "code",
   "execution_count": 3,
   "outputs": [
    {
     "name": "stdout",
     "text": [
      "all: (506, 13) ---> (506,)\n"
     ],
     "output_type": "stream"
    }
   ],
   "source": [
    "data = load_boston()\n",
    "X,y = data.data, data.target\n",
    "print('all:',X.shape,'--->',y.shape)"
   ],
   "metadata": {
    "collapsed": false,
    "pycharm": {
     "name": "#%%\n",
     "is_executing": false
    }
   }
  },
  {
   "cell_type": "code",
   "execution_count": 22,
   "outputs": [
    {
     "name": "stdout",
     "text": [
      "train: (354, 13) ---> (354,)\ntest: (152, 13) ---> (152,)\n",
      "mu: (152,) cov: (152, 152)\nscore: -0.14631057907431222\nMSE: 106.66865284709509\n[ 3.06409721e-01  1.40723220e+01  1.84672952e+01  1.27742497e+01\n -1.36464271e+01  8.47727135e+00  6.04555100e-01  1.66051320e+01\n  5.36180702e+00  9.02266847e+00  1.53200093e+01  3.87392434e+01\n  1.66001491e+01  4.60807967e+00  2.15614540e-05  1.30956536e+01\n  1.56901701e+01  2.10090572e+01  1.50417162e+01  3.37248000e+01\n  7.38491420e+00 -5.58616372e-02  3.52136564e+01  3.26591324e+01\n  1.38255083e+01  1.83606014e+01 -3.34825902e-04  2.27845385e+01\n  2.72869871e+01  8.45859344e-01  4.35416938e+01  1.77933781e+01\n  2.23552890e+01  2.57456747e+01  1.61867150e+01  1.86417929e+01\n -9.58884292e-04  1.94374326e+01  1.36394118e+01  4.28980553e+00\n  1.58832490e+01  1.16595244e-02  4.11891662e+01  5.66652998e+00\n  9.86774135e+00  5.06468886e-01  8.76503281e+00 -6.54798260e-01\n  1.46757581e+01  4.02250540e+01  2.78516399e+00  1.36244909e+01\n  2.06858037e+01  4.59124411e+01  3.31586703e+01  1.69955353e+01\n  1.66162547e+01  1.98859196e+01  1.58639592e+01  1.79911775e+01\n  1.97538566e+01  2.68435294e+01  5.49136707e+00  3.33056280e+01\n  3.06704317e+01  2.95573165e+01  8.60473949e+00  1.89867453e+01\n  2.22783106e+01  5.81537005e+00  2.43545139e+01  3.15126530e+01\n  3.45494701e+01  1.96820832e+01  1.89911898e+01  3.48536638e+01\n  4.19862990e+01  3.26504994e+01  7.73419214e+00  2.72641830e+01\n  2.01656310e+01  4.77034638e+01  2.38034219e+01  5.09462733e+00\n  3.02272711e+01  2.17734806e+01  1.81613259e+01  1.49791349e+01\n -8.71262402e-05  5.84929395e-01  2.68176970e+01  1.21605306e+01\n  2.04554310e+01  3.42419824e+01  1.20815477e+01  9.52111714e+00\n  1.34975398e+01  6.81180628e+00 -6.03375580e-02  1.20368810e+01\n  3.17888593e+01  6.75688247e+00  2.79224710e+01  2.19245179e+01\n  3.56973753e+01  3.90779295e+01  1.72315083e+01  1.52335345e+01\n  2.20097268e+01  2.00123891e+00  4.52297508e+01  1.24732759e+00\n  1.76629227e+01  2.64206944e+01  1.59898713e+01  3.22282447e+01\n  2.87983984e+01  2.91128869e+01  3.85645243e+01  1.72102543e+01\n  2.65543413e+01  1.70228274e+01  9.82724698e+00  1.00910234e+01\n  1.38120066e+01  1.59825896e+01  2.41152116e+01  1.50338809e+01\n  2.21176210e+01  2.22164710e+01  1.62430282e+01  1.86282763e+01\n  4.54128905e-02  6.02989157e+00  7.38241516e+00  1.51764004e+01\n  1.93121652e+01  3.57583130e+00  5.61733250e-01  8.29177033e+00\n  3.00079716e+01  2.06906629e+01  1.74684766e+01  2.13995676e+01\n  9.53966294e+00  1.86695656e+01  9.50596610e+00  5.12744852e+01\n  1.55461935e+01  2.12635710e+01  7.89539864e+00  9.99541230e-01]\n[49.99954395 42.48662213 41.42887007 20.16472682 27.85734826 45.9009615\n 49.98484834 16.34029971 47.32033744 16.32130422 10.95511626 21.92978352\n 21.91330431 49.75581937 50.01127234  1.93561262 13.18607368 37.34046479\n 37.23593036 13.74148643 35.41753267 49.94405375 13.97965204 32.65186114\n 36.53044431  5.23121992 50.01127213 32.57219324  7.29680395 49.95953155\n 12.94390614  9.98036384  3.37801313 12.18356087 42.84104569 22.09618829\n 50.0112565   9.53013046 23.9505984  22.80000152  9.28157323 50.01126932\n 10.58919385 49.45507574 21.30096854 50.00845639 48.87151123 34.53192266\n  6.51805319  2.51780184 49.92787117 44.00553745 11.56047222 17.96257508\n 10.14749239 41.15650945 33.71323456 10.84705481 25.90099612  3.02721879\n  2.80005888 15.85790017 48.14919018  8.00466635 37.20234959 10.87684294\n 47.99258851 17.11946703 12.51907579 46.30832998 16.67947466 30.10901064\n 18.2483328  13.51821888  4.04297588  9.43484262  9.58967925 10.90428256\n 45.37982113 29.48184694 17.68436847 11.38290014 26.44741113 48.7648385\n 19.87046521 12.61296918  4.28096291 44.95053264 50.01127226 49.83724927\n 17.75133563  5.86782023 35.52988595 19.25049744 46.7350763  13.01585967\n 37.05905544 48.44265691 49.99308568  3.19450007 11.58638907 47.10408644\n 14.43383817 10.92673014 19.50983438 14.84891786 13.81837527  5.31448647\n  1.21346103 49.4332036   5.84726444 49.97503348 30.2554366  12.66385229\n 26.14347153 12.14924038 19.95617725  7.0630881  35.54969732  2.98942719\n 27.36322213 24.89589661 29.73566553 46.8383612  17.97288158 44.64443898\n 28.37572018 16.884657    7.99045189  1.70283292  1.20957092  9.88501812\n 50.010512   49.14357666 49.03493319 34.11907192  1.57868656 38.64820874\n 39.59964316 20.20497633 15.30046244 12.11001881 24.11763867  4.6138606\n 47.75209138  3.40133108  4.45838503 14.05453165 37.16917316  3.71247909\n 30.71816298 15.5820168 ]\n"
     ],
     "output_type": "stream"
    }
   ],
   "source": [
    "Xtrain,Xtest,Ytrain,Ytest = TTS(X,y,test_size=0.3,random_state=420)\n",
    "print('train:',Xtrain.shape,'--->',Ytrain.shape)\n",
    "print('test:',Xtest.shape,'--->',Ytest.shape)\n",
    "\n",
    "'''\n",
    "kernel = 0\n",
    "reg = GPR(kernel='RBF', n_restarts_optimizer=10, alpha=0.1).fit(Xtrain,Ytrain)\n",
    "reg.predict(Xtest) #传统接口predict\n",
    "score = reg.score(Xtest,Ytest) #你能想出这里应该返回什么模型评估指标么？\n",
    "print('score:',score)\n",
    "mse = MSE(Ytest,reg.predict(Xtest))\n",
    "print('MSE:', mse)\n",
    "'''\n",
    "\n",
    "kernel = ConstantKernel(constant_value=0.2, constant_value_bounds=(1e-4, 1e4)) * RBF(length_scale=0.5, length_scale_bounds=(1e-4, 1e4))\n",
    "gpr = GaussianProcessRegressor(kernel=kernel)\n",
    "\n",
    "gpr.fit(Xtrain, Ytrain)\n",
    "mu, cov = gpr.predict(Xtest, return_cov=True)\n",
    "print('mu:',mu.shape,'cov:',cov.shape)\n",
    "\n",
    "score = gpr.score(Xtest,Ytest)\n",
    "print('score:',score)\n",
    "mse = MSE(Ytest,gpr.predict(Xtest))\n",
    "print('MSE:', mse)\n",
    "\n",
    "\n",
    "Ytest = mu.ravel()\n",
    "print(Ytest)\n",
    "uncertainty = 1.96 * np.sqrt(np.diag(cov))\n",
    "print(uncertainty)"
   ],
   "metadata": {
    "collapsed": false,
    "pycharm": {
     "name": "#%%\n",
     "is_executing": false
    }
   }
  },
  {
   "cell_type": "code",
   "execution_count": 19,
   "outputs": [],
   "source": [
    "\n",
    "\n",
    "\n",
    "# plt.figure()\n",
    "# plt.title(\"l=%.2f sigma_f=%.2f\" % (gpr.kernel_.k2.length_scale, gpr.kernel_.k1.constant_value))\n",
    "# # plt.fill_between(Xtest.ravel(), Ytest + uncertainty, Ytest - uncertainty, alpha=0.1)\n",
    "# plt.plot(Xtest, Ytest, label=\"predict\")\n",
    "# plt.scatter(Xtrain, Ytrain, label=\"train\", c=\"red\", marker=\"x\")\n",
    "# plt.legend()\n",
    "# plt.show()"
   ],
   "metadata": {
    "collapsed": false,
    "pycharm": {
     "name": "#%%\n",
     "is_executing": false
    }
   }
  }
 ],
 "metadata": {
  "language_info": {
   "codemirror_mode": {
    "name": "ipython",
    "version": 2
   },
   "file_extension": ".py",
   "mimetype": "text/x-python",
   "name": "python",
   "nbconvert_exporter": "python",
   "pygments_lexer": "ipython2",
   "version": "2.7.6"
  },
  "kernelspec": {
   "name": "python3",
   "language": "python",
   "display_name": "Python 3"
  },
  "pycharm": {
   "stem_cell": {
    "cell_type": "raw",
    "source": [],
    "metadata": {
     "collapsed": false
    }
   }
  }
 },
 "nbformat": 4,
 "nbformat_minor": 0
}