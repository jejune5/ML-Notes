{
 "cells": [
  {
   "cell_type": "code",
   "execution_count": 2,
   "metadata": {
    "collapsed": true,
    "pycharm": {
     "is_executing": false
    }
   },
   "outputs": [],
   "source": [
    "from sklearn.datasets import load_boston\n",
    "from sklearn.model_selection import cross_val_score as CVS , train_test_split as TTS\n",
    "from sklearn.preprocessing import StandardScaler\n",
    "from sklearn.svm import SVR\n",
    "from sklearn.metrics import r2_score, mean_squared_error, mean_absolute_error\n",
    "from sklearn.metrics import mean_squared_error as MSE\n",
    "import numpy as np\n",
    "from ML_Algorithm_test.EvaluationModel import EvaluationModel as EM"
   ]
  },
  {
   "cell_type": "code",
   "execution_count": 3,
   "outputs": [
    {
     "name": "stdout",
     "text": [
      "all: (506, 13) ---> (506,)\n"
     ],
     "output_type": "stream"
    }
   ],
   "source": [
    "# 1 准备数据\n",
    "# 读取波士顿地区房价信息\n",
    "boston = load_boston()\n",
    "x = boston.data\n",
    "y = boston.target\n",
    "\n",
    "print('all:',x.shape,'--->',y.shape)"
   ],
   "metadata": {
    "collapsed": false,
    "pycharm": {
     "name": "#%%\n",
     "is_executing": false
    }
   }
  },
  {
   "cell_type": "code",
   "execution_count": 9,
   "outputs": [
    {
     "name": "stdout",
     "text": [
      "train: (404, 13) ---> (404,)\ntest: (102, 13) ---> (102,)\n"
     ],
     "output_type": "stream"
    }
   ],
   "source": [
    "# 2 分割训练数据和测试数据\n",
    "# 随机采样25%作为测试 75%作为训练\n",
    "x_train, x_test, y_train, y_test = TTS(x, y, test_size=0.2, random_state=33)\n",
    "\n",
    "print('train:',x_train.shape,'--->',y_train.shape)\n",
    "print('test:',x_test.shape,'--->',y_test.shape)"
   ],
   "metadata": {
    "collapsed": false,
    "pycharm": {
     "name": "#%%\n",
     "is_executing": false
    }
   }
  },
  {
   "cell_type": "code",
   "execution_count": 10,
   "outputs": [],
   "source": [
    "# 3 训练数据和测试数据进行标准化处理\n",
    "ss_x = StandardScaler()\n",
    "x_train = ss_x.fit_transform(x_train)\n",
    "x_test = ss_x.transform(x_test)\n",
    "\n",
    "ss_y = StandardScaler()\n",
    "y_train = ss_y.fit_transform(y_train.reshape(-1, 1))\n",
    "y_test = ss_y.transform(y_test.reshape(-1, 1))"
   ],
   "metadata": {
    "collapsed": false,
    "pycharm": {
     "name": "#%%\n",
     "is_executing": false
    }
   }
  },
  {
   "cell_type": "code",
   "execution_count": 12,
   "outputs": [
    {
     "name": "stderr",
     "text": [
      "F:\\Python\\anaconda3\\lib\\site-packages\\sklearn\\utils\\validation.py:760: DataConversionWarning: A column-vector y was passed when a 1d array was expected. Please change the shape of y to (n_samples, ), for example using ravel().\n  y = column_or_1d(y, warn=True)\n"
     ],
     "output_type": "stream"
    },
    {
     "name": "stdout",
     "text": [
      "=============== SVR ===============\n默认评估值为： 0.690740184990075\nR^2值为： 0.690740184990075\n均方误差(MSE)为: 0.2540840700166517\n平均绝对误差(MAE)为: 0.3595551536233514\n===================================\nscore: 0.690740184990075\nMSE: 0.2540840700166517\n"
     ],
     "output_type": "stream"
    }
   ],
   "source": [
    "# 4.1 支持向量机模型进行学习和预测\n",
    "# 线性核函数配置支持向量机\n",
    "linear_svr = SVR(kernel=\"linear\", degree = 4, C = 100, epsilon = 0.1)\n",
    "# 训练\n",
    "linear_svr.fit(x_train, y_train)\n",
    "\n",
    "EM.modelEvaluate(linear_svr, x_test, y_test)\n",
    " \n",
    "############ Sklearn ##############\n",
    "score = linear_svr.score(x_test,y_test) #你能想出这里应该返回什么模型评估指标么？\n",
    "print('score:',score)\n",
    "mse = MSE(y_test,linear_svr.predict(x_test))\n",
    "print('MSE:', mse)\n"
   ],
   "metadata": {
    "collapsed": false,
    "pycharm": {
     "name": "#%%\n",
     "is_executing": false
    }
   }
  },
  {
   "cell_type": "code",
   "execution_count": 7,
   "outputs": [
    {
     "name": "stderr",
     "text": [
      "F:\\Python\\anaconda3\\lib\\site-packages\\sklearn\\utils\\validation.py:760: DataConversionWarning: A column-vector y was passed when a 1d array was expected. Please change the shape of y to (n_samples, ), for example using ravel().\n  y = column_or_1d(y, warn=True)\n"
     ],
     "output_type": "stream"
    },
    {
     "name": "stdout",
     "text": [
      "=============== SVR ===============\n默认评估值为： 0.505796192535094\nR^2值为： 0.505796192535094\n均方误差(MSE)为: 0.44499785358461325\n平均绝对误差(MAE)为: 0.40789947978979024\n===================================\nscore: 0.505796192535094\nMSE: 0.44499785358461325\nSVR(C=1000, cache_size=200, coef0=0.0, degree=2, epsilon=0.1, gamma='scale',\n    kernel='poly', max_iter=-1, shrinking=True, tol=0.001, verbose=False)\n"
     ],
     "output_type": "stream"
    }
   ],
   "source": [
    "# 多项式核函数配置支持向量机\n",
    "poly_svr = SVR(kernel=\"poly\",degree = 2, C = 1000, epsilon = 0.1)\n",
    "# 训练\n",
    "poly_svr.fit(x_train, y_train)\n",
    "# 预测 保存预测结果\n",
    "poly_svr_y_predict = poly_svr.predict(x_test)\n",
    "\n",
    "EM.modelEvaluate(poly_svr, x_test, y_test)\n",
    "\n",
    "############ Sklearn ##############\n",
    "score = poly_svr.score(x_test,y_test) #你能想出这里应该返回什么模型评估指标么？\n",
    "print('score:',score)\n",
    "mse = MSE(y_test,poly_svr.predict(x_test))\n",
    "print('MSE:', mse)\n",
    "\n",
    "print(str(poly_svr))\n",
    "\n",
    "# print(linear_svr_y_predict, poly_svr_y_predict)\n",
    "\n"
   ],
   "metadata": {
    "collapsed": false,
    "pycharm": {
     "name": "#%%\n",
     "is_executing": false
    }
   }
  }
 ],
 "metadata": {
  "language_info": {
   "codemirror_mode": {
    "name": "ipython",
    "version": 2
   },
   "file_extension": ".py",
   "mimetype": "text/x-python",
   "name": "python",
   "nbconvert_exporter": "python",
   "pygments_lexer": "ipython2",
   "version": "2.7.6"
  },
  "kernelspec": {
   "name": "python3",
   "language": "python",
   "display_name": "Python 3"
  },
  "pycharm": {
   "stem_cell": {
    "cell_type": "raw",
    "source": [],
    "metadata": {
     "collapsed": false
    }
   }
  }
 },
 "nbformat": 4,
 "nbformat_minor": 0
}