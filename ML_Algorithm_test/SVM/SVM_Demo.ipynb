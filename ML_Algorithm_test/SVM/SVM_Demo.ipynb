{
 "cells": [
  {
   "cell_type": "code",
   "execution_count": 1,
   "metadata": {
    "collapsed": true,
    "pycharm": {
     "is_executing": false
    }
   },
   "outputs": [],
   "source": [
    "from sklearn.datasets import load_boston\n",
    "from sklearn.model_selection import cross_val_score as CVS , train_test_split as TTS\n",
    "from sklearn.preprocessing import StandardScaler\n",
    "from sklearn.svm import SVR\n",
    "from sklearn.metrics import r2_score, mean_squared_error, mean_absolute_error\n",
    "from sklearn.metrics import mean_squared_error as MSE\n",
    "import numpy as np\n",
    "from ML_Algorithm_test.EvaluationModel import EvaluationModel as EM"
   ]
  },
  {
   "cell_type": "code",
   "execution_count": 2,
   "outputs": [
    {
     "name": "stdout",
     "text": [
      "all: (506, 13) ---> (506,)\n"
     ],
     "output_type": "stream"
    }
   ],
   "source": [
    "# 1 准备数据\n",
    "# 读取波士顿地区房价信息\n",
    "boston = load_boston()\n",
    "# 查看数据描述\n",
    "# print(boston.DESCR)   # 共506条波士顿地区房价信息，每条13项数值特征描述和目标房价\n",
    "# 查看数据的差异情况\n",
    "# print(\"最大房价：\", np.max(boston.target))   # 50\n",
    "# print(\"最小房价：\",np.min(boston.target))    # 5\n",
    "# print(\"平均房价：\", np.mean(boston.target))   # 22.532806324110677\n",
    "\n",
    "x = boston.data\n",
    "y = boston.target\n",
    "\n",
    "print('all:',x.shape,'--->',y.shape)"
   ],
   "metadata": {
    "collapsed": false,
    "pycharm": {
     "name": "#%%\n",
     "is_executing": false
    }
   }
  },
  {
   "cell_type": "code",
   "execution_count": 3,
   "outputs": [
    {
     "name": "stdout",
     "text": [
      "train: (379, 13) ---> (379,)\ntest: (127, 13) ---> (127,)\n"
     ],
     "output_type": "stream"
    }
   ],
   "source": [
    "# 2 分割训练数据和测试数据\n",
    "# 随机采样25%作为测试 75%作为训练\n",
    "x_train, x_test, y_train, y_test = TTS(x, y, test_size=0.25, random_state=33)\n",
    "\n",
    "print('train:',x_train.shape,'--->',y_train.shape)\n",
    "print('test:',x_test.shape,'--->',y_test.shape)"
   ],
   "metadata": {
    "collapsed": false,
    "pycharm": {
     "name": "#%%\n",
     "is_executing": false
    }
   }
  },
  {
   "cell_type": "code",
   "execution_count": 4,
   "outputs": [],
   "source": [
    "# 3 训练数据和测试数据进行标准化处理\n",
    "ss_x = StandardScaler()\n",
    "x_train = ss_x.fit_transform(x_train)\n",
    "x_test = ss_x.transform(x_test)\n",
    "\n",
    "ss_y = StandardScaler()\n",
    "y_train = ss_y.fit_transform(y_train.reshape(-1, 1))\n",
    "y_test = ss_y.transform(y_test.reshape(-1, 1))"
   ],
   "metadata": {
    "collapsed": false,
    "pycharm": {
     "name": "#%%\n",
     "is_executing": false
    }
   }
  },
  {
   "cell_type": "code",
   "execution_count": 5,
   "outputs": [
    {
     "name": "stdout",
     "text": [
      "=============== SVR ===============\n默认评估值为： 0.650659546421538\nR^2值为： 0.650659546421538\n均方误差(MSE)为: 0.3145579812711781\n平均绝对误差(MAE)为: 0.36992021773514205\n===================================\nscore: 0.650659546421538\nMSE: 0.3145579812711781\n=============== SVR ===============\n默认评估值为： 0.403650651025512\nR^2值为： 0.403650651025512\n均方误差(MSE)为: 0.53697316020592\n平均绝对误差(MAE)为: 0.40285245560990285\n===================================\nscore: 0.403650651025512\nMSE: 0.53697316020592\nSVR(C=1.0, cache_size=200, coef0=0.0, degree=3, epsilon=0.1, gamma='scale',\n    kernel='poly', max_iter=-1, shrinking=True, tol=0.001, verbose=False)\n"
     ],
     "output_type": "stream"
    },
    {
     "name": "stderr",
     "text": [
      "F:\\Python\\anaconda3\\lib\\site-packages\\sklearn\\utils\\validation.py:760: DataConversionWarning: A column-vector y was passed when a 1d array was expected. Please change the shape of y to (n_samples, ), for example using ravel().\n  y = column_or_1d(y, warn=True)\nF:\\Python\\anaconda3\\lib\\site-packages\\sklearn\\utils\\validation.py:760: DataConversionWarning: A column-vector y was passed when a 1d array was expected. Please change the shape of y to (n_samples, ), for example using ravel().\n  y = column_or_1d(y, warn=True)\n"
     ],
     "output_type": "stream"
    }
   ],
   "source": [
    "# 4.1 支持向量机模型进行学习和预测\n",
    "# 线性核函数配置支持向量机\n",
    "linear_svr = SVR(kernel=\"linear\")\n",
    "# 训练\n",
    "linear_svr.fit(x_train, y_train)\n",
    "# 预测 保存预测结果\n",
    "linear_svr_y_predict = linear_svr.predict(x_test)\n",
    "\n",
    "EM.modelEvaluate(linear_svr, x_test, y_test)\n",
    " \n",
    "############ Sklearn ##############\n",
    "score = linear_svr.score(x_test,y_test) #你能想出这里应该返回什么模型评估指标么？\n",
    "print('score:',score)\n",
    "mse = MSE(y_test,linear_svr.predict(x_test))\n",
    "print('MSE:', mse)\n",
    "\n",
    "# 多项式核函数配置支持向量机\n",
    "poly_svr = SVR(kernel=\"poly\")\n",
    "# 训练\n",
    "poly_svr.fit(x_train, y_train)\n",
    "# 预测 保存预测结果\n",
    "poly_svr_y_predict = poly_svr.predict(x_test)\n",
    "\n",
    "EM.modelEvaluate(poly_svr, x_test, y_test)\n",
    "\n",
    "############ Sklearn ##############\n",
    "score = poly_svr.score(x_test,y_test) #你能想出这里应该返回什么模型评估指标么？\n",
    "print('score:',score)\n",
    "mse = MSE(y_test,poly_svr.predict(x_test))\n",
    "print('MSE:', mse)\n",
    "\n",
    "print(str(poly_svr))\n",
    "\n",
    "# print(linear_svr_y_predict, poly_svr_y_predict)"
   ],
   "metadata": {
    "collapsed": false,
    "pycharm": {
     "name": "#%%\n",
     "is_executing": false
    }
   }
  },
  {
   "cell_type": "code",
   "execution_count": 6,
   "outputs": [
    {
     "name": "stdout",
     "text": [
      "线性核函数支持向量机的默认评估值为： 0.650659546421538\n线性核函数支持向量机的R_squared值为： 0.650659546421538\n线性核函数支持向量机的均方误差为: 27.088311013556027\n线性核函数支持向量机的平均绝对误差为: 3.4328013877599624\n对多项式核函数的默认评估值为： 0.403650651025512\n对多项式核函数的R_squared值为： 0.403650651025512\n对多项式核函数的均方误差为: 46.241700531039\n对多项式核函数的平均绝对误差为: 3.7384073710465047\n"
     ],
     "output_type": "stream"
    },
    {
     "data": {
      "text/plain": "'\\n线性核函数支持向量机的默认评估值为： 0.651717097429608\\n线性核函数支持向量机的R_squared值为： 0.651717097429608\\n线性核函数支持向量机的均方误差为: 27.0063071393243\\n线性核函数支持向量机的平均绝对误差为: 3.426672916872753\\n对多项式核函数的默认评估值为： 0.40445405800289286\\n对多项式核函数的R_squared值为： 0.651717097429608\\n对多项式核函数的均方误差为: 27.0063071393243\\n对多项式核函数的平均绝对误差为: 3.426672916872753\\n'"
     },
     "metadata": {},
     "output_type": "execute_result",
     "execution_count": 6
    }
   ],
   "source": [
    "# 5 模型评估\n",
    "# 线性核函数 模型评估\n",
    "print(\"线性核函数支持向量机的默认评估值为：\", linear_svr.score(x_test, y_test))\n",
    "print(\"线性核函数支持向量机的R_squared值为：\", r2_score(y_test, linear_svr_y_predict))\n",
    "print(\"线性核函数支持向量机的均方误差为:\", mean_squared_error(ss_y.inverse_transform(y_test),\n",
    "                                              ss_y.inverse_transform(linear_svr_y_predict)))\n",
    "print(\"线性核函数支持向量机的平均绝对误差为:\", mean_absolute_error(ss_y.inverse_transform(y_test),\n",
    "                                                 ss_y.inverse_transform(linear_svr_y_predict)))\n",
    "# 对多项式核函数模型评估\n",
    "print(\"对多项式核函数的默认评估值为：\", poly_svr.score(x_test, y_test))\n",
    "print(\"对多项式核函数的R_squared值为：\", r2_score(y_test, poly_svr_y_predict))\n",
    "print(\"对多项式核函数的均方误差为:\", mean_squared_error(ss_y.inverse_transform(y_test),\n",
    "                                           ss_y.inverse_transform(poly_svr_y_predict)))\n",
    "print(\"对多项式核函数的平均绝对误差为:\", mean_absolute_error(ss_y.inverse_transform(y_test),\n",
    "                                              ss_y.inverse_transform(poly_svr_y_predict)))\n",
    "\n",
    "'''\n",
    "线性核函数支持向量机的默认评估值为： 0.651717097429608\n",
    "线性核函数支持向量机的R_squared值为： 0.651717097429608\n",
    "线性核函数支持向量机的均方误差为: 27.0063071393243\n",
    "线性核函数支持向量机的平均绝对误差为: 3.426672916872753\n",
    "对多项式核函数的默认评估值为： 0.40445405800289286\n",
    "对多项式核函数的R_squared值为： 0.651717097429608\n",
    "对多项式核函数的均方误差为: 27.0063071393243\n",
    "对多项式核函数的平均绝对误差为: 3.426672916872753\n",
    "'''\n"
   ],
   "metadata": {
    "collapsed": false,
    "pycharm": {
     "name": "#%%\n",
     "is_executing": false
    }
   }
  }
 ],
 "metadata": {
  "language_info": {
   "codemirror_mode": {
    "name": "ipython",
    "version": 2
   },
   "file_extension": ".py",
   "mimetype": "text/x-python",
   "name": "python",
   "nbconvert_exporter": "python",
   "pygments_lexer": "ipython2",
   "version": "2.7.6"
  },
  "kernelspec": {
   "name": "python3",
   "language": "python",
   "display_name": "Python 3"
  },
  "pycharm": {
   "stem_cell": {
    "cell_type": "raw",
    "source": [],
    "metadata": {
     "collapsed": false
    }
   }
  }
 },
 "nbformat": 4,
 "nbformat_minor": 0
}