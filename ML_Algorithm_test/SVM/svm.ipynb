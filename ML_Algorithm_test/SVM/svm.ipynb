{
 "cells": [
  {
   "cell_type": "code",
   "execution_count": null,
   "metadata": {
    "collapsed": true
   },
   "outputs": [],
   "source": [
    "from sklearn.datasets import load_boston\n",
    "from sklearn.cross_validation import train_test_split\n",
    "from sklearn.preprocessing import StandardScaler\n",
    "from sklearn.svm import SVR\n",
    "from sklearn.metrics import r2_score, mean_squared_error, mean_absolute_error\n",
    "import numpy as np"
   ]
  },
  {
   "cell_type": "code",
   "execution_count": null,
   "outputs": [],
   "source": [
    "# 1 准备数据\n",
    "# 读取波士顿地区房价信息\n",
    "boston = load_boston()\n",
    "# 查看数据描述\n",
    "# print(boston.DESCR)   # 共506条波士顿地区房价信息，每条13项数值特征描述和目标房价\n",
    "# 查看数据的差异情况\n",
    "# print(\"最大房价：\", np.max(boston.target))   # 50\n",
    "# print(\"最小房价：\",np.min(boston.target))    # 5\n",
    "# print(\"平均房价：\", np.mean(boston.target))   # 22.532806324110677\n",
    "\n",
    "x = boston.data\n",
    "y = boston.target"
   ],
   "metadata": {
    "collapsed": false,
    "pycharm": {
     "name": "#%%\n"
    }
   }
  },
  {
   "cell_type": "code",
   "execution_count": null,
   "outputs": [],
   "source": [
    "# 2 分割训练数据和测试数据\n",
    "# 随机采样25%作为测试 75%作为训练\n",
    "x_train, x_test, y_train, y_test = train_test_split(x, y, test_size=0.25, random_state=33)"
   ],
   "metadata": {
    "collapsed": false,
    "pycharm": {
     "name": "#%%\n"
    }
   }
  },
  {
   "cell_type": "code",
   "execution_count": null,
   "outputs": [],
   "source": [
    "# 3 训练数据和测试数据进行标准化处理\n",
    "ss_x = StandardScaler()\n",
    "x_train = ss_x.fit_transform(x_train)\n",
    "x_test = ss_x.transform(x_test)\n",
    "\n",
    "ss_y = StandardScaler()\n",
    "y_train = ss_y.fit_transform(y_train.reshape(-1, 1))\n",
    "y_test = ss_y.transform(y_test.reshape(-1, 1))"
   ],
   "metadata": {
    "collapsed": false,
    "pycharm": {
     "name": "#%%\n"
    }
   }
  },
  {
   "cell_type": "code",
   "execution_count": null,
   "outputs": [],
   "source": [
    "# 4.1 支持向量机模型进行学习和预测\n",
    "# 线性核函数配置支持向量机\n",
    "linear_svr = SVR(kernel=\"linear\")\n",
    "# 训练\n",
    "linear_svr.fit(x_train, y_train)\n",
    "# 预测 保存预测结果\n",
    "linear_svr_y_predict = linear_svr.predict(x_test)\n",
    "\n",
    "# 多项式核函数配置支持向量机\n",
    "poly_svr = SVR(kernel=\"poly\")\n",
    "# 训练\n",
    "poly_svr.fit(x_train, y_train)\n",
    "# 预测 保存预测结果\n",
    "poly_svr_y_predict = linear_svr.predict(x_test)"
   ],
   "metadata": {
    "collapsed": false,
    "pycharm": {
     "name": "#%%\n"
    }
   }
  },
  {
   "cell_type": "code",
   "execution_count": null,
   "outputs": [],
   "source": [
    "# 5 模型评估\n",
    "# 线性核函数 模型评估\n",
    "print(\"线性核函数支持向量机的默认评估值为：\", linear_svr.score(x_test, y_test))\n",
    "print(\"线性核函数支持向量机的R_squared值为：\", r2_score(y_test, linear_svr_y_predict))\n",
    "print(\"线性核函数支持向量机的均方误差为:\", mean_squared_error(ss_y.inverse_transform(y_test),\n",
    "                                              ss_y.inverse_transform(linear_svr_y_predict)))\n",
    "print(\"线性核函数支持向量机的平均绝对误差为:\", mean_absolute_error(ss_y.inverse_transform(y_test),\n",
    "                                                 ss_y.inverse_transform(linear_svr_y_predict)))\n",
    "# 对多项式核函数模型评估\n",
    "print(\"对多项式核函数的默认评估值为：\", poly_svr.score(x_test, y_test))\n",
    "print(\"对多项式核函数的R_squared值为：\", r2_score(y_test, poly_svr_y_predict))\n",
    "print(\"对多项式核函数的均方误差为:\", mean_squared_error(ss_y.inverse_transform(y_test),\n",
    "                                           ss_y.inverse_transform(poly_svr_y_predict)))\n",
    "print(\"对多项式核函数的平均绝对误差为:\", mean_absolute_error(ss_y.inverse_transform(y_test),\n",
    "                                              ss_y.inverse_transform(poly_svr_y_predict)))\n",
    "\n",
    "'''\n",
    "线性核函数支持向量机的默认评估值为： 0.651717097429608\n",
    "线性核函数支持向量机的R_squared值为： 0.651717097429608\n",
    "线性核函数支持向量机的均方误差为: 27.0063071393243\n",
    "线性核函数支持向量机的平均绝对误差为: 3.426672916872753\n",
    "对多项式核函数的默认评估值为： 0.40445405800289286\n",
    "对多项式核函数的R_squared值为： 0.651717097429608\n",
    "对多项式核函数的均方误差为: 27.0063071393243\n",
    "对多项式核函数的平均绝对误差为: 3.426672916872753\n",
    "'''\n"
   ],
   "metadata": {
    "collapsed": false,
    "pycharm": {
     "name": "#%%\n"
    }
   }
  }
 ],
 "metadata": {
  "language_info": {
   "codemirror_mode": {
    "name": "ipython",
    "version": 2
   },
   "file_extension": ".py",
   "mimetype": "text/x-python",
   "name": "python",
   "nbconvert_exporter": "python",
   "pygments_lexer": "ipython2",
   "version": "2.7.6"
  },
  "kernelspec": {
   "name": "pycharm-3c83522",
   "language": "python",
   "display_name": "PyCharm (SVM_Demo)"
  },
  "pycharm": {
   "stem_cell": {
    "cell_type": "raw",
    "source": [],
    "metadata": {
     "collapsed": false
    }
   }
  }
 },
 "nbformat": 4,
 "nbformat_minor": 0
}