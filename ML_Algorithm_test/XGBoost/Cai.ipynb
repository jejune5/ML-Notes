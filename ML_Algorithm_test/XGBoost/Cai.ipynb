{
 "cells": [
  {
   "cell_type": "code",
   "execution_count": 1,
   "metadata": {
    "collapsed": true,
    "pycharm": {
     "is_executing": false
    }
   },
   "outputs": [],
   "source": [
    "from xgboost import XGBRegressor as XGBR\n",
    "from sklearn.ensemble import RandomForestRegressor as RFR\n",
    "from sklearn.linear_model import LinearRegression as LinearR\n",
    "from sklearn.datasets import load_boston\n",
    "from sklearn.model_selection import KFold, cross_val_score as CVS, train_test_split as TTS\n",
    "from sklearn.metrics import mean_squared_error as MSE\n",
    "import pandas as pd\n",
    "import numpy as np\n",
    "import matplotlib.pyplot as plt\n",
    "from time import time\n",
    "import datetime"
   ]
  },
  {
   "cell_type": "code",
   "execution_count": 2,
   "outputs": [
    {
     "name": "stdout",
     "text": [
      "all: (506, 13) ---> (506,)\n"
     ],
     "output_type": "stream"
    }
   ],
   "source": [
    "data = load_boston()\n",
    "#波士顿数据集非常简单，但它所涉及到的问题却很多\n",
    "X = data.data\n",
    "y = data.target\n",
    "\n",
    "print('all:',X.shape,'--->',y.shape)"
   ],
   "metadata": {
    "collapsed": false,
    "pycharm": {
     "name": "#%%\n",
     "is_executing": false
    }
   }
  },
  {
   "cell_type": "code",
   "execution_count": 3,
   "outputs": [
    {
     "name": "stdout",
     "text": [
      "train: (354, 13) ---> (354,)\ntest: (152, 13) ---> (152,)\nscore: 0.9050988954757183\nMSE: 8.830916470718748\n"
     ],
     "output_type": "stream"
    },
    {
     "data": {
      "text/plain": "array([0.01902167, 0.0042109 , 0.01478317, 0.00553536, 0.02222195,\n       0.37914094, 0.01679687, 0.04698721, 0.04073574, 0.05491758,\n       0.0668422 , 0.00869463, 0.32011184], dtype=float32)"
     },
     "metadata": {},
     "output_type": "execute_result",
     "execution_count": 3
    }
   ],
   "source": [
    "Xtrain,Xtest,Ytrain,Ytest = TTS(X,y,test_size=0.3,random_state=420)\n",
    "print('train:',Xtrain.shape,'--->',Ytrain.shape)\n",
    "print('test:',Xtest.shape,'--->',Ytest.shape)\n",
    "\n",
    "reg = XGBR(n_estimators=100).fit(Xtrain,Ytrain)\n",
    "reg.predict(Xtest) #传统接口predict\n",
    "score = reg.score(Xtest,Ytest) #你能想出这里应该返回什么模型评估指标么？\n",
    "print('score:',score)\n",
    "mse = MSE(Ytest,reg.predict(Xtest))\n",
    "print('MSE:', mse)\n",
    "reg.feature_importances_ #树模型的优势之一：能够查看模型的重要性分数，可以使用嵌入法进行特征选择"
   ],
   "metadata": {
    "collapsed": false,
    "pycharm": {
     "name": "#%%\n",
     "is_executing": false
    }
   }
  },
  {
   "cell_type": "code",
   "execution_count": 10,
   "outputs": [
    {
     "name": "stdout",
     "text": [
      "XBGR: 0.7883239859105383 ===== -17.657931994400368\n",
      "RFR: 0.72778293910584 ===== -12.749524998928571\nLinearR: 0.6835070597278078 ===== -25.3495074936485\n",
      "XGBR_slient: -16.215644658473447\n"
     ],
     "output_type": "stream"
    }
   ],
   "source": [
    "reg = XGBR(n_estimators=100)\n",
    "cvs1 = CVS(reg,Xtrain,Ytrain,cv=10).mean() \n",
    "#这里应该返回什么模型评估指标，还记得么？\n",
    "#严谨的交叉验证与不严谨的交叉验证之间的讨论：训练集or全数据？\n",
    "cvs2 = CVS(reg,Xtrain,Ytrain,cv=10,scoring='neg_mean_squared_error').mean()\n",
    "print('XBGR:',cvs1,'=====',cvs2)\n",
    "\n",
    "#来查看一下sklearn中所有的模型评估指标\n",
    "import sklearn\n",
    "sorted(sklearn.metrics.SCORERS.keys())\n",
    "#使用随机森林和线性回归进行一个对比\n",
    "rfr = RFR(n_estimators=100)\n",
    "cvs1 = CVS(rfr,Xtrain,Ytrain,cv=50).mean()\n",
    "cvs2 = CVS(rfr,Xtrain,Ytrain,cv=50,scoring='neg_mean_squared_error').mean()\n",
    "print('RFR:',cvs1,'=====',cvs2)\n",
    "\n",
    "lr = LinearR()\n",
    "cvs1 = CVS(lr,Xtrain,Ytrain,cv=5).mean()\n",
    "cvs2 = CVS(lr,Xtrain,Ytrain,cv=5,scoring='neg_mean_squared_error').mean()\n",
    "print('LinearR:',cvs1,'=====',cvs2)\n",
    "\n",
    "#如果开启参数slient：在数据巨大，预料到算法运行会非常缓慢的时候可以使用这个参数来监控模型的训练进度\n",
    "# params = {'max_depth':2, 'eta':1, 'silent':1, 'objective':'reg:linear'}\n",
    "reg = XGBR(n_estimators=100)\n",
    "XGBR_cvs1 = CVS(reg,Xtrain,Ytrain,cv=5,scoring='neg_mean_squared_error').mean()\n",
    "print('XGBR_slient:',XGBR_cvs1)"
   ],
   "metadata": {
    "collapsed": false,
    "pycharm": {
     "name": "#%%\n",
     "is_executing": false
    }
   }
  },
  {
   "cell_type": "code",
   "execution_count": 22,
   "outputs": [
    {
     "data": {
      "text/plain": "<Figure size 432x288 with 1 Axes>",
      "image/png": "[encoded data removed]"
     },
     "metadata": {
      "needs_background": "light"
     },
     "output_type": "display_data"
    }
   ],
   "source": [
    "def plot_learning_curve(estimator,title, X, y,\n",
    "    ax=None, #选择子图\n",
    "    ylim=None, #设置纵坐标的取值范围\n",
    "    cv=None, #交叉验证\n",
    "    n_jobs=None #设定索要使用的线程\n",
    "    ):\n",
    "    from sklearn.model_selection import learning_curve\n",
    "    import matplotlib.pyplot as plt\n",
    "    import numpy as np\n",
    "    \n",
    "    train_sizes, train_scores, test_scores = learning_curve(estimator, X, y\n",
    "    ,shuffle=True\n",
    "    ,cv=cv\n",
    "    # ,random_state=420\n",
    "    ,n_jobs=n_jobs)\n",
    "    \n",
    "    if ax == None:\n",
    "        ax = plt.gca()\n",
    "    else:\n",
    "        ax = plt.figure()\n",
    "        ax.set_title(title)\n",
    "    if ylim is not None:\n",
    "        ax.set_ylim(*ylim)\n",
    "        \n",
    "    ax.set_xlabel(\"Training examples\")\n",
    "    ax.set_ylabel(\"Score\")\n",
    "    ax.grid() #绘制网格，不是必须\n",
    "\n",
    "    ax.plot(train_sizes, np.mean(train_scores, axis=1), 'o-'\n",
    "    , color=\"r\",label=\"Training score\") \n",
    "    ax.plot(train_sizes, np.mean(test_scores, axis=1), 'o-'\n",
    "    , color=\"g\",label=\"Test score\")\n",
    "    ax.legend(loc=\"best\")\n",
    "    \n",
    "    return ax\n",
    "\n",
    "cv = KFold(n_splits=50, shuffle = True, random_state=42)\n",
    "plot_learning_curve(XGBR(n_estimators=100,random_state=420),\"XGB\",Xtrain,Ytrain,ax=None,cv=cv)\n",
    "\n",
    "plt.show()\n",
    "#多次运行，观察结果，这是怎么造成的？\n",
    "#在现在的状况下，如何看数据的潜力？还能调上去么？"
   ],
   "metadata": {
    "collapsed": false,
    "pycharm": {
     "name": "#%%\n",
     "is_executing": false
    }
   }
  },
  {
   "cell_type": "code",
   "execution_count": 16,
   "outputs": [
    {
     "name": "stdout",
     "text": [
      "100 0.8320924479019667 0.005344209691331517\n100 0.8320924479019667 0.005344209691331517\n100 0.8320924479019667 0.005344209691331517 0.03353715574288529\n"
     ],
     "output_type": "stream"
    },
    {
     "data": {
      "text/plain": "<Figure size 1440x360 with 1 Axes>",
      "image/png": "[encoded data removed]"
     },
     "metadata": {
      "needs_background": "light"
     },
     "output_type": "display_data"
    },
    {
     "data": {
      "text/plain": "<Figure size 1440x360 with 1 Axes>",
      "image/png": "[encoded data removed]"
     },
     "metadata": {
      "needs_background": "light"
     },
     "output_type": "display_data"
    }
   ],
   "source": [
    "axisx = range(100,300,10)\n",
    "rs = []\n",
    "var = []\n",
    "ge = []\n",
    "for i in axisx:\n",
    "    reg = XGBR(n_estimators=i,random_state=420)\n",
    "    cvresult = CVS(reg,Xtrain,Ytrain,cv=cv)\n",
    "    rs.append(cvresult.mean())\n",
    "    var.append(cvresult.var())\n",
    "    ge.append((1 - cvresult.mean())**2+cvresult.var())\n",
    "print(axisx[rs.index(max(rs))],max(rs),var[rs.index(max(rs))])\n",
    "print(axisx[var.index(min(var))],rs[var.index(min(var))],min(var))\n",
    "print(axisx[ge.index(min(ge))],rs[ge.index(min(ge))],var[ge.index(min(ge))],min(ge))\n",
    "rs = np.array(rs)\n",
    "var = np.array(var)*0.01\n",
    "plt.figure(figsize=(20,5))\n",
    "plt.plot(axisx,rs,c=\"black\",label=\"XGB\")\n",
    "#添加方差线\n",
    "plt.plot(axisx,rs+var,c=\"red\",linestyle='-.')\n",
    "plt.plot(axisx,rs-var,c=\"red\",linestyle='-.')\n",
    "plt.legend()\n",
    "plt.show()\n",
    "#看看泛化误差的可控部分如何？\n",
    "plt.figure(figsize=(20,5))\n",
    "plt.plot(axisx,ge,c=\"gray\",linestyle='-.')\n",
    "plt.show()"
   ],
   "metadata": {
    "collapsed": false,
    "pycharm": {
     "name": "#%%\n",
     "is_executing": false
    }
   }
  },
  {
   "cell_type": "code",
   "execution_count": 7,
   "outputs": [
    {
     "name": "stdout",
     "text": [
      "0.9050988954757183\n0.05585074424743652\n0.9050526024842831\n0.0937492847442627\n",
      "0.9050526024842831\n0.18851447105407715\n"
     ],
     "output_type": "stream"
    }
   ],
   "source": [
    "#验证模型效果是否提高了？\n",
    "time0 = time()\n",
    "print(XGBR(n_estimators=100,random_state=420).fit(Xtrain,Ytrain).score(Xtest,Ytest))\n",
    "print(time()-time0)\n",
    "time0 = time()\n",
    "print(XGBR(n_estimators=660,random_state=420).fit(Xtrain,Ytrain).score(Xtest,Ytest))\n",
    "print(time()-time0)\n",
    "time0 = time()\n",
    "print(XGBR(n_estimators=180,random_state=420).fit(Xtrain,Ytrain).score(Xtest,Ytest))\n",
    "print(time()-time0)"
   ],
   "metadata": {
    "collapsed": false,
    "pycharm": {
     "name": "#%%\n",
     "is_executing": false
    }
   }
  }
 ],
 "metadata": {
  "language_info": {
   "codemirror_mode": {
    "name": "ipython",
    "version": 2
   },
   "file_extension": ".py",
   "mimetype": "text/x-python",
   "name": "python",
   "nbconvert_exporter": "python",
   "pygments_lexer": "ipython2",
   "version": "2.7.6"
  },
  "kernelspec": {
   "name": "python3",
   "language": "python",
   "display_name": "Python 3"
  },
  "pycharm": {
   "stem_cell": {
    "cell_type": "raw",
    "source": [],
    "metadata": {
     "collapsed": false
    }
   }
  }
 },
 "nbformat": 4,
 "nbformat_minor": 0
}