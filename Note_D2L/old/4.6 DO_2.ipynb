{
 "cells": [
  {
   "cell_type": "code",
   "execution_count": 87,
   "metadata": {
    "collapsed": true
   },
   "outputs": [],
   "source": [
    "import torch\n",
    "from torch import nn\n",
    "from torch.nn import functional as F\n",
    "from torch.utils.data import TensorDataset, DataLoader\n",
    "from torchvision import datasets, transforms\n",
    "from matplotlib import pyplot as plt\n",
    "from wutorchkeras import wutorchkeras, metrics\n",
    "import numpy as np\n",
    "import pandas as pd"
   ]
  },
  {
   "cell_type": "code",
   "execution_count": 88,
   "outputs": [
    {
     "data": {
      "text/plain": "device(type='cuda', index=0)"
     },
     "execution_count": 88,
     "metadata": {},
     "output_type": "execute_result"
    }
   ],
   "source": [
    "device = torch.device(\"cuda:0\" if torch.cuda.is_available() else \"cpu\")\n",
    "device"
   ],
   "metadata": {
    "collapsed": false,
    "pycharm": {
     "name": "#%%\n"
    }
   }
  },
  {
   "cell_type": "code",
   "execution_count": 89,
   "outputs": [],
   "source": [
    "trans = transforms.ToTensor()\n",
    "\n",
    "train_datasets = datasets.FashionMNIST(root='../data', transform=trans, train=True, download=True)\n",
    "val_datasets = datasets.FashionMNIST(root='../data', transform=trans, train=False, download=True)"
   ],
   "metadata": {
    "collapsed": false,
    "pycharm": {
     "name": "#%%\n"
    }
   }
  },
  {
   "cell_type": "code",
   "execution_count": 90,
   "outputs": [
    {
     "name": "stdout",
     "output_type": "stream",
     "text": [
      "torch.Size([60000, 28, 28]) --> torch.Size([60000])\n"
     ]
    },
    {
     "data": {
      "text/plain": "tensor(3)"
     },
     "execution_count": 90,
     "metadata": {},
     "output_type": "execute_result"
    }
   ],
   "source": [
    "train_data = train_datasets.data\n",
    "train_targets = train_datasets.targets\n",
    "print(train_data.shape, '-->', train_targets.shape)\n",
    "train_targets[70]"
   ],
   "metadata": {
    "collapsed": false,
    "pycharm": {
     "name": "#%%\n"
    }
   }
  },
  {
   "cell_type": "code",
   "execution_count": 91,
   "outputs": [],
   "source": [
    "num_epochs, lr, batch_size = 10, 0.5, 256\n",
    "\n",
    "dl_train = DataLoader(train_datasets, batch_size=batch_size, shuffle=True)\n",
    "dl_val = DataLoader(val_datasets, batch_size=batch_size, shuffle=True)\n",
    "\n"
   ],
   "metadata": {
    "collapsed": false,
    "pycharm": {
     "name": "#%%\n"
    }
   }
  },
  {
   "cell_type": "code",
   "execution_count": 92,
   "outputs": [],
   "source": [
    "def dropout_layer(X, dropout):\n",
    "    X = X.to(device)\n",
    "    assert 0 <= dropout <= 1\n",
    "    # 在本情况中，所有元素都被丢弃\n",
    "    if dropout == 1:\n",
    "        return torch.zeros_like(X)\n",
    "    # 在本情况中，所有元素都被保留\n",
    "    if dropout == 0:\n",
    "        return X\n",
    "    mask = (torch.rand(X.shape) > dropout).float().to(device)\n",
    "    # print(mask.size(),X.size())\n",
    "    a = torch.mul(mask, X)\n",
    "    return mask * X / (1.0 - dropout)\n",
    "\n",
    "\n",
    "dropout1, dropout2 = 0.2, 0.5\n",
    "h1_std = []\n",
    "h2_std = []\n",
    "dfstd = pd.DataFrame()\n",
    "class Net(nn.Module):\n",
    "    def __init__(self, num_inputs=784, num_outputs=10, num_hiddens1=256, num_hiddens2=256,\n",
    "                 is_training=True):\n",
    "        super(Net, self).__init__()\n",
    "        self.num_inputs = num_inputs\n",
    "        self.training = is_training\n",
    "        self.lin1 = nn.Linear(num_inputs, num_hiddens1)\n",
    "        self.lin2 = nn.Linear(num_hiddens1, num_hiddens2)\n",
    "        self.lin3 = nn.Linear(num_hiddens2, num_outputs)\n",
    "        self.relu = nn.ReLU()\n",
    "        self.h1 = torch.tensor([])\n",
    "        self.h2 = torch.tensor([])\n",
    "\n",
    "    def forward(self, X, is_train=True):\n",
    "        H1 = self.relu(self.lin1(X.reshape((-1, self.num_inputs))))\n",
    "        # 只有在训练模型时才使用dropout\n",
    "        # if self.training == True:\n",
    "        #     # 在第一个全连接层之后添加一个dropout层\n",
    "        #     # H1 = nn.Dropout(dropout1)\n",
    "        #     H1 = dropout_layer(H1, dropout1)\n",
    "        # H1 = F.dropout(H1, dropout1, is_train)\n",
    "        self.h1 = H1\n",
    "        # print(H1.size())\n",
    "        # print(torch.var(H1).size())\n",
    "        # h1_std.append(torch.std(H1))\n",
    "\n",
    "        H2 = self.relu(self.lin2(H1))\n",
    "        # H2 = F.dropout(H2, dropout2, is_train)\n",
    "        self.h2 = H2\n",
    "        # h2_std.append(torch.std(H2))\n",
    "        # if self.training == True:\n",
    "        #     # 在第二个全连接层之后添加一个dropout层\n",
    "        #     # H2 = nn.Dropout(dropout2)\n",
    "        #     H2 = dropout_layer(H2, dropout2)\n",
    "        out = self.lin3(H2)\n",
    "        return out\n",
    "\n",
    "    def get_h1(self, is_train=False):\n",
    "        h1 = self.h1.view(-1)\n",
    "        if is_train:\n",
    "            # var_tensor = torch.cat((var_tensor, h1))\n",
    "            return h1\n",
    "        else:\n",
    "            return torch.tensor([])\n",
    "\n",
    "    def get_h2(self, is_train=False):\n",
    "        h2 = self.h2.view(-1)\n",
    "        if is_train:\n",
    "            # var_tensor = torch.cat((var_tensor, h1))\n",
    "            return h2\n",
    "        else:\n",
    "            return torch.tensor([])\n",
    "\n"
   ],
   "metadata": {
    "collapsed": false,
    "pycharm": {
     "name": "#%%\n"
    }
   }
  },
  {
   "cell_type": "code",
   "execution_count": 93,
   "outputs": [
    {
     "name": "stdout",
     "output_type": "stream",
     "text": [
      "1 0.4979177713394165 0.8020833333333334 0.43466782569885254 0.875 0.153134286403656 0.13111458718776703\n",
      "2 0.5829538702964783 0.7291666666666666 0.35132697224617004 0.8125 0.15578901767730713 0.15152864158153534\n",
      "3 0.37534448504447937 0.84375 1.0873569250106812 0.8125 0.15625296533107758 0.15516942739486694\n",
      "4 0.5120487809181213 0.7916666666666666 0.22309979796409607 0.9375 0.1586165428161621 0.15645800530910492\n",
      "5 0.3136686682701111 0.875 0.4019002318382263 0.8125 0.16833630204200745 0.15908648073673248\n",
      "6 0.5147453546524048 0.8020833333333334 0.7219229340553284 0.625 0.17197950184345245 0.16393524408340454\n",
      "7 0.39103803038597107 0.8854166666666666 0.18613888323307037 0.9375 0.17375975847244263 0.16482028365135193\n",
      "8 0.3547189235687256 0.875 0.08692311495542526 1.0 0.1785130351781845 0.16574518382549286\n",
      "9 0.36419758200645447 0.8645833333333334 0.28778842091560364 0.875 0.17943650484085083 0.1684248000383377\n",
      "10 0.4044483006000519 0.84375 0.2325843870639801 0.9375 0.18500660359859467 0.17104949057102203\n"
     ]
    }
   ],
   "source": [
    "model = Net().to(device)\n",
    "optim = torch.optim.SGD(model.parameters(), lr=lr)\n",
    "loss_func = nn.CrossEntropyLoss()\n",
    "accuracy = metrics.accuracy\n",
    "\n",
    "\n",
    "def train_step(features, labels, is_train=True):\n",
    "    features = features.to(device)\n",
    "    labels = labels.to(device)\n",
    "    predictions = model.forward(features, is_train)\n",
    "    loss = loss_func(predictions, labels)\n",
    "    acc = accuracy(predictions, labels)\n",
    "    h1_tensor = model.get_h1(is_train)\n",
    "    h2_tensor = model.get_h2(is_train)\n",
    "    loss.backward()\n",
    "    optim.step()\n",
    "    optim.zero_grad()\n",
    "    return loss.item(), acc.item(), h1_tensor, h2_tensor\n",
    "\n",
    "@torch.no_grad()\n",
    "def val_step(features, labels, is_train=False):\n",
    "    model.eval()\n",
    "    features = features.to(device)\n",
    "    labels = labels.to(device)\n",
    "    predictions = model.forward(features, is_train)\n",
    "    loss = loss_func(predictions, labels)\n",
    "    acc = accuracy(predictions, labels)\n",
    "\n",
    "    return loss.item(), acc.item()\n",
    "\n",
    "\n",
    "def train_model(epochs):\n",
    "    cols = ['epoch', 'loss', 'acc', 'val_loss', 'val_acc','h1_var','h2_var']\n",
    "    dfhistory = pd.DataFrame(index=range(1, epochs + 1), columns=cols)\n",
    "    for epoch in range(1, epochs + 1):\n",
    "        loss = []\n",
    "        acc = []\n",
    "        val_loss = []\n",
    "        val_acc = []\n",
    "        H1_tensor = torch.tensor([]).to(device)\n",
    "        H2_tensor = torch.tensor([]).to(device)\n",
    "\n",
    "        for features, labels in dl_train:\n",
    "            loss_i, acc_i, h1_tensor, h2_tensor = train_step(features, labels)\n",
    "            H1_tensor = torch.cat((H1_tensor, h1_tensor))\n",
    "            H2_tensor = torch.cat((H2_tensor, h2_tensor))\n",
    "            loss.append(loss_i)\n",
    "            acc.append(acc_i)\n",
    "\n",
    "        for features, labels in dl_val:\n",
    "            val_loss_i, val_acc_i = val_step(features, labels)\n",
    "            val_loss.append(val_loss_i)\n",
    "            val_acc.append(val_acc_i)\n",
    "\n",
    "        dfhistory.loc[epoch] = {\n",
    "            'epoch': epoch,\n",
    "            'loss':np.mean(loss),\n",
    "            'acc':np.mean(acc),\n",
    "            'val_loss':np.mean(val_loss),\n",
    "            'val_acc':np.mean(val_acc),\n",
    "            'h1_var':torch.var(H1_tensor).item(),\n",
    "            'h2_var':torch.var(H2_tensor).item()\n",
    "        }\n",
    "        print(epoch,loss[-1],acc[-1],val_loss[-1],val_acc[-1],torch.var(H1_tensor).item(),torch.var(H2_tensor).item())\n",
    "\n",
    "    return dfhistory\n",
    "\n",
    "dfhistory = train_model(num_epochs)"
   ],
   "metadata": {
    "collapsed": false,
    "pycharm": {
     "name": "#%%\n"
    }
   }
  },
  {
   "cell_type": "code",
   "execution_count": 94,
   "outputs": [],
   "source": [
    "\n",
    "# model = wutorchkeras.Model(Net())\n",
    "# optim = torch.optim.SGD(model.parameters(), lr=lr)\n",
    "# loss_func = nn.CrossEntropyLoss()\n",
    "# accuracy = metrics.accuracy\n",
    "#\n",
    "# model.summary(input_shape=(1, 28, 28))\n",
    "# model.compile(loss_func=loss_func, metrics_dict={'acc': accuracy}, optimizer=optim, device='cuda:0')\n",
    "# dfhistory = model.fit(epochs=num_epochs, dl_train=dl_train, dl_val=dl_val, log_step_freq=len(dl_train) + 1,\n",
    "#                       log_epoch_freq=1)\n",
    "#\n",
    "# yhat = model.predict(dl_val)\n",
    "# yhat = torch.argmax(yhat, dim=1)\n",
    "# print(yhat)"
   ],
   "metadata": {
    "collapsed": false,
    "pycharm": {
     "name": "#%%\n"
    }
   }
  },
  {
   "cell_type": "code",
   "execution_count": 95,
   "outputs": [
    {
     "data": {
      "text/plain": "<Figure size 432x288 with 1 Axes>",
      "image/png": "[encoded data removed]"
     },
     "metadata": {
      "needs_background": "light"
     },
     "output_type": "display_data"
    },
    {
     "data": {
      "text/plain": "   epoch      loss       acc  val_loss   val_acc    h1_var    h2_var\n1      1   0.84459  0.681023  0.524338   0.80332  0.153134  0.131115\n2      2  0.490213  0.817099  0.482563  0.824121  0.155789  0.151529\n3      3  0.418698  0.843052  0.527886   0.80127  0.156253  0.155169\n4      4  0.385053  0.856427  0.594618   0.78291  0.158617  0.156458\n5      5  0.359946  0.865924  0.458336   0.83252  0.168336  0.159086\n6      6  0.338266  0.872845  0.420534  0.838867   0.17198  0.163935\n7      7  0.324137  0.878685  0.425395  0.841113   0.17376   0.16482\n8      8  0.308438  0.883561  0.354339  0.870215  0.178513  0.165745\n9      9  0.298927   0.88724  0.401207   0.85166  0.179437  0.168425\n10    10  0.287368  0.892537   0.38853  0.856152  0.185007  0.171049",
      "text/html": "<div>\n<style scoped>\n    .dataframe tbody tr th:only-of-type {\n        vertical-align: middle;\n    }\n\n    .dataframe tbody tr th {\n        vertical-align: top;\n    }\n\n    .dataframe thead th {\n        text-align: right;\n    }\n</style>\n<table border=\"1\" class=\"dataframe\">\n  <thead>\n    <tr style=\"text-align: right;\">\n      <th></th>\n      <th>epoch</th>\n      <th>loss</th>\n      <th>acc</th>\n      <th>val_loss</th>\n      <th>val_acc</th>\n      <th>h1_var</th>\n      <th>h2_var</th>\n    </tr>\n  </thead>\n  <tbody>\n    <tr>\n      <th>1</th>\n      <td>1</td>\n      <td>0.84459</td>\n      <td>0.681023</td>\n      <td>0.524338</td>\n      <td>0.80332</td>\n      <td>0.153134</td>\n      <td>0.131115</td>\n    </tr>\n    <tr>\n      <th>2</th>\n      <td>2</td>\n      <td>0.490213</td>\n      <td>0.817099</td>\n      <td>0.482563</td>\n      <td>0.824121</td>\n      <td>0.155789</td>\n      <td>0.151529</td>\n    </tr>\n    <tr>\n      <th>3</th>\n      <td>3</td>\n      <td>0.418698</td>\n      <td>0.843052</td>\n      <td>0.527886</td>\n      <td>0.80127</td>\n      <td>0.156253</td>\n      <td>0.155169</td>\n    </tr>\n    <tr>\n      <th>4</th>\n      <td>4</td>\n      <td>0.385053</td>\n      <td>0.856427</td>\n      <td>0.594618</td>\n      <td>0.78291</td>\n      <td>0.158617</td>\n      <td>0.156458</td>\n    </tr>\n    <tr>\n      <th>5</th>\n      <td>5</td>\n      <td>0.359946</td>\n      <td>0.865924</td>\n      <td>0.458336</td>\n      <td>0.83252</td>\n      <td>0.168336</td>\n      <td>0.159086</td>\n    </tr>\n    <tr>\n      <th>6</th>\n      <td>6</td>\n      <td>0.338266</td>\n      <td>0.872845</td>\n      <td>0.420534</td>\n      <td>0.838867</td>\n      <td>0.17198</td>\n      <td>0.163935</td>\n    </tr>\n    <tr>\n      <th>7</th>\n      <td>7</td>\n      <td>0.324137</td>\n      <td>0.878685</td>\n      <td>0.425395</td>\n      <td>0.841113</td>\n      <td>0.17376</td>\n      <td>0.16482</td>\n    </tr>\n    <tr>\n      <th>8</th>\n      <td>8</td>\n      <td>0.308438</td>\n      <td>0.883561</td>\n      <td>0.354339</td>\n      <td>0.870215</td>\n      <td>0.178513</td>\n      <td>0.165745</td>\n    </tr>\n    <tr>\n      <th>9</th>\n      <td>9</td>\n      <td>0.298927</td>\n      <td>0.88724</td>\n      <td>0.401207</td>\n      <td>0.85166</td>\n      <td>0.179437</td>\n      <td>0.168425</td>\n    </tr>\n    <tr>\n      <th>10</th>\n      <td>10</td>\n      <td>0.287368</td>\n      <td>0.892537</td>\n      <td>0.38853</td>\n      <td>0.856152</td>\n      <td>0.185007</td>\n      <td>0.171049</td>\n    </tr>\n  </tbody>\n</table>\n</div>"
     },
     "execution_count": 95,
     "metadata": {},
     "output_type": "execute_result"
    }
   ],
   "source": [
    "from matplotlib import pyplot as plt\n",
    "\n",
    "plt.figure()\n",
    "plt.plot(dfhistory.index, dfhistory['loss'], label='train loss')\n",
    "plt.plot(dfhistory.index, dfhistory['acc'], '--', label='train acc')\n",
    "plt.plot(dfhistory.index, dfhistory['val_acc'], '.--', label='test acc')\n",
    "plt.legend()\n",
    "plt.show()\n",
    "dfhistory"
   ],
   "metadata": {
    "collapsed": false,
    "pycharm": {
     "name": "#%%\n"
    }
   }
  },
  {
   "cell_type": "code",
   "execution_count": 96,
   "outputs": [
    {
     "data": {
      "text/plain": "<Figure size 432x288 with 1 Axes>",
      "image/png": "[encoded data removed]"
     },
     "metadata": {
      "needs_background": "light"
     },
     "output_type": "display_data"
    }
   ],
   "source": [
    "plt.figure()\n",
    "plt.plot(dfhistory.index, dfhistory['h1_var'], label='H1 var')\n",
    "plt.plot(dfhistory.index, dfhistory['h2_var'], '--', label='H2 var')\n",
    "plt.legend()\n",
    "plt.grid()\n",
    "plt.xlabel('epoch')\n",
    "plt.ylabel('var')\n",
    "plt.title('dropout is not applied')\n",
    "plt.show()\n"
   ],
   "metadata": {
    "collapsed": false,
    "pycharm": {
     "name": "#%%\n"
    }
   }
  }
 ],
 "metadata": {
  "kernelspec": {
   "display_name": "Python 3",
   "language": "python",
   "name": "python3"
  },
  "language_info": {
   "codemirror_mode": {
    "name": "ipython",
    "version": 2
   },
   "file_extension": ".py",
   "mimetype": "text/x-python",
   "name": "python",
   "nbconvert_exporter": "python",
   "pygments_lexer": "ipython2",
   "version": "2.7.6"
  }
 },
 "nbformat": 4,
 "nbformat_minor": 0
}