{
 "cells": [
  {
   "cell_type": "markdown",
   "metadata": {
    "collapsed": true,
    "pycharm": {
     "name": "#%% md\n"
    }
   },
   "source": [
    "# 单变量线性回归"
   ]
  },
  {
   "cell_type": "code",
   "execution_count": 38,
   "outputs": [],
   "source": [
    "import numpy as np\n",
    "import pandas as pd\n",
    "import matplotlib.pyplot as plt"
   ],
   "metadata": {
    "collapsed": false,
    "pycharm": {
     "name": "#%%\n",
     "is_executing": false
    }
   }
  },
  {
   "cell_type": "code",
   "execution_count": 39,
   "outputs": [],
   "source": [
    "plt.rcParams['font.sans-serif']=['SimHei'] #用来正常显示中文标签\n",
    "plt.rcParams['axes.unicode_minus']=False #用来正常显示负号"
   ],
   "metadata": {
    "collapsed": false,
    "pycharm": {
     "name": "#%%\n",
     "is_executing": false
    }
   }
  },
  {
   "cell_type": "code",
   "execution_count": 40,
   "outputs": [
    {
     "data": {
      "text/plain": "       人口       收益\n0  6.1101  17.5920\n1  5.5277   9.1302\n2  8.5186  13.6620\n3  7.0032  11.8540\n4  5.8598   6.8233",
      "text/html": "<div>\n<style scoped>\n    .dataframe tbody tr th:only-of-type {\n        vertical-align: middle;\n    }\n\n    .dataframe tbody tr th {\n        vertical-align: top;\n    }\n\n    .dataframe thead th {\n        text-align: right;\n    }\n</style>\n<table border=\"1\" class=\"dataframe\">\n  <thead>\n    <tr style=\"text-align: right;\">\n      <th></th>\n      <th>人口</th>\n      <th>收益</th>\n    </tr>\n  </thead>\n  <tbody>\n    <tr>\n      <th>0</th>\n      <td>6.1101</td>\n      <td>17.5920</td>\n    </tr>\n    <tr>\n      <th>1</th>\n      <td>5.5277</td>\n      <td>9.1302</td>\n    </tr>\n    <tr>\n      <th>2</th>\n      <td>8.5186</td>\n      <td>13.6620</td>\n    </tr>\n    <tr>\n      <th>3</th>\n      <td>7.0032</td>\n      <td>11.8540</td>\n    </tr>\n    <tr>\n      <th>4</th>\n      <td>5.8598</td>\n      <td>6.8233</td>\n    </tr>\n  </tbody>\n</table>\n</div>"
     },
     "metadata": {},
     "output_type": "execute_result",
     "execution_count": 40
    }
   ],
   "source": [
    "path = 'data/regress_data1.csv'\n",
    "# path = r'./data/a.txt'\n",
    "data = pd.read_csv(path)\n",
    "data.head()"
   ],
   "metadata": {
    "collapsed": false,
    "pycharm": {
     "name": "#%%\n",
     "is_executing": false
    }
   }
  },
  {
   "cell_type": "code",
   "execution_count": 41,
   "outputs": [
    {
     "data": {
      "text/plain": "              人口         收益\ncount  97.000000  97.000000\nmean    8.159800   5.839135\nstd     3.869884   5.510262\nmin     5.026900  -2.680700\n25%     5.707700   1.986900\n50%     6.589400   4.562300\n75%     8.578100   7.046700\nmax    22.203000  24.147000",
      "text/html": "<div>\n<style scoped>\n    .dataframe tbody tr th:only-of-type {\n        vertical-align: middle;\n    }\n\n    .dataframe tbody tr th {\n        vertical-align: top;\n    }\n\n    .dataframe thead th {\n        text-align: right;\n    }\n</style>\n<table border=\"1\" class=\"dataframe\">\n  <thead>\n    <tr style=\"text-align: right;\">\n      <th></th>\n      <th>人口</th>\n      <th>收益</th>\n    </tr>\n  </thead>\n  <tbody>\n    <tr>\n      <th>count</th>\n      <td>97.000000</td>\n      <td>97.000000</td>\n    </tr>\n    <tr>\n      <th>mean</th>\n      <td>8.159800</td>\n      <td>5.839135</td>\n    </tr>\n    <tr>\n      <th>std</th>\n      <td>3.869884</td>\n      <td>5.510262</td>\n    </tr>\n    <tr>\n      <th>min</th>\n      <td>5.026900</td>\n      <td>-2.680700</td>\n    </tr>\n    <tr>\n      <th>25%</th>\n      <td>5.707700</td>\n      <td>1.986900</td>\n    </tr>\n    <tr>\n      <th>50%</th>\n      <td>6.589400</td>\n      <td>4.562300</td>\n    </tr>\n    <tr>\n      <th>75%</th>\n      <td>8.578100</td>\n      <td>7.046700</td>\n    </tr>\n    <tr>\n      <th>max</th>\n      <td>22.203000</td>\n      <td>24.147000</td>\n    </tr>\n  </tbody>\n</table>\n</div>"
     },
     "metadata": {},
     "output_type": "execute_result",
     "execution_count": 41
    }
   ],
   "source": [
    "data.describe()"
   ],
   "metadata": {
    "collapsed": false,
    "pycharm": {
     "name": "#%%\n",
     "is_executing": false
    }
   }
  },
  {
   "cell_type": "code",
   "execution_count": 42,
   "outputs": [
    {
     "data": {
      "text/plain": "<Figure size 432x288 with 1 Axes>",
      "image/png": "[encoded data removed]"
     },
     "metadata": {
      "needs_background": "light"
     },
     "output_type": "display_data"
    }
   ],
   "source": [
    "x = data['人口']\n",
    "y = data['收益']\n",
    "plt.figure()\n",
    "plt.scatter(x,y)\n",
    "plt.xlabel('人口')\n",
    "plt.ylabel('收益')\n",
    "plt.show()\n"
   ],
   "metadata": {
    "collapsed": false,
    "pycharm": {
     "name": "#%%\n",
     "is_executing": false
    }
   }
  },
  {
   "cell_type": "markdown",
   "source": [
    "现在让我们使用梯度下降来实现线性回归，以最小化代价函数。\n",
    "\n",
    "首先，我们将创建一个以参数为特征函数的代价函数\n",
    "\n",
    "$J(w)=\\frac{1}{2 m} \\sum_{i=1}^{m}\\left(h\\left(x^{(i)}\\right)-y^{(i)}\\right)^{2}$\n",
    "其中\n",
    "$h(x)=w^{T} X=w_{0} x_{0}+w_{1} x_{1}+w_{2} x_{2}+\\ldots+w_{n} x_{n}$"
   ],
   "metadata": {
    "collapsed": false,
    "pycharm": {
     "name": "#%% md\n"
    }
   }
  },
  {
   "cell_type": "code",
   "execution_count": 43,
   "outputs": [],
   "source": [
    "def J(X, y, w):\n",
    "    inner = np.power((np.dot(X,w.T) - y), 2)\n",
    "    return np.sum(inner) / (2* x.shape[0])"
   ],
   "metadata": {
    "collapsed": false,
    "pycharm": {
     "name": "#%%\n",
     "is_executing": false
    }
   }
  },
  {
   "cell_type": "markdown",
   "source": [
    "让我们在训练集中添加一列，以便我们可以使用向量化的解决方案来计算代价和梯度。"
   ],
   "metadata": {
    "collapsed": false,
    "pycharm": {
     "name": "#%% md\n"
    }
   }
  },
  {
   "cell_type": "code",
   "execution_count": 44,
   "outputs": [
    {
     "data": {
      "text/plain": "    Ones       人口        收益\n0      1   6.1101  17.59200\n1      1   5.5277   9.13020\n2      1   8.5186  13.66200\n3      1   7.0032  11.85400\n4      1   5.8598   6.82330\n..   ...      ...       ...\n92     1   5.8707   7.20290\n93     1   5.3054   1.98690\n94     1   8.2934   0.14454\n95     1  13.3940   9.05510\n96     1   5.4369   0.61705\n\n[97 rows x 3 columns]",
      "text/html": "<div>\n<style scoped>\n    .dataframe tbody tr th:only-of-type {\n        vertical-align: middle;\n    }\n\n    .dataframe tbody tr th {\n        vertical-align: top;\n    }\n\n    .dataframe thead th {\n        text-align: right;\n    }\n</style>\n<table border=\"1\" class=\"dataframe\">\n  <thead>\n    <tr style=\"text-align: right;\">\n      <th></th>\n      <th>Ones</th>\n      <th>人口</th>\n      <th>收益</th>\n    </tr>\n  </thead>\n  <tbody>\n    <tr>\n      <th>0</th>\n      <td>1</td>\n      <td>6.1101</td>\n      <td>17.59200</td>\n    </tr>\n    <tr>\n      <th>1</th>\n      <td>1</td>\n      <td>5.5277</td>\n      <td>9.13020</td>\n    </tr>\n    <tr>\n      <th>2</th>\n      <td>1</td>\n      <td>8.5186</td>\n      <td>13.66200</td>\n    </tr>\n    <tr>\n      <th>3</th>\n      <td>1</td>\n      <td>7.0032</td>\n      <td>11.85400</td>\n    </tr>\n    <tr>\n      <th>4</th>\n      <td>1</td>\n      <td>5.8598</td>\n      <td>6.82330</td>\n    </tr>\n    <tr>\n      <th>...</th>\n      <td>...</td>\n      <td>...</td>\n      <td>...</td>\n    </tr>\n    <tr>\n      <th>92</th>\n      <td>1</td>\n      <td>5.8707</td>\n      <td>7.20290</td>\n    </tr>\n    <tr>\n      <th>93</th>\n      <td>1</td>\n      <td>5.3054</td>\n      <td>1.98690</td>\n    </tr>\n    <tr>\n      <th>94</th>\n      <td>1</td>\n      <td>8.2934</td>\n      <td>0.14454</td>\n    </tr>\n    <tr>\n      <th>95</th>\n      <td>1</td>\n      <td>13.3940</td>\n      <td>9.05510</td>\n    </tr>\n    <tr>\n      <th>96</th>\n      <td>1</td>\n      <td>5.4369</td>\n      <td>0.61705</td>\n    </tr>\n  </tbody>\n</table>\n<p>97 rows × 3 columns</p>\n</div>"
     },
     "metadata": {},
     "output_type": "execute_result",
     "execution_count": 44
    }
   ],
   "source": [
    "data.insert(0, 'Ones', 1)\n",
    "data"
   ],
   "metadata": {
    "collapsed": false,
    "pycharm": {
     "name": "#%%\n",
     "is_executing": false
    }
   }
  },
  {
   "cell_type": "markdown",
   "source": [
    "变量初始化。"
   ],
   "metadata": {
    "collapsed": false,
    "pycharm": {
     "name": "#%% md\n"
    }
   }
  },
  {
   "cell_type": "code",
   "execution_count": 45,
   "outputs": [
    {
     "name": "stdout",
     "text": [
      "   Ones      人口\n0     1  6.1101\n1     1  5.5277\n2     1  8.5186\n3     1  7.0032\n4     1  5.8598\n        收益\n0  17.5920\n1   9.1302\n2  13.6620\n3  11.8540\n4   6.8233\n"
     ],
     "output_type": "stream"
    }
   ],
   "source": [
    "# set X (training data) and y (target variable)\n",
    "cols = data.shape[1]\n",
    "X = data.iloc[:,:cols-1]#X是所行，去掉最后一列\n",
    "y = data.iloc[:,cols-1:]#X是所行，最后一列\n",
    "\n",
    "print(X.head())\n",
    "print(y.head())"
   ],
   "metadata": {
    "collapsed": false,
    "pycharm": {
     "name": "#%%\n",
     "is_executing": false
    }
   }
  },
  {
   "cell_type": "markdown",
   "source": [
    "代价函数是应该是numpy矩阵，所以我们需要转换X和Y，然后才能使用它们。我们还需要初始化w。"
   ],
   "metadata": {
    "collapsed": false,
    "pycharm": {
     "name": "#%% md\n"
    }
   }
  },
  {
   "cell_type": "code",
   "execution_count": 46,
   "outputs": [
    {
     "name": "stdout",
     "text": [
      "(97, 2)\n(97, 1)\n(1, 2)\n"
     ],
     "output_type": "stream"
    }
   ],
   "source": [
    "X = np.array(X)\n",
    "y = np.array(y)\n",
    "w = np.array(np.array([0,0])).reshape([1,2])\n",
    "\n",
    "print(X.shape)\n",
    "print(y.shape)\n",
    "print(w.shape)"
   ],
   "metadata": {
    "collapsed": false,
    "pycharm": {
     "name": "#%%\n",
     "is_executing": false
    }
   }
  },
  {
   "cell_type": "markdown",
   "source": [
    "计算代价函数 (theta初始值为0)."
   ],
   "metadata": {
    "collapsed": false,
    "pycharm": {
     "name": "#%% md\n"
    }
   }
  },
  {
   "cell_type": "code",
   "execution_count": 47,
   "outputs": [
    {
     "data": {
      "text/plain": "32.072733877455676"
     },
     "metadata": {},
     "output_type": "execute_result",
     "execution_count": 47
    }
   ],
   "source": [
    "J(X, y, w)\n"
   ],
   "metadata": {
    "collapsed": false,
    "pycharm": {
     "name": "#%%\n",
     "is_executing": false
    }
   }
  },
  {
   "cell_type": "markdown",
   "source": [
    "Batch Gradient Decent（批量梯度下降）\n",
    "\n",
    "$w_{j}:=w_{j}-\\alpha \\frac{1}{m} \\sum_{i=1}^{m} \\frac{\\partial}{\\partial w_{j}} J(w)$"
   ],
   "metadata": {
    "collapsed": false,
    "pycharm": {
     "name": "#%% md\n",
     "is_executing": false
    }
   }
  },
  {
   "cell_type": "code",
   "execution_count": 48,
   "outputs": [],
   "source": [
    "def batch_gradientDescent(X,y,w, alpha, iters):\n",
    "    tmp = np.zeros(w.shape)\n",
    "    parameters = X.shape[1]\n",
    "    cost = np.zeros(iters)\n",
    "    \n",
    "    for i in range(iters):\n",
    "        # print(X.shape, w.shape)\n",
    "        err = np.dot(X, w.T) - y\n",
    "        \n",
    "        for j in range(parameters):\n",
    "            # print(err.shape, X[:, j].shape)\n",
    "            term = np.multiply(err, X[:, j].reshape(len(X[:,j]), 1))\n",
    "            # print(term)\n",
    "            tmp[0, j] = w[0, j] - ((alpha/len(X)) * np.sum(term))\n",
    "            \n",
    "        w = tmp\n",
    "        cost[i] = J(X, y, w)\n",
    "    return w, cost"
   ],
   "metadata": {
    "collapsed": false,
    "pycharm": {
     "name": "#%%\n",
     "is_executing": false
    }
   }
  },
  {
   "cell_type": "markdown",
   "source": [
    "初始化一些附加变量 - 学习速率α和要执行的迭代次数。"
   ],
   "metadata": {
    "collapsed": false,
    "pycharm": {
     "name": "#%% md\n"
    }
   }
  },
  {
   "cell_type": "code",
   "execution_count": 49,
   "outputs": [],
   "source": [
    "alpha = 0.01\n",
    "iters = 1000"
   ],
   "metadata": {
    "collapsed": false,
    "pycharm": {
     "name": "#%%\n",
     "is_executing": false
    }
   }
  },
  {
   "cell_type": "markdown",
   "source": [
    "现在让我们运行梯度下降算法来将我们的参数θ适合于训练集。"
   ],
   "metadata": {
    "collapsed": false,
    "pycharm": {
     "name": "#%% md\n"
    }
   }
  },
  {
   "cell_type": "code",
   "execution_count": 50,
   "outputs": [
    {
     "data": {
      "text/plain": "array([[-3.24140214,  1.1272942 ]])"
     },
     "metadata": {},
     "output_type": "execute_result",
     "execution_count": 50
    }
   ],
   "source": [
    "g, cost = batch_gradientDescent(X, y, w, alpha, iters)\n",
    "g"
   ],
   "metadata": {
    "collapsed": false,
    "pycharm": {
     "name": "#%%\n",
     "is_executing": false
    }
   }
  },
  {
   "cell_type": "markdown",
   "source": [
    "最后，我们可以使用我们拟合的参数计算训练模型的代价函数（误差）。"
   ],
   "metadata": {
    "collapsed": false,
    "pycharm": {
     "name": "#%% md\n",
     "is_executing": false
    }
   }
  },
  {
   "cell_type": "code",
   "execution_count": 51,
   "outputs": [
    {
     "data": {
      "text/plain": "4.515955503078914"
     },
     "metadata": {},
     "output_type": "execute_result",
     "execution_count": 51
    }
   ],
   "source": [
    "J(X, y, g)"
   ],
   "metadata": {
    "collapsed": false,
    "pycharm": {
     "name": "#%%\n",
     "is_executing": false
    }
   }
  },
  {
   "cell_type": "code",
   "execution_count": 52,
   "outputs": [
    {
     "data": {
      "text/plain": "<Figure size 432x288 with 1 Axes>",
      "image/png": "[encoded data removed]"
     },
     "metadata": {
      "needs_background": "light"
     },
     "output_type": "display_data"
    }
   ],
   "source": [
    "x_fig = np.linspace(x.min(), x.max(), 100)\n",
    "y_fig = g[0,0] + x_fig * g[0, 1]\n",
    "\n",
    "plt.scatter(x, y)\n",
    "plt.plot(x_fig, y_fig, 'r')\n",
    "plt.xlabel('人口')\n",
    "plt.ylabel('收益')\n",
    "plt.show()"
   ],
   "metadata": {
    "collapsed": false,
    "pycharm": {
     "name": "#%%\n",
     "is_executing": false
    }
   }
  },
  {
   "cell_type": "markdown",
   "source": [
    "由于梯度方程式函数也在每个训练迭代中输出一个代价的向量，所以我们也可以绘制。请注意，代价总是降低 - 这是凸优化问题的一个例子。"
   ],
   "metadata": {
    "collapsed": false,
    "pycharm": {
     "name": "#%% md\n"
    }
   }
  },
  {
   "cell_type": "code",
   "execution_count": 53,
   "outputs": [
    {
     "data": {
      "text/plain": "<Figure size 432x288 with 1 Axes>",
      "image/png": "[encoded data removed]"
     },
     "metadata": {
      "needs_background": "light"
     },
     "output_type": "display_data"
    }
   ],
   "source": [
    "plt.plot(np.arange(iters), cost)\n",
    "plt.xlabel('Iters')\n",
    "plt.ylabel('Cost')\n",
    "plt.show()"
   ],
   "metadata": {
    "collapsed": false,
    "pycharm": {
     "name": "#%%\n",
     "is_executing": false
    }
   }
  },
  {
   "cell_type": "markdown",
   "source": [
    "## 多变量线性回归\n",
    "练习还包括一个房屋价格数据集，其中有2个变量（房子的大小，卧室的数量）和目标（房子的价格）。我们使用我们已经应用的技术来分析数据集。"
   ],
   "metadata": {
    "collapsed": false,
    "pycharm": {
     "name": "#%% md\n"
    }
   }
  },
  {
   "cell_type": "code",
   "execution_count": 104,
   "outputs": [
    {
     "name": "stdout",
     "text": [
      "(47, 3) --> (47,)\n",
      "0.06333049867590503\n"
     ],
     "output_type": "stream"
    }
   ],
   "source": [
    "path2 = 'data/regress_data2.csv'\n",
    "data2 = pd.read_csv(path2)\n",
    "# print(data2.head())\n",
    "data2 = (data2 - data2.mean()) / data2.std()\n",
    "\n",
    "data2.insert(0, 'Ones', 1)\n",
    "cols = data2.shape[1]\n",
    "X2 = data2.iloc[:,:cols-1]\n",
    "y2 = data2.iloc[:, cols-1]\n",
    "print(X2.shape, '-->', y2.shape)\n",
    "\n",
    "# convert to matrices and initialize theta\n",
    "w2 = np.array([0,0,0])\n",
    "# print(w2.shape)\n",
    "\n",
    "\n",
    "def batch_gradientDescent(X,y,w, alpha, iters):\n",
    "    tmp = np.zeros(w.shape)\n",
    "    parameters = X.shape[1]\n",
    "    cost = np.zeros(iters)\n",
    "\n",
    "    for i in range(iters):\n",
    "        # print(X.shape, w.shape)\n",
    "        err = np.dot(X, w.T) - y\n",
    "        # print(err)\n",
    "        # print(np.multiply(np.array(err),np.array(X.iloc[:,0])))\n",
    "        for j in range(parameters):\n",
    "            # print(X.reshape(len(X), 1))\n",
    "            # print(np.array(X.iloc[:, j]))\n",
    "            term = np.multiply(np.array(err), np.array(X.iloc[:,j]))\n",
    "            # print(term)\n",
    "            # print(j)\n",
    "            # print(((alpha/len(X)) * np.sum(term)))\n",
    "            tmp[j] = w[j] - ((alpha/len(X)) * np.sum(term))\n",
    "        w = tmp\n",
    "        cost[i] = J(X, y, w)\n",
    "    return w, cost\n",
    "\n",
    "g2, cost2 = batch_gradientDescent(X2, y2, w2, alpha, iters)\n",
    "a = J(X2, y2, g2)\n",
    "print(a)\n",
    "# J(X2, y2, g2)"
   ],
   "metadata": {
    "collapsed": false,
    "pycharm": {
     "name": "#%%\n",
     "is_executing": false
    }
   }
  }
 ],
 "metadata": {
  "kernelspec": {
   "display_name": "Python 3",
   "language": "python",
   "name": "python3"
  },
  "language_info": {
   "codemirror_mode": {
    "name": "ipython",
    "version": 2
   },
   "file_extension": ".py",
   "mimetype": "text/x-python",
   "name": "python",
   "nbconvert_exporter": "python",
   "pygments_lexer": "ipython2",
   "version": "2.7.6"
  },
  "pycharm": {
   "stem_cell": {
    "cell_type": "raw",
    "source": [],
    "metadata": {
     "collapsed": false
    }
   }
  }
 },
 "nbformat": 4,
 "nbformat_minor": 0
}