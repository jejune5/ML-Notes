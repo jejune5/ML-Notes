{
 "cells": [
  {
   "cell_type": "code",
   "execution_count": 2,
   "metadata": {
    "collapsed": true,
    "pycharm": {
     "name": "#%%\n"
    }
   },
   "outputs": [],
   "source": [
    "import numpy as np\n",
    "import gensim"
   ]
  },
  {
   "cell_type": "code",
   "execution_count": 3,
   "outputs": [],
   "source": [
    "def load_embeddings(embdding_path):\n",
    "    model = gensim.models.KeyedVectors.load_word2vec_format(embdding_path, binary=False)\n",
    "    embedding_matrix = np.zeros((len(model.index2word) + 1, model.vector_size))\n",
    "    #填充向量矩阵\n",
    "    for idx, word in enumerate(model.index2word):\n",
    "        embedding_matrix[idx + 1] = model[word]#词向量矩阵\n",
    "    return embedding_matrix"
   ],
   "metadata": {
    "collapsed": false,
    "pycharm": {
     "name": "#%%\n"
    }
   }
  },
  {
   "cell_type": "code",
   "execution_count": 5,
   "outputs": [
    {
     "name": "stdout",
     "output_type": "stream",
     "text": [
      "[[ 0.00000000e+00  0.00000000e+00  0.00000000e+00 ...  0.00000000e+00\n",
      "   0.00000000e+00  0.00000000e+00]\n",
      " [-1.06765056e+00 -1.69507718e+00 -5.94458163e-01 ...  1.46304950e-01\n",
      "   3.86214375e-01 -9.08057272e-01]\n",
      " [-6.02325499e-01  2.91451144e+00  2.71727586e+00 ... -2.68700814e+00\n",
      "  -5.95144701e+00  8.57188821e-01]\n",
      " ...\n",
      " [ 2.30110325e-02 -8.59047379e-03 -4.91681695e-02 ... -4.17211019e-02\n",
      "   5.20589240e-02  1.59303714e-02]\n",
      " [ 3.21741141e-02 -2.61441618e-02 -3.40253930e-03 ... -4.01089201e-03\n",
      "  -3.82309854e-02  3.04386895e-02]\n",
      " [-1.75431594e-02  1.91569608e-02 -1.29801799e-02 ... -2.29858104e-02\n",
      "   4.08098362e-02 -7.03724055e-03]]\n"
     ]
    }
   ],
   "source": [
    "path = 'D:\\\\DataModel\\\\LCQMC\\\\token_vec_300.bin'\n",
    "embed_matrix = load_embeddings(path)\n",
    "print(embed_matrix)"
   ],
   "metadata": {
    "collapsed": false,
    "pycharm": {
     "name": "#%%\n"
    }
   }
  },
  {
   "cell_type": "code",
   "execution_count": 6,
   "outputs": [
    {
     "ename": "OSError",
     "evalue": "Can't load tokenizer for 'bert-unbase-chinese'. If you were trying to load it from 'https://huggingface.co/models', make sure you don't have a local directory with the same name. Otherwise, make sure 'bert-unbase-chinese' is the correct path to a directory containing all relevant files for a BertTokenizer tokenizer.",
     "output_type": "error",
     "traceback": [
      "\u001B[1;31m---------------------------------------------------------------------------\u001B[0m",
      "\u001B[1;31mOSError\u001B[0m                                   Traceback (most recent call last)",
      "\u001B[1;32m~\\AppData\\Local\\Temp/ipykernel_25748/1625083180.py\u001B[0m in \u001B[0;36m<module>\u001B[1;34m\u001B[0m\n\u001B[0;32m      1\u001B[0m \u001B[1;32mfrom\u001B[0m \u001B[0mtransformers\u001B[0m \u001B[1;32mimport\u001B[0m \u001B[0mBertTokenizer\u001B[0m\u001B[1;33m\u001B[0m\u001B[1;33m\u001B[0m\u001B[0m\n\u001B[1;32m----> 2\u001B[1;33m tokenizer = BertTokenizer.from_pretrained(\n\u001B[0m\u001B[0;32m      3\u001B[0m     \u001B[0mpretrained_model_name_or_path\u001B[0m\u001B[1;33m=\u001B[0m\u001B[1;34m'bert-unbase-chinese'\u001B[0m\u001B[1;33m,\u001B[0m\u001B[1;33m\u001B[0m\u001B[1;33m\u001B[0m\u001B[0m\n\u001B[0;32m      4\u001B[0m     \u001B[0mcache_dir\u001B[0m\u001B[1;33m=\u001B[0m\u001B[1;32mNone\u001B[0m\u001B[1;33m,\u001B[0m\u001B[1;33m\u001B[0m\u001B[1;33m\u001B[0m\u001B[0m\n\u001B[0;32m      5\u001B[0m     \u001B[0mforce_download\u001B[0m\u001B[1;33m=\u001B[0m\u001B[1;32mFalse\u001B[0m\u001B[1;33m,\u001B[0m\u001B[1;33m\u001B[0m\u001B[1;33m\u001B[0m\u001B[0m\n",
      "\u001B[1;32md:\\python\\python38\\lib\\site-packages\\transformers\\tokenization_utils_base.py\u001B[0m in \u001B[0;36mfrom_pretrained\u001B[1;34m(cls, pretrained_model_name_or_path, *init_inputs, **kwargs)\u001B[0m\n\u001B[0;32m   1762\u001B[0m \u001B[1;33m\u001B[0m\u001B[0m\n\u001B[0;32m   1763\u001B[0m         \u001B[1;32mif\u001B[0m \u001B[0mall\u001B[0m\u001B[1;33m(\u001B[0m\u001B[0mfull_file_name\u001B[0m \u001B[1;32mis\u001B[0m \u001B[1;32mNone\u001B[0m \u001B[1;32mfor\u001B[0m \u001B[0mfull_file_name\u001B[0m \u001B[1;32min\u001B[0m \u001B[0mresolved_vocab_files\u001B[0m\u001B[1;33m.\u001B[0m\u001B[0mvalues\u001B[0m\u001B[1;33m(\u001B[0m\u001B[1;33m)\u001B[0m\u001B[1;33m)\u001B[0m\u001B[1;33m:\u001B[0m\u001B[1;33m\u001B[0m\u001B[1;33m\u001B[0m\u001B[0m\n\u001B[1;32m-> 1764\u001B[1;33m             raise EnvironmentError(\n\u001B[0m\u001B[0;32m   1765\u001B[0m                 \u001B[1;34mf\"Can't load tokenizer for '{pretrained_model_name_or_path}'. If you were trying to load it from \"\u001B[0m\u001B[1;33m\u001B[0m\u001B[1;33m\u001B[0m\u001B[0m\n\u001B[0;32m   1766\u001B[0m                 \u001B[1;34m\"'https://huggingface.co/models', make sure you don't have a local directory with the same name. \"\u001B[0m\u001B[1;33m\u001B[0m\u001B[1;33m\u001B[0m\u001B[0m\n",
      "\u001B[1;31mOSError\u001B[0m: Can't load tokenizer for 'bert-unbase-chinese'. If you were trying to load it from 'https://huggingface.co/models', make sure you don't have a local directory with the same name. Otherwise, make sure 'bert-unbase-chinese' is the correct path to a directory containing all relevant files for a BertTokenizer tokenizer."
     ]
    }
   ],
   "source": [
    "from transformers import BertTokenizer\n",
    "tokenizer = BertTokenizer.from_pretrained(\n",
    "    pretrained_model_name_or_path='bert-unbase-chinese',\n",
    "    cache_dir=None,\n",
    "    force_download=False,\n",
    ")"
   ],
   "metadata": {
    "collapsed": false,
    "pycharm": {
     "name": "#%%\n"
    }
   }
  },
  {
   "cell_type": "code",
   "execution_count": null,
   "outputs": [],
   "source": [],
   "metadata": {
    "collapsed": false,
    "pycharm": {
     "name": "#%%\n"
    }
   }
  }
 ],
 "metadata": {
  "kernelspec": {
   "display_name": "Python 3",
   "language": "python",
   "name": "python3"
  },
  "language_info": {
   "codemirror_mode": {
    "name": "ipython",
    "version": 2
   },
   "file_extension": ".py",
   "mimetype": "text/x-python",
   "name": "python",
   "nbconvert_exporter": "python",
   "pygments_lexer": "ipython2",
   "version": "2.7.6"
  }
 },
 "nbformat": 4,
 "nbformat_minor": 0
}