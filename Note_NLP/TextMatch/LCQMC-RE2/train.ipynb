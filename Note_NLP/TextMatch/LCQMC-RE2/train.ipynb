{
 "cells": [
  {
   "cell_type": "code",
   "execution_count": 1,
   "outputs": [
    {
     "ename": "ModuleNotFoundError",
     "evalue": "No module named 'prettytable'",
     "output_type": "error",
     "traceback": [
      "\u001B[1;31m---------------------------------------------------------------------------\u001B[0m",
      "\u001B[1;31mModuleNotFoundError\u001B[0m                       Traceback (most recent call last)",
      "\u001B[1;32m~\\AppData\\Local\\Temp/ipykernel_22700/528220564.py\u001B[0m in \u001B[0;36m<module>\u001B[1;34m\u001B[0m\n\u001B[0;32m      8\u001B[0m \u001B[1;32mfrom\u001B[0m \u001B[0mdataflow\u001B[0m \u001B[1;32mimport\u001B[0m \u001B[0mLcqmcDataset\u001B[0m\u001B[1;33m\u001B[0m\u001B[1;33m\u001B[0m\u001B[0m\n\u001B[0;32m      9\u001B[0m \u001B[1;32mfrom\u001B[0m \u001B[0mmodel\u001B[0m \u001B[1;32mimport\u001B[0m \u001B[0mRE2\u001B[0m\u001B[1;33m\u001B[0m\u001B[1;33m\u001B[0m\u001B[0m\n\u001B[1;32m---> 10\u001B[1;33m \u001B[1;32mfrom\u001B[0m \u001B[0mNNUtils\u001B[0m\u001B[1;33m.\u001B[0m\u001B[0mtorchwu\u001B[0m\u001B[1;33m.\u001B[0m\u001B[0mcuda\u001B[0m \u001B[1;32mimport\u001B[0m \u001B[0mtry_gpu\u001B[0m\u001B[1;33m\u001B[0m\u001B[1;33m\u001B[0m\u001B[0m\n\u001B[0m\u001B[0;32m     11\u001B[0m \u001B[1;32mfrom\u001B[0m \u001B[0mutil\u001B[0m \u001B[1;32mimport\u001B[0m \u001B[0mtrain\u001B[0m\u001B[1;33m,\u001B[0m \u001B[0mvalidate\u001B[0m\u001B[1;33m\u001B[0m\u001B[1;33m\u001B[0m\u001B[0m\n",
      "\u001B[1;32mD:\\jejune\\Repo\\Github\\ML-Notes\\NNUtils\\torchwu\\__init__.py\u001B[0m in \u001B[0;36m<module>\u001B[1;34m\u001B[0m\n\u001B[1;32m----> 1\u001B[1;33m \u001B[1;32mfrom\u001B[0m \u001B[1;33m.\u001B[0m\u001B[0mtorchwu\u001B[0m \u001B[1;32mimport\u001B[0m \u001B[1;33m(\u001B[0m\u001B[0mModel\u001B[0m\u001B[1;33m,\u001B[0m \u001B[0m__version__\u001B[0m\u001B[1;33m)\u001B[0m\u001B[1;33m\u001B[0m\u001B[1;33m\u001B[0m\u001B[0m\n\u001B[0m\u001B[0;32m      2\u001B[0m \u001B[1;32mfrom\u001B[0m \u001B[1;33m.\u001B[0m\u001B[0mcuda\u001B[0m \u001B[1;32mimport\u001B[0m \u001B[0mtry_gpu\u001B[0m\u001B[1;33m\u001B[0m\u001B[1;33m\u001B[0m\u001B[0m\n\u001B[0;32m      3\u001B[0m \u001B[1;32mfrom\u001B[0m \u001B[1;33m.\u001B[0m \u001B[1;32mimport\u001B[0m \u001B[0mmetrics\u001B[0m\u001B[1;33m\u001B[0m\u001B[1;33m\u001B[0m\u001B[0m\n\u001B[0;32m      4\u001B[0m \u001B[1;32mfrom\u001B[0m \u001B[1;33m.\u001B[0m\u001B[0msummary\u001B[0m \u001B[1;32mimport\u001B[0m \u001B[0msummary\u001B[0m\u001B[1;33m\u001B[0m\u001B[1;33m\u001B[0m\u001B[0m\n\u001B[0;32m      5\u001B[0m \u001B[1;32mfrom\u001B[0m \u001B[1;33m.\u001B[0m\u001B[0mlightkeras\u001B[0m \u001B[1;32mimport\u001B[0m \u001B[0mLightModel\u001B[0m\u001B[1;33m\u001B[0m\u001B[1;33m\u001B[0m\u001B[0m\n",
      "\u001B[1;32mD:\\jejune\\Repo\\Github\\ML-Notes\\NNUtils\\torchwu\\torchwu.py\u001B[0m in \u001B[0;36m<module>\u001B[1;34m\u001B[0m\n\u001B[0;32m      6\u001B[0m \u001B[1;32mimport\u001B[0m \u001B[0mtorch\u001B[0m\u001B[1;33m\u001B[0m\u001B[1;33m\u001B[0m\u001B[0m\n\u001B[0;32m      7\u001B[0m \u001B[1;32mfrom\u001B[0m \u001B[0mcollections\u001B[0m \u001B[1;32mimport\u001B[0m \u001B[0mOrderedDict\u001B[0m\u001B[1;33m\u001B[0m\u001B[1;33m\u001B[0m\u001B[0m\n\u001B[1;32m----> 8\u001B[1;33m \u001B[1;32mfrom\u001B[0m \u001B[0mprettytable\u001B[0m \u001B[1;32mimport\u001B[0m \u001B[0mPrettyTable\u001B[0m\u001B[1;33m\u001B[0m\u001B[1;33m\u001B[0m\u001B[0m\n\u001B[0m\u001B[0;32m      9\u001B[0m \u001B[1;32mfrom\u001B[0m \u001B[1;33m.\u001B[0m\u001B[0msummary\u001B[0m \u001B[1;32mimport\u001B[0m \u001B[0msummary\u001B[0m\u001B[1;33m\u001B[0m\u001B[1;33m\u001B[0m\u001B[0m\n\u001B[0;32m     10\u001B[0m \u001B[1;33m\u001B[0m\u001B[0m\n",
      "\u001B[1;31mModuleNotFoundError\u001B[0m: No module named 'prettytable'"
     ]
    }
   ],
   "source": [
    "import os\n",
    "import argparse\n",
    "import numpy as np\n",
    "import torch\n",
    "import torch.nn as nn\n",
    "from torch.utils.data import DataLoader\n",
    "\n",
    "from dataflow import LcqmcDataset\n",
    "from model import RE2\n",
    "from NNUtils.torchwu.cuda import try_gpu\n",
    "from util import train, validate"
   ],
   "metadata": {
    "collapsed": false,
    "pycharm": {
     "name": "#%%\n"
    }
   }
  },
  {
   "cell_type": "code",
   "execution_count": null,
   "outputs": [],
   "source": [
    "# -------------------- Prepare for params ------------------- #\n",
    "device = try_gpu()\n",
    "epochs = 5\n",
    "max_length = 30\n",
    "batch_size = 1\n",
    "lr = 1e-4\n",
    "max_grad_norm=10.0\n",
    "patience=5"
   ],
   "metadata": {
    "collapsed": false,
    "pycharm": {
     "name": "#%%\n"
    }
   }
  },
  {
   "cell_type": "code",
   "execution_count": null,
   "outputs": [],
   "source": [
    "# -------------------- Data loader ------------------- #\n",
    "train_data = LcqmcDataset('train_char.csv', max_len=max_length,data_size=100)\n",
    "dl_train = DataLoader(train_data, shuffle=True, batch_size=batch_size)\n",
    "test_data = LcqmcDataset('test_char.csv', max_len=max_length)\n",
    "dl_test = DataLoader(test_data, shuffle=True, batch_size=batch_size)"
   ],
   "metadata": {
    "collapsed": false,
    "pycharm": {
     "name": "#%%\n"
    }
   }
  },
  {
   "cell_type": "code",
   "execution_count": null,
   "outputs": [],
   "source": [
    "# -------------------- Model definition ------------------- #\n",
    "class ModelArgs:\n",
    "    def __init__(self):\n",
    "        self.dropout=0.2\n",
    "        self.embedding_dim=300\n",
    "        self.hidden_size=150\n",
    "        self.kernel_sizes=[3]\n",
    "        self.blocks=2\n",
    "        self.fix_embeddings=True\n",
    "        self.encoder='cnn'\n",
    "        self.enc_layers=2\n",
    "        self.alignment='linear'\n",
    "        self.fusion='full'\n",
    "        self.connection='aug'\n",
    "        self.prediction='full'\n",
    "        self.num_classes=2\n",
    "\n",
    "args = ModelArgs()\n",
    "vocab = train_data.get_vocab()\n",
    "embeddings = np.random.randn(len(vocab),30)\n",
    "model = RE2(args, embeddings, device=device).to(device)\n"
   ],
   "metadata": {
    "collapsed": false,
    "pycharm": {
     "name": "#%%\n"
    }
   }
  },
  {
   "cell_type": "code",
   "execution_count": null,
   "outputs": [],
   "source": [
    "# -------------------- Preparation for training  ------------------- #\n",
    "criterion = nn.CrossEntropyLoss()\n",
    "# 过滤出需要梯度更新的参数\n",
    "parameters = filter(lambda p: p.requires_grad, model.parameters())\n",
    "# optimizer = optim.Adadelta(parameters, params[\"LEARNING_RATE\"])\n",
    "optimizer = torch.optim.Adam(parameters, lr=lr)\n",
    "scheduler = torch.optim.lr_scheduler.ReduceLROnPlateau(optimizer, mode=\"max\",\n",
    "                                                       factor=0.85, patience=0)"
   ],
   "metadata": {
    "collapsed": false,
    "pycharm": {
     "name": "#%%\n"
    }
   }
  },
  {
   "cell_type": "code",
   "execution_count": null,
   "outputs": [],
   "source": [
    "# -------------------- Training step ------------------- #\n",
    "\n",
    "for epoch in range(3):\n",
    "    epoch_time, epoch_loss, epoch_accuracy = train(model, dl_train, optimizer,criterion, epoch, max_grad_norm)\n",
    "\n",
    "    scheduler.step(epoch_accuracy)\n",
    "    print(\"-> Training time: {:.4f}s, loss = {:.4f}, accuracy: {:.4f}%\"\n",
    "          .format(epoch_time, epoch_loss, (epoch_accuracy*100)))"
   ],
   "metadata": {
    "collapsed": false,
    "pycharm": {
     "name": "#%%\n"
    }
   }
  },
  {
   "cell_type": "code",
   "execution_count": null,
   "outputs": [],
   "source": [],
   "metadata": {
    "collapsed": false,
    "pycharm": {
     "name": "#%%\n"
    }
   }
  }
 ],
 "metadata": {
  "kernelspec": {
   "display_name": "Python 3",
   "language": "python",
   "name": "python3"
  },
  "language_info": {
   "codemirror_mode": {
    "name": "ipython",
    "version": 2
   },
   "file_extension": ".py",
   "mimetype": "text/x-python",
   "name": "python",
   "nbconvert_exporter": "python",
   "pygments_lexer": "ipython2",
   "version": "2.7.6"
  }
 },
 "nbformat": 4,
 "nbformat_minor": 0
}