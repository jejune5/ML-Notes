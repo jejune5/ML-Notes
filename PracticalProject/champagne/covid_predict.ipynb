{
 "cells": [
  {
   "cell_type": "code",
   "execution_count": 21,
   "metadata": {
    "collapsed": true,
    "pycharm": {
     "name": "#%%\n"
    }
   },
   "outputs": [],
   "source": [
    "import pandas as pd\n",
    "import numpy as np\n",
    "import torch\n",
    "from torch import nn\n",
    "from torch.nn import functional as F\n",
    "from torch.utils.data import TensorDataset, DataLoader\n",
    "import torchkeras\n",
    "from plotly import graph_objects as go\n",
    "from sklearn.preprocessing import MinMaxScaler"
   ]
  },
  {
   "cell_type": "code",
   "execution_count": 22,
   "outputs": [
    {
     "data": {
      "text/plain": "            Sales\n日期               \n2022-03-01      2\n2022-03-02      8\n2022-03-03     16\n2022-03-04     19\n2022-03-05     28",
      "text/html": "<div>\n<style scoped>\n    .dataframe tbody tr th:only-of-type {\n        vertical-align: middle;\n    }\n\n    .dataframe tbody tr th {\n        vertical-align: top;\n    }\n\n    .dataframe thead th {\n        text-align: right;\n    }\n</style>\n<table border=\"1\" class=\"dataframe\">\n  <thead>\n    <tr style=\"text-align: right;\">\n      <th></th>\n      <th>Sales</th>\n    </tr>\n    <tr>\n      <th>日期</th>\n      <th></th>\n    </tr>\n  </thead>\n  <tbody>\n    <tr>\n      <th>2022-03-01</th>\n      <td>2</td>\n    </tr>\n    <tr>\n      <th>2022-03-02</th>\n      <td>8</td>\n    </tr>\n    <tr>\n      <th>2022-03-03</th>\n      <td>16</td>\n    </tr>\n    <tr>\n      <th>2022-03-04</th>\n      <td>19</td>\n    </tr>\n    <tr>\n      <th>2022-03-05</th>\n      <td>28</td>\n    </tr>\n  </tbody>\n</table>\n</div>"
     },
     "execution_count": 22,
     "metadata": {},
     "output_type": "execute_result"
    }
   ],
   "source": [
    "# 导入数据\n",
    "# 数据下载：https://www.kaggle.com/kankanashukla/champagne-data\n",
    "df = pd.read_csv('covid.csv', index_col=0)\n",
    "df.head()"
   ],
   "metadata": {
    "collapsed": false,
    "pycharm": {
     "name": "#%%\n"
    }
   }
  },
  {
   "cell_type": "code",
   "execution_count": 23,
   "outputs": [
    {
     "data": {
      "application/vnd.plotly.v1+json": {
       "data": [
        {
         "name": "Sales",
         "x": [
          "2022-03-01",
          "2022-03-02",
          "2022-03-03",
          "2022-03-04",
          "2022-03-05",
          "2022-03-06",
          "2022-03-07",
          "2022-03-08",
          "2022-03-09",
          "2022-03-10",
          "2022-03-11",
          "2022-03-12",
          "2022-03-13",
          "2022-03-14",
          "2022-03-15",
          "2022-03-16",
          "2022-03-17",
          "2022-03-18",
          "2022-03-19",
          "2022-03-20",
          "2022-03-21",
          "2022-03-22",
          "2022-03-23",
          "2022-03-24",
          "2022-03-25",
          "2022-03-26",
          "2022-03-27",
          "2022-03-28",
          "2022-03-29",
          "2022-03-30",
          "2022-03-31",
          "2022-04-01",
          "2022-04-02",
          "2022-04-03",
          "2022-04-04",
          "2022-04-05",
          "2022-04-06",
          "2022-04-07",
          "2022-04-08",
          "2022-04-09",
          "2022-04-10",
          "2022-04-11",
          "2022-04-12",
          "2022-04-13",
          "2022-04-14",
          "2022-04-15",
          "2022-04-16",
          "2022-04-17",
          "2022-04-18",
          "2022-04-19",
          "2022-04-20",
          "2022-04-21",
          "2022-04-22",
          "2022-04-23",
          "2022-04-24",
          "2022-04-25",
          "2022-04-26",
          "2022-04-27",
          "2022-04-28",
          "2022-04-29",
          "2022/4/30",
          "2022/5/1",
          "2022/5/2",
          "2022/5/3",
          "2022/5/4",
          "2022/5/5",
          "2022/5/6",
          "2022/5/7"
         ],
         "y": [
          2,
          8,
          16,
          19,
          28,
          48,
          55,
          65,
          80,
          75,
          83,
          65,
          169,
          139,
          202,
          158,
          260,
          374,
          509,
          758,
          896,
          981,
          983,
          1609,
          2269,
          2676,
          3500,
          4477,
          5982,
          5653,
          4502,
          6311,
          8226,
          9006,
          13354,
          17077,
          19982,
          21222,
          23624,
          24943,
          26087,
          23342,
          26330,
          27719,
          23072,
          23513,
          24820,
          22248,
          20416,
          18901,
          18495,
          17629,
          23370,
          21058,
          19455,
          16980,
          13562,
          10622,
          15032,
          10181,
          7872,
          7333,
          6856,
          6067,
          5539,
          4873,
          3207,
          2386
         ],
         "type": "scatter"
        }
       ],
       "layout": {
        "template": {
         "data": {
          "bar": [
           {
            "error_x": {
             "color": "#2a3f5f"
            },
            "error_y": {
             "color": "#2a3f5f"
            },
            "marker": {
             "line": {
              "color": "#E5ECF6",
              "width": 0.5
             },
             "pattern": {
              "fillmode": "overlay",
              "size": 10,
              "solidity": 0.2
             }
            },
            "type": "bar"
           }
          ],
          "barpolar": [
           {
            "marker": {
             "line": {
              "color": "#E5ECF6",
              "width": 0.5
             },
             "pattern": {
              "fillmode": "overlay",
              "size": 10,
              "solidity": 0.2
             }
            },
            "type": "barpolar"
           }
          ],
          "carpet": [
           {
            "aaxis": {
             "endlinecolor": "#2a3f5f",
             "gridcolor": "white",
             "linecolor": "white",
             "minorgridcolor": "white",
             "startlinecolor": "#2a3f5f"
            },
            "baxis": {
             "endlinecolor": "#2a3f5f",
             "gridcolor": "white",
             "linecolor": "white",
             "minorgridcolor": "white",
             "startlinecolor": "#2a3f5f"
            },
            "type": "carpet"
           }
          ],
          "choropleth": [
           {
            "colorbar": {
             "outlinewidth": 0,
             "ticks": ""
            },
            "type": "choropleth"
           }
          ],
          "contour": [
           {
            "colorbar": {
             "outlinewidth": 0,
             "ticks": ""
            },
            "colorscale": [
             [
              0.0,
              "#0d0887"
             ],
             [
              0.1111111111111111,
              "#46039f"
             ],
             [
              0.2222222222222222,
              "#7201a8"
             ],
             [
              0.3333333333333333,
              "#9c179e"
             ],
             [
              0.4444444444444444,
              "#bd3786"
             ],
             [
              0.5555555555555556,
              "#d8576b"
             ],
             [
              0.6666666666666666,
              "#ed7953"
             ],
             [
              0.7777777777777778,
              "#fb9f3a"
             ],
             [
              0.8888888888888888,
              "#fdca26"
             ],
             [
              1.0,
              "#f0f921"
             ]
            ],
            "type": "contour"
           }
          ],
          "contourcarpet": [
           {
            "colorbar": {
             "outlinewidth": 0,
             "ticks": ""
            },
            "type": "contourcarpet"
           }
          ],
          "heatmap": [
           {
            "colorbar": {
             "outlinewidth": 0,
             "ticks": ""
            },
            "colorscale": [
             [
              0.0,
              "#0d0887"
             ],
             [
              0.1111111111111111,
              "#46039f"
             ],
             [
              0.2222222222222222,
              "#7201a8"
             ],
             [
              0.3333333333333333,
              "#9c179e"
             ],
             [
              0.4444444444444444,
              "#bd3786"
             ],
             [
              0.5555555555555556,
              "#d8576b"
             ],
             [
              0.6666666666666666,
              "#ed7953"
             ],
             [
              0.7777777777777778,
              "#fb9f3a"
             ],
             [
              0.8888888888888888,
              "#fdca26"
             ],
             [
              1.0,
              "#f0f921"
             ]
            ],
            "type": "heatmap"
           }
          ],
          "heatmapgl": [
           {
            "colorbar": {
             "outlinewidth": 0,
             "ticks": ""
            },
            "colorscale": [
             [
              0.0,
              "#0d0887"
             ],
             [
              0.1111111111111111,
              "#46039f"
             ],
             [
              0.2222222222222222,
              "#7201a8"
             ],
             [
              0.3333333333333333,
              "#9c179e"
             ],
             [
              0.4444444444444444,
              "#bd3786"
             ],
             [
              0.5555555555555556,
              "#d8576b"
             ],
             [
              0.6666666666666666,
              "#ed7953"
             ],
             [
              0.7777777777777778,
              "#fb9f3a"
             ],
             [
              0.8888888888888888,
              "#fdca26"
             ],
             [
              1.0,
              "#f0f921"
             ]
            ],
            "type": "heatmapgl"
           }
          ],
          "histogram": [
           {
            "marker": {
             "pattern": {
              "fillmode": "overlay",
              "size": 10,
              "solidity": 0.2
             }
            },
            "type": "histogram"
           }
          ],
          "histogram2d": [
           {
            "colorbar": {
             "outlinewidth": 0,
             "ticks": ""
            },
            "colorscale": [
             [
              0.0,
              "#0d0887"
             ],
             [
              0.1111111111111111,
              "#46039f"
             ],
             [
              0.2222222222222222,
              "#7201a8"
             ],
             [
              0.3333333333333333,
              "#9c179e"
             ],
             [
              0.4444444444444444,
              "#bd3786"
             ],
             [
              0.5555555555555556,
              "#d8576b"
             ],
             [
              0.6666666666666666,
              "#ed7953"
             ],
             [
              0.7777777777777778,
              "#fb9f3a"
             ],
             [
              0.8888888888888888,
              "#fdca26"
             ],
             [
              1.0,
              "#f0f921"
             ]
            ],
            "type": "histogram2d"
           }
          ],
          "histogram2dcontour": [
           {
            "colorbar": {
             "outlinewidth": 0,
             "ticks": ""
            },
            "colorscale": [
             [
              0.0,
              "#0d0887"
             ],
             [
              0.1111111111111111,
              "#46039f"
             ],
             [
              0.2222222222222222,
              "#7201a8"
             ],
             [
              0.3333333333333333,
              "#9c179e"
             ],
             [
              0.4444444444444444,
              "#bd3786"
             ],
             [
              0.5555555555555556,
              "#d8576b"
             ],
             [
              0.6666666666666666,
              "#ed7953"
             ],
             [
              0.7777777777777778,
              "#fb9f3a"
             ],
             [
              0.8888888888888888,
              "#fdca26"
             ],
             [
              1.0,
              "#f0f921"
             ]
            ],
            "type": "histogram2dcontour"
           }
          ],
          "mesh3d": [
           {
            "colorbar": {
             "outlinewidth": 0,
             "ticks": ""
            },
            "type": "mesh3d"
           }
          ],
          "parcoords": [
           {
            "line": {
             "colorbar": {
              "outlinewidth": 0,
              "ticks": ""
             }
            },
            "type": "parcoords"
           }
          ],
          "pie": [
           {
            "automargin": true,
            "type": "pie"
           }
          ],
          "scatter": [
           {
            "marker": {
             "colorbar": {
              "outlinewidth": 0,
              "ticks": ""
             }
            },
            "type": "scatter"
           }
          ],
          "scatter3d": [
           {
            "line": {
             "colorbar": {
              "outlinewidth": 0,
              "ticks": ""
             }
            },
            "marker": {
             "colorbar": {
              "outlinewidth": 0,
              "ticks": ""
             }
            },
            "type": "scatter3d"
           }
          ],
          "scattercarpet": [
           {
            "marker": {
             "colorbar": {
              "outlinewidth": 0,
              "ticks": ""
             }
            },
            "type": "scattercarpet"
           }
          ],
          "scattergeo": [
           {
            "marker": {
             "colorbar": {
              "outlinewidth": 0,
              "ticks": ""
             }
            },
            "type": "scattergeo"
           }
          ],
          "scattergl": [
           {
            "marker": {
             "colorbar": {
              "outlinewidth": 0,
              "ticks": ""
             }
            },
            "type": "scattergl"
           }
          ],
          "scattermapbox": [
           {
            "marker": {
             "colorbar": {
              "outlinewidth": 0,
              "ticks": ""
             }
            },
            "type": "scattermapbox"
           }
          ],
          "scatterpolar": [
           {
            "marker": {
             "colorbar": {
              "outlinewidth": 0,
              "ticks": ""
             }
            },
            "type": "scatterpolar"
           }
          ],
          "scatterpolargl": [
           {
            "marker": {
             "colorbar": {
              "outlinewidth": 0,
              "ticks": ""
             }
            },
            "type": "scatterpolargl"
           }
          ],
          "scatterternary": [
           {
            "marker": {
             "colorbar": {
              "outlinewidth": 0,
              "ticks": ""
             }
            },
            "type": "scatterternary"
           }
          ],
          "surface": [
           {
            "colorbar": {
             "outlinewidth": 0,
             "ticks": ""
            },
            "colorscale": [
             [
              0.0,
              "#0d0887"
             ],
             [
              0.1111111111111111,
              "#46039f"
             ],
             [
              0.2222222222222222,
              "#7201a8"
             ],
             [
              0.3333333333333333,
              "#9c179e"
             ],
             [
              0.4444444444444444,
              "#bd3786"
             ],
             [
              0.5555555555555556,
              "#d8576b"
             ],
             [
              0.6666666666666666,
              "#ed7953"
             ],
             [
              0.7777777777777778,
              "#fb9f3a"
             ],
             [
              0.8888888888888888,
              "#fdca26"
             ],
             [
              1.0,
              "#f0f921"
             ]
            ],
            "type": "surface"
           }
          ],
          "table": [
           {
            "cells": {
             "fill": {
              "color": "#EBF0F8"
             },
             "line": {
              "color": "white"
             }
            },
            "header": {
             "fill": {
              "color": "#C8D4E3"
             },
             "line": {
              "color": "white"
             }
            },
            "type": "table"
           }
          ]
         },
         "layout": {
          "annotationdefaults": {
           "arrowcolor": "#2a3f5f",
           "arrowhead": 0,
           "arrowwidth": 1
          },
          "autotypenumbers": "strict",
          "coloraxis": {
           "colorbar": {
            "outlinewidth": 0,
            "ticks": ""
           }
          },
          "colorscale": {
           "diverging": [
            [
             0,
             "#8e0152"
            ],
            [
             0.1,
             "#c51b7d"
            ],
            [
             0.2,
             "#de77ae"
            ],
            [
             0.3,
             "#f1b6da"
            ],
            [
             0.4,
             "#fde0ef"
            ],
            [
             0.5,
             "#f7f7f7"
            ],
            [
             0.6,
             "#e6f5d0"
            ],
            [
             0.7,
             "#b8e186"
            ],
            [
             0.8,
             "#7fbc41"
            ],
            [
             0.9,
             "#4d9221"
            ],
            [
             1,
             "#276419"
            ]
           ],
           "sequential": [
            [
             0.0,
             "#0d0887"
            ],
            [
             0.1111111111111111,
             "#46039f"
            ],
            [
             0.2222222222222222,
             "#7201a8"
            ],
            [
             0.3333333333333333,
             "#9c179e"
            ],
            [
             0.4444444444444444,
             "#bd3786"
            ],
            [
             0.5555555555555556,
             "#d8576b"
            ],
            [
             0.6666666666666666,
             "#ed7953"
            ],
            [
             0.7777777777777778,
             "#fb9f3a"
            ],
            [
             0.8888888888888888,
             "#fdca26"
            ],
            [
             1.0,
             "#f0f921"
            ]
           ],
           "sequentialminus": [
            [
             0.0,
             "#0d0887"
            ],
            [
             0.1111111111111111,
             "#46039f"
            ],
            [
             0.2222222222222222,
             "#7201a8"
            ],
            [
             0.3333333333333333,
             "#9c179e"
            ],
            [
             0.4444444444444444,
             "#bd3786"
            ],
            [
             0.5555555555555556,
             "#d8576b"
            ],
            [
             0.6666666666666666,
             "#ed7953"
            ],
            [
             0.7777777777777778,
             "#fb9f3a"
            ],
            [
             0.8888888888888888,
             "#fdca26"
            ],
            [
             1.0,
             "#f0f921"
            ]
           ]
          },
          "colorway": [
           "#636efa",
           "#EF553B",
           "#00cc96",
           "#ab63fa",
           "#FFA15A",
           "#19d3f3",
           "#FF6692",
           "#B6E880",
           "#FF97FF",
           "#FECB52"
          ],
          "font": {
           "color": "#2a3f5f"
          },
          "geo": {
           "bgcolor": "white",
           "lakecolor": "white",
           "landcolor": "#E5ECF6",
           "showlakes": true,
           "showland": true,
           "subunitcolor": "white"
          },
          "hoverlabel": {
           "align": "left"
          },
          "hovermode": "closest",
          "mapbox": {
           "style": "light"
          },
          "paper_bgcolor": "white",
          "plot_bgcolor": "#E5ECF6",
          "polar": {
           "angularaxis": {
            "gridcolor": "white",
            "linecolor": "white",
            "ticks": ""
           },
           "bgcolor": "#E5ECF6",
           "radialaxis": {
            "gridcolor": "white",
            "linecolor": "white",
            "ticks": ""
           }
          },
          "scene": {
           "xaxis": {
            "backgroundcolor": "#E5ECF6",
            "gridcolor": "white",
            "gridwidth": 2,
            "linecolor": "white",
            "showbackground": true,
            "ticks": "",
            "zerolinecolor": "white"
           },
           "yaxis": {
            "backgroundcolor": "#E5ECF6",
            "gridcolor": "white",
            "gridwidth": 2,
            "linecolor": "white",
            "showbackground": true,
            "ticks": "",
            "zerolinecolor": "white"
           },
           "zaxis": {
            "backgroundcolor": "#E5ECF6",
            "gridcolor": "white",
            "gridwidth": 2,
            "linecolor": "white",
            "showbackground": true,
            "ticks": "",
            "zerolinecolor": "white"
           }
          },
          "shapedefaults": {
           "line": {
            "color": "#2a3f5f"
           }
          },
          "ternary": {
           "aaxis": {
            "gridcolor": "white",
            "linecolor": "white",
            "ticks": ""
           },
           "baxis": {
            "gridcolor": "white",
            "linecolor": "white",
            "ticks": ""
           },
           "bgcolor": "#E5ECF6",
           "caxis": {
            "gridcolor": "white",
            "linecolor": "white",
            "ticks": ""
           }
          },
          "title": {
           "x": 0.05
          },
          "xaxis": {
           "automargin": true,
           "gridcolor": "white",
           "linecolor": "white",
           "ticks": "",
           "title": {
            "standoff": 15
           },
           "zerolinecolor": "white",
           "zerolinewidth": 2
          },
          "yaxis": {
           "automargin": true,
           "gridcolor": "white",
           "linecolor": "white",
           "ticks": "",
           "title": {
            "standoff": 15
           },
           "zerolinecolor": "white",
           "zerolinewidth": 2
          }
         }
        }
       },
       "config": {
        "plotlyServerURL": "https://plot.ly"
       }
      },
      "text/html": "<div>                            <div id=\"0513de28-8aa3-4244-9266-4ed8fa469314\" class=\"plotly-graph-div\" style=\"height:525px; width:100%;\"></div>            <script type=\"text/javascript\">                require([\"plotly\"], function(Plotly) {                    window.PLOTLYENV=window.PLOTLYENV || {};                                    if (document.getElementById(\"0513de28-8aa3-4244-9266-4ed8fa469314\")) {                    Plotly.newPlot(                        \"0513de28-8aa3-4244-9266-4ed8fa469314\",                        [{\"name\":\"Sales\",\"x\":[\"2022-03-01\",\"2022-03-02\",\"2022-03-03\",\"2022-03-04\",\"2022-03-05\",\"2022-03-06\",\"2022-03-07\",\"2022-03-08\",\"2022-03-09\",\"2022-03-10\",\"2022-03-11\",\"2022-03-12\",\"2022-03-13\",\"2022-03-14\",\"2022-03-15\",\"2022-03-16\",\"2022-03-17\",\"2022-03-18\",\"2022-03-19\",\"2022-03-20\",\"2022-03-21\",\"2022-03-22\",\"2022-03-23\",\"2022-03-24\",\"2022-03-25\",\"2022-03-26\",\"2022-03-27\",\"2022-03-28\",\"2022-03-29\",\"2022-03-30\",\"2022-03-31\",\"2022-04-01\",\"2022-04-02\",\"2022-04-03\",\"2022-04-04\",\"2022-04-05\",\"2022-04-06\",\"2022-04-07\",\"2022-04-08\",\"2022-04-09\",\"2022-04-10\",\"2022-04-11\",\"2022-04-12\",\"2022-04-13\",\"2022-04-14\",\"2022-04-15\",\"2022-04-16\",\"2022-04-17\",\"2022-04-18\",\"2022-04-19\",\"2022-04-20\",\"2022-04-21\",\"2022-04-22\",\"2022-04-23\",\"2022-04-24\",\"2022-04-25\",\"2022-04-26\",\"2022-04-27\",\"2022-04-28\",\"2022-04-29\",\"2022/4/30\",\"2022/5/1\",\"2022/5/2\",\"2022/5/3\",\"2022/5/4\",\"2022/5/5\",\"2022/5/6\",\"2022/5/7\"],\"y\":[2,8,16,19,28,48,55,65,80,75,83,65,169,139,202,158,260,374,509,758,896,981,983,1609,2269,2676,3500,4477,5982,5653,4502,6311,8226,9006,13354,17077,19982,21222,23624,24943,26087,23342,26330,27719,23072,23513,24820,22248,20416,18901,18495,17629,23370,21058,19455,16980,13562,10622,15032,10181,7872,7333,6856,6067,5539,4873,3207,2386],\"type\":\"scatter\"}],                        {\"template\":{\"data\":{\"bar\":[{\"error_x\":{\"color\":\"#2a3f5f\"},\"error_y\":{\"color\":\"#2a3f5f\"},\"marker\":{\"line\":{\"color\":\"#E5ECF6\",\"width\":0.5},\"pattern\":{\"fillmode\":\"overlay\",\"size\":10,\"solidity\":0.2}},\"type\":\"bar\"}],\"barpolar\":[{\"marker\":{\"line\":{\"color\":\"#E5ECF6\",\"width\":0.5},\"pattern\":{\"fillmode\":\"overlay\",\"size\":10,\"solidity\":0.2}},\"type\":\"barpolar\"}],\"carpet\":[{\"aaxis\":{\"endlinecolor\":\"#2a3f5f\",\"gridcolor\":\"white\",\"linecolor\":\"white\",\"minorgridcolor\":\"white\",\"startlinecolor\":\"#2a3f5f\"},\"baxis\":{\"endlinecolor\":\"#2a3f5f\",\"gridcolor\":\"white\",\"linecolor\":\"white\",\"minorgridcolor\":\"white\",\"startlinecolor\":\"#2a3f5f\"},\"type\":\"carpet\"}],\"choropleth\":[{\"colorbar\":{\"outlinewidth\":0,\"ticks\":\"\"},\"type\":\"choropleth\"}],\"contour\":[{\"colorbar\":{\"outlinewidth\":0,\"ticks\":\"\"},\"colorscale\":[[0.0,\"#0d0887\"],[0.1111111111111111,\"#46039f\"],[0.2222222222222222,\"#7201a8\"],[0.3333333333333333,\"#9c179e\"],[0.4444444444444444,\"#bd3786\"],[0.5555555555555556,\"#d8576b\"],[0.6666666666666666,\"#ed7953\"],[0.7777777777777778,\"#fb9f3a\"],[0.8888888888888888,\"#fdca26\"],[1.0,\"#f0f921\"]],\"type\":\"contour\"}],\"contourcarpet\":[{\"colorbar\":{\"outlinewidth\":0,\"ticks\":\"\"},\"type\":\"contourcarpet\"}],\"heatmap\":[{\"colorbar\":{\"outlinewidth\":0,\"ticks\":\"\"},\"colorscale\":[[0.0,\"#0d0887\"],[0.1111111111111111,\"#46039f\"],[0.2222222222222222,\"#7201a8\"],[0.3333333333333333,\"#9c179e\"],[0.4444444444444444,\"#bd3786\"],[0.5555555555555556,\"#d8576b\"],[0.6666666666666666,\"#ed7953\"],[0.7777777777777778,\"#fb9f3a\"],[0.8888888888888888,\"#fdca26\"],[1.0,\"#f0f921\"]],\"type\":\"heatmap\"}],\"heatmapgl\":[{\"colorbar\":{\"outlinewidth\":0,\"ticks\":\"\"},\"colorscale\":[[0.0,\"#0d0887\"],[0.1111111111111111,\"#46039f\"],[0.2222222222222222,\"#7201a8\"],[0.3333333333333333,\"#9c179e\"],[0.4444444444444444,\"#bd3786\"],[0.5555555555555556,\"#d8576b\"],[0.6666666666666666,\"#ed7953\"],[0.7777777777777778,\"#fb9f3a\"],[0.8888888888888888,\"#fdca26\"],[1.0,\"#f0f921\"]],\"type\":\"heatmapgl\"}],\"histogram\":[{\"marker\":{\"pattern\":{\"fillmode\":\"overlay\",\"size\":10,\"solidity\":0.2}},\"type\":\"histogram\"}],\"histogram2d\":[{\"colorbar\":{\"outlinewidth\":0,\"ticks\":\"\"},\"colorscale\":[[0.0,\"#0d0887\"],[0.1111111111111111,\"#46039f\"],[0.2222222222222222,\"#7201a8\"],[0.3333333333333333,\"#9c179e\"],[0.4444444444444444,\"#bd3786\"],[0.5555555555555556,\"#d8576b\"],[0.6666666666666666,\"#ed7953\"],[0.7777777777777778,\"#fb9f3a\"],[0.8888888888888888,\"#fdca26\"],[1.0,\"#f0f921\"]],\"type\":\"histogram2d\"}],\"histogram2dcontour\":[{\"colorbar\":{\"outlinewidth\":0,\"ticks\":\"\"},\"colorscale\":[[0.0,\"#0d0887\"],[0.1111111111111111,\"#46039f\"],[0.2222222222222222,\"#7201a8\"],[0.3333333333333333,\"#9c179e\"],[0.4444444444444444,\"#bd3786\"],[0.5555555555555556,\"#d8576b\"],[0.6666666666666666,\"#ed7953\"],[0.7777777777777778,\"#fb9f3a\"],[0.8888888888888888,\"#fdca26\"],[1.0,\"#f0f921\"]],\"type\":\"histogram2dcontour\"}],\"mesh3d\":[{\"colorbar\":{\"outlinewidth\":0,\"ticks\":\"\"},\"type\":\"mesh3d\"}],\"parcoords\":[{\"line\":{\"colorbar\":{\"outlinewidth\":0,\"ticks\":\"\"}},\"type\":\"parcoords\"}],\"pie\":[{\"automargin\":true,\"type\":\"pie\"}],\"scatter\":[{\"marker\":{\"colorbar\":{\"outlinewidth\":0,\"ticks\":\"\"}},\"type\":\"scatter\"}],\"scatter3d\":[{\"line\":{\"colorbar\":{\"outlinewidth\":0,\"ticks\":\"\"}},\"marker\":{\"colorbar\":{\"outlinewidth\":0,\"ticks\":\"\"}},\"type\":\"scatter3d\"}],\"scattercarpet\":[{\"marker\":{\"colorbar\":{\"outlinewidth\":0,\"ticks\":\"\"}},\"type\":\"scattercarpet\"}],\"scattergeo\":[{\"marker\":{\"colorbar\":{\"outlinewidth\":0,\"ticks\":\"\"}},\"type\":\"scattergeo\"}],\"scattergl\":[{\"marker\":{\"colorbar\":{\"outlinewidth\":0,\"ticks\":\"\"}},\"type\":\"scattergl\"}],\"scattermapbox\":[{\"marker\":{\"colorbar\":{\"outlinewidth\":0,\"ticks\":\"\"}},\"type\":\"scattermapbox\"}],\"scatterpolar\":[{\"marker\":{\"colorbar\":{\"outlinewidth\":0,\"ticks\":\"\"}},\"type\":\"scatterpolar\"}],\"scatterpolargl\":[{\"marker\":{\"colorbar\":{\"outlinewidth\":0,\"ticks\":\"\"}},\"type\":\"scatterpolargl\"}],\"scatterternary\":[{\"marker\":{\"colorbar\":{\"outlinewidth\":0,\"ticks\":\"\"}},\"type\":\"scatterternary\"}],\"surface\":[{\"colorbar\":{\"outlinewidth\":0,\"ticks\":\"\"},\"colorscale\":[[0.0,\"#0d0887\"],[0.1111111111111111,\"#46039f\"],[0.2222222222222222,\"#7201a8\"],[0.3333333333333333,\"#9c179e\"],[0.4444444444444444,\"#bd3786\"],[0.5555555555555556,\"#d8576b\"],[0.6666666666666666,\"#ed7953\"],[0.7777777777777778,\"#fb9f3a\"],[0.8888888888888888,\"#fdca26\"],[1.0,\"#f0f921\"]],\"type\":\"surface\"}],\"table\":[{\"cells\":{\"fill\":{\"color\":\"#EBF0F8\"},\"line\":{\"color\":\"white\"}},\"header\":{\"fill\":{\"color\":\"#C8D4E3\"},\"line\":{\"color\":\"white\"}},\"type\":\"table\"}]},\"layout\":{\"annotationdefaults\":{\"arrowcolor\":\"#2a3f5f\",\"arrowhead\":0,\"arrowwidth\":1},\"autotypenumbers\":\"strict\",\"coloraxis\":{\"colorbar\":{\"outlinewidth\":0,\"ticks\":\"\"}},\"colorscale\":{\"diverging\":[[0,\"#8e0152\"],[0.1,\"#c51b7d\"],[0.2,\"#de77ae\"],[0.3,\"#f1b6da\"],[0.4,\"#fde0ef\"],[0.5,\"#f7f7f7\"],[0.6,\"#e6f5d0\"],[0.7,\"#b8e186\"],[0.8,\"#7fbc41\"],[0.9,\"#4d9221\"],[1,\"#276419\"]],\"sequential\":[[0.0,\"#0d0887\"],[0.1111111111111111,\"#46039f\"],[0.2222222222222222,\"#7201a8\"],[0.3333333333333333,\"#9c179e\"],[0.4444444444444444,\"#bd3786\"],[0.5555555555555556,\"#d8576b\"],[0.6666666666666666,\"#ed7953\"],[0.7777777777777778,\"#fb9f3a\"],[0.8888888888888888,\"#fdca26\"],[1.0,\"#f0f921\"]],\"sequentialminus\":[[0.0,\"#0d0887\"],[0.1111111111111111,\"#46039f\"],[0.2222222222222222,\"#7201a8\"],[0.3333333333333333,\"#9c179e\"],[0.4444444444444444,\"#bd3786\"],[0.5555555555555556,\"#d8576b\"],[0.6666666666666666,\"#ed7953\"],[0.7777777777777778,\"#fb9f3a\"],[0.8888888888888888,\"#fdca26\"],[1.0,\"#f0f921\"]]},\"colorway\":[\"#636efa\",\"#EF553B\",\"#00cc96\",\"#ab63fa\",\"#FFA15A\",\"#19d3f3\",\"#FF6692\",\"#B6E880\",\"#FF97FF\",\"#FECB52\"],\"font\":{\"color\":\"#2a3f5f\"},\"geo\":{\"bgcolor\":\"white\",\"lakecolor\":\"white\",\"landcolor\":\"#E5ECF6\",\"showlakes\":true,\"showland\":true,\"subunitcolor\":\"white\"},\"hoverlabel\":{\"align\":\"left\"},\"hovermode\":\"closest\",\"mapbox\":{\"style\":\"light\"},\"paper_bgcolor\":\"white\",\"plot_bgcolor\":\"#E5ECF6\",\"polar\":{\"angularaxis\":{\"gridcolor\":\"white\",\"linecolor\":\"white\",\"ticks\":\"\"},\"bgcolor\":\"#E5ECF6\",\"radialaxis\":{\"gridcolor\":\"white\",\"linecolor\":\"white\",\"ticks\":\"\"}},\"scene\":{\"xaxis\":{\"backgroundcolor\":\"#E5ECF6\",\"gridcolor\":\"white\",\"gridwidth\":2,\"linecolor\":\"white\",\"showbackground\":true,\"ticks\":\"\",\"zerolinecolor\":\"white\"},\"yaxis\":{\"backgroundcolor\":\"#E5ECF6\",\"gridcolor\":\"white\",\"gridwidth\":2,\"linecolor\":\"white\",\"showbackground\":true,\"ticks\":\"\",\"zerolinecolor\":\"white\"},\"zaxis\":{\"backgroundcolor\":\"#E5ECF6\",\"gridcolor\":\"white\",\"gridwidth\":2,\"linecolor\":\"white\",\"showbackground\":true,\"ticks\":\"\",\"zerolinecolor\":\"white\"}},\"shapedefaults\":{\"line\":{\"color\":\"#2a3f5f\"}},\"ternary\":{\"aaxis\":{\"gridcolor\":\"white\",\"linecolor\":\"white\",\"ticks\":\"\"},\"baxis\":{\"gridcolor\":\"white\",\"linecolor\":\"white\",\"ticks\":\"\"},\"bgcolor\":\"#E5ECF6\",\"caxis\":{\"gridcolor\":\"white\",\"linecolor\":\"white\",\"ticks\":\"\"}},\"title\":{\"x\":0.05},\"xaxis\":{\"automargin\":true,\"gridcolor\":\"white\",\"linecolor\":\"white\",\"ticks\":\"\",\"title\":{\"standoff\":15},\"zerolinecolor\":\"white\",\"zerolinewidth\":2},\"yaxis\":{\"automargin\":true,\"gridcolor\":\"white\",\"linecolor\":\"white\",\"ticks\":\"\",\"title\":{\"standoff\":15},\"zerolinecolor\":\"white\",\"zerolinewidth\":2}}}},                        {\"responsive\": true}                    ).then(function(){\n                            \nvar gd = document.getElementById('0513de28-8aa3-4244-9266-4ed8fa469314');\nvar x = new MutationObserver(function (mutations, observer) {{\n        var display = window.getComputedStyle(gd).display;\n        if (!display || display === 'none') {{\n            console.log([gd, 'removed!']);\n            Plotly.purge(gd);\n            observer.disconnect();\n        }}\n}});\n\n// Listen for the removal of the full notebook cells\nvar notebookContainer = gd.closest('#notebook-container');\nif (notebookContainer) {{\n    x.observe(notebookContainer, {childList: true});\n}}\n\n// Listen for the clearing of the current output cell\nvar outputEl = gd.closest('.output');\nif (outputEl) {{\n    x.observe(outputEl, {childList: true});\n}}\n\n                        })                };                });            </script>        </div>"
     },
     "metadata": {},
     "output_type": "display_data"
    }
   ],
   "source": [
    "# 数据预览\n",
    "fig = go.Figure()\n",
    "fig.add_trace(go.Scatter(x=df.index, y=df['Sales'], name='Sales'))\n",
    "fig.show()"
   ],
   "metadata": {
    "collapsed": false,
    "pycharm": {
     "name": "#%%\n"
    }
   }
  },
  {
   "cell_type": "code",
   "execution_count": 24,
   "outputs": [
    {
     "data": {
      "text/plain": "            Sales    Scaler\n日期                         \n2022-03-01      2  0.000000\n2022-03-02      8  0.000216\n2022-03-03     16  0.000505\n2022-03-04     19  0.000613\n2022-03-05     28  0.000938",
      "text/html": "<div>\n<style scoped>\n    .dataframe tbody tr th:only-of-type {\n        vertical-align: middle;\n    }\n\n    .dataframe tbody tr th {\n        vertical-align: top;\n    }\n\n    .dataframe thead th {\n        text-align: right;\n    }\n</style>\n<table border=\"1\" class=\"dataframe\">\n  <thead>\n    <tr style=\"text-align: right;\">\n      <th></th>\n      <th>Sales</th>\n      <th>Scaler</th>\n    </tr>\n    <tr>\n      <th>日期</th>\n      <th></th>\n      <th></th>\n    </tr>\n  </thead>\n  <tbody>\n    <tr>\n      <th>2022-03-01</th>\n      <td>2</td>\n      <td>0.000000</td>\n    </tr>\n    <tr>\n      <th>2022-03-02</th>\n      <td>8</td>\n      <td>0.000216</td>\n    </tr>\n    <tr>\n      <th>2022-03-03</th>\n      <td>16</td>\n      <td>0.000505</td>\n    </tr>\n    <tr>\n      <th>2022-03-04</th>\n      <td>19</td>\n      <td>0.000613</td>\n    </tr>\n    <tr>\n      <th>2022-03-05</th>\n      <td>28</td>\n      <td>0.000938</td>\n    </tr>\n  </tbody>\n</table>\n</div>"
     },
     "execution_count": 24,
     "metadata": {},
     "output_type": "execute_result"
    }
   ],
   "source": [
    "# 数据处理\n",
    "# 归一化 [0, 1]\n",
    "scaler = MinMaxScaler()\n",
    "predict_field = 'Scaler'\n",
    "df[predict_field] = scaler.fit_transform(df['Sales'].values.reshape(-1, 1))\n",
    "df.head()"
   ],
   "metadata": {
    "collapsed": false,
    "pycharm": {
     "name": "#%%\n"
    }
   }
  },
  {
   "cell_type": "code",
   "execution_count": 25,
   "outputs": [
    {
     "name": "stdout",
     "output_type": "stream",
     "text": [
      "Device: cuda:0\n",
      "Total datasets:  torch.Size([60, 7, 1]) --> torch.Size([60, 1, 1])\n",
      "Train datasets:  torch.Size([60, 7, 1]) --> torch.Size([60, 1, 1])\n",
      "torch.Size([12, 7, 1])\n",
      "torch.Size([12, 1, 1])\n"
     ]
    }
   ],
   "source": [
    "def create_dataset(data: list, time_step: int):\n",
    "    arr_x, arr_y = [], []\n",
    "    for i in range(len(data) - time_step - 1):\n",
    "        x = data[i: i + time_step]\n",
    "        y = data[i + time_step]\n",
    "        arr_x.append(x)\n",
    "        arr_y.append(y)\n",
    "    return np.array(arr_x), np.array(arr_y)\n",
    "\n",
    "\n",
    "device = torch.device(\"cuda:0\" if torch.cuda.is_available() else \"cpu\")\n",
    "print('Device:', device)\n",
    "\n",
    "time_step = 7\n",
    "X, Y = create_dataset(df[predict_field].values, time_step)\n",
    "# 转化成 tensor->(batch_size, seq_len, feature_size)\n",
    "X = torch.tensor(X.reshape(-1, time_step, 1), dtype=torch.float).to(device)\n",
    "Y = torch.tensor(Y.reshape(-1, 1, 1), dtype=torch.float).to(device)\n",
    "print('Total datasets: ', X.shape, '-->', Y.shape)\n",
    "\n",
    "# 划分数据\n",
    "split_ratio = 1\n",
    "len_train = int(X.shape[0] * split_ratio)\n",
    "X_train, Y_train = X[:len_train, :, :], Y[:len_train, :, :]\n",
    "print('Train datasets: ', X_train.shape, '-->', Y_train.shape)\n",
    "\n",
    "# 构建迭代器\n",
    "batch_size = 12\n",
    "ds = TensorDataset(X, Y)\n",
    "dl = DataLoader(ds, batch_size=batch_size, num_workers=0)\n",
    "ds_train = TensorDataset(X_train, Y_train)\n",
    "dl_train = DataLoader(ds_train, batch_size=batch_size, num_workers=0)\n",
    "\n",
    "for x, y in dl_train:\n",
    "    print(x.shape)\n",
    "    print(y.shape)\n",
    "    break\n",
    "\n"
   ],
   "metadata": {
    "collapsed": false,
    "pycharm": {
     "name": "#%%\n"
    }
   }
  },
  {
   "cell_type": "code",
   "execution_count": 26,
   "outputs": [],
   "source": [
    "# 定义模型\n",
    "class Net(nn.Module):\n",
    "    def __init__(self):\n",
    "        super(Net, self).__init__()\n",
    "        self.lstm = nn.LSTM(input_size=1, hidden_size=6, num_layers=3, batch_first=True)\n",
    "        self.fc = nn.Linear(in_features=6, out_features=1)\n",
    "\n",
    "    def forward(self, x):\n",
    "        # x is input, size (seq_len, batch, input_size)\n",
    "        x, _ = self.lstm(x)\n",
    "        # x is output, size (seq_len, batch, hidden_size)\n",
    "        x = x[:, -1, :]\n",
    "        x = self.fc(x)\n",
    "        y = x.view(-1, 1, 1)\n",
    "        return y"
   ],
   "metadata": {
    "collapsed": false,
    "pycharm": {
     "name": "#%%\n"
    }
   }
  },
  {
   "cell_type": "code",
   "execution_count": 27,
   "outputs": [
    {
     "name": "stdout",
     "output_type": "stream",
     "text": [
      "----------------------------------------------------------------\n",
      "        Layer (type)               Output Shape         Param #\n",
      "================================================================\n",
      "              LSTM-1                 [-1, 7, 6]             888\n",
      "            Linear-2                    [-1, 1]               7\n",
      "================================================================\n",
      "Total params: 895\n",
      "Trainable params: 895\n",
      "Non-trainable params: 0\n",
      "----------------------------------------------------------------\n",
      "Input size (MB): 0.000027\n",
      "Forward/backward pass size (MB): 0.000328\n",
      "Params size (MB): 0.003414\n",
      "Estimated Total Size (MB): 0.003769\n",
      "----------------------------------------------------------------\n",
      "Start Training ...\n",
      "\n",
      "================================================================================2022-05-02 21:33:56\n",
      "\n",
      " +-------+-------+\n",
      "| epoch |  loss |\n",
      "+-------+-------+\n",
      "|   1   | 0.568 |\n",
      "+-------+-------+\n",
      "\n",
      "================================================================================2022-05-02 21:33:56\n",
      "\n",
      " +-------+-------+\n",
      "| epoch |  loss |\n",
      "+-------+-------+\n",
      "|   2   | 0.542 |\n",
      "+-------+-------+\n",
      "\n",
      "================================================================================2022-05-02 21:33:56\n",
      "\n",
      " +-------+-------+\n",
      "| epoch |  loss |\n",
      "+-------+-------+\n",
      "|   3   | 0.516 |\n",
      "+-------+-------+\n",
      "\n",
      "================================================================================2022-05-02 21:33:56\n",
      "\n",
      " +-------+-------+\n",
      "| epoch |  loss |\n",
      "+-------+-------+\n",
      "|   4   | 0.489 |\n",
      "+-------+-------+\n",
      "\n",
      "================================================================================2022-05-02 21:33:56\n",
      "\n",
      " +-------+-------+\n",
      "| epoch |  loss |\n",
      "+-------+-------+\n",
      "|   5   | 0.462 |\n",
      "+-------+-------+\n",
      "\n",
      "================================================================================2022-05-02 21:33:56\n",
      "\n",
      " +-------+-------+\n",
      "| epoch |  loss |\n",
      "+-------+-------+\n",
      "|   6   | 0.434 |\n",
      "+-------+-------+\n",
      "\n",
      "================================================================================2022-05-02 21:33:56\n",
      "\n",
      " +-------+-------+\n",
      "| epoch |  loss |\n",
      "+-------+-------+\n",
      "|   7   | 0.406 |\n",
      "+-------+-------+\n",
      "\n",
      "================================================================================2022-05-02 21:33:57\n",
      "\n",
      " +-------+-------+\n",
      "| epoch |  loss |\n",
      "+-------+-------+\n",
      "|   8   | 0.378 |\n",
      "+-------+-------+\n",
      "\n",
      "================================================================================2022-05-02 21:33:57\n",
      "\n",
      " +-------+------+\n",
      "| epoch | loss |\n",
      "+-------+------+\n",
      "|   9   | 0.35 |\n",
      "+-------+------+\n",
      "\n",
      "================================================================================2022-05-02 21:33:57\n",
      "\n",
      " +-------+-------+\n",
      "| epoch |  loss |\n",
      "+-------+-------+\n",
      "|   10  | 0.321 |\n",
      "+-------+-------+\n",
      "\n",
      "================================================================================2022-05-02 21:33:57\n",
      "\n",
      " +-------+-------+\n",
      "| epoch |  loss |\n",
      "+-------+-------+\n",
      "|   11  | 0.293 |\n",
      "+-------+-------+\n",
      "\n",
      "================================================================================2022-05-02 21:33:57\n",
      "\n",
      " +-------+-------+\n",
      "| epoch |  loss |\n",
      "+-------+-------+\n",
      "|   12  | 0.266 |\n",
      "+-------+-------+\n",
      "\n",
      "================================================================================2022-05-02 21:33:57\n",
      "\n",
      " +-------+-------+\n",
      "| epoch |  loss |\n",
      "+-------+-------+\n",
      "|   13  | 0.239 |\n",
      "+-------+-------+\n",
      "\n",
      "================================================================================2022-05-02 21:33:57\n",
      "\n",
      " +-------+-------+\n",
      "| epoch |  loss |\n",
      "+-------+-------+\n",
      "|   14  | 0.215 |\n",
      "+-------+-------+\n",
      "\n",
      "================================================================================2022-05-02 21:33:57\n",
      "\n",
      " +-------+-------+\n",
      "| epoch |  loss |\n",
      "+-------+-------+\n",
      "|   15  | 0.193 |\n",
      "+-------+-------+\n",
      "\n",
      "================================================================================2022-05-02 21:33:57\n",
      "\n",
      " +-------+-------+\n",
      "| epoch |  loss |\n",
      "+-------+-------+\n",
      "|   16  | 0.174 |\n",
      "+-------+-------+\n",
      "\n",
      "================================================================================2022-05-02 21:33:57\n",
      "\n",
      " +-------+-------+\n",
      "| epoch |  loss |\n",
      "+-------+-------+\n",
      "|   17  | 0.157 |\n",
      "+-------+-------+\n",
      "\n",
      "================================================================================2022-05-02 21:33:57\n",
      "\n",
      " +-------+-------+\n",
      "| epoch |  loss |\n",
      "+-------+-------+\n",
      "|   18  | 0.144 |\n",
      "+-------+-------+\n",
      "\n",
      "================================================================================2022-05-02 21:33:57\n",
      "\n",
      " +-------+-------+\n",
      "| epoch |  loss |\n",
      "+-------+-------+\n",
      "|   19  | 0.133 |\n",
      "+-------+-------+\n",
      "\n",
      "================================================================================2022-05-02 21:33:57\n",
      "\n",
      " +-------+-------+\n",
      "| epoch |  loss |\n",
      "+-------+-------+\n",
      "|   20  | 0.126 |\n",
      "+-------+-------+\n",
      "\n",
      "================================================================================2022-05-02 21:33:57\n",
      "\n",
      " +-------+------+\n",
      "| epoch | loss |\n",
      "+-------+------+\n",
      "|   21  | 0.12 |\n",
      "+-------+------+\n",
      "\n",
      "================================================================================2022-05-02 21:33:57\n",
      "\n",
      " +-------+-------+\n",
      "| epoch |  loss |\n",
      "+-------+-------+\n",
      "|   22  | 0.116 |\n",
      "+-------+-------+\n",
      "\n",
      "================================================================================2022-05-02 21:33:57\n",
      "\n",
      " +-------+-------+\n",
      "| epoch |  loss |\n",
      "+-------+-------+\n",
      "|   23  | 0.114 |\n",
      "+-------+-------+\n",
      "\n",
      "================================================================================2022-05-02 21:33:57\n",
      "\n",
      " +-------+-------+\n",
      "| epoch |  loss |\n",
      "+-------+-------+\n",
      "|   24  | 0.112 |\n",
      "+-------+-------+\n",
      "\n",
      "================================================================================2022-05-02 21:33:57\n",
      "\n",
      " +-------+-------+\n",
      "| epoch |  loss |\n",
      "+-------+-------+\n",
      "|   25  | 0.111 |\n",
      "+-------+-------+\n",
      "\n",
      "================================================================================2022-05-02 21:33:57\n",
      "\n",
      " +-------+-------+\n",
      "| epoch |  loss |\n",
      "+-------+-------+\n",
      "|   26  | 0.111 |\n",
      "+-------+-------+\n",
      "\n",
      "================================================================================2022-05-02 21:33:57\n",
      "\n",
      " +-------+------+\n",
      "| epoch | loss |\n",
      "+-------+------+\n",
      "|   27  | 0.11 |\n",
      "+-------+------+\n",
      "\n",
      "================================================================================2022-05-02 21:33:57\n",
      "\n",
      " +-------+------+\n",
      "| epoch | loss |\n",
      "+-------+------+\n",
      "|   28  | 0.11 |\n",
      "+-------+------+\n",
      "\n",
      "================================================================================2022-05-02 21:33:57\n",
      "\n",
      " +-------+------+\n",
      "| epoch | loss |\n",
      "+-------+------+\n",
      "|   29  | 0.11 |\n",
      "+-------+------+\n",
      "\n",
      "================================================================================2022-05-02 21:33:57\n",
      "\n",
      " +-------+------+\n",
      "| epoch | loss |\n",
      "+-------+------+\n",
      "|   30  | 0.11 |\n",
      "+-------+------+\n",
      "\n",
      "================================================================================2022-05-02 21:33:57\n",
      "\n",
      " +-------+------+\n",
      "| epoch | loss |\n",
      "+-------+------+\n",
      "|   31  | 0.11 |\n",
      "+-------+------+\n",
      "\n",
      "================================================================================2022-05-02 21:33:57\n",
      "\n",
      " +-------+------+\n",
      "| epoch | loss |\n",
      "+-------+------+\n",
      "|   32  | 0.11 |\n",
      "+-------+------+\n",
      "\n",
      "================================================================================2022-05-02 21:33:57\n",
      "\n",
      " +-------+------+\n",
      "| epoch | loss |\n",
      "+-------+------+\n",
      "|   33  | 0.11 |\n",
      "+-------+------+\n",
      "\n",
      "================================================================================2022-05-02 21:33:57\n",
      "\n",
      " +-------+------+\n",
      "| epoch | loss |\n",
      "+-------+------+\n",
      "|   34  | 0.11 |\n",
      "+-------+------+\n",
      "\n",
      "================================================================================2022-05-02 21:33:57\n",
      "\n",
      " +-------+-------+\n",
      "| epoch |  loss |\n",
      "+-------+-------+\n",
      "|   35  | 0.109 |\n",
      "+-------+-------+\n",
      "\n",
      "================================================================================2022-05-02 21:33:57\n",
      "\n",
      " +-------+-------+\n",
      "| epoch |  loss |\n",
      "+-------+-------+\n",
      "|   36  | 0.109 |\n",
      "+-------+-------+\n",
      "\n",
      "================================================================================2022-05-02 21:33:57\n",
      "\n",
      " +-------+-------+\n",
      "| epoch |  loss |\n",
      "+-------+-------+\n",
      "|   37  | 0.109 |\n",
      "+-------+-------+\n",
      "\n",
      "================================================================================2022-05-02 21:33:57\n",
      "\n",
      " +-------+-------+\n",
      "| epoch |  loss |\n",
      "+-------+-------+\n",
      "|   38  | 0.109 |\n",
      "+-------+-------+\n",
      "\n",
      "================================================================================2022-05-02 21:33:57\n",
      "\n",
      " +-------+-------+\n",
      "| epoch |  loss |\n",
      "+-------+-------+\n",
      "|   39  | 0.109 |\n",
      "+-------+-------+\n",
      "\n",
      "================================================================================2022-05-02 21:33:57\n",
      "\n",
      " +-------+-------+\n",
      "| epoch |  loss |\n",
      "+-------+-------+\n",
      "|   40  | 0.109 |\n",
      "+-------+-------+\n",
      "\n",
      "================================================================================2022-05-02 21:33:57\n",
      "\n",
      " +-------+-------+\n",
      "| epoch |  loss |\n",
      "+-------+-------+\n",
      "|   41  | 0.108 |\n",
      "+-------+-------+\n",
      "\n",
      "================================================================================2022-05-02 21:33:58\n",
      "\n",
      " +-------+-------+\n",
      "| epoch |  loss |\n",
      "+-------+-------+\n",
      "|   42  | 0.108 |\n",
      "+-------+-------+\n",
      "\n",
      "================================================================================2022-05-02 21:33:58\n",
      "\n",
      " +-------+-------+\n",
      "| epoch |  loss |\n",
      "+-------+-------+\n",
      "|   43  | 0.108 |\n",
      "+-------+-------+\n",
      "\n",
      "================================================================================2022-05-02 21:33:58\n",
      "\n",
      " +-------+-------+\n",
      "| epoch |  loss |\n",
      "+-------+-------+\n",
      "|   44  | 0.108 |\n",
      "+-------+-------+\n",
      "\n",
      "================================================================================2022-05-02 21:33:58\n",
      "\n",
      " +-------+-------+\n",
      "| epoch |  loss |\n",
      "+-------+-------+\n",
      "|   45  | 0.107 |\n",
      "+-------+-------+\n",
      "\n",
      "================================================================================2022-05-02 21:33:58\n",
      "\n",
      " +-------+-------+\n",
      "| epoch |  loss |\n",
      "+-------+-------+\n",
      "|   46  | 0.107 |\n",
      "+-------+-------+\n",
      "\n",
      "================================================================================2022-05-02 21:33:58\n",
      "\n",
      " +-------+-------+\n",
      "| epoch |  loss |\n",
      "+-------+-------+\n",
      "|   47  | 0.107 |\n",
      "+-------+-------+\n",
      "\n",
      "================================================================================2022-05-02 21:33:58\n",
      "\n",
      " +-------+-------+\n",
      "| epoch |  loss |\n",
      "+-------+-------+\n",
      "|   48  | 0.107 |\n",
      "+-------+-------+\n",
      "\n",
      "================================================================================2022-05-02 21:33:58\n",
      "\n",
      " +-------+-------+\n",
      "| epoch |  loss |\n",
      "+-------+-------+\n",
      "|   49  | 0.106 |\n",
      "+-------+-------+\n",
      "\n",
      "================================================================================2022-05-02 21:33:58\n",
      "\n",
      " +-------+-------+\n",
      "| epoch |  loss |\n",
      "+-------+-------+\n",
      "|   50  | 0.106 |\n",
      "+-------+-------+\n",
      "\n",
      "================================================================================2022-05-02 21:33:58\n",
      "Finished Training...\n"
     ]
    }
   ],
   "source": [
    "# torchkeras API 训练方式\n",
    "model = torchkeras.Model(Net())\n",
    "model.summary(input_shape=(time_step, 1))\n",
    "model.compile(loss_func=F.mse_loss, optimizer=torch.optim.Adam(model.parameters(), lr=1e-3), device=device)\n",
    "dfhistory = model.fit(epochs=50, dl_train=dl_train, log_step_freq=20)"
   ],
   "metadata": {
    "collapsed": false,
    "pycharm": {
     "name": "#%%\n"
    }
   }
  },
  {
   "cell_type": "code",
   "execution_count": 28,
   "outputs": [],
   "source": [
    "# 模型评估\n",
    "# fig = go.Figure()\n",
    "# fig.add_trace(go.Scatter(x=dfhistory.index, y=dfhistory['loss'], name='loss'))\n",
    "# fig.show()"
   ],
   "metadata": {
    "collapsed": false,
    "pycharm": {
     "name": "#%%\n"
    }
   }
  },
  {
   "cell_type": "code",
   "execution_count": 29,
   "outputs": [],
   "source": [
    "# 预测验证预览\n",
    "# y_pred = model.predict(dl)\n",
    "# y_pred = y_pred.detach().numpy()\n",
    "#\n",
    "# fig = go.Figure()\n",
    "# fig.add_trace(go.Scatter(y=Y.squeeze(), name='y_true'))\n",
    "# fig.add_trace(go.Scatter(y=y_pred.squeeze(), name='y_pred'))\n",
    "# fig.show()"
   ],
   "metadata": {
    "collapsed": false,
    "pycharm": {
     "name": "#%%\n"
    }
   }
  },
  {
   "cell_type": "code",
   "execution_count": 30,
   "outputs": [
    {
     "data": {
      "text/plain": "0.12153278291225433"
     },
     "execution_count": 30,
     "metadata": {},
     "output_type": "execute_result"
    }
   ],
   "source": [
    "# 自定义训练方式\n",
    "model = Net().to(device)\n",
    "loss_function = nn.MSELoss()\n",
    "optimizer = torch.optim.Adam(model.parameters(), lr=5e-3)\n",
    "\n",
    "\n",
    "def train_step(model, features, labels):\n",
    "    # 正向传播求损失\n",
    "    predictions = model.forward(features)\n",
    "    loss = loss_function(predictions, labels)\n",
    "    # 反向传播求梯度\n",
    "    loss.backward()\n",
    "    # 参数更新\n",
    "    optimizer.step()\n",
    "    optimizer.zero_grad()\n",
    "    return loss.item()\n",
    "\n",
    "# 测试一个batch\n",
    "features, labels = next(iter(dl_train))\n",
    "loss =  train_step(model, features, labels)\n",
    "loss"
   ],
   "metadata": {
    "collapsed": false,
    "pycharm": {
     "name": "#%%\n"
    }
   }
  },
  {
   "cell_type": "code",
   "execution_count": 31,
   "outputs": [
    {
     "name": "stdout",
     "output_type": "stream",
     "text": [
      "epoch=10 | loss=0.11492697410285473 \n",
      "epoch=20 | loss=0.07947139739990235 \n",
      "epoch=30 | loss=0.03580002682283521 \n",
      "epoch=40 | loss=0.028840406937524675 \n",
      "epoch=50 | loss=0.02242885958403349 \n",
      "epoch=60 | loss=0.015106860944069923 \n",
      "epoch=70 | loss=0.00621097682742402 \n",
      "epoch=80 | loss=0.0052376181287399955 \n",
      "epoch=90 | loss=0.005035498758661561 \n",
      "epoch=100 | loss=0.00491432045091642 \n",
      "epoch=110 | loss=0.004799276516860118 \n",
      "epoch=120 | loss=0.004719608649611473 \n",
      "epoch=130 | loss=0.004655558036756702 \n",
      "epoch=140 | loss=0.00460451026156079 \n",
      "epoch=150 | loss=0.004544622940011322 \n",
      "epoch=160 | loss=0.004703784991579596 \n",
      "epoch=170 | loss=0.0045373394794296475 \n",
      "epoch=180 | loss=0.004298944053880404 \n",
      "epoch=190 | loss=0.004219959350302815 \n",
      "epoch=200 | loss=0.004151657945476473 \n",
      "epoch=210 | loss=0.004102600185433403 \n",
      "epoch=220 | loss=0.004427253300673328 \n",
      "epoch=230 | loss=0.00400843633688055 \n",
      "epoch=240 | loss=0.003958734989282675 \n",
      "epoch=250 | loss=0.003915652586147189 \n",
      "epoch=260 | loss=0.0038680963451042773 \n",
      "epoch=270 | loss=0.004021687674685382 \n",
      "epoch=280 | loss=0.003872333362232894 \n",
      "epoch=290 | loss=0.00377834239625372 \n",
      "epoch=300 | loss=0.0037453156430274246 \n",
      "epoch=310 | loss=0.0038350970717146993 \n",
      "epoch=320 | loss=0.00455356560414657 \n",
      "epoch=330 | loss=0.0036351368384202943 \n",
      "epoch=340 | loss=0.003604942304082215 \n",
      "epoch=350 | loss=0.003579076664755121 \n",
      "epoch=360 | loss=0.003925896226428449 \n",
      "epoch=370 | loss=0.003588936961023137 \n",
      "epoch=380 | loss=0.0035385322757065297 \n",
      "epoch=390 | loss=0.0035196807351894678 \n",
      "epoch=400 | loss=0.003549764055060223 \n",
      "epoch=410 | loss=0.004938849352402031 \n",
      "epoch=420 | loss=0.0034653846960281953 \n",
      "epoch=430 | loss=0.0034563197288662193 \n",
      "epoch=440 | loss=0.0034609658585395666 \n",
      "epoch=450 | loss=0.0035602173651568592 \n",
      "epoch=460 | loss=0.004582417616256862 \n",
      "epoch=470 | loss=0.003411034541204572 \n",
      "epoch=480 | loss=0.0033913962717633693 \n",
      "epoch=490 | loss=0.003390069241868332 \n",
      "epoch=500 | loss=0.0033827427047071978 \n",
      "epoch=510 | loss=0.0034096139221219345 \n",
      "epoch=520 | loss=0.003891261259559542 \n",
      "epoch=530 | loss=0.0033470279653556646 \n",
      "epoch=540 | loss=0.003311575937550515 \n",
      "epoch=550 | loss=0.0033012734143994748 \n",
      "epoch=560 | loss=0.0033307780817267486 \n",
      "epoch=570 | loss=0.003376260120421648 \n",
      "epoch=580 | loss=0.003287763026310131 \n",
      "epoch=590 | loss=0.003359575313515961 \n",
      "epoch=600 | loss=0.0034209656761959193 \n",
      "epoch=610 | loss=0.0033730633091181516 \n",
      "epoch=620 | loss=0.0032302226114552467 \n",
      "epoch=630 | loss=0.0031593170657288282 \n",
      "epoch=640 | loss=0.003180103428894654 \n",
      "epoch=650 | loss=0.003317086910828948 \n",
      "epoch=660 | loss=0.0030855524906655773 \n",
      "epoch=670 | loss=0.00298576942877844 \n",
      "epoch=680 | loss=0.003949293168261647 \n",
      "epoch=690 | loss=0.002963178731442895 \n",
      "epoch=700 | loss=0.002847406838554889 \n",
      "epoch=710 | loss=0.0029209012966020962 \n",
      "epoch=720 | loss=0.003842444438487291 \n",
      "epoch=730 | loss=0.002754981443285942 \n",
      "epoch=740 | loss=0.002679797957534902 \n",
      "epoch=750 | loss=0.002649589795328211 \n",
      "epoch=760 | loss=0.0036524261740851216 \n",
      "epoch=770 | loss=0.0027717477518308443 \n",
      "epoch=780 | loss=0.002580996597680496 \n",
      "epoch=790 | loss=0.00237023636327649 \n",
      "epoch=800 | loss=0.002339402015786618 \n",
      "epoch=810 | loss=0.0037972123274812473 \n",
      "epoch=820 | loss=0.002058836686774157 \n",
      "epoch=830 | loss=0.001921604643575847 \n",
      "epoch=840 | loss=0.00183634064742364 \n",
      "epoch=850 | loss=0.0025858213077299295 \n",
      "epoch=860 | loss=0.0020122488887864163 \n",
      "epoch=870 | loss=0.00147702427348122 \n",
      "epoch=880 | loss=0.0015499190310947597 \n",
      "epoch=890 | loss=0.0024209864903241398 \n",
      "epoch=900 | loss=0.001281773971277289 \n",
      "epoch=910 | loss=0.0011889086366863922 \n",
      "epoch=920 | loss=0.0013175937929190695 \n",
      "epoch=930 | loss=0.0016825344413518907 \n",
      "epoch=940 | loss=0.0011718380119418725 \n",
      "epoch=950 | loss=0.0010623541136737912 \n",
      "epoch=960 | loss=0.0012894587824121117 \n",
      "epoch=970 | loss=0.0016274395515210927 \n",
      "epoch=980 | loss=0.00100698450114578 \n",
      "epoch=990 | loss=0.0010426266118884087 \n",
      "epoch=1000 | loss=0.0012575394473969936 \n"
     ]
    }
   ],
   "source": [
    "def train_model(model, epochs):\n",
    "    for epoch in range(1, epochs + 1):\n",
    "        list_loss = []\n",
    "        for features, labels in dl_train:\n",
    "            lossi = train_step(model, features, labels)\n",
    "            list_loss.append(lossi)\n",
    "        loss = np.mean(list_loss)\n",
    "        if epoch % 10 == 0:\n",
    "            print('epoch={} | loss={} '.format(epoch, loss))\n",
    "\n",
    "\n",
    "train_model(model, 1000)"
   ],
   "metadata": {
    "collapsed": false,
    "pycharm": {
     "name": "#%%\n"
    }
   }
  },
  {
   "cell_type": "code",
   "execution_count": 32,
   "outputs": [
    {
     "name": "stdout",
     "output_type": "stream",
     "text": [
      "torch.Size([60, 7, 1])\n",
      "torch.Size([60, 1, 1])\n"
     ]
    },
    {
     "data": {
      "application/vnd.plotly.v1+json": {
       "data": [
        {
         "name": "y_true",
         "y": [
          0.0022729733027517796,
          0.002814157400280237,
          0.002633762778714299,
          0.002922394312918186,
          0.0022729733027517796,
          0.006025183014571667,
          0.0049428148195147514,
          0.007215788122266531,
          0.005628314800560474,
          0.009308367036283016,
          0.01342136599123478,
          0.018292022868990898,
          0.027275679633021355,
          0.032254572957754135,
          0.03532128408551216,
          0.03539343923330307,
          0.057978857308626175,
          0.08179096132516861,
          0.09647508710622787,
          0.12620413303375244,
          0.1614532619714737,
          0.21575206518173218,
          0.203882098197937,
          0.1623552292585373,
          0.22762203216552734,
          0.2967132031917572,
          0.3248547911643982,
          0.4817260205745697,
          0.6160479187965393,
          0.7208572626113892,
          0.7655951380729675,
          0.852256715297699,
          0.8998448848724365,
          0.9411191940307617,
          0.8420825004577637,
          0.9498863220214844,
          1.0,
          0.8323411345481873,
          0.84825199842453,
          0.8954071402549744,
          0.8026121258735657,
          0.7365155220031738,
          0.6818559169769287,
          0.6672078371047974,
          0.635963499546051,
          0.843092679977417,
          0.7596781849861145,
          0.7018436193466187,
          0.6125482320785522,
          0.4892304241657257,
          0.3831583559513092,
          0.5422664880752563,
          0.3672475516796112,
          0.28394126892089844,
          0.26449471712112427,
          0.24728505313396454,
          0.2188187688589096,
          0.19976909458637238,
          0.17574052512645721,
          0.11563300341367722
         ],
         "type": "scatter"
        },
        {
         "name": "y_pred",
         "y": [
          -9.455680847167969E-4,
          -5.401819944381714E-4,
          1.4513731002807617E-5,
          2.400428056716919E-4,
          4.973858594894409E-4,
          4.083365201950073E-4,
          0.001756042242050171,
          0.002515137195587158,
          0.0038327574729919434,
          0.004195183515548706,
          0.005675807595252991,
          0.008669823408126831,
          0.012743234634399414,
          0.019558429718017578,
          0.026750415563583374,
          0.03303229808807373,
          0.036906927824020386,
          0.048794060945510864,
          0.06860849261283875,
          0.0895332396030426,
          0.11719655990600586,
          0.15249615907669067,
          0.20165497064590454,
          0.2279251217842102,
          0.22039443254470825,
          0.25110355019569397,
          0.32528936862945557,
          0.4497627019882202,
          0.6131986975669861,
          0.7147350311279297,
          0.7835891246795654,
          0.8324477672576904,
          0.8970544338226318,
          0.9246355295181274,
          0.9049386978149414,
          0.8856661319732666,
          0.9272655248641968,
          0.8934634923934937,
          0.8344200849533081,
          0.8319402933120728,
          0.8328744173049927,
          0.7785755395889282,
          0.6733061075210571,
          0.6368541717529297,
          0.6710124015808105,
          0.817746639251709,
          0.7984412908554077,
          0.7176728844642639,
          0.6195908188819885,
          0.5057387948036194,
          0.38195061683654785,
          0.5338547825813293,
          0.3594287633895874,
          0.30042344331741333,
          0.27726060152053833,
          0.2358715534210205,
          0.21495097875595093,
          0.20117080211639404,
          0.15238112211227417,
          0.12984511256217957
         ],
         "type": "scatter"
        }
       ],
       "layout": {
        "template": {
         "data": {
          "bar": [
           {
            "error_x": {
             "color": "#2a3f5f"
            },
            "error_y": {
             "color": "#2a3f5f"
            },
            "marker": {
             "line": {
              "color": "#E5ECF6",
              "width": 0.5
             },
             "pattern": {
              "fillmode": "overlay",
              "size": 10,
              "solidity": 0.2
             }
            },
            "type": "bar"
           }
          ],
          "barpolar": [
           {
            "marker": {
             "line": {
              "color": "#E5ECF6",
              "width": 0.5
             },
             "pattern": {
              "fillmode": "overlay",
              "size": 10,
              "solidity": 0.2
             }
            },
            "type": "barpolar"
           }
          ],
          "carpet": [
           {
            "aaxis": {
             "endlinecolor": "#2a3f5f",
             "gridcolor": "white",
             "linecolor": "white",
             "minorgridcolor": "white",
             "startlinecolor": "#2a3f5f"
            },
            "baxis": {
             "endlinecolor": "#2a3f5f",
             "gridcolor": "white",
             "linecolor": "white",
             "minorgridcolor": "white",
             "startlinecolor": "#2a3f5f"
            },
            "type": "carpet"
           }
          ],
          "choropleth": [
           {
            "colorbar": {
             "outlinewidth": 0,
             "ticks": ""
            },
            "type": "choropleth"
           }
          ],
          "contour": [
           {
            "colorbar": {
             "outlinewidth": 0,
             "ticks": ""
            },
            "colorscale": [
             [
              0.0,
              "#0d0887"
             ],
             [
              0.1111111111111111,
              "#46039f"
             ],
             [
              0.2222222222222222,
              "#7201a8"
             ],
             [
              0.3333333333333333,
              "#9c179e"
             ],
             [
              0.4444444444444444,
              "#bd3786"
             ],
             [
              0.5555555555555556,
              "#d8576b"
             ],
             [
              0.6666666666666666,
              "#ed7953"
             ],
             [
              0.7777777777777778,
              "#fb9f3a"
             ],
             [
              0.8888888888888888,
              "#fdca26"
             ],
             [
              1.0,
              "#f0f921"
             ]
            ],
            "type": "contour"
           }
          ],
          "contourcarpet": [
           {
            "colorbar": {
             "outlinewidth": 0,
             "ticks": ""
            },
            "type": "contourcarpet"
           }
          ],
          "heatmap": [
           {
            "colorbar": {
             "outlinewidth": 0,
             "ticks": ""
            },
            "colorscale": [
             [
              0.0,
              "#0d0887"
             ],
             [
              0.1111111111111111,
              "#46039f"
             ],
             [
              0.2222222222222222,
              "#7201a8"
             ],
             [
              0.3333333333333333,
              "#9c179e"
             ],
             [
              0.4444444444444444,
              "#bd3786"
             ],
             [
              0.5555555555555556,
              "#d8576b"
             ],
             [
              0.6666666666666666,
              "#ed7953"
             ],
             [
              0.7777777777777778,
              "#fb9f3a"
             ],
             [
              0.8888888888888888,
              "#fdca26"
             ],
             [
              1.0,
              "#f0f921"
             ]
            ],
            "type": "heatmap"
           }
          ],
          "heatmapgl": [
           {
            "colorbar": {
             "outlinewidth": 0,
             "ticks": ""
            },
            "colorscale": [
             [
              0.0,
              "#0d0887"
             ],
             [
              0.1111111111111111,
              "#46039f"
             ],
             [
              0.2222222222222222,
              "#7201a8"
             ],
             [
              0.3333333333333333,
              "#9c179e"
             ],
             [
              0.4444444444444444,
              "#bd3786"
             ],
             [
              0.5555555555555556,
              "#d8576b"
             ],
             [
              0.6666666666666666,
              "#ed7953"
             ],
             [
              0.7777777777777778,
              "#fb9f3a"
             ],
             [
              0.8888888888888888,
              "#fdca26"
             ],
             [
              1.0,
              "#f0f921"
             ]
            ],
            "type": "heatmapgl"
           }
          ],
          "histogram": [
           {
            "marker": {
             "pattern": {
              "fillmode": "overlay",
              "size": 10,
              "solidity": 0.2
             }
            },
            "type": "histogram"
           }
          ],
          "histogram2d": [
           {
            "colorbar": {
             "outlinewidth": 0,
             "ticks": ""
            },
            "colorscale": [
             [
              0.0,
              "#0d0887"
             ],
             [
              0.1111111111111111,
              "#46039f"
             ],
             [
              0.2222222222222222,
              "#7201a8"
             ],
             [
              0.3333333333333333,
              "#9c179e"
             ],
             [
              0.4444444444444444,
              "#bd3786"
             ],
             [
              0.5555555555555556,
              "#d8576b"
             ],
             [
              0.6666666666666666,
              "#ed7953"
             ],
             [
              0.7777777777777778,
              "#fb9f3a"
             ],
             [
              0.8888888888888888,
              "#fdca26"
             ],
             [
              1.0,
              "#f0f921"
             ]
            ],
            "type": "histogram2d"
           }
          ],
          "histogram2dcontour": [
           {
            "colorbar": {
             "outlinewidth": 0,
             "ticks": ""
            },
            "colorscale": [
             [
              0.0,
              "#0d0887"
             ],
             [
              0.1111111111111111,
              "#46039f"
             ],
             [
              0.2222222222222222,
              "#7201a8"
             ],
             [
              0.3333333333333333,
              "#9c179e"
             ],
             [
              0.4444444444444444,
              "#bd3786"
             ],
             [
              0.5555555555555556,
              "#d8576b"
             ],
             [
              0.6666666666666666,
              "#ed7953"
             ],
             [
              0.7777777777777778,
              "#fb9f3a"
             ],
             [
              0.8888888888888888,
              "#fdca26"
             ],
             [
              1.0,
              "#f0f921"
             ]
            ],
            "type": "histogram2dcontour"
           }
          ],
          "mesh3d": [
           {
            "colorbar": {
             "outlinewidth": 0,
             "ticks": ""
            },
            "type": "mesh3d"
           }
          ],
          "parcoords": [
           {
            "line": {
             "colorbar": {
              "outlinewidth": 0,
              "ticks": ""
             }
            },
            "type": "parcoords"
           }
          ],
          "pie": [
           {
            "automargin": true,
            "type": "pie"
           }
          ],
          "scatter": [
           {
            "marker": {
             "colorbar": {
              "outlinewidth": 0,
              "ticks": ""
             }
            },
            "type": "scatter"
           }
          ],
          "scatter3d": [
           {
            "line": {
             "colorbar": {
              "outlinewidth": 0,
              "ticks": ""
             }
            },
            "marker": {
             "colorbar": {
              "outlinewidth": 0,
              "ticks": ""
             }
            },
            "type": "scatter3d"
           }
          ],
          "scattercarpet": [
           {
            "marker": {
             "colorbar": {
              "outlinewidth": 0,
              "ticks": ""
             }
            },
            "type": "scattercarpet"
           }
          ],
          "scattergeo": [
           {
            "marker": {
             "colorbar": {
              "outlinewidth": 0,
              "ticks": ""
             }
            },
            "type": "scattergeo"
           }
          ],
          "scattergl": [
           {
            "marker": {
             "colorbar": {
              "outlinewidth": 0,
              "ticks": ""
             }
            },
            "type": "scattergl"
           }
          ],
          "scattermapbox": [
           {
            "marker": {
             "colorbar": {
              "outlinewidth": 0,
              "ticks": ""
             }
            },
            "type": "scattermapbox"
           }
          ],
          "scatterpolar": [
           {
            "marker": {
             "colorbar": {
              "outlinewidth": 0,
              "ticks": ""
             }
            },
            "type": "scatterpolar"
           }
          ],
          "scatterpolargl": [
           {
            "marker": {
             "colorbar": {
              "outlinewidth": 0,
              "ticks": ""
             }
            },
            "type": "scatterpolargl"
           }
          ],
          "scatterternary": [
           {
            "marker": {
             "colorbar": {
              "outlinewidth": 0,
              "ticks": ""
             }
            },
            "type": "scatterternary"
           }
          ],
          "surface": [
           {
            "colorbar": {
             "outlinewidth": 0,
             "ticks": ""
            },
            "colorscale": [
             [
              0.0,
              "#0d0887"
             ],
             [
              0.1111111111111111,
              "#46039f"
             ],
             [
              0.2222222222222222,
              "#7201a8"
             ],
             [
              0.3333333333333333,
              "#9c179e"
             ],
             [
              0.4444444444444444,
              "#bd3786"
             ],
             [
              0.5555555555555556,
              "#d8576b"
             ],
             [
              0.6666666666666666,
              "#ed7953"
             ],
             [
              0.7777777777777778,
              "#fb9f3a"
             ],
             [
              0.8888888888888888,
              "#fdca26"
             ],
             [
              1.0,
              "#f0f921"
             ]
            ],
            "type": "surface"
           }
          ],
          "table": [
           {
            "cells": {
             "fill": {
              "color": "#EBF0F8"
             },
             "line": {
              "color": "white"
             }
            },
            "header": {
             "fill": {
              "color": "#C8D4E3"
             },
             "line": {
              "color": "white"
             }
            },
            "type": "table"
           }
          ]
         },
         "layout": {
          "annotationdefaults": {
           "arrowcolor": "#2a3f5f",
           "arrowhead": 0,
           "arrowwidth": 1
          },
          "autotypenumbers": "strict",
          "coloraxis": {
           "colorbar": {
            "outlinewidth": 0,
            "ticks": ""
           }
          },
          "colorscale": {
           "diverging": [
            [
             0,
             "#8e0152"
            ],
            [
             0.1,
             "#c51b7d"
            ],
            [
             0.2,
             "#de77ae"
            ],
            [
             0.3,
             "#f1b6da"
            ],
            [
             0.4,
             "#fde0ef"
            ],
            [
             0.5,
             "#f7f7f7"
            ],
            [
             0.6,
             "#e6f5d0"
            ],
            [
             0.7,
             "#b8e186"
            ],
            [
             0.8,
             "#7fbc41"
            ],
            [
             0.9,
             "#4d9221"
            ],
            [
             1,
             "#276419"
            ]
           ],
           "sequential": [
            [
             0.0,
             "#0d0887"
            ],
            [
             0.1111111111111111,
             "#46039f"
            ],
            [
             0.2222222222222222,
             "#7201a8"
            ],
            [
             0.3333333333333333,
             "#9c179e"
            ],
            [
             0.4444444444444444,
             "#bd3786"
            ],
            [
             0.5555555555555556,
             "#d8576b"
            ],
            [
             0.6666666666666666,
             "#ed7953"
            ],
            [
             0.7777777777777778,
             "#fb9f3a"
            ],
            [
             0.8888888888888888,
             "#fdca26"
            ],
            [
             1.0,
             "#f0f921"
            ]
           ],
           "sequentialminus": [
            [
             0.0,
             "#0d0887"
            ],
            [
             0.1111111111111111,
             "#46039f"
            ],
            [
             0.2222222222222222,
             "#7201a8"
            ],
            [
             0.3333333333333333,
             "#9c179e"
            ],
            [
             0.4444444444444444,
             "#bd3786"
            ],
            [
             0.5555555555555556,
             "#d8576b"
            ],
            [
             0.6666666666666666,
             "#ed7953"
            ],
            [
             0.7777777777777778,
             "#fb9f3a"
            ],
            [
             0.8888888888888888,
             "#fdca26"
            ],
            [
             1.0,
             "#f0f921"
            ]
           ]
          },
          "colorway": [
           "#636efa",
           "#EF553B",
           "#00cc96",
           "#ab63fa",
           "#FFA15A",
           "#19d3f3",
           "#FF6692",
           "#B6E880",
           "#FF97FF",
           "#FECB52"
          ],
          "font": {
           "color": "#2a3f5f"
          },
          "geo": {
           "bgcolor": "white",
           "lakecolor": "white",
           "landcolor": "#E5ECF6",
           "showlakes": true,
           "showland": true,
           "subunitcolor": "white"
          },
          "hoverlabel": {
           "align": "left"
          },
          "hovermode": "closest",
          "mapbox": {
           "style": "light"
          },
          "paper_bgcolor": "white",
          "plot_bgcolor": "#E5ECF6",
          "polar": {
           "angularaxis": {
            "gridcolor": "white",
            "linecolor": "white",
            "ticks": ""
           },
           "bgcolor": "#E5ECF6",
           "radialaxis": {
            "gridcolor": "white",
            "linecolor": "white",
            "ticks": ""
           }
          },
          "scene": {
           "xaxis": {
            "backgroundcolor": "#E5ECF6",
            "gridcolor": "white",
            "gridwidth": 2,
            "linecolor": "white",
            "showbackground": true,
            "ticks": "",
            "zerolinecolor": "white"
           },
           "yaxis": {
            "backgroundcolor": "#E5ECF6",
            "gridcolor": "white",
            "gridwidth": 2,
            "linecolor": "white",
            "showbackground": true,
            "ticks": "",
            "zerolinecolor": "white"
           },
           "zaxis": {
            "backgroundcolor": "#E5ECF6",
            "gridcolor": "white",
            "gridwidth": 2,
            "linecolor": "white",
            "showbackground": true,
            "ticks": "",
            "zerolinecolor": "white"
           }
          },
          "shapedefaults": {
           "line": {
            "color": "#2a3f5f"
           }
          },
          "ternary": {
           "aaxis": {
            "gridcolor": "white",
            "linecolor": "white",
            "ticks": ""
           },
           "baxis": {
            "gridcolor": "white",
            "linecolor": "white",
            "ticks": ""
           },
           "bgcolor": "#E5ECF6",
           "caxis": {
            "gridcolor": "white",
            "linecolor": "white",
            "ticks": ""
           }
          },
          "title": {
           "x": 0.05
          },
          "xaxis": {
           "automargin": true,
           "gridcolor": "white",
           "linecolor": "white",
           "ticks": "",
           "title": {
            "standoff": 15
           },
           "zerolinecolor": "white",
           "zerolinewidth": 2
          },
          "yaxis": {
           "automargin": true,
           "gridcolor": "white",
           "linecolor": "white",
           "ticks": "",
           "title": {
            "standoff": 15
           },
           "zerolinecolor": "white",
           "zerolinewidth": 2
          }
         }
        }
       },
       "config": {
        "plotlyServerURL": "https://plot.ly"
       }
      },
      "text/html": "<div>                            <div id=\"ed71a4a2-f8e2-4a4c-ad01-7475b2cd336e\" class=\"plotly-graph-div\" style=\"height:525px; width:100%;\"></div>            <script type=\"text/javascript\">                require([\"plotly\"], function(Plotly) {                    window.PLOTLYENV=window.PLOTLYENV || {};                                    if (document.getElementById(\"ed71a4a2-f8e2-4a4c-ad01-7475b2cd336e\")) {                    Plotly.newPlot(                        \"ed71a4a2-f8e2-4a4c-ad01-7475b2cd336e\",                        [{\"name\":\"y_true\",\"y\":[0.0022729733027517796,0.002814157400280237,0.002633762778714299,0.002922394312918186,0.0022729733027517796,0.006025183014571667,0.0049428148195147514,0.007215788122266531,0.005628314800560474,0.009308367036283016,0.01342136599123478,0.018292022868990898,0.027275679633021355,0.032254572957754135,0.03532128408551216,0.03539343923330307,0.057978857308626175,0.08179096132516861,0.09647508710622787,0.12620413303375244,0.1614532619714737,0.21575206518173218,0.203882098197937,0.1623552292585373,0.22762203216552734,0.2967132031917572,0.3248547911643982,0.4817260205745697,0.6160479187965393,0.7208572626113892,0.7655951380729675,0.852256715297699,0.8998448848724365,0.9411191940307617,0.8420825004577637,0.9498863220214844,1.0,0.8323411345481873,0.84825199842453,0.8954071402549744,0.8026121258735657,0.7365155220031738,0.6818559169769287,0.6672078371047974,0.635963499546051,0.843092679977417,0.7596781849861145,0.7018436193466187,0.6125482320785522,0.4892304241657257,0.3831583559513092,0.5422664880752563,0.3672475516796112,0.28394126892089844,0.26449471712112427,0.24728505313396454,0.2188187688589096,0.19976909458637238,0.17574052512645721,0.11563300341367722],\"type\":\"scatter\"},{\"name\":\"y_pred\",\"y\":[-0.0009455680847167969,-0.0005401819944381714,1.4513731002807617e-05,0.0002400428056716919,0.0004973858594894409,0.0004083365201950073,0.001756042242050171,0.002515137195587158,0.0038327574729919434,0.004195183515548706,0.005675807595252991,0.008669823408126831,0.012743234634399414,0.019558429718017578,0.026750415563583374,0.03303229808807373,0.036906927824020386,0.048794060945510864,0.06860849261283875,0.0895332396030426,0.11719655990600586,0.15249615907669067,0.20165497064590454,0.2279251217842102,0.22039443254470825,0.25110355019569397,0.32528936862945557,0.4497627019882202,0.6131986975669861,0.7147350311279297,0.7835891246795654,0.8324477672576904,0.8970544338226318,0.9246355295181274,0.9049386978149414,0.8856661319732666,0.9272655248641968,0.8934634923934937,0.8344200849533081,0.8319402933120728,0.8328744173049927,0.7785755395889282,0.6733061075210571,0.6368541717529297,0.6710124015808105,0.817746639251709,0.7984412908554077,0.7176728844642639,0.6195908188819885,0.5057387948036194,0.38195061683654785,0.5338547825813293,0.3594287633895874,0.30042344331741333,0.27726060152053833,0.2358715534210205,0.21495097875595093,0.20117080211639404,0.15238112211227417,0.12984511256217957],\"type\":\"scatter\"}],                        {\"template\":{\"data\":{\"bar\":[{\"error_x\":{\"color\":\"#2a3f5f\"},\"error_y\":{\"color\":\"#2a3f5f\"},\"marker\":{\"line\":{\"color\":\"#E5ECF6\",\"width\":0.5},\"pattern\":{\"fillmode\":\"overlay\",\"size\":10,\"solidity\":0.2}},\"type\":\"bar\"}],\"barpolar\":[{\"marker\":{\"line\":{\"color\":\"#E5ECF6\",\"width\":0.5},\"pattern\":{\"fillmode\":\"overlay\",\"size\":10,\"solidity\":0.2}},\"type\":\"barpolar\"}],\"carpet\":[{\"aaxis\":{\"endlinecolor\":\"#2a3f5f\",\"gridcolor\":\"white\",\"linecolor\":\"white\",\"minorgridcolor\":\"white\",\"startlinecolor\":\"#2a3f5f\"},\"baxis\":{\"endlinecolor\":\"#2a3f5f\",\"gridcolor\":\"white\",\"linecolor\":\"white\",\"minorgridcolor\":\"white\",\"startlinecolor\":\"#2a3f5f\"},\"type\":\"carpet\"}],\"choropleth\":[{\"colorbar\":{\"outlinewidth\":0,\"ticks\":\"\"},\"type\":\"choropleth\"}],\"contour\":[{\"colorbar\":{\"outlinewidth\":0,\"ticks\":\"\"},\"colorscale\":[[0.0,\"#0d0887\"],[0.1111111111111111,\"#46039f\"],[0.2222222222222222,\"#7201a8\"],[0.3333333333333333,\"#9c179e\"],[0.4444444444444444,\"#bd3786\"],[0.5555555555555556,\"#d8576b\"],[0.6666666666666666,\"#ed7953\"],[0.7777777777777778,\"#fb9f3a\"],[0.8888888888888888,\"#fdca26\"],[1.0,\"#f0f921\"]],\"type\":\"contour\"}],\"contourcarpet\":[{\"colorbar\":{\"outlinewidth\":0,\"ticks\":\"\"},\"type\":\"contourcarpet\"}],\"heatmap\":[{\"colorbar\":{\"outlinewidth\":0,\"ticks\":\"\"},\"colorscale\":[[0.0,\"#0d0887\"],[0.1111111111111111,\"#46039f\"],[0.2222222222222222,\"#7201a8\"],[0.3333333333333333,\"#9c179e\"],[0.4444444444444444,\"#bd3786\"],[0.5555555555555556,\"#d8576b\"],[0.6666666666666666,\"#ed7953\"],[0.7777777777777778,\"#fb9f3a\"],[0.8888888888888888,\"#fdca26\"],[1.0,\"#f0f921\"]],\"type\":\"heatmap\"}],\"heatmapgl\":[{\"colorbar\":{\"outlinewidth\":0,\"ticks\":\"\"},\"colorscale\":[[0.0,\"#0d0887\"],[0.1111111111111111,\"#46039f\"],[0.2222222222222222,\"#7201a8\"],[0.3333333333333333,\"#9c179e\"],[0.4444444444444444,\"#bd3786\"],[0.5555555555555556,\"#d8576b\"],[0.6666666666666666,\"#ed7953\"],[0.7777777777777778,\"#fb9f3a\"],[0.8888888888888888,\"#fdca26\"],[1.0,\"#f0f921\"]],\"type\":\"heatmapgl\"}],\"histogram\":[{\"marker\":{\"pattern\":{\"fillmode\":\"overlay\",\"size\":10,\"solidity\":0.2}},\"type\":\"histogram\"}],\"histogram2d\":[{\"colorbar\":{\"outlinewidth\":0,\"ticks\":\"\"},\"colorscale\":[[0.0,\"#0d0887\"],[0.1111111111111111,\"#46039f\"],[0.2222222222222222,\"#7201a8\"],[0.3333333333333333,\"#9c179e\"],[0.4444444444444444,\"#bd3786\"],[0.5555555555555556,\"#d8576b\"],[0.6666666666666666,\"#ed7953\"],[0.7777777777777778,\"#fb9f3a\"],[0.8888888888888888,\"#fdca26\"],[1.0,\"#f0f921\"]],\"type\":\"histogram2d\"}],\"histogram2dcontour\":[{\"colorbar\":{\"outlinewidth\":0,\"ticks\":\"\"},\"colorscale\":[[0.0,\"#0d0887\"],[0.1111111111111111,\"#46039f\"],[0.2222222222222222,\"#7201a8\"],[0.3333333333333333,\"#9c179e\"],[0.4444444444444444,\"#bd3786\"],[0.5555555555555556,\"#d8576b\"],[0.6666666666666666,\"#ed7953\"],[0.7777777777777778,\"#fb9f3a\"],[0.8888888888888888,\"#fdca26\"],[1.0,\"#f0f921\"]],\"type\":\"histogram2dcontour\"}],\"mesh3d\":[{\"colorbar\":{\"outlinewidth\":0,\"ticks\":\"\"},\"type\":\"mesh3d\"}],\"parcoords\":[{\"line\":{\"colorbar\":{\"outlinewidth\":0,\"ticks\":\"\"}},\"type\":\"parcoords\"}],\"pie\":[{\"automargin\":true,\"type\":\"pie\"}],\"scatter\":[{\"marker\":{\"colorbar\":{\"outlinewidth\":0,\"ticks\":\"\"}},\"type\":\"scatter\"}],\"scatter3d\":[{\"line\":{\"colorbar\":{\"outlinewidth\":0,\"ticks\":\"\"}},\"marker\":{\"colorbar\":{\"outlinewidth\":0,\"ticks\":\"\"}},\"type\":\"scatter3d\"}],\"scattercarpet\":[{\"marker\":{\"colorbar\":{\"outlinewidth\":0,\"ticks\":\"\"}},\"type\":\"scattercarpet\"}],\"scattergeo\":[{\"marker\":{\"colorbar\":{\"outlinewidth\":0,\"ticks\":\"\"}},\"type\":\"scattergeo\"}],\"scattergl\":[{\"marker\":{\"colorbar\":{\"outlinewidth\":0,\"ticks\":\"\"}},\"type\":\"scattergl\"}],\"scattermapbox\":[{\"marker\":{\"colorbar\":{\"outlinewidth\":0,\"ticks\":\"\"}},\"type\":\"scattermapbox\"}],\"scatterpolar\":[{\"marker\":{\"colorbar\":{\"outlinewidth\":0,\"ticks\":\"\"}},\"type\":\"scatterpolar\"}],\"scatterpolargl\":[{\"marker\":{\"colorbar\":{\"outlinewidth\":0,\"ticks\":\"\"}},\"type\":\"scatterpolargl\"}],\"scatterternary\":[{\"marker\":{\"colorbar\":{\"outlinewidth\":0,\"ticks\":\"\"}},\"type\":\"scatterternary\"}],\"surface\":[{\"colorbar\":{\"outlinewidth\":0,\"ticks\":\"\"},\"colorscale\":[[0.0,\"#0d0887\"],[0.1111111111111111,\"#46039f\"],[0.2222222222222222,\"#7201a8\"],[0.3333333333333333,\"#9c179e\"],[0.4444444444444444,\"#bd3786\"],[0.5555555555555556,\"#d8576b\"],[0.6666666666666666,\"#ed7953\"],[0.7777777777777778,\"#fb9f3a\"],[0.8888888888888888,\"#fdca26\"],[1.0,\"#f0f921\"]],\"type\":\"surface\"}],\"table\":[{\"cells\":{\"fill\":{\"color\":\"#EBF0F8\"},\"line\":{\"color\":\"white\"}},\"header\":{\"fill\":{\"color\":\"#C8D4E3\"},\"line\":{\"color\":\"white\"}},\"type\":\"table\"}]},\"layout\":{\"annotationdefaults\":{\"arrowcolor\":\"#2a3f5f\",\"arrowhead\":0,\"arrowwidth\":1},\"autotypenumbers\":\"strict\",\"coloraxis\":{\"colorbar\":{\"outlinewidth\":0,\"ticks\":\"\"}},\"colorscale\":{\"diverging\":[[0,\"#8e0152\"],[0.1,\"#c51b7d\"],[0.2,\"#de77ae\"],[0.3,\"#f1b6da\"],[0.4,\"#fde0ef\"],[0.5,\"#f7f7f7\"],[0.6,\"#e6f5d0\"],[0.7,\"#b8e186\"],[0.8,\"#7fbc41\"],[0.9,\"#4d9221\"],[1,\"#276419\"]],\"sequential\":[[0.0,\"#0d0887\"],[0.1111111111111111,\"#46039f\"],[0.2222222222222222,\"#7201a8\"],[0.3333333333333333,\"#9c179e\"],[0.4444444444444444,\"#bd3786\"],[0.5555555555555556,\"#d8576b\"],[0.6666666666666666,\"#ed7953\"],[0.7777777777777778,\"#fb9f3a\"],[0.8888888888888888,\"#fdca26\"],[1.0,\"#f0f921\"]],\"sequentialminus\":[[0.0,\"#0d0887\"],[0.1111111111111111,\"#46039f\"],[0.2222222222222222,\"#7201a8\"],[0.3333333333333333,\"#9c179e\"],[0.4444444444444444,\"#bd3786\"],[0.5555555555555556,\"#d8576b\"],[0.6666666666666666,\"#ed7953\"],[0.7777777777777778,\"#fb9f3a\"],[0.8888888888888888,\"#fdca26\"],[1.0,\"#f0f921\"]]},\"colorway\":[\"#636efa\",\"#EF553B\",\"#00cc96\",\"#ab63fa\",\"#FFA15A\",\"#19d3f3\",\"#FF6692\",\"#B6E880\",\"#FF97FF\",\"#FECB52\"],\"font\":{\"color\":\"#2a3f5f\"},\"geo\":{\"bgcolor\":\"white\",\"lakecolor\":\"white\",\"landcolor\":\"#E5ECF6\",\"showlakes\":true,\"showland\":true,\"subunitcolor\":\"white\"},\"hoverlabel\":{\"align\":\"left\"},\"hovermode\":\"closest\",\"mapbox\":{\"style\":\"light\"},\"paper_bgcolor\":\"white\",\"plot_bgcolor\":\"#E5ECF6\",\"polar\":{\"angularaxis\":{\"gridcolor\":\"white\",\"linecolor\":\"white\",\"ticks\":\"\"},\"bgcolor\":\"#E5ECF6\",\"radialaxis\":{\"gridcolor\":\"white\",\"linecolor\":\"white\",\"ticks\":\"\"}},\"scene\":{\"xaxis\":{\"backgroundcolor\":\"#E5ECF6\",\"gridcolor\":\"white\",\"gridwidth\":2,\"linecolor\":\"white\",\"showbackground\":true,\"ticks\":\"\",\"zerolinecolor\":\"white\"},\"yaxis\":{\"backgroundcolor\":\"#E5ECF6\",\"gridcolor\":\"white\",\"gridwidth\":2,\"linecolor\":\"white\",\"showbackground\":true,\"ticks\":\"\",\"zerolinecolor\":\"white\"},\"zaxis\":{\"backgroundcolor\":\"#E5ECF6\",\"gridcolor\":\"white\",\"gridwidth\":2,\"linecolor\":\"white\",\"showbackground\":true,\"ticks\":\"\",\"zerolinecolor\":\"white\"}},\"shapedefaults\":{\"line\":{\"color\":\"#2a3f5f\"}},\"ternary\":{\"aaxis\":{\"gridcolor\":\"white\",\"linecolor\":\"white\",\"ticks\":\"\"},\"baxis\":{\"gridcolor\":\"white\",\"linecolor\":\"white\",\"ticks\":\"\"},\"bgcolor\":\"#E5ECF6\",\"caxis\":{\"gridcolor\":\"white\",\"linecolor\":\"white\",\"ticks\":\"\"}},\"title\":{\"x\":0.05},\"xaxis\":{\"automargin\":true,\"gridcolor\":\"white\",\"linecolor\":\"white\",\"ticks\":\"\",\"title\":{\"standoff\":15},\"zerolinecolor\":\"white\",\"zerolinewidth\":2},\"yaxis\":{\"automargin\":true,\"gridcolor\":\"white\",\"linecolor\":\"white\",\"ticks\":\"\",\"title\":{\"standoff\":15},\"zerolinecolor\":\"white\",\"zerolinewidth\":2}}}},                        {\"responsive\": true}                    ).then(function(){\n                            \nvar gd = document.getElementById('ed71a4a2-f8e2-4a4c-ad01-7475b2cd336e');\nvar x = new MutationObserver(function (mutations, observer) {{\n        var display = window.getComputedStyle(gd).display;\n        if (!display || display === 'none') {{\n            console.log([gd, 'removed!']);\n            Plotly.purge(gd);\n            observer.disconnect();\n        }}\n}});\n\n// Listen for the removal of the full notebook cells\nvar notebookContainer = gd.closest('#notebook-container');\nif (notebookContainer) {{\n    x.observe(notebookContainer, {childList: true});\n}}\n\n// Listen for the clearing of the current output cell\nvar outputEl = gd.closest('.output');\nif (outputEl) {{\n    x.observe(outputEl, {childList: true});\n}}\n\n                        })                };                });            </script>        </div>"
     },
     "metadata": {},
     "output_type": "display_data"
    }
   ],
   "source": [
    "# 预测验证预览\n",
    "\n",
    "y_pred = model.forward(X)\n",
    "print(X.shape)\n",
    "print(y_pred.shape)\n",
    "# print(y_pred)\n",
    "y_p_pred = y_pred.detach().cpu().numpy().squeeze()\n",
    "Y_p_true = Y.cpu().squeeze()\n",
    "fig = go.Figure()\n",
    "fig.add_trace(go.Scatter(y=Y_p_true, name='y_true'))\n",
    "fig.add_trace(go.Scatter(y=y_p_pred, name='y_pred'))\n",
    "fig.show()"
   ],
   "metadata": {
    "collapsed": false,
    "pycharm": {
     "name": "#%%\n"
    }
   }
  },
  {
   "cell_type": "code",
   "execution_count": 34,
   "outputs": [
    {
     "data": {
      "application/vnd.plotly.v1+json": {
       "data": [
        {
         "name": "y_true",
         "y": [
          0.0022729733027517796,
          0.002814157400280237,
          0.002633762778714299,
          0.002922394312918186,
          0.0022729733027517796,
          0.006025183014571667,
          0.0049428148195147514,
          0.007215788122266531,
          0.005628314800560474,
          0.009308367036283016,
          0.01342136599123478,
          0.018292022868990898,
          0.027275679633021355,
          0.032254572957754135,
          0.03532128408551216,
          0.03539343923330307,
          0.057978857308626175,
          0.08179096132516861,
          0.09647508710622787,
          0.12620413303375244,
          0.1614532619714737,
          0.21575206518173218,
          0.203882098197937,
          0.1623552292585373,
          0.22762203216552734,
          0.2967132031917572,
          0.3248547911643982,
          0.4817260205745697,
          0.6160479187965393,
          0.7208572626113892,
          0.7655951380729675,
          0.852256715297699,
          0.8998448848724365,
          0.9411191940307617,
          0.8420825004577637,
          0.9498863220214844,
          1.0,
          0.8323411345481873,
          0.84825199842453,
          0.8954071402549744,
          0.8026121258735657,
          0.7365155220031738,
          0.6818559169769287,
          0.6672078371047974,
          0.635963499546051,
          0.843092679977417,
          0.7596781849861145,
          0.7018436193466187,
          0.6125482320785522,
          0.4892304241657257,
          0.3831583559513092,
          0.5422664880752563,
          0.3672475516796112,
          0.28394126892089844,
          0.26449471712112427,
          0.24728505313396454,
          0.2188187688589096,
          0.19976909458637238,
          0.17574052512645721,
          0.11563300341367722
         ],
         "type": "scatter"
        },
        {
         "name": "y_pred",
         "y": [
          -9.455680847167969E-4,
          -5.401819944381714E-4,
          1.4513731002807617E-5,
          2.400428056716919E-4,
          4.973858594894409E-4,
          4.083365201950073E-4,
          0.001756042242050171,
          0.002515137195587158,
          0.0038327574729919434,
          0.004195183515548706,
          0.005675807595252991,
          0.008669823408126831,
          0.012743234634399414,
          0.019558429718017578,
          0.026750415563583374,
          0.03303229808807373,
          0.036906927824020386,
          0.048794060945510864,
          0.06860849261283875,
          0.0895332396030426,
          0.11719655990600586,
          0.15249615907669067,
          0.20165497064590454,
          0.2279251217842102,
          0.22039443254470825,
          0.25110355019569397,
          0.32528936862945557,
          0.4497627019882202,
          0.6131986975669861,
          0.7147350311279297,
          0.7835891246795654,
          0.8324477672576904,
          0.8970544338226318,
          0.9246355295181274,
          0.9049386978149414,
          0.8856661319732666,
          0.9272655248641968,
          0.8934634923934937,
          0.8344200849533081,
          0.8319402933120728,
          0.8328744173049927,
          0.7785755395889282,
          0.6733061075210571,
          0.6368541717529297,
          0.6710124015808105,
          0.817746639251709,
          0.7984412908554077,
          0.7176728844642639,
          0.6195908188819885,
          0.5057387948036194,
          0.38195061683654785,
          0.5338547825813293,
          0.3594287633895874,
          0.30042344331741333,
          0.27726060152053833,
          0.2358715534210205,
          0.21495097875595093,
          0.20117080211639404,
          0.15238112211227417,
          0.12984511256217957,
          0.12962126731872559,
          0.11686331033706665,
          0.07960408926010132,
          0.06618800759315491,
          0.07181224226951599,
          0.07275494933128357,
          0.07607996463775635
         ],
         "type": "scatter"
        }
       ],
       "layout": {
        "template": {
         "data": {
          "bar": [
           {
            "error_x": {
             "color": "#2a3f5f"
            },
            "error_y": {
             "color": "#2a3f5f"
            },
            "marker": {
             "line": {
              "color": "#E5ECF6",
              "width": 0.5
             },
             "pattern": {
              "fillmode": "overlay",
              "size": 10,
              "solidity": 0.2
             }
            },
            "type": "bar"
           }
          ],
          "barpolar": [
           {
            "marker": {
             "line": {
              "color": "#E5ECF6",
              "width": 0.5
             },
             "pattern": {
              "fillmode": "overlay",
              "size": 10,
              "solidity": 0.2
             }
            },
            "type": "barpolar"
           }
          ],
          "carpet": [
           {
            "aaxis": {
             "endlinecolor": "#2a3f5f",
             "gridcolor": "white",
             "linecolor": "white",
             "minorgridcolor": "white",
             "startlinecolor": "#2a3f5f"
            },
            "baxis": {
             "endlinecolor": "#2a3f5f",
             "gridcolor": "white",
             "linecolor": "white",
             "minorgridcolor": "white",
             "startlinecolor": "#2a3f5f"
            },
            "type": "carpet"
           }
          ],
          "choropleth": [
           {
            "colorbar": {
             "outlinewidth": 0,
             "ticks": ""
            },
            "type": "choropleth"
           }
          ],
          "contour": [
           {
            "colorbar": {
             "outlinewidth": 0,
             "ticks": ""
            },
            "colorscale": [
             [
              0.0,
              "#0d0887"
             ],
             [
              0.1111111111111111,
              "#46039f"
             ],
             [
              0.2222222222222222,
              "#7201a8"
             ],
             [
              0.3333333333333333,
              "#9c179e"
             ],
             [
              0.4444444444444444,
              "#bd3786"
             ],
             [
              0.5555555555555556,
              "#d8576b"
             ],
             [
              0.6666666666666666,
              "#ed7953"
             ],
             [
              0.7777777777777778,
              "#fb9f3a"
             ],
             [
              0.8888888888888888,
              "#fdca26"
             ],
             [
              1.0,
              "#f0f921"
             ]
            ],
            "type": "contour"
           }
          ],
          "contourcarpet": [
           {
            "colorbar": {
             "outlinewidth": 0,
             "ticks": ""
            },
            "type": "contourcarpet"
           }
          ],
          "heatmap": [
           {
            "colorbar": {
             "outlinewidth": 0,
             "ticks": ""
            },
            "colorscale": [
             [
              0.0,
              "#0d0887"
             ],
             [
              0.1111111111111111,
              "#46039f"
             ],
             [
              0.2222222222222222,
              "#7201a8"
             ],
             [
              0.3333333333333333,
              "#9c179e"
             ],
             [
              0.4444444444444444,
              "#bd3786"
             ],
             [
              0.5555555555555556,
              "#d8576b"
             ],
             [
              0.6666666666666666,
              "#ed7953"
             ],
             [
              0.7777777777777778,
              "#fb9f3a"
             ],
             [
              0.8888888888888888,
              "#fdca26"
             ],
             [
              1.0,
              "#f0f921"
             ]
            ],
            "type": "heatmap"
           }
          ],
          "heatmapgl": [
           {
            "colorbar": {
             "outlinewidth": 0,
             "ticks": ""
            },
            "colorscale": [
             [
              0.0,
              "#0d0887"
             ],
             [
              0.1111111111111111,
              "#46039f"
             ],
             [
              0.2222222222222222,
              "#7201a8"
             ],
             [
              0.3333333333333333,
              "#9c179e"
             ],
             [
              0.4444444444444444,
              "#bd3786"
             ],
             [
              0.5555555555555556,
              "#d8576b"
             ],
             [
              0.6666666666666666,
              "#ed7953"
             ],
             [
              0.7777777777777778,
              "#fb9f3a"
             ],
             [
              0.8888888888888888,
              "#fdca26"
             ],
             [
              1.0,
              "#f0f921"
             ]
            ],
            "type": "heatmapgl"
           }
          ],
          "histogram": [
           {
            "marker": {
             "pattern": {
              "fillmode": "overlay",
              "size": 10,
              "solidity": 0.2
             }
            },
            "type": "histogram"
           }
          ],
          "histogram2d": [
           {
            "colorbar": {
             "outlinewidth": 0,
             "ticks": ""
            },
            "colorscale": [
             [
              0.0,
              "#0d0887"
             ],
             [
              0.1111111111111111,
              "#46039f"
             ],
             [
              0.2222222222222222,
              "#7201a8"
             ],
             [
              0.3333333333333333,
              "#9c179e"
             ],
             [
              0.4444444444444444,
              "#bd3786"
             ],
             [
              0.5555555555555556,
              "#d8576b"
             ],
             [
              0.6666666666666666,
              "#ed7953"
             ],
             [
              0.7777777777777778,
              "#fb9f3a"
             ],
             [
              0.8888888888888888,
              "#fdca26"
             ],
             [
              1.0,
              "#f0f921"
             ]
            ],
            "type": "histogram2d"
           }
          ],
          "histogram2dcontour": [
           {
            "colorbar": {
             "outlinewidth": 0,
             "ticks": ""
            },
            "colorscale": [
             [
              0.0,
              "#0d0887"
             ],
             [
              0.1111111111111111,
              "#46039f"
             ],
             [
              0.2222222222222222,
              "#7201a8"
             ],
             [
              0.3333333333333333,
              "#9c179e"
             ],
             [
              0.4444444444444444,
              "#bd3786"
             ],
             [
              0.5555555555555556,
              "#d8576b"
             ],
             [
              0.6666666666666666,
              "#ed7953"
             ],
             [
              0.7777777777777778,
              "#fb9f3a"
             ],
             [
              0.8888888888888888,
              "#fdca26"
             ],
             [
              1.0,
              "#f0f921"
             ]
            ],
            "type": "histogram2dcontour"
           }
          ],
          "mesh3d": [
           {
            "colorbar": {
             "outlinewidth": 0,
             "ticks": ""
            },
            "type": "mesh3d"
           }
          ],
          "parcoords": [
           {
            "line": {
             "colorbar": {
              "outlinewidth": 0,
              "ticks": ""
             }
            },
            "type": "parcoords"
           }
          ],
          "pie": [
           {
            "automargin": true,
            "type": "pie"
           }
          ],
          "scatter": [
           {
            "marker": {
             "colorbar": {
              "outlinewidth": 0,
              "ticks": ""
             }
            },
            "type": "scatter"
           }
          ],
          "scatter3d": [
           {
            "line": {
             "colorbar": {
              "outlinewidth": 0,
              "ticks": ""
             }
            },
            "marker": {
             "colorbar": {
              "outlinewidth": 0,
              "ticks": ""
             }
            },
            "type": "scatter3d"
           }
          ],
          "scattercarpet": [
           {
            "marker": {
             "colorbar": {
              "outlinewidth": 0,
              "ticks": ""
             }
            },
            "type": "scattercarpet"
           }
          ],
          "scattergeo": [
           {
            "marker": {
             "colorbar": {
              "outlinewidth": 0,
              "ticks": ""
             }
            },
            "type": "scattergeo"
           }
          ],
          "scattergl": [
           {
            "marker": {
             "colorbar": {
              "outlinewidth": 0,
              "ticks": ""
             }
            },
            "type": "scattergl"
           }
          ],
          "scattermapbox": [
           {
            "marker": {
             "colorbar": {
              "outlinewidth": 0,
              "ticks": ""
             }
            },
            "type": "scattermapbox"
           }
          ],
          "scatterpolar": [
           {
            "marker": {
             "colorbar": {
              "outlinewidth": 0,
              "ticks": ""
             }
            },
            "type": "scatterpolar"
           }
          ],
          "scatterpolargl": [
           {
            "marker": {
             "colorbar": {
              "outlinewidth": 0,
              "ticks": ""
             }
            },
            "type": "scatterpolargl"
           }
          ],
          "scatterternary": [
           {
            "marker": {
             "colorbar": {
              "outlinewidth": 0,
              "ticks": ""
             }
            },
            "type": "scatterternary"
           }
          ],
          "surface": [
           {
            "colorbar": {
             "outlinewidth": 0,
             "ticks": ""
            },
            "colorscale": [
             [
              0.0,
              "#0d0887"
             ],
             [
              0.1111111111111111,
              "#46039f"
             ],
             [
              0.2222222222222222,
              "#7201a8"
             ],
             [
              0.3333333333333333,
              "#9c179e"
             ],
             [
              0.4444444444444444,
              "#bd3786"
             ],
             [
              0.5555555555555556,
              "#d8576b"
             ],
             [
              0.6666666666666666,
              "#ed7953"
             ],
             [
              0.7777777777777778,
              "#fb9f3a"
             ],
             [
              0.8888888888888888,
              "#fdca26"
             ],
             [
              1.0,
              "#f0f921"
             ]
            ],
            "type": "surface"
           }
          ],
          "table": [
           {
            "cells": {
             "fill": {
              "color": "#EBF0F8"
             },
             "line": {
              "color": "white"
             }
            },
            "header": {
             "fill": {
              "color": "#C8D4E3"
             },
             "line": {
              "color": "white"
             }
            },
            "type": "table"
           }
          ]
         },
         "layout": {
          "annotationdefaults": {
           "arrowcolor": "#2a3f5f",
           "arrowhead": 0,
           "arrowwidth": 1
          },
          "autotypenumbers": "strict",
          "coloraxis": {
           "colorbar": {
            "outlinewidth": 0,
            "ticks": ""
           }
          },
          "colorscale": {
           "diverging": [
            [
             0,
             "#8e0152"
            ],
            [
             0.1,
             "#c51b7d"
            ],
            [
             0.2,
             "#de77ae"
            ],
            [
             0.3,
             "#f1b6da"
            ],
            [
             0.4,
             "#fde0ef"
            ],
            [
             0.5,
             "#f7f7f7"
            ],
            [
             0.6,
             "#e6f5d0"
            ],
            [
             0.7,
             "#b8e186"
            ],
            [
             0.8,
             "#7fbc41"
            ],
            [
             0.9,
             "#4d9221"
            ],
            [
             1,
             "#276419"
            ]
           ],
           "sequential": [
            [
             0.0,
             "#0d0887"
            ],
            [
             0.1111111111111111,
             "#46039f"
            ],
            [
             0.2222222222222222,
             "#7201a8"
            ],
            [
             0.3333333333333333,
             "#9c179e"
            ],
            [
             0.4444444444444444,
             "#bd3786"
            ],
            [
             0.5555555555555556,
             "#d8576b"
            ],
            [
             0.6666666666666666,
             "#ed7953"
            ],
            [
             0.7777777777777778,
             "#fb9f3a"
            ],
            [
             0.8888888888888888,
             "#fdca26"
            ],
            [
             1.0,
             "#f0f921"
            ]
           ],
           "sequentialminus": [
            [
             0.0,
             "#0d0887"
            ],
            [
             0.1111111111111111,
             "#46039f"
            ],
            [
             0.2222222222222222,
             "#7201a8"
            ],
            [
             0.3333333333333333,
             "#9c179e"
            ],
            [
             0.4444444444444444,
             "#bd3786"
            ],
            [
             0.5555555555555556,
             "#d8576b"
            ],
            [
             0.6666666666666666,
             "#ed7953"
            ],
            [
             0.7777777777777778,
             "#fb9f3a"
            ],
            [
             0.8888888888888888,
             "#fdca26"
            ],
            [
             1.0,
             "#f0f921"
            ]
           ]
          },
          "colorway": [
           "#636efa",
           "#EF553B",
           "#00cc96",
           "#ab63fa",
           "#FFA15A",
           "#19d3f3",
           "#FF6692",
           "#B6E880",
           "#FF97FF",
           "#FECB52"
          ],
          "font": {
           "color": "#2a3f5f"
          },
          "geo": {
           "bgcolor": "white",
           "lakecolor": "white",
           "landcolor": "#E5ECF6",
           "showlakes": true,
           "showland": true,
           "subunitcolor": "white"
          },
          "hoverlabel": {
           "align": "left"
          },
          "hovermode": "closest",
          "mapbox": {
           "style": "light"
          },
          "paper_bgcolor": "white",
          "plot_bgcolor": "#E5ECF6",
          "polar": {
           "angularaxis": {
            "gridcolor": "white",
            "linecolor": "white",
            "ticks": ""
           },
           "bgcolor": "#E5ECF6",
           "radialaxis": {
            "gridcolor": "white",
            "linecolor": "white",
            "ticks": ""
           }
          },
          "scene": {
           "xaxis": {
            "backgroundcolor": "#E5ECF6",
            "gridcolor": "white",
            "gridwidth": 2,
            "linecolor": "white",
            "showbackground": true,
            "ticks": "",
            "zerolinecolor": "white"
           },
           "yaxis": {
            "backgroundcolor": "#E5ECF6",
            "gridcolor": "white",
            "gridwidth": 2,
            "linecolor": "white",
            "showbackground": true,
            "ticks": "",
            "zerolinecolor": "white"
           },
           "zaxis": {
            "backgroundcolor": "#E5ECF6",
            "gridcolor": "white",
            "gridwidth": 2,
            "linecolor": "white",
            "showbackground": true,
            "ticks": "",
            "zerolinecolor": "white"
           }
          },
          "shapedefaults": {
           "line": {
            "color": "#2a3f5f"
           }
          },
          "ternary": {
           "aaxis": {
            "gridcolor": "white",
            "linecolor": "white",
            "ticks": ""
           },
           "baxis": {
            "gridcolor": "white",
            "linecolor": "white",
            "ticks": ""
           },
           "bgcolor": "#E5ECF6",
           "caxis": {
            "gridcolor": "white",
            "linecolor": "white",
            "ticks": ""
           }
          },
          "title": {
           "x": 0.05
          },
          "xaxis": {
           "automargin": true,
           "gridcolor": "white",
           "linecolor": "white",
           "ticks": "",
           "title": {
            "standoff": 15
           },
           "zerolinecolor": "white",
           "zerolinewidth": 2
          },
          "yaxis": {
           "automargin": true,
           "gridcolor": "white",
           "linecolor": "white",
           "ticks": "",
           "title": {
            "standoff": 15
           },
           "zerolinecolor": "white",
           "zerolinewidth": 2
          }
         }
        }
       },
       "config": {
        "plotlyServerURL": "https://plot.ly"
       }
      },
      "text/html": "<div>                            <div id=\"2aa3c120-0e08-45a4-a155-a8b3441db278\" class=\"plotly-graph-div\" style=\"height:525px; width:100%;\"></div>            <script type=\"text/javascript\">                require([\"plotly\"], function(Plotly) {                    window.PLOTLYENV=window.PLOTLYENV || {};                                    if (document.getElementById(\"2aa3c120-0e08-45a4-a155-a8b3441db278\")) {                    Plotly.newPlot(                        \"2aa3c120-0e08-45a4-a155-a8b3441db278\",                        [{\"name\":\"y_true\",\"y\":[0.0022729733027517796,0.002814157400280237,0.002633762778714299,0.002922394312918186,0.0022729733027517796,0.006025183014571667,0.0049428148195147514,0.007215788122266531,0.005628314800560474,0.009308367036283016,0.01342136599123478,0.018292022868990898,0.027275679633021355,0.032254572957754135,0.03532128408551216,0.03539343923330307,0.057978857308626175,0.08179096132516861,0.09647508710622787,0.12620413303375244,0.1614532619714737,0.21575206518173218,0.203882098197937,0.1623552292585373,0.22762203216552734,0.2967132031917572,0.3248547911643982,0.4817260205745697,0.6160479187965393,0.7208572626113892,0.7655951380729675,0.852256715297699,0.8998448848724365,0.9411191940307617,0.8420825004577637,0.9498863220214844,1.0,0.8323411345481873,0.84825199842453,0.8954071402549744,0.8026121258735657,0.7365155220031738,0.6818559169769287,0.6672078371047974,0.635963499546051,0.843092679977417,0.7596781849861145,0.7018436193466187,0.6125482320785522,0.4892304241657257,0.3831583559513092,0.5422664880752563,0.3672475516796112,0.28394126892089844,0.26449471712112427,0.24728505313396454,0.2188187688589096,0.19976909458637238,0.17574052512645721,0.11563300341367722],\"type\":\"scatter\"},{\"name\":\"y_pred\",\"y\":[-0.0009455680847167969,-0.0005401819944381714,1.4513731002807617e-05,0.0002400428056716919,0.0004973858594894409,0.0004083365201950073,0.001756042242050171,0.002515137195587158,0.0038327574729919434,0.004195183515548706,0.005675807595252991,0.008669823408126831,0.012743234634399414,0.019558429718017578,0.026750415563583374,0.03303229808807373,0.036906927824020386,0.048794060945510864,0.06860849261283875,0.0895332396030426,0.11719655990600586,0.15249615907669067,0.20165497064590454,0.2279251217842102,0.22039443254470825,0.25110355019569397,0.32528936862945557,0.4497627019882202,0.6131986975669861,0.7147350311279297,0.7835891246795654,0.8324477672576904,0.8970544338226318,0.9246355295181274,0.9049386978149414,0.8856661319732666,0.9272655248641968,0.8934634923934937,0.8344200849533081,0.8319402933120728,0.8328744173049927,0.7785755395889282,0.6733061075210571,0.6368541717529297,0.6710124015808105,0.817746639251709,0.7984412908554077,0.7176728844642639,0.6195908188819885,0.5057387948036194,0.38195061683654785,0.5338547825813293,0.3594287633895874,0.30042344331741333,0.27726060152053833,0.2358715534210205,0.21495097875595093,0.20117080211639404,0.15238112211227417,0.12984511256217957,0.12962126731872559,0.11686331033706665,0.07960408926010132,0.06618800759315491,0.07181224226951599,0.07275494933128357,0.07607996463775635],\"type\":\"scatter\"}],                        {\"template\":{\"data\":{\"bar\":[{\"error_x\":{\"color\":\"#2a3f5f\"},\"error_y\":{\"color\":\"#2a3f5f\"},\"marker\":{\"line\":{\"color\":\"#E5ECF6\",\"width\":0.5},\"pattern\":{\"fillmode\":\"overlay\",\"size\":10,\"solidity\":0.2}},\"type\":\"bar\"}],\"barpolar\":[{\"marker\":{\"line\":{\"color\":\"#E5ECF6\",\"width\":0.5},\"pattern\":{\"fillmode\":\"overlay\",\"size\":10,\"solidity\":0.2}},\"type\":\"barpolar\"}],\"carpet\":[{\"aaxis\":{\"endlinecolor\":\"#2a3f5f\",\"gridcolor\":\"white\",\"linecolor\":\"white\",\"minorgridcolor\":\"white\",\"startlinecolor\":\"#2a3f5f\"},\"baxis\":{\"endlinecolor\":\"#2a3f5f\",\"gridcolor\":\"white\",\"linecolor\":\"white\",\"minorgridcolor\":\"white\",\"startlinecolor\":\"#2a3f5f\"},\"type\":\"carpet\"}],\"choropleth\":[{\"colorbar\":{\"outlinewidth\":0,\"ticks\":\"\"},\"type\":\"choropleth\"}],\"contour\":[{\"colorbar\":{\"outlinewidth\":0,\"ticks\":\"\"},\"colorscale\":[[0.0,\"#0d0887\"],[0.1111111111111111,\"#46039f\"],[0.2222222222222222,\"#7201a8\"],[0.3333333333333333,\"#9c179e\"],[0.4444444444444444,\"#bd3786\"],[0.5555555555555556,\"#d8576b\"],[0.6666666666666666,\"#ed7953\"],[0.7777777777777778,\"#fb9f3a\"],[0.8888888888888888,\"#fdca26\"],[1.0,\"#f0f921\"]],\"type\":\"contour\"}],\"contourcarpet\":[{\"colorbar\":{\"outlinewidth\":0,\"ticks\":\"\"},\"type\":\"contourcarpet\"}],\"heatmap\":[{\"colorbar\":{\"outlinewidth\":0,\"ticks\":\"\"},\"colorscale\":[[0.0,\"#0d0887\"],[0.1111111111111111,\"#46039f\"],[0.2222222222222222,\"#7201a8\"],[0.3333333333333333,\"#9c179e\"],[0.4444444444444444,\"#bd3786\"],[0.5555555555555556,\"#d8576b\"],[0.6666666666666666,\"#ed7953\"],[0.7777777777777778,\"#fb9f3a\"],[0.8888888888888888,\"#fdca26\"],[1.0,\"#f0f921\"]],\"type\":\"heatmap\"}],\"heatmapgl\":[{\"colorbar\":{\"outlinewidth\":0,\"ticks\":\"\"},\"colorscale\":[[0.0,\"#0d0887\"],[0.1111111111111111,\"#46039f\"],[0.2222222222222222,\"#7201a8\"],[0.3333333333333333,\"#9c179e\"],[0.4444444444444444,\"#bd3786\"],[0.5555555555555556,\"#d8576b\"],[0.6666666666666666,\"#ed7953\"],[0.7777777777777778,\"#fb9f3a\"],[0.8888888888888888,\"#fdca26\"],[1.0,\"#f0f921\"]],\"type\":\"heatmapgl\"}],\"histogram\":[{\"marker\":{\"pattern\":{\"fillmode\":\"overlay\",\"size\":10,\"solidity\":0.2}},\"type\":\"histogram\"}],\"histogram2d\":[{\"colorbar\":{\"outlinewidth\":0,\"ticks\":\"\"},\"colorscale\":[[0.0,\"#0d0887\"],[0.1111111111111111,\"#46039f\"],[0.2222222222222222,\"#7201a8\"],[0.3333333333333333,\"#9c179e\"],[0.4444444444444444,\"#bd3786\"],[0.5555555555555556,\"#d8576b\"],[0.6666666666666666,\"#ed7953\"],[0.7777777777777778,\"#fb9f3a\"],[0.8888888888888888,\"#fdca26\"],[1.0,\"#f0f921\"]],\"type\":\"histogram2d\"}],\"histogram2dcontour\":[{\"colorbar\":{\"outlinewidth\":0,\"ticks\":\"\"},\"colorscale\":[[0.0,\"#0d0887\"],[0.1111111111111111,\"#46039f\"],[0.2222222222222222,\"#7201a8\"],[0.3333333333333333,\"#9c179e\"],[0.4444444444444444,\"#bd3786\"],[0.5555555555555556,\"#d8576b\"],[0.6666666666666666,\"#ed7953\"],[0.7777777777777778,\"#fb9f3a\"],[0.8888888888888888,\"#fdca26\"],[1.0,\"#f0f921\"]],\"type\":\"histogram2dcontour\"}],\"mesh3d\":[{\"colorbar\":{\"outlinewidth\":0,\"ticks\":\"\"},\"type\":\"mesh3d\"}],\"parcoords\":[{\"line\":{\"colorbar\":{\"outlinewidth\":0,\"ticks\":\"\"}},\"type\":\"parcoords\"}],\"pie\":[{\"automargin\":true,\"type\":\"pie\"}],\"scatter\":[{\"marker\":{\"colorbar\":{\"outlinewidth\":0,\"ticks\":\"\"}},\"type\":\"scatter\"}],\"scatter3d\":[{\"line\":{\"colorbar\":{\"outlinewidth\":0,\"ticks\":\"\"}},\"marker\":{\"colorbar\":{\"outlinewidth\":0,\"ticks\":\"\"}},\"type\":\"scatter3d\"}],\"scattercarpet\":[{\"marker\":{\"colorbar\":{\"outlinewidth\":0,\"ticks\":\"\"}},\"type\":\"scattercarpet\"}],\"scattergeo\":[{\"marker\":{\"colorbar\":{\"outlinewidth\":0,\"ticks\":\"\"}},\"type\":\"scattergeo\"}],\"scattergl\":[{\"marker\":{\"colorbar\":{\"outlinewidth\":0,\"ticks\":\"\"}},\"type\":\"scattergl\"}],\"scattermapbox\":[{\"marker\":{\"colorbar\":{\"outlinewidth\":0,\"ticks\":\"\"}},\"type\":\"scattermapbox\"}],\"scatterpolar\":[{\"marker\":{\"colorbar\":{\"outlinewidth\":0,\"ticks\":\"\"}},\"type\":\"scatterpolar\"}],\"scatterpolargl\":[{\"marker\":{\"colorbar\":{\"outlinewidth\":0,\"ticks\":\"\"}},\"type\":\"scatterpolargl\"}],\"scatterternary\":[{\"marker\":{\"colorbar\":{\"outlinewidth\":0,\"ticks\":\"\"}},\"type\":\"scatterternary\"}],\"surface\":[{\"colorbar\":{\"outlinewidth\":0,\"ticks\":\"\"},\"colorscale\":[[0.0,\"#0d0887\"],[0.1111111111111111,\"#46039f\"],[0.2222222222222222,\"#7201a8\"],[0.3333333333333333,\"#9c179e\"],[0.4444444444444444,\"#bd3786\"],[0.5555555555555556,\"#d8576b\"],[0.6666666666666666,\"#ed7953\"],[0.7777777777777778,\"#fb9f3a\"],[0.8888888888888888,\"#fdca26\"],[1.0,\"#f0f921\"]],\"type\":\"surface\"}],\"table\":[{\"cells\":{\"fill\":{\"color\":\"#EBF0F8\"},\"line\":{\"color\":\"white\"}},\"header\":{\"fill\":{\"color\":\"#C8D4E3\"},\"line\":{\"color\":\"white\"}},\"type\":\"table\"}]},\"layout\":{\"annotationdefaults\":{\"arrowcolor\":\"#2a3f5f\",\"arrowhead\":0,\"arrowwidth\":1},\"autotypenumbers\":\"strict\",\"coloraxis\":{\"colorbar\":{\"outlinewidth\":0,\"ticks\":\"\"}},\"colorscale\":{\"diverging\":[[0,\"#8e0152\"],[0.1,\"#c51b7d\"],[0.2,\"#de77ae\"],[0.3,\"#f1b6da\"],[0.4,\"#fde0ef\"],[0.5,\"#f7f7f7\"],[0.6,\"#e6f5d0\"],[0.7,\"#b8e186\"],[0.8,\"#7fbc41\"],[0.9,\"#4d9221\"],[1,\"#276419\"]],\"sequential\":[[0.0,\"#0d0887\"],[0.1111111111111111,\"#46039f\"],[0.2222222222222222,\"#7201a8\"],[0.3333333333333333,\"#9c179e\"],[0.4444444444444444,\"#bd3786\"],[0.5555555555555556,\"#d8576b\"],[0.6666666666666666,\"#ed7953\"],[0.7777777777777778,\"#fb9f3a\"],[0.8888888888888888,\"#fdca26\"],[1.0,\"#f0f921\"]],\"sequentialminus\":[[0.0,\"#0d0887\"],[0.1111111111111111,\"#46039f\"],[0.2222222222222222,\"#7201a8\"],[0.3333333333333333,\"#9c179e\"],[0.4444444444444444,\"#bd3786\"],[0.5555555555555556,\"#d8576b\"],[0.6666666666666666,\"#ed7953\"],[0.7777777777777778,\"#fb9f3a\"],[0.8888888888888888,\"#fdca26\"],[1.0,\"#f0f921\"]]},\"colorway\":[\"#636efa\",\"#EF553B\",\"#00cc96\",\"#ab63fa\",\"#FFA15A\",\"#19d3f3\",\"#FF6692\",\"#B6E880\",\"#FF97FF\",\"#FECB52\"],\"font\":{\"color\":\"#2a3f5f\"},\"geo\":{\"bgcolor\":\"white\",\"lakecolor\":\"white\",\"landcolor\":\"#E5ECF6\",\"showlakes\":true,\"showland\":true,\"subunitcolor\":\"white\"},\"hoverlabel\":{\"align\":\"left\"},\"hovermode\":\"closest\",\"mapbox\":{\"style\":\"light\"},\"paper_bgcolor\":\"white\",\"plot_bgcolor\":\"#E5ECF6\",\"polar\":{\"angularaxis\":{\"gridcolor\":\"white\",\"linecolor\":\"white\",\"ticks\":\"\"},\"bgcolor\":\"#E5ECF6\",\"radialaxis\":{\"gridcolor\":\"white\",\"linecolor\":\"white\",\"ticks\":\"\"}},\"scene\":{\"xaxis\":{\"backgroundcolor\":\"#E5ECF6\",\"gridcolor\":\"white\",\"gridwidth\":2,\"linecolor\":\"white\",\"showbackground\":true,\"ticks\":\"\",\"zerolinecolor\":\"white\"},\"yaxis\":{\"backgroundcolor\":\"#E5ECF6\",\"gridcolor\":\"white\",\"gridwidth\":2,\"linecolor\":\"white\",\"showbackground\":true,\"ticks\":\"\",\"zerolinecolor\":\"white\"},\"zaxis\":{\"backgroundcolor\":\"#E5ECF6\",\"gridcolor\":\"white\",\"gridwidth\":2,\"linecolor\":\"white\",\"showbackground\":true,\"ticks\":\"\",\"zerolinecolor\":\"white\"}},\"shapedefaults\":{\"line\":{\"color\":\"#2a3f5f\"}},\"ternary\":{\"aaxis\":{\"gridcolor\":\"white\",\"linecolor\":\"white\",\"ticks\":\"\"},\"baxis\":{\"gridcolor\":\"white\",\"linecolor\":\"white\",\"ticks\":\"\"},\"bgcolor\":\"#E5ECF6\",\"caxis\":{\"gridcolor\":\"white\",\"linecolor\":\"white\",\"ticks\":\"\"}},\"title\":{\"x\":0.05},\"xaxis\":{\"automargin\":true,\"gridcolor\":\"white\",\"linecolor\":\"white\",\"ticks\":\"\",\"title\":{\"standoff\":15},\"zerolinecolor\":\"white\",\"zerolinewidth\":2},\"yaxis\":{\"automargin\":true,\"gridcolor\":\"white\",\"linecolor\":\"white\",\"ticks\":\"\",\"title\":{\"standoff\":15},\"zerolinecolor\":\"white\",\"zerolinewidth\":2}}}},                        {\"responsive\": true}                    ).then(function(){\n                            \nvar gd = document.getElementById('2aa3c120-0e08-45a4-a155-a8b3441db278');\nvar x = new MutationObserver(function (mutations, observer) {{\n        var display = window.getComputedStyle(gd).display;\n        if (!display || display === 'none') {{\n            console.log([gd, 'removed!']);\n            Plotly.purge(gd);\n            observer.disconnect();\n        }}\n}});\n\n// Listen for the removal of the full notebook cells\nvar notebookContainer = gd.closest('#notebook-container');\nif (notebookContainer) {{\n    x.observe(notebookContainer, {childList: true});\n}}\n\n// Listen for the clearing of the current output cell\nvar outputEl = gd.closest('.output');\nif (outputEl) {{\n    x.observe(outputEl, {childList: true});\n}}\n\n                        })                };                });            </script>        </div>"
     },
     "metadata": {},
     "output_type": "display_data"
    }
   ],
   "source": [
    "# 外推20个点\n",
    "n = 7\n",
    "\n",
    "list_y_pre = []\n",
    "x = X[-1].view(1, time_step, 1)\n",
    "\n",
    "for n in range(1, n + 1):\n",
    "    y = model.forward(x)\n",
    "    # y = y.view(-1,1,1)\n",
    "    list_y_pre.append(y.item())\n",
    "    x = torch.cat([x, y], dim=1)\n",
    "    x = x[:, 1:, :]\n",
    "\n",
    "y_p2_pred = np.concatenate((y_p_pred, np.array(list_y_pre)))\n",
    "fig = go.Figure()\n",
    "fig.add_trace(go.Scatter(y=Y_p_true, name='y_true'))\n",
    "fig.add_trace(go.Scatter(y=y_p2_pred, name='y_pred'))\n",
    "fig.show()"
   ],
   "metadata": {
    "collapsed": false,
    "pycharm": {
     "name": "#%%\n"
    }
   }
  },
  {
   "cell_type": "code",
   "execution_count": null,
   "outputs": [],
   "source": [],
   "metadata": {
    "collapsed": false,
    "pycharm": {
     "name": "#%%\n"
    }
   }
  }
 ],
 "metadata": {
  "kernelspec": {
   "display_name": "Python 3",
   "language": "python",
   "name": "python3"
  },
  "language_info": {
   "codemirror_mode": {
    "name": "ipython",
    "version": 2
   },
   "file_extension": ".py",
   "mimetype": "text/x-python",
   "name": "python",
   "nbconvert_exporter": "python",
   "pygments_lexer": "ipython2",
   "version": "2.7.6"
  }
 },
 "nbformat": 4,
 "nbformat_minor": 0
}