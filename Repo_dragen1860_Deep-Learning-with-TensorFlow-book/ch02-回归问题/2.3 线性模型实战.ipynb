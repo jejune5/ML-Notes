{
 "cells": [
  {
   "cell_type": "markdown",
   "metadata": {
    "collapsed": true,
    "pycharm": {
     "is_executing": false,
     "name": "#%% md\n"
    }
   },
   "source": [
    "2.3 线性模型实战\n",
    "𝑦 = 1.477*𝑥 + 0.089 + 𝜖, 𝜖 ∼ 𝒩( 0, 0.0001)"
   ]
  },
  {
   "cell_type": "code",
   "execution_count": 49,
   "outputs": [
    {
     "name": "stdout",
     "text": [
      "[[  9.20417431  13.69122708]\n [  4.82787393   7.2173452 ]\n [  0.02079369   0.11527885]\n [  9.53071497  14.15555444]\n [  7.96415251  11.84478784]\n [ -4.82995495  -7.04240559]\n [  1.96833132   3.00065623]\n [ -8.89759317 -13.0518077 ]\n [  5.75633846   8.59224206]\n [  1.1079311    1.71491891]\n [  1.64417132   2.52382628]\n [  7.43351217  11.06363956]\n [ -8.26694317 -12.1325088 ]\n [ -2.4991174   -3.60605303]\n [ -1.76971621  -2.51355303]\n [ -2.87124198  -4.15804787]\n [  3.18752749   4.78986546]\n [  2.67956076   4.04698632]\n [ -9.85548883 -14.47833369]\n [ -1.77503714  -2.52884312]\n [ -8.5641365  -12.54870572]\n [  3.38662202   5.10384495]\n [ -4.35309709  -6.32631882]\n [  7.97910932  11.87587697]\n [ -9.89144611 -14.52701233]\n [  8.72851285  12.97823382]\n [  8.5444937   12.73717243]\n [ -5.0816216   -7.42277423]\n [ -3.22964612  -4.68172363]\n [  4.27436932   6.37526823]\n [ -6.4141198   -9.38172634]\n [  2.94895668   4.4365812 ]\n [  1.15170769   1.8138591 ]\n [ -1.7364244   -2.47435263]\n [  7.55935877  11.25306239]\n [  2.72313958   4.09938879]\n [ -6.20093794  -9.06301065]\n [ -9.36462919 -13.74148077]\n [  4.15282311   6.21172633]\n [ -1.04631551  -1.46203066]\n [ -8.22945309 -12.06883294]\n [  9.66171195  14.35087785]\n [  4.78067112   7.15247889]\n [ -7.71985485 -11.31506294]\n [ -2.51048225  -3.62483501]\n [  4.94288705   7.39836672]\n [  2.65583188   4.00362796]\n [ -8.07464516 -11.84254399]\n [  3.40058511   5.12109275]\n [  8.94798868  13.30835264]\n [  1.00207665   1.56359372]\n [ -8.96400113 -13.14861724]\n [  0.98611984   1.56262408]\n [ -0.34031203  -0.39451981]\n [  9.6231648   14.28061814]\n [  8.89859749  13.20856584]\n [ -1.14374264  -1.59947801]\n [  5.58748433   8.34077438]\n [ -0.82232738  -1.12005261]\n [  3.82947364   5.74513033]\n [ -7.83865805 -11.47421067]\n [ -7.86866482 -11.53140785]\n [  3.93970367   5.91248725]\n [ -5.43133357  -7.92978322]\n [ -5.66310578  -8.29592937]\n [  6.88549817  10.25597275]\n [  3.98769238   5.98823038]\n [  2.56695374   3.89484916]\n [  3.93990359   5.91976694]\n [  4.60615249   6.91412136]\n [  8.03332723  11.95562686]\n [  1.45248      2.22740565]\n [  1.48547174   2.28295192]\n [  8.57981508  12.77455986]\n [ -5.7085681   -8.3499428 ]\n [  1.57217745   2.42103603]\n [  7.67039427  11.42589264]\n [  8.51456063  12.66753668]\n [  5.93432151   8.8593574 ]\n [ -2.50496591  -3.6177964 ]\n [  3.7991914    5.69601963]\n [  3.28534024   4.9482258 ]\n [ -1.67069576  -2.37734986]\n [  6.05735956   9.05266163]\n [ -6.53160541  -9.56018145]\n [  3.89777246   5.84436027]\n [  1.83828725   2.80213679]\n [  8.42331295  12.53793065]\n [ -7.61501485 -11.1759594 ]\n [ -1.21740002  -1.71479975]\n [  7.7994942   11.6026296 ]\n [  7.46592846  11.1126395 ]\n [  2.38047497   3.58638686]\n [ -5.9186499   -8.65255582]\n [  5.87684377   8.76552118]\n [ -4.56486678  -6.66068694]\n [  0.05756356   0.18835416]\n [  1.23377411   1.91630656]\n [ -7.54957229 -11.07343149]\n [ -2.73487724  -3.95842413]]\n"
     ],
     "output_type": "stream"
    },
    {
     "data": {
      "text/plain": "<Figure size 432x288 with 1 Axes>",
      "image/png": "[encoded data removed]"
     },
     "metadata": {
      "needs_background": "light"
     },
     "output_type": "display_data"
    }
   ],
   "source": [
    "import matplotlib.pyplot as plt\n",
    "# 1 采样数据\n",
    "import numpy as np\n",
    "\n",
    "data = []\n",
    "for i in range(100):\n",
    "    #随机采样\n",
    "    x = np.random.uniform(-10., 10.)\n",
    "    #采样高斯噪声\n",
    "    eps = np.random.normal(0., 0.01)\n",
    "    #得到模型的输出\n",
    "    y = 1.477*x + 0.089 + eps\n",
    "    #保存样本\n",
    "    data.append([x,y])\n",
    "    \n",
    "data = np.array(data)\n",
    "print(data)\n",
    "plt.scatter(data[:,0],data[:,1])\n",
    "plt.grid()\n",
    "plt.show()"
   ],
   "metadata": {
    "collapsed": false,
    "pycharm": {
     "name": "#%%\n",
     "is_executing": false
    }
   }
  },
  {
   "cell_type": "code",
   "execution_count": 43,
   "outputs": [],
   "source": [
    "# 2 计算误差\n",
    "def mse(b, w ,points):\n",
    "    # 根据 w,b 参数计算均方差损失\n",
    "    totalErr = 0\n",
    "    for i in range(0, len(points)):\n",
    "        x = points[i,0]\n",
    "        y = points[i,1]\n",
    "        #计算差的平方\n",
    "        totalErr += (y - (w*x + b)) **2\n",
    "    #将累加的误差求平均，得到均方差\n",
    "    return totalErr / float(len(points))\n",
    "        "
   ],
   "metadata": {
    "collapsed": false,
    "pycharm": {
     "name": "#%%\n",
     "is_executing": false
    }
   }
  },
  {
   "cell_type": "code",
   "execution_count": 44,
   "outputs": [],
   "source": [
    "#计算梯度\n",
    "def step_gradient(b_current, w_current, points, lr):\n",
    "    #计算误差函数所在点上的导数，并更新w,b\n",
    "    b_gradient = 0\n",
    "    w_gradient = 0\n",
    "    M = float(len(points))\n",
    "    for i in range(0, len(points)):\n",
    "        x = points[i, 0]\n",
    "        y = points[i, 1]\n",
    "        # 误差函数对b的导数:\n",
    "        b_gradient += (2/M) * ((w_current*x + b_gradient) - y)\n",
    "        w_gradient += (2/M) * x * ((w_current*x + b_gradient) - y)\n",
    "    # 根据梯度下降算法更新 w',b',其中lr 为学习率\n",
    "    new_b = b_current - (lr * b_gradient)\n",
    "    new_w = w_current - (lr * w_gradient)\n",
    "    return [new_b, new_w]\n",
    "        "
   ],
   "metadata": {
    "collapsed": false,
    "pycharm": {
     "name": "#%%\n",
     "is_executing": false
    }
   }
  },
  {
   "cell_type": "code",
   "execution_count": 45,
   "outputs": [],
   "source": [
    "#梯度更新\n",
    "def gradient_descend(points, starting_b,starting_w,lr,num_iterations):\n",
    "    #循环更新 w,b多次\n",
    "    b = starting_b\n",
    "    w = starting_w\n",
    "    #更新多次\n",
    "    for step in range(num_iterations):\n",
    "        #计算梯度并更新\n",
    "        b, w = step_gradient(b, w, np.array(points), lr)\n",
    "        loss = mse(b,w,points)\n",
    "        if step%50 == 0:\n",
    "            print(f\"iteration:{step}, loss:{loss}, w:{w},b:{b}\")\n",
    "    return [b,w]"
   ],
   "metadata": {
    "collapsed": false,
    "pycharm": {
     "name": "#%%\n",
     "is_executing": false
    }
   }
  },
  {
   "cell_type": "code",
   "execution_count": 46,
   "outputs": [
    {
     "name": "stdout",
     "text": [
      "iteration:0, loss:10.488854785380854, w:0.8832160750377132,b:0.02728772379026339\niteration:50, loss:0.05413122138603836, w:1.4834704768561044,b:0.31479247675712585\niteration:100, loss:0.2539246224745342, w:1.4834704768561044,b:0.5874580499577126\niteration:150, loss:0.6024110531806393, w:1.4834704768561044,b:0.8601236231582993\niteration:200, loss:1.0995905135043471, w:1.4834704768561044,b:1.1327891963588832\niteration:250, loss:1.7454630034456533, w:1.4834704768561044,b:1.4054547695594644\niteration:300, loss:2.540028523004564, w:1.4834704768561044,b:1.6781203427600455\niteration:350, loss:3.4832870721810765, w:1.4834704768561044,b:1.9507859159606267\niteration:400, loss:4.575238650975191, w:1.4834704768561044,b:2.223451489161208\niteration:450, loss:5.815883259386911, w:1.4834704768561044,b:2.496117062361789\niteration:500, loss:7.205220897416229, w:1.4834704768561044,b:2.76878263556237\niteration:550, loss:8.743251565063154, w:1.4834704768561044,b:3.0414482087629513\niteration:600, loss:10.429975262327687, w:1.4834704768561044,b:3.3141137819635325",
      "\niteration:650, loss:12.265391989209816, w:1.4834704768561044,b:3.5867793551641136\niteration:700, loss:14.249501745709543, w:1.4834704768561044,b:3.8594449283646948\niteration:750, loss:16.382304531826964, w:1.4834704768561044,b:4.132110501565287\niteration:800, loss:18.66380034756211, w:1.4834704768561044,b:4.40477607476589\niteration:850, loss:21.093989192914872, w:1.4834704768561044,b:4.677441647966494\niteration:900, loss:23.67287106788526, w:1.4834704768561044,b:4.950107221167097\niteration:950, loss:26.400445972473282, w:1.4834704768561044,b:5.2227727943677005\nFinal loss:29.217731356304572, w:1.4834704768561044, b:5.489985056104292",
      "\n"
     ],
     "output_type": "stream"
    }
   ],
   "source": [
    "def main():\n",
    "    lr = 0.01\n",
    "    initial_b = 0\n",
    "    initial_w = 0\n",
    "    num_iterations = 1000\n",
    "    [b, w] = gradient_descend(data, initial_b, initial_w, lr, num_iterations)\n",
    "    loss = mse(b, w, data)\n",
    "    print(f'Final loss:{loss}, w:{w}, b:{b}')\n",
    "\n",
    "if __name__ == '__main__':\n",
    "    main()"
   ],
   "metadata": {
    "collapsed": false,
    "pycharm": {
     "name": "#%%\n",
     "is_executing": false
    }
   }
  }
 ],
 "metadata": {
  "kernelspec": {
   "display_name": "Python 3",
   "language": "python",
   "name": "python3"
  },
  "language_info": {
   "codemirror_mode": {
    "name": "ipython",
    "version": 2
   },
   "file_extension": ".py",
   "mimetype": "text/x-python",
   "name": "python",
   "nbconvert_exporter": "python",
   "pygments_lexer": "ipython2",
   "version": "2.7.6"
  },
  "pycharm": {
   "stem_cell": {
    "cell_type": "raw",
    "source": [],
    "metadata": {
     "collapsed": false
    }
   }
  }
 },
 "nbformat": 4,
 "nbformat_minor": 0
}