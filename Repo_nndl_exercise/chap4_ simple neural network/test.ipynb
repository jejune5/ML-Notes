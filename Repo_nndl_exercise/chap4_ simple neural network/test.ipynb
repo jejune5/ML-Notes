{
 "cells": [
  {
   "cell_type": "code",
   "execution_count": 51,
   "metadata": {
    "collapsed": true,
    "pycharm": {
     "is_executing": false
    }
   },
   "outputs": [
    {
     "name": "stdout",
     "text": [
      "[[-1.06714902]\n [-1.68480211]\n [-0.09214341]\n [-1.17260435]\n [ 0.01765593]]\n= = = = \n[[-0.0405879   1.3094696   0.73447837  0.5932362  -0.20233608]]\n= = = = \n[[ 4.33133402e-02 -1.39739921e+00 -7.83797875e-01 -6.33071428e-01\n   2.15922753e-01]\n [ 6.83825832e-02 -2.20619715e+00 -1.23745071e+00 -9.99485595e-01\n   3.40896258e-01]\n [ 3.73990773e-03 -1.20658995e-01 -6.76773419e-02 -5.46628064e-02\n   1.86439367e-02]\n [ 4.75935505e-02 -1.53548975e+00 -8.61252530e-01 -6.95631343e-01\n   2.37260170e-01]\n [-7.16617303e-04  2.31199083e-02  1.29679013e-02  1.04741389e-02\n  -3.57243242e-03]]\n= = = = \n[[ 0.07954632  1.56728689 -0.39875884  0.86484194  0.66698549]\n [-1.26602208  2.11009241  0.26657476  1.32643509  1.28742829]\n [-0.11506769 -1.43335143  2.034541   -1.64027939  1.96910953]\n [ 2.19876889  0.16302374 -1.00928201  1.2553298   0.11360611]\n [-0.50742175 -0.6097796   0.56021626 -1.668111    1.38937145]]\n[[1 2]\n [3 4]]\n[[1 1]\n [1 1]]\n[[4 6]\n [4 6]]\n"
     ],
     "output_type": "stream"
    }
   ],
   "source": [
    "import numpy as np\n",
    "\n",
    "w = np.random.randn(5,1)\n",
    "print(w)\n",
    "print('= = = = ')\n",
    "\n",
    "x = np.random.randn(1,5)\n",
    "print(x)\n",
    "print('= = = = ')\n",
    "\n",
    "D = w.dot(x)\n",
    "print(D)\n",
    "print('= = = = ')\n",
    "\n",
    "dD = np.random.randn(*D.shape)\n",
    "print(dD)\n",
    "\n",
    "\n",
    "a = np.array([[1, 2],[3, 4]])\n",
    "\n",
    "print(a)\n",
    "b = np.array([[1, 1], [1,1]])\n",
    "print(b)\n",
    "print(b.dot(a))"
   ]
  }
 ],
 "metadata": {
  "language_info": {
   "codemirror_mode": {
    "name": "ipython",
    "version": 2
   },
   "file_extension": ".py",
   "mimetype": "text/x-python",
   "name": "python",
   "nbconvert_exporter": "python",
   "pygments_lexer": "ipython2",
   "version": "2.7.6"
  },
  "kernelspec": {
   "name": "python3",
   "language": "python",
   "display_name": "Python 3"
  },
  "pycharm": {
   "stem_cell": {
    "cell_type": "raw",
    "source": [],
    "metadata": {
     "collapsed": false
    }
   }
  }
 },
 "nbformat": 4,
 "nbformat_minor": 0
}