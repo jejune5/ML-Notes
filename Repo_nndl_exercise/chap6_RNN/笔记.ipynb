{
 "cells": [
  {
   "cell_type": "markdown",
   "metadata": {},
   "source": [
    "# CH6 循环神经网络\n",
    "## 6.1 给网络增加记忆能力\n",
    "延时网络\n",
    "$\\boldsymbol{h}_{t}^{(l)}=f\\left(\\boldsymbol{h}_{t}^{(l-1)}, \\boldsymbol{h}_{t-1}^{(l-1)}, \\cdots, \\boldsymbol{h}_{t-K}^{(l-1)}\\right)$\n",
    "## 6.4 参数学习\n",
    "对数据集，***x1***为输入，*y1*为标签（长度均为T）：\n",
    "\n",
    "$\\boldsymbol{x}_{1: T}=\\left(\\boldsymbol{x}_{1}, \\cdots, \\boldsymbol{x}_{T}\\right)$\n",
    "\n",
    "$y_{1: T}=\\left(y_{1}, \\cdots, y_{T}\\right)$\n",
    "\n",
    "*t* 时刻损失函数:$\\mathcal{L}_{t}=\\mathcal{L}\\left(y_{t}, g\\left(\\boldsymbol{h}_{t}\\right)\\right)$\n",
    "\n",
    "对参数 U 求梯度：\n",
    "$\\frac{\\partial \\mathcal{L}}{\\partial \\boldsymbol{U}}=\\sum_{t=1}^{T} \\frac{\\partial \\mathcal{L}_{t}}{\\partial \\boldsymbol{U}}$\n",
    "\n",
    "### 6.4.1 随时间反向传播（BPTT）\n",
    "计算偏导数：\n",
    "$\\frac{\\partial \\mathcal{L}_{t}}{\\partial \\boldsymbol{U}}$\n",
    "\n",
    "每个时刻$k(1\\leq k \\leq t)$的净输入：\n",
    "$\n",
    "\\boldsymbol{z}_{k}=\\boldsymbol{U} \\boldsymbol{h}_{k-1}+\\boldsymbol{W} \\boldsymbol{x}_{k}+\\boldsymbol{b}\n",
    "$\n",
    "\n",
    "对$u_{ij}$求偏导\n",
    "$\\frac{\\partial \\mathcal{L}_{t}}{\\partial u_{i j}}=\\sum_{k=1}^{t} \\frac{\\partial^{+} z_{k}}{\\partial u_{i j}} \\frac{\\partial \\mathcal{L}_{t}}{\\partial z_{k}}$\n",
    "\n",
    "$\\frac{\\partial^{+} z_{k}}{\\partial u_{i j}}$为直接求偏导:\n",
    "\n",
    "$\\frac{\\partial^{+} z_{k}}{\\partial u_{i j}}=[0,...,[h_{k-1}]_{j},...,0]$\n",
    "$\\triangleq \\mathbb{I}_{i}\\left(\\left[\\boldsymbol{h}_{k-1}\\right]_{j}\\right)$\n",
    "\n",
    "### 6.4.2 实时循环学习（RTRL）\n",
    "\n"
   ]
  },
  {
   "cell_type": "code",
   "execution_count": null,
   "metadata": {},
   "outputs": [],
   "source": []
  }
 ],
 "metadata": {
  "kernelspec": {
   "display_name": "Python 3",
   "language": "python",
   "name": "python3"
  },
  "language_info": {
   "codemirror_mode": {
    "name": "ipython",
    "version": 3
   },
   "file_extension": ".py",
   "mimetype": "text/x-python",
   "name": "python",
   "nbconvert_exporter": "python",
   "pygments_lexer": "ipython3",
   "version": "3.7.6"
  }
 },
 "nbformat": 4,
 "nbformat_minor": 4
}
