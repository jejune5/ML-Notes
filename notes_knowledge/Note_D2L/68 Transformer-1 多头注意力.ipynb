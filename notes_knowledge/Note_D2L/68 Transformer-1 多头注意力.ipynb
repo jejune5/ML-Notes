{
 "cells": [
  {
   "cell_type": "markdown",
   "source": [
    "# 1. 多头注意力\n",
    "![img](https://zh.d2l.ai/_images/multi-head-attention.svg)"
   ],
   "metadata": {
    "collapsed": false,
    "pycharm": {
     "name": "#%% md\n"
    }
   }
  },
  {
   "cell_type": "markdown",
   "source": [
    "公式：\n",
    "$$\n",
    "\\mathbf{h}_{i}=f\\left(\\mathbf{W}_{i}^{(q)} \\mathbf{q}, \\mathbf{W}_{i}^{(k)} \\mathbf{k}, \\mathbf{W}_{i}^{(v)} \\mathbf{v}\\right) \\in \\mathbb{R}^{p_{v}} \\\\\n",
    "\n",
    "query: \\mathbf{q} \\in \\mathbb{R}^{d_{q}} \\\\\n",
    "key: \\mathbf{k} \\in \\mathbb{R}^{d_{k}} \\\\\n",
    "value: \\mathbf{v} \\in \\mathbb{R}^{d_{v}} \\\\\n",
    "\n",
    "学习的参数：\\\\\n",
    "\\mathbf{W}_{i}^{(q)} \\in \\mathbb{R}^{p_{q \\times d} \\times d_{q}} \\quad \\\\\n",
    "\n",
    "\\mathbf{W}_{i}^{(k)} \\in \\mathbb{R}^{p k \\times d k }  \\\\\n",
    "\n",
    "\\mathbf{W}_{i}^{(v)} \\in \\mathbb{R}^{p_{v} \\times d_{v}} \\\\\n",
    "\n",
    "注意力汇聚函数 (加性注意力，缩放点积注意力)：f \\\\\n",
    "\n",
    "输出需要 W_o \\in \\mathbb{R}^{po \\times hpv} \\\\\n",
    "\n",
    "\\mathbf{W}_{o}\\left[\\begin{array}{c}\n",
    "\\mathbf{h}_{1} \\\\\n",
    "\\vdots \\\\\n",
    "\\mathbf{h}_{h}\n",
    "\\end{array}\\right] \\in \\mathbb{R}^{p_{o}}\n",
    "\n",
    "$$"
   ],
   "metadata": {
    "collapsed": false,
    "pycharm": {
     "name": "#%% md\n"
    }
   }
  },
  {
   "cell_type": "code",
   "execution_count": 12,
   "outputs": [],
   "source": [
    "import math\n",
    "import torch\n",
    "from torch import nn\n",
    "from d2l import torch as d2l"
   ],
   "metadata": {
    "collapsed": false,
    "pycharm": {
     "name": "#%%\n"
    }
   }
  },
  {
   "cell_type": "code",
   "execution_count": 16,
   "outputs": [],
   "source": [
    "class MultiHeadAttention(nn.Module):\n",
    "    \"\"\"\n",
    "    多头注意力\n",
    "     Args:\n",
    "         ...\n",
    "\n",
    "    Inputs:\n",
    "        ...\n",
    "\n",
    "    Returns:\n",
    "        ...\n",
    "\n",
    "    \"\"\"\n",
    "\n",
    "    def __init__(\n",
    "            self,\n",
    "            key_size,\n",
    "            query_size,\n",
    "            value_size,\n",
    "            num_hiddens,\n",
    "            num_heads,\n",
    "            dropout,\n",
    "            bias=False,\n",
    "            **kwargs\n",
    "    ):\n",
    "        super(MultiHeadAttention, self).__init__()\n",
    "        self.num_heads = num_heads\n",
    "        self.attention = d2l.DotProductAttention(dropout=dropout)\n",
    "        self.W_q = nn.Linear(query_size, num_hiddens, bias=bias)\n",
    "        self.W_k = nn.Linear(key_size, num_hiddens, bias=bias)\n",
    "        self.W_v = nn.Linear(value_size, num_hiddens, bias=bias)\n",
    "        self.W_o = nn.Linear(num_hiddens, num_hiddens, bias=bias)\n",
    "\n",
    "    def forward(self, queries, keys, values, valid_lens):\n",
    "        \"\"\"\n",
    "        Args:\n",
    "            queries (torch.Tensor): shape->(batch_size, qkv_dim, num_hiddens)\n",
    "            keys (torch.Tensor): shape->(batch_size, qkv_dim, num_hiddens)\n",
    "            values (torch.Tensor): shape->()\n",
    "            valid_lens (torch.Tensor): shape->()\n",
    "        Outputs:\n",
    "            valid_lens (torch.Tensor)\n",
    "        \"\"\"\n",
    "        queries = self.transpose_qkv(self.W_q(queries), self.num_heads)\n",
    "        keys = self.transpose_qkv(self.W_k(keys), self.num_heads)\n",
    "        values = self.transpose_qkv(self.W_v(values), self.num_heads)\n",
    "        if valid_lens is not None:\n",
    "            #\n",
    "            valid_lens = torch.repeat_interleave(valid_lens, self.num_heads, dim=0)\n",
    "\n",
    "        output = self.attention(queries, keys, values, valid_lens)\n",
    "\n",
    "        output_concat = self.transpose_output(output, self.num_heads)\n",
    "        # output_concat shape->(batch_size，查询的个数，num_hiddens)\n",
    "        return self.W_o(output_concat)\n",
    "\n",
    "    def transpose_qkv(self, X, num_heads):\n",
    "        \"\"\"\n",
    "        为多注意力头的并行变换形状\n",
    "        Args:\n",
    "            X (torch.Tensor): shape->(batch_size, qkv_dim, num_hiddens), `qkv_dim`:`num_of_key-value_pairs`.\n",
    "            num_heads (int): 头个数.\n",
    "        Outputs:\n",
    "            X (torch.Tensor): shape->(batch_size*num_heads, qkv_dim, num_hiddens/num_heads)\n",
    "        \"\"\"\n",
    "        batch_size, qkv_dim, num_hiddens = X.shape\n",
    "        X = X.reshape(batch_size, qkv_dim, num_heads, -1)\n",
    "        # shape->(batch_size, qkv_dim, num_heads, num_hiddens/num_heads)\n",
    "        X = X.permute(0, 2, 1, 3)\n",
    "        # shape->(batch_size, num_heads, qkv_dim, num_hiddens/num_heads)\n",
    "        # out: shape->(batch_size*num_heads, qkv_dim, num_hiddens/num_heads)\n",
    "        return X.reshape(-1, X.shape[2], X.shape[3])\n",
    "\n",
    "    def transpose_output(self, X, num_heads):\n",
    "        \"\"\"\n",
    "        逆转transpose_qkv函数的操作\n",
    "        Args:\n",
    "            X (torch.Tensor): shape->(batch_size*num_heads, kv_dim, num_hiddens/num_heads)\n",
    "        Outputs:\n",
    "            X (torch.Tensor): shape->(batch_size, kv_dim, num_hiddens)\n",
    "        \"\"\"\n",
    "        X = X.reshape(-1, num_heads, X.shape[1], X.shape[2])\n",
    "        # shape->(batch_size, num_heads, kv_dim, num_hiddens/num_heads)\n",
    "        X = X.permute(0, 2, 1, 3)\n",
    "        X = X.reshape(X.shape[0], X.shape[1], -1)\n",
    "        # shape->(batch_size, kv_dim, num_hiddens)\n",
    "        return X\n"
   ],
   "metadata": {
    "collapsed": false,
    "pycharm": {
     "name": "#%%\n"
    }
   }
  },
  {
   "cell_type": "code",
   "execution_count": 17,
   "outputs": [
    {
     "data": {
      "text/plain": "MultiHeadAttention(\n  (attention): DotProductAttention(\n    (dropout): Dropout(p=0.5, inplace=False)\n  )\n  (W_q): Linear(in_features=100, out_features=100, bias=False)\n  (W_k): Linear(in_features=100, out_features=100, bias=False)\n  (W_v): Linear(in_features=100, out_features=100, bias=False)\n  (W_o): Linear(in_features=100, out_features=100, bias=False)\n)"
     },
     "execution_count": 17,
     "metadata": {},
     "output_type": "execute_result"
    }
   ],
   "source": [
    "num_hiddens, num_heads = 100, 5\n",
    "attention = MultiHeadAttention(num_hiddens, num_hiddens, num_hiddens,\n",
    "                               num_hiddens, num_heads, 0.5)\n",
    "attention.eval()"
   ],
   "metadata": {
    "collapsed": false,
    "pycharm": {
     "name": "#%%\n"
    }
   }
  },
  {
   "cell_type": "code",
   "execution_count": 18,
   "outputs": [
    {
     "data": {
      "text/plain": "torch.Size([2, 4, 100])"
     },
     "execution_count": 18,
     "metadata": {},
     "output_type": "execute_result"
    }
   ],
   "source": [
    "batch_size, num_queries = 2, 4\n",
    "num_kvpairs, valid_lens =  6, torch.tensor([3, 2])\n",
    "X = torch.ones((batch_size, num_queries, num_hiddens))\n",
    "Y = torch.ones((batch_size, num_kvpairs, num_hiddens))\n",
    "attention(X, Y, Y, valid_lens).shape"
   ],
   "metadata": {
    "collapsed": false,
    "pycharm": {
     "name": "#%%\n"
    }
   }
  },
  {
   "cell_type": "code",
   "execution_count": null,
   "outputs": [],
   "source": [],
   "metadata": {
    "collapsed": false,
    "pycharm": {
     "name": "#%%\n"
    }
   }
  }
 ],
 "metadata": {
  "kernelspec": {
   "display_name": "Python 3",
   "language": "python",
   "name": "python3"
  },
  "language_info": {
   "codemirror_mode": {
    "name": "ipython",
    "version": 2
   },
   "file_extension": ".py",
   "mimetype": "text/x-python",
   "name": "python",
   "nbconvert_exporter": "python",
   "pygments_lexer": "ipython2",
   "version": "2.7.6"
  }
 },
 "nbformat": 4,
 "nbformat_minor": 0
}