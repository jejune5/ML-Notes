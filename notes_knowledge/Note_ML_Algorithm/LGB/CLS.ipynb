{
 "cells": [
  {
   "cell_type": "markdown",
   "source": [
    "# 关于LGB的分类问题"
   ],
   "metadata": {
    "collapsed": false,
    "pycharm": {
     "name": "#%% md\n"
    }
   }
  },
  {
   "cell_type": "code",
   "execution_count": 55,
   "outputs": [],
   "source": [
    "import numpy as np\n",
    "import pandas as pd"
   ],
   "metadata": {
    "collapsed": false,
    "pycharm": {
     "name": "#%%\n"
    }
   }
  },
  {
   "cell_type": "markdown",
   "source": [
    "## 模拟数据\n",
    "\n",
    "多分类"
   ],
   "metadata": {
    "collapsed": false,
    "pycharm": {
     "name": "#%% md\n"
    }
   }
  },
  {
   "cell_type": "code",
   "execution_count": 56,
   "outputs": [
    {
     "data": {
      "text/plain": "         f0        f1        f2        f3        f4        f5        f6  \\\n0  0.700437  0.844187  0.676514  0.727858  0.951458  0.012703  0.413588   \n1  0.200248  0.744154  0.192892  0.700845  0.293228  0.774479  0.005109   \n2  0.023236  0.727321  0.340035  0.197503  0.909180  0.978347  0.532803   \n3  0.888899  0.626405  0.818874  0.547345  0.416712  0.743047  0.369596   \n4  0.079342  0.486781  0.153674  0.828465  0.191369  0.270409  0.561034   \n\n         f7        f8        f9   y  \n0  0.048813  0.099929  0.508066   1  \n1  0.112858  0.110954  0.247668   9  \n2  0.259132  0.583813  0.325691   7  \n3  0.075167  0.775193  0.219409   8  \n4  0.902380  0.851788  0.418082  14  ",
      "text/html": "<div>\n<style scoped>\n    .dataframe tbody tr th:only-of-type {\n        vertical-align: middle;\n    }\n\n    .dataframe tbody tr th {\n        vertical-align: top;\n    }\n\n    .dataframe thead th {\n        text-align: right;\n    }\n</style>\n<table border=\"1\" class=\"dataframe\">\n  <thead>\n    <tr style=\"text-align: right;\">\n      <th></th>\n      <th>f0</th>\n      <th>f1</th>\n      <th>f2</th>\n      <th>f3</th>\n      <th>f4</th>\n      <th>f5</th>\n      <th>f6</th>\n      <th>f7</th>\n      <th>f8</th>\n      <th>f9</th>\n      <th>y</th>\n    </tr>\n  </thead>\n  <tbody>\n    <tr>\n      <th>0</th>\n      <td>0.700437</td>\n      <td>0.844187</td>\n      <td>0.676514</td>\n      <td>0.727858</td>\n      <td>0.951458</td>\n      <td>0.012703</td>\n      <td>0.413588</td>\n      <td>0.048813</td>\n      <td>0.099929</td>\n      <td>0.508066</td>\n      <td>1</td>\n    </tr>\n    <tr>\n      <th>1</th>\n      <td>0.200248</td>\n      <td>0.744154</td>\n      <td>0.192892</td>\n      <td>0.700845</td>\n      <td>0.293228</td>\n      <td>0.774479</td>\n      <td>0.005109</td>\n      <td>0.112858</td>\n      <td>0.110954</td>\n      <td>0.247668</td>\n      <td>9</td>\n    </tr>\n    <tr>\n      <th>2</th>\n      <td>0.023236</td>\n      <td>0.727321</td>\n      <td>0.340035</td>\n      <td>0.197503</td>\n      <td>0.909180</td>\n      <td>0.978347</td>\n      <td>0.532803</td>\n      <td>0.259132</td>\n      <td>0.583813</td>\n      <td>0.325691</td>\n      <td>7</td>\n    </tr>\n    <tr>\n      <th>3</th>\n      <td>0.888899</td>\n      <td>0.626405</td>\n      <td>0.818874</td>\n      <td>0.547345</td>\n      <td>0.416712</td>\n      <td>0.743047</td>\n      <td>0.369596</td>\n      <td>0.075167</td>\n      <td>0.775193</td>\n      <td>0.219409</td>\n      <td>8</td>\n    </tr>\n    <tr>\n      <th>4</th>\n      <td>0.079342</td>\n      <td>0.486781</td>\n      <td>0.153674</td>\n      <td>0.828465</td>\n      <td>0.191369</td>\n      <td>0.270409</td>\n      <td>0.561034</td>\n      <td>0.902380</td>\n      <td>0.851788</td>\n      <td>0.418082</td>\n      <td>14</td>\n    </tr>\n  </tbody>\n</table>\n</div>"
     },
     "execution_count": 56,
     "metadata": {},
     "output_type": "execute_result"
    }
   ],
   "source": [
    "num_cls = 15\n",
    "num_inst = 1000\n",
    "np.random.seed(666)\n",
    "X = np.random.rand(num_inst, 10)\n",
    "y = np.random.randint(0, num_cls, size=num_inst)\n",
    "df = pd.DataFrame(X, columns=['f' + str(i) for i in range(10)])\n",
    "df['y'] = y\n",
    "df.head()"
   ],
   "metadata": {
    "collapsed": false,
    "pycharm": {
     "name": "#%%\n"
    }
   }
  },
  {
   "cell_type": "markdown",
   "source": [
    "## 建立模型"
   ],
   "metadata": {
    "collapsed": false,
    "pycharm": {
     "name": "#%% md\n"
    }
   }
  },
  {
   "cell_type": "code",
   "execution_count": 57,
   "outputs": [
    {
     "data": {
      "text/plain": "LGBMClassifier(colsample_bytree=0.8, min_child_weight=0, random_state=666,\n               reg_alpha=0, reg_lambda=0, subsample=0.8, subsample_freq=1)",
      "text/html": "<style>#sk-container-id-5 {color: black;background-color: white;}#sk-container-id-5 pre{padding: 0;}#sk-container-id-5 div.sk-toggleable {background-color: white;}#sk-container-id-5 label.sk-toggleable__label {cursor: pointer;display: block;width: 100%;margin-bottom: 0;padding: 0.3em;box-sizing: border-box;text-align: center;}#sk-container-id-5 label.sk-toggleable__label-arrow:before {content: \"▸\";float: left;margin-right: 0.25em;color: #696969;}#sk-container-id-5 label.sk-toggleable__label-arrow:hover:before {color: black;}#sk-container-id-5 div.sk-estimator:hover label.sk-toggleable__label-arrow:before {color: black;}#sk-container-id-5 div.sk-toggleable__content {max-height: 0;max-width: 0;overflow: hidden;text-align: left;background-color: #f0f8ff;}#sk-container-id-5 div.sk-toggleable__content pre {margin: 0.2em;color: black;border-radius: 0.25em;background-color: #f0f8ff;}#sk-container-id-5 input.sk-toggleable__control:checked~div.sk-toggleable__content {max-height: 200px;max-width: 100%;overflow: auto;}#sk-container-id-5 input.sk-toggleable__control:checked~label.sk-toggleable__label-arrow:before {content: \"▾\";}#sk-container-id-5 div.sk-estimator input.sk-toggleable__control:checked~label.sk-toggleable__label {background-color: #d4ebff;}#sk-container-id-5 div.sk-label input.sk-toggleable__control:checked~label.sk-toggleable__label {background-color: #d4ebff;}#sk-container-id-5 input.sk-hidden--visually {border: 0;clip: rect(1px 1px 1px 1px);clip: rect(1px, 1px, 1px, 1px);height: 1px;margin: -1px;overflow: hidden;padding: 0;position: absolute;width: 1px;}#sk-container-id-5 div.sk-estimator {font-family: monospace;background-color: #f0f8ff;border: 1px dotted black;border-radius: 0.25em;box-sizing: border-box;margin-bottom: 0.5em;}#sk-container-id-5 div.sk-estimator:hover {background-color: #d4ebff;}#sk-container-id-5 div.sk-parallel-item::after {content: \"\";width: 100%;border-bottom: 1px solid gray;flex-grow: 1;}#sk-container-id-5 div.sk-label:hover label.sk-toggleable__label {background-color: #d4ebff;}#sk-container-id-5 div.sk-serial::before {content: \"\";position: absolute;border-left: 1px solid gray;box-sizing: border-box;top: 0;bottom: 0;left: 50%;z-index: 0;}#sk-container-id-5 div.sk-serial {display: flex;flex-direction: column;align-items: center;background-color: white;padding-right: 0.2em;padding-left: 0.2em;position: relative;}#sk-container-id-5 div.sk-item {position: relative;z-index: 1;}#sk-container-id-5 div.sk-parallel {display: flex;align-items: stretch;justify-content: center;background-color: white;position: relative;}#sk-container-id-5 div.sk-item::before, #sk-container-id-5 div.sk-parallel-item::before {content: \"\";position: absolute;border-left: 1px solid gray;box-sizing: border-box;top: 0;bottom: 0;left: 50%;z-index: -1;}#sk-container-id-5 div.sk-parallel-item {display: flex;flex-direction: column;z-index: 1;position: relative;background-color: white;}#sk-container-id-5 div.sk-parallel-item:first-child::after {align-self: flex-end;width: 50%;}#sk-container-id-5 div.sk-parallel-item:last-child::after {align-self: flex-start;width: 50%;}#sk-container-id-5 div.sk-parallel-item:only-child::after {width: 0;}#sk-container-id-5 div.sk-dashed-wrapped {border: 1px dashed gray;margin: 0 0.4em 0.5em 0.4em;box-sizing: border-box;padding-bottom: 0.4em;background-color: white;}#sk-container-id-5 div.sk-label label {font-family: monospace;font-weight: bold;display: inline-block;line-height: 1.2em;}#sk-container-id-5 div.sk-label-container {text-align: center;}#sk-container-id-5 div.sk-container {/* jupyter's `normalize.less` sets `[hidden] { display: none; }` but bootstrap.min.css set `[hidden] { display: none !important; }` so we also need the `!important` here to be able to override the default hidden behavior on the sphinx rendered scikit-learn.org. See: https://github.com/scikit-learn/scikit-learn/issues/21755 */display: inline-block !important;position: relative;}#sk-container-id-5 div.sk-text-repr-fallback {display: none;}</style><div id=\"sk-container-id-5\" class=\"sk-top-container\"><div class=\"sk-text-repr-fallback\"><pre>LGBMClassifier(colsample_bytree=0.8, min_child_weight=0, random_state=666,\n               reg_alpha=0, reg_lambda=0, subsample=0.8, subsample_freq=1)</pre><b>In a Jupyter environment, please rerun this cell to show the HTML representation or trust the notebook. <br />On GitHub, the HTML representation is unable to render, please try loading this page with nbviewer.org.</b></div><div class=\"sk-container\" hidden><div class=\"sk-item\"><div class=\"sk-estimator sk-toggleable\"><input class=\"sk-toggleable__control sk-hidden--visually\" id=\"sk-estimator-id-5\" type=\"checkbox\" checked><label for=\"sk-estimator-id-5\" class=\"sk-toggleable__label sk-toggleable__label-arrow\">LGBMClassifier</label><div class=\"sk-toggleable__content\"><pre>LGBMClassifier(colsample_bytree=0.8, min_child_weight=0, random_state=666,\n               reg_alpha=0, reg_lambda=0, subsample=0.8, subsample_freq=1)</pre></div></div></div></div></div>"
     },
     "execution_count": 57,
     "metadata": {},
     "output_type": "execute_result"
    }
   ],
   "source": [
    "from lightgbm import LGBMClassifier\n",
    "clf = LGBMClassifier(n_estimators=100, learning_rate=0.1, num_leaves=31, max_depth=-1, min_child_samples=20, min_child_weight=0, subsample=0.8, subsample_freq=1, colsample_bytree=0.8, reg_alpha=0, reg_lambda=0, random_state=666)\n",
    "clf.fit(df[['f0', 'f1', 'f2', 'f3', 'f4', 'f5', 'f6', 'f7', 'f8', 'f9']], df['y'])\n"
   ],
   "metadata": {
    "collapsed": false,
    "pycharm": {
     "name": "#%%\n"
    }
   }
  },
  {
   "cell_type": "code",
   "execution_count": 58,
   "outputs": [
    {
     "data": {
      "text/plain": "array([4577, 4652, 4536, 4645, 4352, 4645, 4435, 4359, 4406, 4210])"
     },
     "execution_count": 58,
     "metadata": {},
     "output_type": "execute_result"
    }
   ],
   "source": [
    "clf.feature_importances_"
   ],
   "metadata": {
    "collapsed": false,
    "pycharm": {
     "name": "#%%\n"
    }
   }
  },
  {
   "cell_type": "code",
   "execution_count": 59,
   "outputs": [
    {
     "data": {
      "text/plain": "array([ 1,  9,  7,  8, 14,  5, 13, 10, 14,  6,  2, 13,  9, 10,  7,  8,  4,\n        6,  8,  3,  7,  8, 12,  8,  2,  4,  4,  1, 13, 13,  6,  9,  0, 10,\n        0, 11,  0,  3,  5,  7,  3,  0,  4,  5, 12, 11,  7, 10,  8,  7, 11,\n        1,  0, 11,  5,  8,  3,  3, 10,  5,  2, 14, 10,  2,  6, 13,  1, 10,\n        0, 13,  9,  6, 14,  9,  9,  5,  1, 12,  1,  7, 13, 10, 10,  2,  1,\n       11, 10,  5,  5, 10, 13,  6,  7,  8,  1,  7, 12,  9,  1,  2, 12, 14,\n        0,  8,  9,  9,  0,  4, 10,  4,  4, 10,  0, 13, 13,  2,  6,  4,  4,\n        6,  1,  7,  1,  5,  4,  6,  5,  2,  8, 10, 12,  3,  6, 11, 12,  9,\n        1,  0,  9,  1,  0,  5, 13,  4, 12, 11,  3, 10, 13,  3,  3, 11, 10,\n        6, 13, 13,  4, 13,  9, 13, 10,  0,  1, 14,  1, 13, 11, 11,  7,  8,\n       14,  6,  1,  1,  7,  4,  7,  4,  5,  9, 12, 10,  5, 13, 12, 10,  5,\n        9,  9,  0,  5,  3,  4,  6,  0, 13,  8,  6,  4,  3, 13,  5,  5, 11,\n       12,  0,  9,  5,  9,  5,  2, 14,  2, 13, 12,  2, 14,  1,  2,  5,  1,\n        4,  3,  3,  4,  7, 10,  0,  0, 10, 11,  6,  1,  5,  4, 12,  7,  7,\n        5,  6,  3, 14, 13,  7,  0,  1,  9,  5, 14, 11, 12,  7, 12,  1, 13,\n        1,  9, 11, 14,  1,  4, 11, 12,  1,  6,  6,  2, 13,  7,  3,  3,  4,\n        1,  6, 10,  6,  9,  3,  8,  0,  8,  3,  1,  6, 13,  8,  9,  3,  7,\n       12,  6,  1, 13,  2, 14,  2,  2,  4, 14,  7, 10,  8,  4,  1, 14,  5,\n        5,  6,  9,  6,  3, 11,  9, 10,  2,  1,  3, 11,  4, 13, 12,  6,  0,\n       10, 13,  0,  1, 13, 12,  4,  8,  9,  7,  3, 12,  1, 14,  8,  4,  2,\n        3,  4,  8,  8, 14,  2, 14,  0, 14,  9,  0,  4,  9,  0,  2,  6,  2,\n        7,  5,  7, 12,  7, 11, 14,  7, 10, 11, 12, 13,  3,  2, 10,  4,  0,\n       10,  3, 10,  8, 13,  5,  3,  0,  6, 11, 14, 13,  1,  7,  6,  9, 10,\n       13,  2,  5,  4,  4,  7,  4,  5, 10, 11,  2, 10,  2,  8,  2,  8,  8,\n       12, 11,  5,  0,  6, 11,  6,  4,  4,  2,  5, 12,  7,  6, 11,  7, 10,\n       14,  3, 12,  8, 13,  0,  5, 11,  7, 14, 11, 14,  4, 14,  3,  1,  2,\n        1,  8,  3,  4,  2, 11,  2,  8, 12,  1,  6,  8, 12, 13,  8,  0, 14,\n        4,  2,  5, 14,  6,  6, 12, 12,  4,  5,  0,  4,  1, 13,  4, 14, 11,\n       11,  1, 13,  7,  3,  1, 14,  8, 12,  9,  6, 12,  8,  0,  7, 12,  9,\n        9,  7, 12,  8,  5,  7,  0,  0,  7,  8,  7,  2,  6,  0,  8, 11,  7,\n       13,  7,  7,  5, 10,  9,  2,  8,  3, 11,  1, 14,  6,  2, 13,  7, 11,\n        0,  8, 14,  1,  2,  7, 10,  9,  5, 11,  7, 11,  8,  5, 13, 13, 14,\n        4, 12,  3,  2,  5,  2,  4, 14, 12, 12,  7,  6,  9, 14,  2,  0,  8,\n       10,  2,  0, 13, 14, 10,  2, 10,  3,  8,  0, 13, 11,  8, 11,  5,  0,\n        2, 10, 14, 10,  1,  9, 13, 10,  5, 10,  2, 13,  8,  3,  8, 13,  7,\n        2, 13, 14,  5, 12,  1,  3,  4,  1,  4, 13,  1,  2, 10,  3,  9,  7,\n       13,  9,  6, 11,  5,  6, 13,  6,  0,  5,  5,  1,  7,  0,  9,  4,  8,\n       11, 14, 11, 11, 14, 13,  9, 11,  7,  3,  5, 10,  9,  4,  7,  2,  5,\n        1, 13,  8, 14,  3,  9,  3,  5,  2,  9,  4, 12,  1, 14,  0,  1,  4,\n       10,  4,  1,  0, 13,  0,  7,  2,  1,  8,  9, 11,  9,  6, 11,  5, 12,\n        5, 12,  5, 13, 14,  9, 13,  7,  3, 11,  2, 14,  2,  6, 14,  1, 14,\n        6, 11, 12,  4, 13,  3, 12, 14,  0,  3, 14, 12,  3, 10,  4,  1, 14,\n        6,  4,  5,  4,  0,  9,  4,  5,  8,  0,  4, 11, 13,  2, 10, 10,  7,\n        8, 13, 11,  9, 11,  0, 12, 11,  5, 11,  3, 13, 12, 12, 10,  1, 12,\n       11,  9,  2, 11,  4,  3,  7,  9, 11, 14,  1,  2,  9,  6, 11,  9,  3,\n       14,  9, 12,  7, 13, 12,  9,  3,  0, 11,  8,  6,  2, 12,  8,  6, 12,\n       10, 11,  5,  3, 13, 10,  0,  8,  5,  8,  0,  4, 12, 11, 12, 11, 11,\n       13,  7, 12, 14,  1, 14, 12,  1, 14,  7,  0,  4, 13, 14, 14,  6,  7,\n        1,  3,  4,  4, 11, 14,  8, 12,  2,  3,  6,  8,  3, 12,  9,  7,  1,\n        4, 10,  7,  5,  9,  5,  5,  6, 12,  4, 10, 10,  1,  3,  5,  5,  4,\n        5, 14,  8,  8,  5, 12, 13, 12, 13, 12,  7,  8,  7,  3,  5,  6,  3,\n        8, 12,  4,  0,  8,  6, 11,  7,  2, 12,  4,  3,  9,  1, 12,  8,  0,\n        7,  4,  9,  6, 14,  7, 13, 14,  7, 11, 11, 11,  7,  4, 10, 14, 10,\n       14,  8,  4, 12,  4,  8,  9,  1,  8,  8,  6,  3,  3, 12, 10,  4,  5,\n       11, 11,  5,  9,  6,  4,  6,  6,  6, 11,  8, 10, 11,  9,  2,  5,  1,\n        2, 10,  3, 12,  8,  7,  1,  5,  6,  0,  4,  7,  5,  5,  0,  6,  5,\n        1,  9, 12,  9,  5, 11,  3, 10,  3, 14,  0,  6, 10,  1,  1, 10, 12,\n        6, 14, 13,  2,  8,  1,  4,  5, 14,  5, 12, 12, 13, 13,  4,  7,  8,\n       13, 12,  8,  2, 14,  2,  6,  7,  2,  5,  2, 14,  9, 13])"
     },
     "execution_count": 59,
     "metadata": {},
     "output_type": "execute_result"
    }
   ],
   "source": [
    "clf.predict(df[['f0', 'f1', 'f2', 'f3', 'f4', 'f5', 'f6', 'f7', 'f8', 'f9']])"
   ],
   "metadata": {
    "collapsed": false,
    "pycharm": {
     "name": "#%%\n"
    }
   }
  },
  {
   "cell_type": "code",
   "execution_count": 60,
   "outputs": [
    {
     "data": {
      "text/plain": "array([[8.03886051e-05, 9.96554338e-01, 5.08745947e-04, ...,\n        3.38038727e-05, 6.16421914e-05, 4.97210878e-04],\n       [5.99768897e-05, 4.43902452e-04, 3.75818407e-04, ...,\n        7.61940028e-04, 3.89218785e-04, 4.12658225e-05],\n       [4.66651585e-06, 7.08405635e-04, 2.05285435e-04, ...,\n        8.62695923e-06, 9.45234211e-05, 1.73212004e-05],\n       ...,\n       [2.05926131e-05, 6.46076299e-04, 5.41528886e-05, ...,\n        1.40466602e-04, 1.01072645e-03, 9.96690492e-01],\n       [4.76729636e-05, 1.70564814e-04, 1.57212814e-05, ...,\n        1.33854355e-03, 4.29904987e-05, 1.57543859e-03],\n       [9.60416301e-05, 2.91794891e-04, 9.13407518e-04, ...,\n        6.87102535e-04, 9.92095302e-01, 4.58563216e-04]])"
     },
     "execution_count": 60,
     "metadata": {},
     "output_type": "execute_result"
    }
   ],
   "source": [
    "clf.predict_proba(df[['f0', 'f1', 'f2', 'f3', 'f4', 'f5', 'f6', 'f7', 'f8', 'f9']])"
   ],
   "metadata": {
    "collapsed": false,
    "pycharm": {
     "name": "#%%\n"
    }
   }
  },
  {
   "cell_type": "code",
   "execution_count": 61,
   "outputs": [
    {
     "data": {
      "text/plain": "array([ 1,  9,  7,  8, 14,  5, 13, 10, 14,  6,  2, 13,  9, 10,  7,  8,  4,\n        6,  8,  3,  7,  8, 12,  8,  2,  4,  4,  1, 13, 13,  6,  9,  0, 10,\n        0, 11,  0,  3,  5,  7,  3,  0,  4,  5, 12, 11,  7, 10,  8,  7, 11,\n        1,  0, 11,  5,  8,  3,  3, 10,  5,  2, 14, 10,  2,  6, 13,  1, 10,\n        0, 13,  9,  6, 14,  9,  9,  5,  1, 12,  1,  7, 13, 10, 10,  2,  1,\n       11, 10,  5,  5, 10, 13,  6,  7,  8,  1,  7, 12,  9,  1,  2, 12, 14,\n        0,  8,  9,  9,  0,  4, 10,  4,  4, 10,  0, 13, 13,  2,  6,  4,  4,\n        6,  1,  7,  1,  5,  4,  6,  5,  2,  8, 10, 12,  3,  6, 11, 12,  9,\n        1,  0,  9,  1,  0,  5, 13,  4, 12, 11,  3, 10, 13,  3,  3, 11, 10,\n        6, 13, 13,  4, 13,  9, 13, 10,  0,  1, 14,  1, 13, 11, 11,  7,  8,\n       14,  6,  1,  1,  7,  4,  7,  4,  5,  9, 12, 10,  5, 13, 12, 10,  5,\n        9,  9,  0,  5,  3,  4,  6,  0, 13,  8,  6,  4,  3, 13,  5,  5, 11,\n       12,  0,  9,  5,  9,  5,  2, 14,  2, 13, 12,  2, 14,  1,  2,  5,  1,\n        4,  3,  3,  4,  7, 10,  0,  0, 10, 11,  6,  1,  5,  4, 12,  7,  7,\n        5,  6,  3, 14, 13,  7,  0,  1,  9,  5, 14, 11, 12,  7, 12,  1, 13,\n        1,  9, 11, 14,  1,  4, 11, 12,  1,  6,  6,  2, 13,  7,  3,  3,  4,\n        1,  6, 10,  6,  9,  3,  8,  0,  8,  3,  1,  6, 13,  8,  9,  3,  7,\n       12,  6,  1, 13,  2, 14,  2,  2,  4, 14,  7, 10,  8,  4,  1, 14,  5,\n        5,  6,  9,  6,  3, 11,  9, 10,  2,  1,  3, 11,  4, 13, 12,  6,  0,\n       10, 13,  0,  1, 13, 12,  4,  8,  9,  7,  3, 12,  1, 14,  8,  4,  2,\n        3,  4,  8,  8, 14,  2, 14,  0, 14,  9,  0,  4,  9,  0,  2,  6,  2,\n        7,  5,  7, 12,  7, 11, 14,  7, 10, 11, 12, 13,  3,  2, 10,  4,  0,\n       10,  3, 10,  8, 13,  5,  3,  0,  6, 11, 14, 13,  1,  7,  6,  9, 10,\n       13,  2,  5,  4,  4,  7,  4,  5, 10, 11,  2, 10,  2,  8,  2,  8,  8,\n       12, 11,  5,  0,  6, 11,  6,  4,  4,  2,  5, 12,  7,  6, 11,  7, 10,\n       14,  3, 12,  8, 13,  0,  5, 11,  7, 14, 11, 14,  4, 14,  3,  1,  2,\n        1,  8,  3,  4,  2, 11,  2,  8, 12,  1,  6,  8, 12, 13,  8,  0, 14,\n        4,  2,  5, 14,  6,  6, 12, 12,  4,  5,  0,  4,  1, 13,  4, 14, 11,\n       11,  1, 13,  7,  3,  1, 14,  8, 12,  9,  6, 12,  8,  0,  7, 12,  9,\n        9,  7, 12,  8,  5,  7,  0,  0,  7,  8,  7,  2,  6,  0,  8, 11,  7,\n       13,  7,  7,  5, 10,  9,  2,  8,  3, 11,  1, 14,  6,  2, 13,  7, 11,\n        0,  8, 14,  1,  2,  7, 10,  9,  5, 11,  7, 11,  8,  5, 13, 13, 14,\n        4, 12,  3,  2,  5,  2,  4, 14, 12, 12,  7,  6,  9, 14,  2,  0,  8,\n       10,  2,  0, 13, 14, 10,  2, 10,  3,  8,  0, 13, 11,  8, 11,  5,  0,\n        2, 10, 14, 10,  1,  9, 13, 10,  5, 10,  2, 13,  8,  3,  8, 13,  7,\n        2, 13, 14,  5, 12,  1,  3,  4,  1,  4, 13,  1,  2, 10,  3,  9,  7,\n       13,  9,  6, 11,  5,  6, 13,  6,  0,  5,  5,  1,  7,  0,  9,  4,  8,\n       11, 14, 11, 11, 14, 13,  9, 11,  7,  3,  5, 10,  9,  4,  7,  2,  5,\n        1, 13,  8, 14,  3,  9,  3,  5,  2,  9,  4, 12,  1, 14,  0,  1,  4,\n       10,  4,  1,  0, 13,  0,  7,  2,  1,  8,  9, 11,  9,  6, 11,  5, 12,\n        5, 12,  5, 13, 14,  9, 13,  7,  3, 11,  2, 14,  2,  6, 14,  1, 14,\n        6, 11, 12,  4, 13,  3, 12, 14,  0,  3, 14, 12,  3, 10,  4,  1, 14,\n        6,  4,  5,  4,  0,  9,  4,  5,  8,  0,  4, 11, 13,  2, 10, 10,  7,\n        8, 13, 11,  9, 11,  0, 12, 11,  5, 11,  3, 13, 12, 12, 10,  1, 12,\n       11,  9,  2, 11,  4,  3,  7,  9, 11, 14,  1,  2,  9,  6, 11,  9,  3,\n       14,  9, 12,  7, 13, 12,  9,  3,  0, 11,  8,  6,  2, 12,  8,  6, 12,\n       10, 11,  5,  3, 13, 10,  0,  8,  5,  8,  0,  4, 12, 11, 12, 11, 11,\n       13,  7, 12, 14,  1, 14, 12,  1, 14,  7,  0,  4, 13, 14, 14,  6,  7,\n        1,  3,  4,  4, 11, 14,  8, 12,  2,  3,  6,  8,  3, 12,  9,  7,  1,\n        4, 10,  7,  5,  9,  5,  5,  6, 12,  4, 10, 10,  1,  3,  5,  5,  4,\n        5, 14,  8,  8,  5, 12, 13, 12, 13, 12,  7,  8,  7,  3,  5,  6,  3,\n        8, 12,  4,  0,  8,  6, 11,  7,  2, 12,  4,  3,  9,  1, 12,  8,  0,\n        7,  4,  9,  6, 14,  7, 13, 14,  7, 11, 11, 11,  7,  4, 10, 14, 10,\n       14,  8,  4, 12,  4,  8,  9,  1,  8,  8,  6,  3,  3, 12, 10,  4,  5,\n       11, 11,  5,  9,  6,  4,  6,  6,  6, 11,  8, 10, 11,  9,  2,  5,  1,\n        2, 10,  3, 12,  8,  7,  1,  5,  6,  0,  4,  7,  5,  5,  0,  6,  5,\n        1,  9, 12,  9,  5, 11,  3, 10,  3, 14,  0,  6, 10,  1,  1, 10, 12,\n        6, 14, 13,  2,  8,  1,  4,  5, 14,  5, 12, 12, 13, 13,  4,  7,  8,\n       13, 12,  8,  2, 14,  2,  6,  7,  2,  5,  2, 14,  9, 13],\n      dtype=int64)"
     },
     "execution_count": 61,
     "metadata": {},
     "output_type": "execute_result"
    }
   ],
   "source": [
    "clf.predict_proba(df[['f0', 'f1', 'f2', 'f3', 'f4', 'f5', 'f6', 'f7', 'f8', 'f9']]).argmax(axis=1)"
   ],
   "metadata": {
    "collapsed": false,
    "pycharm": {
     "name": "#%%\n"
    }
   }
  },
  {
   "cell_type": "code",
   "execution_count": 62,
   "outputs": [
    {
     "data": {
      "text/plain": "1.0"
     },
     "execution_count": 62,
     "metadata": {},
     "output_type": "execute_result"
    }
   ],
   "source": [
    "acc = clf.score(df[['f0', 'f1', 'f2', 'f3', 'f4', 'f5', 'f6', 'f7', 'f8', 'f9']], df['y'])\n",
    "acc"
   ],
   "metadata": {
    "collapsed": false,
    "pycharm": {
     "name": "#%%\n"
    }
   }
  },
  {
   "cell_type": "markdown",
   "source": [],
   "metadata": {
    "collapsed": false,
    "pycharm": {
     "name": "#%% md\n"
    }
   }
  },
  {
   "cell_type": "code",
   "execution_count": 63,
   "outputs": [
    {
     "name": "stdout",
     "output_type": "stream",
     "text": [
      "              precision    recall  f1-score   support\n",
      "\n",
      "           0       1.00      1.00      1.00        57\n",
      "           1       1.00      1.00      1.00        68\n",
      "           2       1.00      1.00      1.00        62\n",
      "           3       1.00      1.00      1.00        60\n",
      "           4       1.00      1.00      1.00        74\n",
      "           5       1.00      1.00      1.00        75\n",
      "           6       1.00      1.00      1.00        64\n",
      "           7       1.00      1.00      1.00        70\n",
      "           8       1.00      1.00      1.00        68\n",
      "           9       1.00      1.00      1.00        62\n",
      "          10       1.00      1.00      1.00        62\n",
      "          11       1.00      1.00      1.00        69\n",
      "          12       1.00      1.00      1.00        72\n",
      "          13       1.00      1.00      1.00        71\n",
      "          14       1.00      1.00      1.00        66\n",
      "\n",
      "    accuracy                           1.00      1000\n",
      "   macro avg       1.00      1.00      1.00      1000\n",
      "weighted avg       1.00      1.00      1.00      1000\n",
      "\n"
     ]
    }
   ],
   "source": [
    "from sklearn.metrics import classification_report\n",
    "print(classification_report(clf.predict(df[['f0', 'f1', 'f2', 'f3', 'f4', 'f5', 'f6', 'f7', 'f8', 'f9']]), df['y']))"
   ],
   "metadata": {
    "collapsed": false,
    "pycharm": {
     "name": "#%%\n"
    }
   }
  },
  {
   "cell_type": "code",
   "execution_count": 63,
   "outputs": [],
   "source": [],
   "metadata": {
    "collapsed": false,
    "pycharm": {
     "name": "#%%\n"
    }
   }
  },
  {
   "cell_type": "code",
   "execution_count": 63,
   "outputs": [],
   "source": [],
   "metadata": {
    "collapsed": false,
    "pycharm": {
     "name": "#%%\n"
    }
   }
  }
 ],
 "metadata": {
  "kernelspec": {
   "display_name": "Python 3",
   "language": "python",
   "name": "python3"
  },
  "language_info": {
   "codemirror_mode": {
    "name": "ipython",
    "version": 2
   },
   "file_extension": ".py",
   "mimetype": "text/x-python",
   "name": "python",
   "nbconvert_exporter": "python",
   "pygments_lexer": "ipython2",
   "version": "2.7.6"
  }
 },
 "nbformat": 4,
 "nbformat_minor": 0
}