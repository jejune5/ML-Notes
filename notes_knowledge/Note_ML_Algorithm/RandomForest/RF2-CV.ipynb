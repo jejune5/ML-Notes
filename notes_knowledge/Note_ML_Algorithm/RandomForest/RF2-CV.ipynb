{
 "cells": [
  {
   "cell_type": "code",
   "execution_count": 5,
   "metadata": {
    "collapsed": true,
    "pycharm": {
     "is_executing": false
    }
   },
   "outputs": [],
   "source": [
    "from sklearn.ensemble import RandomForestRegressor as RFR\n",
    "\n",
    "from sklearn.model_selection import cross_val_score as CVS , train_test_split as TTS\n",
    "from sklearn.preprocessing import StandardScaler\n",
    "from sklearn.datasets import load_boston\n",
    "from sklearn.metrics import mean_squared_error as mse\n",
    "from ML_Algorithm_test.EvaluationModel import EvaluationModel as EM\n",
    "\n",
    "import numpy as np"
   ]
  },
  {
   "cell_type": "code",
   "execution_count": 6,
   "outputs": [
    {
     "name": "stdout",
     "text": [
      "all: (506, 13) ---> (506,)\n"
     ],
     "output_type": "stream"
    }
   ],
   "source": [
    "# 1 准备数据\n",
    "# 读取波士顿地区房价信息\n",
    "boston = load_boston()\n",
    "# 查看数据描述\n",
    "# print(boston.DESCR)   # 共506条波士顿地区房价信息，每条13项数值特征描述和目标房价\n",
    "# 查看数据的差异情况\n",
    "# print(\"最大房价：\", np.max(boston.target))   # 50\n",
    "# print(\"最小房价：\",np.min(boston.target))    # 5\n",
    "# print(\"平均房价：\", np.mean(boston.target))   # 22.532806324110677\n",
    "\n",
    "x = boston.data\n",
    "y = boston.target\n",
    "\n",
    "print('all:',x.shape,'--->',y.shape)"
   ],
   "metadata": {
    "collapsed": false,
    "pycharm": {
     "name": "#%%\n",
     "is_executing": false
    }
   }
  },
  {
   "cell_type": "code",
   "execution_count": 7,
   "outputs": [
    {
     "name": "stdout",
     "text": [
      "[-3.32636501 -2.32989292 -2.06410124 -5.46905731 -3.8064     -4.69184147\n -3.19162774 -9.0363858  -3.86195768 -3.32576137]\n-4.110339053757432\n"
     ],
     "output_type": "stream"
    }
   ],
   "source": [
    "regr = RFR(n_estimators = 1000, criterion='mse',\n",
    "    max_depth=None, min_samples_split=2, min_samples_leaf=1,\n",
    "    min_weight_fraction_leaf=0.0, max_features = 3,\n",
    "    max_leaf_nodes=None, min_impurity_decrease=0.0,\n",
    "    min_impurity_split=None, bootstrap=True,\n",
    "    oob_score=False, n_jobs=-1, random_state=None,\n",
    "    verbose=0, warm_start=False)\n",
    "# regr.fit(x,y)\n",
    "scores = CVS(regr, x, y,cv=10,scoring='neg_root_mean_squared_error')   #使用K折交叉验证模块\n",
    "print(scores)    #将5次的预测准确率打印出\n",
    "print(scores.mean())   #将5次的预测准确平均率打印出\n"
   ],
   "metadata": {
    "collapsed": false,
    "pycharm": {
     "name": "#%%\n",
     "is_executing": false
    }
   }
  },
  {
   "cell_type": "code",
   "execution_count": 8,
   "outputs": [
    {
     "data": {
      "text/plain": "['accuracy',\n 'adjusted_mutual_info_score',\n 'adjusted_rand_score',\n 'average_precision',\n 'balanced_accuracy',\n 'completeness_score',\n 'explained_variance',\n 'f1',\n 'f1_macro',\n 'f1_micro',\n 'f1_samples',\n 'f1_weighted',\n 'fowlkes_mallows_score',\n 'homogeneity_score',\n 'jaccard',\n 'jaccard_macro',\n 'jaccard_micro',\n 'jaccard_samples',\n 'jaccard_weighted',\n 'max_error',\n 'mutual_info_score',\n 'neg_brier_score',\n 'neg_log_loss',\n 'neg_mean_absolute_error',\n 'neg_mean_gamma_deviance',\n 'neg_mean_poisson_deviance',\n 'neg_mean_squared_error',\n 'neg_mean_squared_log_error',\n 'neg_median_absolute_error',\n 'neg_root_mean_squared_error',\n 'normalized_mutual_info_score',\n 'precision',\n 'precision_macro',\n 'precision_micro',\n 'precision_samples',\n 'precision_weighted',\n 'r2',\n 'recall',\n 'recall_macro',\n 'recall_micro',\n 'recall_samples',\n 'recall_weighted',\n 'roc_auc',\n 'roc_auc_ovo',\n 'roc_auc_ovo_weighted',\n 'roc_auc_ovr',\n 'roc_auc_ovr_weighted',\n 'v_measure_score']"
     },
     "metadata": {},
     "output_type": "execute_result",
     "execution_count": 8
    }
   ],
   "source": [
    "# x_train, x_test, y_train, y_test = TTS(x, y, random_state = 16)\n",
    "# knn = RFR()\n",
    "# knn.fit(x_train, y_train)\n",
    "# scores = CVS(knn, x, y,cv=5,scoring='accuracy')   #使用K折交叉验证模块\n",
    "# print(scores)    #将5次的预测准确率打印出\n",
    "# print(scores.mean())   #将5次的预测准确平均率打印出\n",
    "from sklearn import metrics as m\n",
    "sorted(m.SCORERS.keys())"
   ],
   "metadata": {
    "collapsed": false,
    "pycharm": {
     "name": "#%%\n",
     "is_executing": false
    }
   }
  }
 ],
 "metadata": {
  "language_info": {
   "codemirror_mode": {
    "name": "ipython",
    "version": 2
   },
   "file_extension": ".py",
   "mimetype": "text/x-python",
   "name": "python",
   "nbconvert_exporter": "python",
   "pygments_lexer": "ipython2",
   "version": "2.7.6"
  },
  "kernelspec": {
   "name": "python3",
   "language": "python",
   "display_name": "Python 3"
  },
  "pycharm": {
   "stem_cell": {
    "cell_type": "raw",
    "source": [],
    "metadata": {
     "collapsed": false
    }
   }
  }
 },
 "nbformat": 4,
 "nbformat_minor": 0
}