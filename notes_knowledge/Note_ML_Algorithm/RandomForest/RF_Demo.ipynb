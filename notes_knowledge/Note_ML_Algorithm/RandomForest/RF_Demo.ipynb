{
 "cells": [
  {
   "cell_type": "code",
   "execution_count": 1,
   "metadata": {
    "collapsed": true,
    "pycharm": {
     "is_executing": false
    }
   },
   "outputs": [],
   "source": [
    "from sklearn.ensemble import RandomForestRegressor as RFR\n",
    "\n",
    "from sklearn.model_selection import cross_val_score as CVS , train_test_split as TTS\n",
    "from sklearn.preprocessing import StandardScaler\n",
    "from sklearn.datasets import load_boston\n",
    "\n",
    "from ML_Algorithm_test.EvaluationModel import EvaluationModel as EM\n",
    "\n",
    "import numpy as np"
   ]
  },
  {
   "cell_type": "code",
   "execution_count": 2,
   "outputs": [
    {
     "name": "stdout",
     "text": [
      "all: (506, 13) ---> (506,)\n"
     ],
     "output_type": "stream"
    }
   ],
   "source": [
    "# 1 准备数据\n",
    "# 读取波士顿地区房价信息\n",
    "boston = load_boston()\n",
    "# 查看数据描述\n",
    "# print(boston.DESCR)   # 共506条波士顿地区房价信息，每条13项数值特征描述和目标房价\n",
    "# 查看数据的差异情况\n",
    "# print(\"最大房价：\", np.max(boston.target))   # 50\n",
    "# print(\"最小房价：\",np.min(boston.target))    # 5\n",
    "# print(\"平均房价：\", np.mean(boston.target))   # 22.532806324110677\n",
    "\n",
    "x = boston.data\n",
    "y = boston.target\n",
    "\n",
    "print('all:',x.shape,'--->',y.shape)"
   ],
   "metadata": {
    "collapsed": false,
    "pycharm": {
     "name": "#%%\n",
     "is_executing": false
    }
   }
  },
  {
   "cell_type": "code",
   "execution_count": 3,
   "outputs": [
    {
     "name": "stdout",
     "text": [
      "train: (379, 13) ---> (379,)\ntest: (127, 13) ---> (127,)\n"
     ],
     "output_type": "stream"
    }
   ],
   "source": [
    "# 2 分割训练数据和测试数据\n",
    "# 随机采样25%作为测试 75%作为训练\n",
    "x_train, x_test, y_train, y_test = TTS(x, y, test_size=0.25, random_state=33)\n",
    "\n",
    "print('train:',x_train.shape,'--->',y_train.shape)\n",
    "print('test:',x_test.shape,'--->',y_test.shape)"
   ],
   "metadata": {
    "collapsed": false,
    "pycharm": {
     "name": "#%%\n",
     "is_executing": false
    }
   }
  },
  {
   "cell_type": "code",
   "execution_count": 4,
   "outputs": [],
   "source": [
    "# # 3 训练数据和测试数据进行标准化处理\n",
    "# ss_x = StandardScaler()\n",
    "# x_train = ss_x.fit_transform(x_train)\n",
    "# x_test = ss_x.transform(x_test)\n",
    "# \n",
    "# ss_y = StandardScaler()\n",
    "# y_train = ss_y.fit_transform(y_train.reshape(-1, 1))\n",
    "# y_test = ss_y.transform(y_test.reshape(-1, 1))"
   ],
   "metadata": {
    "collapsed": false,
    "pycharm": {
     "name": "#%%\n",
     "is_executing": false
    }
   }
  },
  {
   "cell_type": "code",
   "execution_count": 5,
   "outputs": [
    {
     "name": "stdout",
     "text": [
      "=============== RandomForestRegressor ===============\n默认评估值为： 0.8391934402815568\nR^2值为： 0.8391934402815568\n均方误差(MSE)为: 12.469148814724377\n平均绝对误差(MAE)为: 2.318670078740164\n平均绝对百分比误差(MAPE)为: 12.457687117554519\n=====================================================\n"
     ],
     "output_type": "stream"
    }
   ],
   "source": [
    "# 4.1 RFR模型进行学习和预测\n",
    "# 配置RFR\n",
    "\n",
    "regr = RFR(n_estimators = 1000, criterion='mse',\n",
    "    max_depth=None, min_samples_split=2, min_samples_leaf=1,\n",
    "    min_weight_fraction_leaf=0.0, max_features = 3,\n",
    "    max_leaf_nodes=None, min_impurity_decrease=0.0,\n",
    "    min_impurity_split=None, bootstrap=True,\n",
    "    oob_score=False, n_jobs=-1, random_state=None,\n",
    "    verbose=0, warm_start=False)\n",
    "\n",
    "regr.fit(x_train, y_train)\n",
    "\n",
    "regr_y_predict = regr.predict(x_test)\n",
    "\n",
    "EM.modelEvaluate(regr, x_test, y_test)\n"
   ],
   "metadata": {
    "collapsed": false,
    "pycharm": {
     "name": "#%%\n",
     "is_executing": false
    }
   }
  },
  {
   "cell_type": "code",
   "execution_count": 6,
   "outputs": [],
   "source": [
    "# 5 模型评估\n",
    "# 线性核函数 模型评估\n",
    "# print(\"线性核函数支持向量机的默认评估值为：\", regr.score(x_test, y_test))\n",
    "# print(\"线性核函数支持向量机的R_squared值为：\", r2_score(y_test, regr_y_predict))\n",
    "# print(\"线性核函数支持向量机的均方误差为:\", mean_squared_error(ss_y.inverse_transform(y_test),\n",
    "#                                               ss_y.inverse_transform(regr_y_predict)))\n",
    "# print(\"线性核函数支持向量机的平均绝对误差为:\", mean_absolute_error(ss_y.inverse_transform(y_test),\n",
    "#                                                  ss_y.inverse_transform(regr_y_predict)))\n",
    "\n"
   ],
   "metadata": {
    "collapsed": false,
    "pycharm": {
     "name": "#%%\n",
     "is_executing": false
    }
   }
  }
 ],
 "metadata": {
  "language_info": {
   "codemirror_mode": {
    "name": "ipython",
    "version": 2
   },
   "file_extension": ".py",
   "mimetype": "text/x-python",
   "name": "python",
   "nbconvert_exporter": "python",
   "pygments_lexer": "ipython2",
   "version": "2.7.6"
  },
  "kernelspec": {
   "name": "python3",
   "language": "python",
   "display_name": "Python 3"
  },
  "pycharm": {
   "stem_cell": {
    "cell_type": "raw",
    "source": [],
    "metadata": {
     "collapsed": false
    }
   }
  }
 },
 "nbformat": 4,
 "nbformat_minor": 0
}