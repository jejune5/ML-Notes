{
 "cells": [
  {
   "cell_type": "code",
   "execution_count": 28,
   "metadata": {
    "collapsed": true,
    "pycharm": {
     "is_executing": false,
     "name": "#%%\n"
    }
   },
   "outputs": [],
   "source": [
    "import torch\n",
    "import numpy as np\n",
    "\n",
    " "
   ]
  },
  {
   "cell_type": "markdown",
   "source": [
    "## 1. 初始化Tensor\n",
    "创建Tensor有多种方法，如：\n",
    "\n",
    "### 1.1 直接从数据创建\n",
    "\n",
    "可以直接利用数据创建tensor,数据类型会被自动推断出"
   ],
   "metadata": {
    "collapsed": false,
    "pycharm": {
     "name": "#%% md\n"
    }
   }
  },
  {
   "cell_type": "code",
   "execution_count": 29,
   "outputs": [
    {
     "name": "stdout",
     "text": [
      "tensor([[1, 2],\n        [3, 4]])\n"
     ],
     "output_type": "stream"
    }
   ],
   "source": [
    "data = [[1,2], [3, 4]]\n",
    "x_data = torch.tensor(data)\n",
    "print(x_data)"
   ],
   "metadata": {
    "collapsed": false,
    "pycharm": {
     "name": "#%%\n",
     "is_executing": false
    }
   }
  },
  {
   "cell_type": "markdown",
   "source": [
    "### 1.2 从numpy创建\n",
    "Tensor 可以直接从numpy的array创建（反之亦然-参见bridge-to-np-label）"
   ],
   "metadata": {
    "collapsed": false,
    "pycharm": {
     "name": "#%% md\n"
    }
   }
  },
  {
   "cell_type": "code",
   "execution_count": 30,
   "outputs": [
    {
     "name": "stdout",
     "text": [
      "[[1 2]\n [3 4]]\ntensor([[1, 2],\n        [3, 4]], dtype=torch.int32)\n"
     ],
     "output_type": "stream"
    }
   ],
   "source": [
    "np_array = np.array(data)\n",
    "print(np_array)\n",
    "x_np = torch.from_numpy(np_array)\n",
    "print(x_np)\n"
   ],
   "metadata": {
    "collapsed": false,
    "pycharm": {
     "name": "#%%\n",
     "is_executing": false
    }
   }
  },
  {
   "cell_type": "markdown",
   "source": [
    "### 1.3 从其他tensor创建\n",
    "\n",
    "新的tensor保留了参数tensor的一些属性（形状，数据类型），除非显式覆盖"
   ],
   "metadata": {
    "collapsed": false,
    "pycharm": {
     "name": "#%% md\n"
    }
   }
  },
  {
   "cell_type": "code",
   "execution_count": 31,
   "outputs": [
    {
     "name": "stdout",
     "text": [
      "tensor([[1, 1],\n        [1, 1]])\ntensor([[0.6175, 0.3302],\n        [0.0626, 0.4073]])\n"
     ],
     "output_type": "stream"
    }
   ],
   "source": [
    "x_ones = torch.ones_like(x_data)\n",
    "print(x_ones)\n",
    "\n",
    "x_rand = torch.rand_like(x_data, dtype=torch.float)\n",
    "print(x_rand)"
   ],
   "metadata": {
    "collapsed": false,
    "pycharm": {
     "name": "#%%\n",
     "is_executing": false
    }
   }
  },
  {
   "cell_type": "markdown",
   "source": [
    "### 1.4 从常数或者随机数创建\n",
    "\n",
    "shape是关于tensor维度的一个元组，在下面的函数中，它决定了输出tensor的维数。"
   ],
   "metadata": {
    "collapsed": false,
    "pycharm": {
     "name": "#%% md\n"
    }
   }
  },
  {
   "cell_type": "code",
   "execution_count": 32,
   "outputs": [
    {
     "name": "stdout",
     "text": [
      "tensor([[0.7629, 0.1639, 0.6383, 0.3556],\n        [0.1768, 0.1827, 0.3609, 0.6944],\n        [0.7451, 0.2434, 0.3485, 0.0440]])\ntensor([[1., 1., 1., 1.],\n        [1., 1., 1., 1.],\n        [1., 1., 1., 1.]])\ntensor([[0., 0., 0., 0.],\n        [0., 0., 0., 0.],\n        [0., 0., 0., 0.]])\n"
     ],
     "output_type": "stream"
    }
   ],
   "source": [
    "shape = (3,4)\n",
    "rand_tensor = torch.rand(shape)#0~1\n",
    "ones_tensor = torch.ones(shape)\n",
    "zeros_tensor = torch.zeros(shape)\n",
    "\n",
    "print(rand_tensor)\n",
    "print(ones_tensor)\n",
    "print(zeros_tensor)"
   ],
   "metadata": {
    "collapsed": false,
    "pycharm": {
     "name": "#%%\n",
     "is_executing": false
    }
   }
  },
  {
   "cell_type": "markdown",
   "source": [
    "## 2. Tensor的属性\n",
    "Tensor的属性包括形状，数据类型以及存储的设备"
   ],
   "metadata": {
    "collapsed": false,
    "pycharm": {
     "name": "#%% md\n"
    }
   }
  },
  {
   "cell_type": "code",
   "execution_count": 33,
   "outputs": [
    {
     "name": "stdout",
     "text": [
      "torch.Size([3, 4])\ntorch.float32\ncpu\n"
     ],
     "output_type": "stream"
    }
   ],
   "source": [
    "tensor = torch.rand(3,4)\n",
    "print(tensor.shape)\n",
    "print(tensor.dtype)\n",
    "print(tensor.device)"
   ],
   "metadata": {
    "collapsed": false,
    "pycharm": {
     "name": "#%%\n",
     "is_executing": false
    }
   }
  },
  {
   "cell_type": "markdown",
   "source": [
    "## 3. Tensor的操作\n",
    "Tensor有超过100个操作，包括 transposing, indexing, slicing, mathematical operations, linear algebra, random sampling,更多详细的介绍请点击这里\n",
    "\n",
    "它们都可以在GPU上运行（速度通常比CPU快），如果你使用的是Colab，通过编辑>笔记本设置来分配一个GPU。\n",
    "\n",
    "[官方PyTorch-GPU版本安装](https://pytorch.org/get-started/locally/)"
   ],
   "metadata": {
    "collapsed": false,
    "pycharm": {
     "name": "#%% md\n"
    }
   }
  },
  {
   "cell_type": "code",
   "execution_count": 34,
   "outputs": [
    {
     "name": "stdout",
     "text": [
      "True\ncuda:0\n"
     ],
     "output_type": "stream"
    }
   ],
   "source": [
    "flag = torch.cuda.is_available()\n",
    "print(flag)\n",
    "if flag:\n",
    "    tensor = tensor.to('cuda')\n",
    "print(tensor.device)"
   ],
   "metadata": {
    "collapsed": false,
    "pycharm": {
     "name": "#%%\n",
     "is_executing": false
    }
   }
  },
  {
   "cell_type": "markdown",
   "source": [
    "尝试列表中的一些操作。如果你熟悉NumPy API，你会发现tensor的API很容易使用。\n",
    "\n",
    "### 3.1 标准的numpy类索引和切片:"
   ],
   "metadata": {
    "collapsed": false,
    "pycharm": {
     "name": "#%% md\n",
     "is_executing": false
    }
   }
  },
  {
   "cell_type": "code",
   "execution_count": 35,
   "outputs": [
    {
     "name": "stdout",
     "text": [
      "tensor([[1., 0., 1., 1.],\n        [1., 0., 1., 1.],\n        [1., 0., 1., 1.]])\n"
     ],
     "output_type": "stream"
    }
   ],
   "source": [
    "tensor = torch.ones(3,4)\n",
    "tensor[:,1] = 0\n",
    "print(tensor)"
   ],
   "metadata": {
    "collapsed": false,
    "pycharm": {
     "name": "#%%\n",
     "is_executing": false
    }
   }
  },
  {
   "cell_type": "markdown",
   "source": [
    "### 3.2 合并tensors\n",
    "可以使用torch.cat来沿着特定维数连接一系列张量。 torch.stack另一个加入op的张量与torch.cat有细微的不同"
   ],
   "metadata": {
    "collapsed": false,
    "pycharm": {
     "name": "#%% md\n"
    }
   }
  },
  {
   "cell_type": "code",
   "execution_count": 36,
   "outputs": [
    {
     "name": "stdout",
     "text": [
      "tensor([[1., 0., 1., 1., 1., 0., 1., 1., 1., 0., 1., 1.],\n        [1., 0., 1., 1., 1., 0., 1., 1., 1., 0., 1., 1.],\n        [1., 0., 1., 1., 1., 0., 1., 1., 1., 0., 1., 1.]])\n"
     ],
     "output_type": "stream"
    }
   ],
   "source": [
    "t1 = torch.cat([tensor,  tensor, tensor], dim=1)\n",
    "print(t1)"
   ],
   "metadata": {
    "collapsed": false,
    "pycharm": {
     "name": "#%%\n",
     "is_executing": false
    }
   }
  },
  {
   "cell_type": "markdown",
   "source": [
    "### 3.3 增加tensors"
   ],
   "metadata": {
    "collapsed": false,
    "pycharm": {
     "name": "#%% md\n"
    }
   }
  },
  {
   "cell_type": "code",
   "execution_count": 37,
   "outputs": [
    {
     "name": "stdout",
     "text": [
      "tensor([[3., 3., 3.],\n        [3., 3., 3.],\n        [3., 3., 3.]])\ntensor([[3., 3., 3.],\n        [3., 3., 3.],\n        [3., 3., 3.]])\n"
     ],
     "output_type": "stream"
    }
   ],
   "source": [
    "# 矩阵乘法\n",
    "t2 = tensor.matmul(tensor.T)\n",
    "t3 = tensor @ tensor.T\n",
    "print(t2)\n",
    "print(t3)"
   ],
   "metadata": {
    "collapsed": false,
    "pycharm": {
     "name": "#%%\n",
     "is_executing": false
    }
   }
  },
  {
   "cell_type": "markdown",
   "source": [
    "## 3.4 原地操作\n",
    "带有后缀_的操作表示的是原地操作，例如： x.copy_(y), x.t_()将改变 x."
   ],
   "metadata": {
    "collapsed": false,
    "pycharm": {
     "name": "#%% md\n"
    }
   }
  },
  {
   "cell_type": "code",
   "execution_count": 38,
   "outputs": [
    {
     "name": "stdout",
     "text": [
      "tensor([[1., 0., 1., 1.],\n        [1., 0., 1., 1.],\n        [1., 0., 1., 1.]]) \n\ntensor([[6., 5., 6., 6.],\n        [6., 5., 6., 6.],\n        [6., 5., 6., 6.]])\n"
     ],
     "output_type": "stream"
    }
   ],
   "source": [
    "print(tensor,'\\n')\n",
    "tensor.add_(5)\n",
    "print(tensor)"
   ],
   "metadata": {
    "collapsed": false,
    "pycharm": {
     "name": "#%%\n",
     "is_executing": false
    }
   }
  },
  {
   "cell_type": "markdown",
   "source": [
    "## 4. Tensor转换为Numpy 数组"
   ],
   "metadata": {
    "collapsed": false,
    "pycharm": {
     "name": "#%% md\n"
    }
   }
  },
  {
   "cell_type": "code",
   "execution_count": 39,
   "outputs": [
    {
     "name": "stdout",
     "text": [
      "tensor([1., 1., 1., 1., 1.]) \n\n[1. 1. 1. 1. 1.]\n"
     ],
     "output_type": "stream"
    }
   ],
   "source": [
    "t = torch.ones(5)\n",
    "n = t.numpy()\n",
    "print(t,'\\n')\n",
    "print(n)"
   ],
   "metadata": {
    "collapsed": false,
    "pycharm": {
     "name": "#%%\n",
     "is_executing": false
    }
   }
  },
  {
   "cell_type": "markdown",
   "source": [
    "tensor的变化反映在NumPy数组中。"
   ],
   "metadata": {
    "collapsed": false,
    "pycharm": {
     "name": "#%% md\n"
    }
   }
  },
  {
   "cell_type": "code",
   "execution_count": 40,
   "outputs": [
    {
     "name": "stdout",
     "text": [
      "tensor([2., 2., 2., 2., 2.]) \n\n[2. 2. 2. 2. 2.]\n"
     ],
     "output_type": "stream"
    }
   ],
   "source": [
    "t.add_(1)\n",
    "print(t,'\\n')\n",
    "print(n)"
   ],
   "metadata": {
    "collapsed": false,
    "pycharm": {
     "name": "#%%\n",
     "is_executing": false
    }
   }
  },
  {
   "cell_type": "markdown",
   "source": [
    "### 4.1 Numpy数组转换为Tensor"
   ],
   "metadata": {
    "collapsed": false,
    "pycharm": {
     "name": "#%% md\n"
    }
   }
  },
  {
   "cell_type": "code",
   "execution_count": 41,
   "outputs": [
    {
     "name": "stdout",
     "text": [
      "[1. 1. 1. 1. 1.] \n\ntensor([1., 1., 1., 1., 1.], dtype=torch.float64)\n"
     ],
     "output_type": "stream"
    }
   ],
   "source": [
    "n = np.ones(5)\n",
    "t = torch.from_numpy(n)\n",
    "print(n,'\\n')\n",
    "print(t)\n"
   ],
   "metadata": {
    "collapsed": false,
    "pycharm": {
     "name": "#%%\n",
     "is_executing": false
    }
   }
  },
  {
   "cell_type": "code",
   "execution_count": 44,
   "outputs": [
    {
     "name": "stdout",
     "text": [
      "[4. 4. 4. 4. 4.] \n\ntensor([4., 4., 4., 4., 4.], dtype=torch.float64)\n"
     ],
     "output_type": "stream"
    }
   ],
   "source": [
    "np.add(n, 1, out=n)\n",
    "print(n,'\\n')\n",
    "print(t)\n",
    "\n",
    "\n",
    "\n"
   ],
   "metadata": {
    "collapsed": false,
    "pycharm": {
     "name": "#%%\n",
     "is_executing": false
    }
   }
  }
 ],
 "metadata": {
  "kernelspec": {
   "display_name": "Python 3",
   "language": "python",
   "name": "python3"
  },
  "language_info": {
   "codemirror_mode": {
    "name": "ipython",
    "version": 2
   },
   "file_extension": ".py",
   "mimetype": "text/x-python",
   "name": "python",
   "nbconvert_exporter": "python",
   "pygments_lexer": "ipython2",
   "version": "2.7.6"
  },
  "pycharm": {
   "stem_cell": {
    "cell_type": "raw",
    "source": [],
    "metadata": {
     "collapsed": false
    }
   }
  }
 },
 "nbformat": 4,
 "nbformat_minor": 0
}