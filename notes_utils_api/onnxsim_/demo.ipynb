{
 "cells": [
  {
   "attachments": {},
   "cell_type": "markdown",
   "metadata": {},
   "source": [
    "onnx模型简化实验"
   ]
  },
  {
   "cell_type": "code",
   "execution_count": 1,
   "metadata": {},
   "outputs": [],
   "source": [
    "import onnx\n",
    "from onnxsim import simplify\n",
    "\n",
    "onnx_file = r'/aidata/junjie/repo/modelscope/speech_paraformer-large-vad-punc_asr_nat-zh-cn-16k-common-vocab8404-pytorch/model_quant.onnx'\n",
    "# load your predefined ONNX model\n",
    "model = onnx.load(onnx_file)"
   ]
  },
  {
   "cell_type": "code",
   "execution_count": 2,
   "metadata": {},
   "outputs": [
    {
     "ename": "ValidationError",
     "evalue": "Nodes in a graph must be topologically sorted, however input 'onnx::ReduceSum_8691' of node: \nname: Gather_6531 OpType: Gather\n is not output of any previous nodes.\n\n==> Context: Bad node spec for node. Name: Loop_6530 OpType: Loop",
     "output_type": "error",
     "traceback": [
      "\u001b[0;31m---------------------------------------------------------------------------\u001b[0m",
      "\u001b[0;31mValidationError\u001b[0m                           Traceback (most recent call last)",
      "Cell \u001b[0;32mIn[2], line 1\u001b[0m\n\u001b[0;32m----> 1\u001b[0m model_simp, check \u001b[39m=\u001b[39m simplify(model)\n\u001b[1;32m      2\u001b[0m check\n",
      "File \u001b[0;32m/aidata/junjie/soft/envs/python39/lib/python3.9/site-packages/onnxsim/onnx_simplifier.py:197\u001b[0m, in \u001b[0;36msimplify\u001b[0;34m(model, check_n, perform_optimization, skip_fuse_bn, overwrite_input_shapes, test_input_shapes, skipped_optimizers, skip_constant_folding, skip_shape_inference, input_data, dynamic_input_shape, custom_lib, include_subgraph, unused_output, tensor_size_threshold, mutable_initializer, input_shapes)\u001b[0m\n\u001b[1;32m    195\u001b[0m \u001b[39mtry\u001b[39;00m:\n\u001b[1;32m    196\u001b[0m     model_bytes \u001b[39m=\u001b[39m model\u001b[39m.\u001b[39mSerializeToString()\n\u001b[0;32m--> 197\u001b[0m     model_opt_bytes \u001b[39m=\u001b[39m C\u001b[39m.\u001b[39;49msimplify(\n\u001b[1;32m    198\u001b[0m         model_bytes,\n\u001b[1;32m    199\u001b[0m         skipped_optimizers,\n\u001b[1;32m    200\u001b[0m         \u001b[39mnot\u001b[39;49;00m skip_constant_folding,\n\u001b[1;32m    201\u001b[0m         \u001b[39mnot\u001b[39;49;00m skip_shape_inference,\n\u001b[1;32m    202\u001b[0m         tensor_size_threshold,\n\u001b[1;32m    203\u001b[0m     )\n\u001b[1;32m    204\u001b[0m     model_opt \u001b[39m=\u001b[39m onnx\u001b[39m.\u001b[39mload_from_string(model_opt_bytes)\n\u001b[1;32m    205\u001b[0m     check_ok \u001b[39m=\u001b[39m model_checking\u001b[39m.\u001b[39mcompare(\n\u001b[1;32m    206\u001b[0m         model_opt, model, check_n, test_input_shapes, input_data, custom_lib\n\u001b[1;32m    207\u001b[0m     )\n",
      "\u001b[0;31mValidationError\u001b[0m: Nodes in a graph must be topologically sorted, however input 'onnx::ReduceSum_8691' of node: \nname: Gather_6531 OpType: Gather\n is not output of any previous nodes.\n\n==> Context: Bad node spec for node. Name: Loop_6530 OpType: Loop"
     ]
    }
   ],
   "source": [
    "model_simp, check = simplify(model)\n",
    "check"
   ]
  },
  {
   "cell_type": "code",
   "execution_count": null,
   "metadata": {},
   "outputs": [],
   "source": []
  }
 ],
 "metadata": {
  "kernelspec": {
   "display_name": "python39",
   "language": "python",
   "name": "python3"
  },
  "language_info": {
   "codemirror_mode": {
    "name": "ipython",
    "version": 3
   },
   "file_extension": ".py",
   "mimetype": "text/x-python",
   "name": "python",
   "nbconvert_exporter": "python",
   "pygments_lexer": "ipython3",
   "version": "3.9.16"
  },
  "orig_nbformat": 4
 },
 "nbformat": 4,
 "nbformat_minor": 2
}
