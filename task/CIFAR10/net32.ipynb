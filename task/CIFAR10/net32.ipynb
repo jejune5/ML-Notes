{
 "cells": [
  {
   "cell_type": "code",
   "execution_count": 10,
   "metadata": {
    "collapsed": true
   },
   "outputs": [],
   "source": [
    "import torch\n",
    "from torch import nn\n",
    "from torch.nn import functional as F\n",
    "\n",
    "from NNUtils.wutorchkeras import wutorchkeras"
   ]
  },
  {
   "cell_type": "code",
   "execution_count": 25,
   "outputs": [
    {
     "name": "stdout",
     "output_type": "stream",
     "text": [
      "----------------------------------------------------------------\n",
      "        Layer (type)               Output Shape         Param #\n",
      "================================================================\n",
      "            Conv2d-1            [-1, 6, 28, 28]             456\n",
      "         MaxPool2d-2            [-1, 6, 14, 14]               0\n",
      "            Conv2d-3           [-1, 16, 10, 10]           2,416\n",
      "         MaxPool2d-4             [-1, 16, 5, 5]               0\n",
      "           Flatten-5                  [-1, 400]               0\n",
      "            Linear-6                  [-1, 128]          51,328\n",
      "            Linear-7                   [-1, 64]           8,256\n",
      "            Linear-8                   [-1, 32]           2,080\n",
      "            Linear-9                   [-1, 10]             330\n",
      "================================================================\n",
      "Total params: 64,866\n",
      "Trainable params: 64,866\n",
      "Non-trainable params: 0\n",
      "----------------------------------------------------------------\n",
      "Input size (MB): 0.011719\n",
      "Forward/backward pass size (MB): 0.064957\n",
      "Params size (MB): 0.247444\n",
      "Estimated Total Size (MB): 0.324120\n",
      "----------------------------------------------------------------\n"
     ]
    }
   ],
   "source": [
    "class Net32(nn.Module):\n",
    "    def __init__(self, in_channels=3, out_features=10):\n",
    "        super(Net32, self).__init__()\n",
    "        # (batch, 3, 32, 32)\n",
    "        self.conv1 = nn.Conv2d(in_channels=in_channels, out_channels=6, kernel_size=5, stride=1, padding=0)\n",
    "        # (batch, 6, 28, 28)\n",
    "        self.maxpool1 = nn.MaxPool2d(kernel_size=2, stride=2, padding=0)\n",
    "        # (batch, 6, 14, 14)\n",
    "        self.conv2 = nn.Conv2d(in_channels=6, out_channels=16, kernel_size=5, stride=1, padding=0)\n",
    "        # (batch, 16, 10, 10)\n",
    "        self.maxpool2 = nn.MaxPool2d(kernel_size=2, stride=2, padding=0)\n",
    "        # (batch, 16, 5, 5)\n",
    "        self.flatten = nn.Flatten()\n",
    "        # (batch, 16*5*5=400)\n",
    "        self.fc1 = nn.Linear(in_features=400, out_features=128)\n",
    "        # (batch, 128)\n",
    "        self.fc2 = nn.Linear(in_features=128, out_features=64)\n",
    "        # (batch, 64)\n",
    "        self.fc3 = nn.Linear(in_features=64, out_features=32)\n",
    "        # (batch, 32)\n",
    "        self.fc4 = nn.Linear(in_features=32, out_features=out_features)\n",
    "        # (batch, 10)\n",
    "\n",
    "    def forward(self, x):\n",
    "        x = self.conv1(x)\n",
    "        x = F.relu(x)\n",
    "        x = self.maxpool1(x)\n",
    "        x = self.conv2(x)\n",
    "        x = F.relu(x)\n",
    "        x = self.maxpool2(x)\n",
    "        x = self.flatten(x)\n",
    "        x = self.fc1(x)\n",
    "        x = F.relu(x)\n",
    "        x = self.fc2(x)\n",
    "        x = F.relu(x)\n",
    "        x = self.fc3(x)\n",
    "        x = F.relu(x)\n",
    "        x = self.fc4(x)\n",
    "        return x\n",
    "\n",
    "\n",
    "model = wutorchkeras.Model(Net32())\n",
    "model.summary(input_shape=(3, 32, 32))"
   ],
   "metadata": {
    "collapsed": false,
    "pycharm": {
     "name": "#%%\n"
    }
   }
  }
 ],
 "metadata": {
  "kernelspec": {
   "display_name": "Python 3",
   "language": "python",
   "name": "python3"
  },
  "language_info": {
   "codemirror_mode": {
    "name": "ipython",
    "version": 2
   },
   "file_extension": ".py",
   "mimetype": "text/x-python",
   "name": "python",
   "nbconvert_exporter": "python",
   "pygments_lexer": "ipython2",
   "version": "2.7.6"
  }
 },
 "nbformat": 4,
 "nbformat_minor": 0
}