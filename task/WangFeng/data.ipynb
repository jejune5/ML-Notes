{
 "cells": [
  {
   "cell_type": "code",
   "execution_count": 366,
   "metadata": {
    "collapsed": true
   },
   "outputs": [],
   "source": [
    "import os\n",
    "import jieba\n",
    "import numpy as np\n",
    "import torch\n",
    "from torch import nn\n",
    "from torch.nn import functional as F\n",
    "from torch.utils.data import DataLoader, TensorDataset\n",
    "from NNUtils.torchwu import torchwu, cuda, metrics"
   ]
  },
  {
   "cell_type": "code",
   "execution_count": 367,
   "outputs": [],
   "source": [
    "seq_length = 100  # 句子长度\n",
    "BATCH_SIZE = 50\n",
    "EPOCHS = 20"
   ],
   "metadata": {
    "collapsed": false,
    "pycharm": {
     "name": "#%%\n"
    }
   }
  },
  {
   "cell_type": "code",
   "execution_count": 368,
   "outputs": [],
   "source": [
    "PROJECT_ROOT_PATH = os.path.join(os.path.abspath('.'), '..', '..', '..')\n",
    "\n",
    "# 使用jieba进行分词\n",
    "f = open('new_wangfeng.txt', 'r', encoding='utf-8')\n",
    "all_str = f.read().replace('\\n', '').replace(' ', '')  # 去除空格\n",
    "f.close()\n",
    "cut_list = jieba.cut(all_str)\n",
    "seg_list = []  # 分词后的文本数据\n",
    "for c in cut_list:\n",
    "    seg_list.append(c)"
   ],
   "metadata": {
    "collapsed": false,
    "pycharm": {
     "name": "#%%\n"
    }
   }
  },
  {
   "cell_type": "code",
   "execution_count": 369,
   "outputs": [
    {
     "name": "stdout",
     "output_type": "stream",
     "text": [
      "总词汇量： 22439\n",
      "词表长度： 2840\n"
     ]
    }
   ],
   "source": [
    "# 生成one-hot\n",
    "vocab = sorted(list(set(seg_list)))\n",
    "word_to_int = dict((w, i) for i, w in enumerate(vocab))\n",
    "int_to_word = dict((i, w) for i, w in enumerate(vocab))\n",
    "\n",
    "n_words = len(seg_list)  # 总词量\n",
    "n_vocab = len(vocab)  # 词表长度\n",
    "print('总词汇量：', n_words)\n",
    "print('词表长度：', n_vocab)"
   ],
   "metadata": {
    "collapsed": false,
    "pycharm": {
     "name": "#%%\n"
    }
   }
  },
  {
   "cell_type": "code",
   "execution_count": 370,
   "outputs": [
    {
     "name": "stdout",
     "output_type": "stream",
     "text": [
      "样本数： 22339\n"
     ]
    }
   ],
   "source": [
    "\n",
    "dataX = []\n",
    "dataY = []\n",
    "for i in range(0, n_words - seq_length, 1):\n",
    "    seq_in = seg_list[i:i + seq_length + 1]\n",
    "    dataX.append([word_to_int[word] for word in seq_in])\n",
    "# 乱序\n",
    "np.random.shuffle(dataX)\n",
    "for i in range(len(dataX)):\n",
    "    dataY.append([dataX[i][seq_length]])\n",
    "    dataX[i] = dataX[i][:seq_length]\n",
    "\n",
    "n_simples = len(dataX)\n",
    "print('样本数：', n_simples)"
   ],
   "metadata": {
    "collapsed": false,
    "pycharm": {
     "name": "#%%\n"
    }
   }
  },
  {
   "cell_type": "code",
   "execution_count": 371,
   "outputs": [
    {
     "name": "stdout",
     "output_type": "stream",
     "text": [
      "tensor([[0., 0., 0.,  ..., 0., 0., 0.],\n",
      "        [0., 0., 0.,  ..., 0., 0., 0.],\n",
      "        [0., 0., 0.,  ..., 0., 0., 0.],\n",
      "        ...,\n",
      "        [0., 0., 0.,  ..., 0., 0., 0.],\n",
      "        [0., 0., 0.,  ..., 0., 0., 0.],\n",
      "        [0., 0., 0.,  ..., 0., 0., 0.]])\n",
      "Toatal:  torch.Size([22339, 100]) --> torch.Size([22339, 2840])\n",
      "1Batch:  torch.Size([50, 100]) --> torch.Size([50, 2840])\n"
     ]
    }
   ],
   "source": [
    "X = torch.tensor(dataX, dtype=torch.long).reshape((-1, seq_length))\n",
    "Y = torch.tensor(dataY, dtype=torch.float).reshape((-1, 1))\n",
    "Y_onehot = torch.zeros(Y.shape[0], int(torch.max(Y).item()) + 1)\n",
    "Y_onehot[torch.arange(Y.shape[0]), Y[:, 0].long()] = 1\n",
    "print(Y_onehot)\n",
    "Y = Y_onehot\n",
    "print('Toatal: ', X.shape, '-->', Y.shape)\n",
    "\n",
    "ds = TensorDataset(X, Y)\n",
    "dl = DataLoader(ds, batch_size=BATCH_SIZE, num_workers=0)\n",
    "x, y = next(iter(dl))\n",
    "print('1Batch: ', x.shape, '-->', y.shape)"
   ],
   "metadata": {
    "collapsed": false,
    "pycharm": {
     "name": "#%%\n"
    }
   }
  },
  {
   "cell_type": "code",
   "execution_count": 372,
   "outputs": [
    {
     "name": "stdout",
     "output_type": "stream",
     "text": [
      "----------------------------------------------------------------\n",
      "        Layer (type)               Output Shape         Param #\n",
      "================================================================\n",
      "         Embedding-1               [50, 100, 3]           8,520\n",
      "              LSTM-2              [50, 100, 60]          74,160\n",
      "            Linear-3                 [50, 2840]         173,240\n",
      "================================================================\n",
      "Total params: 255,920\n",
      "Trainable params: 255,920\n",
      "Non-trainable params: 0\n",
      "----------------------------------------------------------------\n",
      "Input size (MB): 0.019073\n",
      "Forward/backward pass size (MB): 3.486633\n",
      "Params size (MB): 0.976257\n",
      "Estimated Total Size (MB): 4.481964\n",
      "----------------------------------------------------------------\n"
     ]
    }
   ],
   "source": [
    "# 定义模型\n",
    "class Net(nn.Module):\n",
    "    def __init__(self):\n",
    "        super(Net, self).__init__()\n",
    "        # (batch, seq_len)\n",
    "        self.embedding = nn.Embedding(num_embeddings=n_vocab, embedding_dim=3, padding_idx=1)\n",
    "        # (batch, seq_len, features)\n",
    "        self.lstm = nn.LSTM(input_size=3, hidden_size=60, num_layers=3, batch_first=True)\n",
    "        # (batch, out_features)\n",
    "        self.fc = nn.Linear(in_features=60, out_features=2840)\n",
    "        # (batch, 2840)\n",
    "\n",
    "    def forward(self, x):\n",
    "        # print(x.shape)\n",
    "        x = self.embedding(x)\n",
    "        # print(x.shape)\n",
    "        # x is input, size (batch_size, seq_len, input_size)\n",
    "        x, _ = self.lstm(x)\n",
    "        # x is output, size (batch_size, seq_len, hidden_size)\n",
    "        x = x[:, -1, :]\n",
    "        # print(x.shape)\n",
    "        x = self.fc(x)\n",
    "        x = F.softmax(x, dim=1)\n",
    "        # x = x.view(-1, 1)\n",
    "        # print(x)\n",
    "        return x\n",
    "\n",
    "\n",
    "model = torchwu.Model(Net())\n",
    "model.summary(input_shape=(seq_length,), input_dtype=torch.LongTensor, batch_size=BATCH_SIZE)"
   ],
   "metadata": {
    "collapsed": false,
    "pycharm": {
     "name": "#%%\n"
    }
   }
  },
  {
   "cell_type": "code",
   "execution_count": 373,
   "outputs": [
    {
     "name": "stdout",
     "output_type": "stream",
     "text": [
      "[2022-04-10 23:50:10] Start Training ...\n",
      "[2022-04-10 23:50:14] epoch=1/20, step=300/447, loss=7.828, \n",
      "[2022-04-10 23:50:16] epoch=1/20, loss=7.818, \n",
      "[2022-04-10 23:50:20] epoch=2/20, step=300/447, loss=7.798, \n",
      "[2022-04-10 23:50:22] epoch=2/20, loss=7.798, \n",
      "[2022-04-10 23:50:25] epoch=3/20, step=300/447, loss=7.798, \n",
      "[2022-04-10 23:50:27] epoch=3/20, loss=7.798, \n",
      "[2022-04-10 23:50:31] epoch=4/20, step=300/447, loss=7.798, \n",
      "[2022-04-10 23:50:33] epoch=4/20, loss=7.798, \n",
      "[2022-04-10 23:50:37] epoch=5/20, step=300/447, loss=7.798, \n",
      "[2022-04-10 23:50:38] epoch=5/20, loss=7.798, \n",
      "[2022-04-10 23:50:43] epoch=6/20, step=300/447, loss=7.798, \n",
      "[2022-04-10 23:50:44] epoch=6/20, loss=7.798, \n",
      "[2022-04-10 23:50:48] epoch=7/20, step=300/447, loss=7.798, \n",
      "[2022-04-10 23:50:50] epoch=7/20, loss=7.798, \n",
      "[2022-04-10 23:50:54] epoch=8/20, step=300/447, loss=7.798, \n",
      "[2022-04-10 23:50:55] epoch=8/20, loss=7.798, \n",
      "[2022-04-10 23:50:59] epoch=9/20, step=300/447, loss=7.798, \n",
      "[2022-04-10 23:51:01] epoch=9/20, loss=7.798, \n",
      "[2022-04-10 23:51:05] epoch=10/20, step=300/447, loss=7.798, \n",
      "[2022-04-10 23:51:07] epoch=10/20, loss=7.798, \n"
     ]
    },
    {
     "ename": "KeyboardInterrupt",
     "evalue": "",
     "output_type": "error",
     "traceback": [
      "\u001B[1;31m---------------------------------------------------------------------------\u001B[0m",
      "\u001B[1;31mKeyboardInterrupt\u001B[0m                         Traceback (most recent call last)",
      "\u001B[1;32m~\\AppData\\Local\\Temp/ipykernel_19620/954866032.py\u001B[0m in \u001B[0;36m<module>\u001B[1;34m\u001B[0m\n\u001B[0;32m      8\u001B[0m     \u001B[1;31m# metrics_dict={'acc': metrics.accuracy_multi_clf}\u001B[0m\u001B[1;33m\u001B[0m\u001B[1;33m\u001B[0m\u001B[1;33m\u001B[0m\u001B[0m\n\u001B[0;32m      9\u001B[0m )\n\u001B[1;32m---> 10\u001B[1;33m dfhistory = model.fit(\n\u001B[0m\u001B[0;32m     11\u001B[0m     \u001B[0mepochs\u001B[0m\u001B[1;33m=\u001B[0m\u001B[0mEPOCHS\u001B[0m\u001B[1;33m,\u001B[0m\u001B[1;33m\u001B[0m\u001B[1;33m\u001B[0m\u001B[0m\n\u001B[0;32m     12\u001B[0m     \u001B[0mdl_train\u001B[0m\u001B[1;33m=\u001B[0m\u001B[0mdl\u001B[0m\u001B[1;33m,\u001B[0m\u001B[1;33m\u001B[0m\u001B[1;33m\u001B[0m\u001B[0m\n",
      "\u001B[1;32mD:\\REPO\\github\\ML-Notes\\NNUtils\\torchwu\\torchwu.py\u001B[0m in \u001B[0;36mfit\u001B[1;34m(self, epochs, dl_train, dl_val, log_step_freq, log_epoch_freq)\u001B[0m\n\u001B[0;32m    107\u001B[0m             \u001B[1;32mfor\u001B[0m \u001B[0mfeatures\u001B[0m\u001B[1;33m,\u001B[0m \u001B[0mlabels\u001B[0m \u001B[1;32min\u001B[0m \u001B[0mdl_train\u001B[0m\u001B[1;33m:\u001B[0m\u001B[1;33m\u001B[0m\u001B[1;33m\u001B[0m\u001B[0m\n\u001B[0;32m    108\u001B[0m                 \u001B[0mstep\u001B[0m \u001B[1;33m=\u001B[0m \u001B[0mstep\u001B[0m \u001B[1;33m+\u001B[0m \u001B[1;36m1\u001B[0m\u001B[1;33m\u001B[0m\u001B[1;33m\u001B[0m\u001B[0m\n\u001B[1;32m--> 109\u001B[1;33m                 \u001B[0mtrain_metrics\u001B[0m \u001B[1;33m=\u001B[0m \u001B[0mself\u001B[0m\u001B[1;33m.\u001B[0m\u001B[0mtrain_step\u001B[0m\u001B[1;33m(\u001B[0m\u001B[0mfeatures\u001B[0m\u001B[1;33m,\u001B[0m \u001B[0mlabels\u001B[0m\u001B[1;33m)\u001B[0m\u001B[1;33m\u001B[0m\u001B[1;33m\u001B[0m\u001B[0m\n\u001B[0m\u001B[0;32m    110\u001B[0m \u001B[1;33m\u001B[0m\u001B[0m\n\u001B[0;32m    111\u001B[0m                 \u001B[1;32mfor\u001B[0m \u001B[0mname\u001B[0m\u001B[1;33m,\u001B[0m \u001B[0mmetric\u001B[0m \u001B[1;32min\u001B[0m \u001B[0mtrain_metrics\u001B[0m\u001B[1;33m.\u001B[0m\u001B[0mitems\u001B[0m\u001B[1;33m(\u001B[0m\u001B[1;33m)\u001B[0m\u001B[1;33m:\u001B[0m\u001B[1;33m\u001B[0m\u001B[1;33m\u001B[0m\u001B[0m\n",
      "\u001B[1;32mD:\\REPO\\github\\ML-Notes\\NNUtils\\torchwu\\torchwu.py\u001B[0m in \u001B[0;36mtrain_step\u001B[1;34m(self, features, labels)\u001B[0m\n\u001B[0;32m     65\u001B[0m \u001B[1;33m\u001B[0m\u001B[0m\n\u001B[0;32m     66\u001B[0m         \u001B[1;31m# backward\u001B[0m\u001B[1;33m\u001B[0m\u001B[1;33m\u001B[0m\u001B[1;33m\u001B[0m\u001B[0m\n\u001B[1;32m---> 67\u001B[1;33m         \u001B[0mloss\u001B[0m\u001B[1;33m.\u001B[0m\u001B[0mbackward\u001B[0m\u001B[1;33m(\u001B[0m\u001B[1;33m)\u001B[0m\u001B[1;33m\u001B[0m\u001B[1;33m\u001B[0m\u001B[0m\n\u001B[0m\u001B[0;32m     68\u001B[0m \u001B[1;33m\u001B[0m\u001B[0m\n\u001B[0;32m     69\u001B[0m         \u001B[1;31m# update parameters\u001B[0m\u001B[1;33m\u001B[0m\u001B[1;33m\u001B[0m\u001B[1;33m\u001B[0m\u001B[0m\n",
      "\u001B[1;32md:\\python\\python38\\lib\\site-packages\\torch\\_tensor.py\u001B[0m in \u001B[0;36mbackward\u001B[1;34m(self, gradient, retain_graph, create_graph, inputs)\u001B[0m\n\u001B[0;32m    305\u001B[0m                 \u001B[0mcreate_graph\u001B[0m\u001B[1;33m=\u001B[0m\u001B[0mcreate_graph\u001B[0m\u001B[1;33m,\u001B[0m\u001B[1;33m\u001B[0m\u001B[1;33m\u001B[0m\u001B[0m\n\u001B[0;32m    306\u001B[0m                 inputs=inputs)\n\u001B[1;32m--> 307\u001B[1;33m         \u001B[0mtorch\u001B[0m\u001B[1;33m.\u001B[0m\u001B[0mautograd\u001B[0m\u001B[1;33m.\u001B[0m\u001B[0mbackward\u001B[0m\u001B[1;33m(\u001B[0m\u001B[0mself\u001B[0m\u001B[1;33m,\u001B[0m \u001B[0mgradient\u001B[0m\u001B[1;33m,\u001B[0m \u001B[0mretain_graph\u001B[0m\u001B[1;33m,\u001B[0m \u001B[0mcreate_graph\u001B[0m\u001B[1;33m,\u001B[0m \u001B[0minputs\u001B[0m\u001B[1;33m=\u001B[0m\u001B[0minputs\u001B[0m\u001B[1;33m)\u001B[0m\u001B[1;33m\u001B[0m\u001B[1;33m\u001B[0m\u001B[0m\n\u001B[0m\u001B[0;32m    308\u001B[0m \u001B[1;33m\u001B[0m\u001B[0m\n\u001B[0;32m    309\u001B[0m     \u001B[1;32mdef\u001B[0m \u001B[0mregister_hook\u001B[0m\u001B[1;33m(\u001B[0m\u001B[0mself\u001B[0m\u001B[1;33m,\u001B[0m \u001B[0mhook\u001B[0m\u001B[1;33m)\u001B[0m\u001B[1;33m:\u001B[0m\u001B[1;33m\u001B[0m\u001B[1;33m\u001B[0m\u001B[0m\n",
      "\u001B[1;32md:\\python\\python38\\lib\\site-packages\\torch\\autograd\\__init__.py\u001B[0m in \u001B[0;36mbackward\u001B[1;34m(tensors, grad_tensors, retain_graph, create_graph, grad_variables, inputs)\u001B[0m\n\u001B[0;32m    152\u001B[0m         \u001B[0mretain_graph\u001B[0m \u001B[1;33m=\u001B[0m \u001B[0mcreate_graph\u001B[0m\u001B[1;33m\u001B[0m\u001B[1;33m\u001B[0m\u001B[0m\n\u001B[0;32m    153\u001B[0m \u001B[1;33m\u001B[0m\u001B[0m\n\u001B[1;32m--> 154\u001B[1;33m     Variable._execution_engine.run_backward(\n\u001B[0m\u001B[0;32m    155\u001B[0m         \u001B[0mtensors\u001B[0m\u001B[1;33m,\u001B[0m \u001B[0mgrad_tensors_\u001B[0m\u001B[1;33m,\u001B[0m \u001B[0mretain_graph\u001B[0m\u001B[1;33m,\u001B[0m \u001B[0mcreate_graph\u001B[0m\u001B[1;33m,\u001B[0m \u001B[0minputs\u001B[0m\u001B[1;33m,\u001B[0m\u001B[1;33m\u001B[0m\u001B[1;33m\u001B[0m\u001B[0m\n\u001B[0;32m    156\u001B[0m         allow_unreachable=True, accumulate_grad=True)  # allow_unreachable flag\n",
      "\u001B[1;31mKeyboardInterrupt\u001B[0m: "
     ]
    }
   ],
   "source": [
    "DEVICE = cuda.try_gpu()\n",
    "model = torchwu.Model(Net())\n",
    "# model.summary(input_shape=(seq_length, 1))\n",
    "model.compile(\n",
    "    loss_func=F.cross_entropy,\n",
    "    optimizer=torch.optim.Adam(model.parameters(), lr=1e-3),\n",
    "    device=DEVICE,\n",
    "    # metrics_dict={'acc': metrics.accuracy_multi_clf}\n",
    ")\n",
    "dfhistory = model.fit(\n",
    "    epochs=EPOCHS,\n",
    "    dl_train=dl,\n",
    "    log_step_freq=300\n",
    ")"
   ],
   "metadata": {
    "collapsed": false,
    "pycharm": {
     "name": "#%%\n"
    }
   }
  },
  {
   "cell_type": "code",
   "execution_count": null,
   "outputs": [],
   "source": [
    "state_dict = model.state_dict()\n",
    "torch.save(model.state_dict(), 'net_para.pkl')\n",
    "print(state_dict.keys())"
   ],
   "metadata": {
    "collapsed": false,
    "pycharm": {
     "name": "#%%\n"
    }
   }
  },
  {
   "cell_type": "code",
   "execution_count": null,
   "outputs": [],
   "source": [
    "state_dict_load = torch.load('net_para.pkl')\n",
    "model_clone = torchwu.Model(Net())\n",
    "model_clone.load_state_dict(state_dict_load)"
   ],
   "metadata": {
    "collapsed": false,
    "pycharm": {
     "name": "#%%\n"
    }
   }
  },
  {
   "cell_type": "code",
   "execution_count": null,
   "outputs": [],
   "source": [
    "y_h1 = model.predict(dl)\n",
    "y_h2 = model.predict(dl)\n",
    "print(y_h1)\n",
    "print(y_h2)\n",
    "\n",
    "import d2l.torch as d2l\n",
    "\n",
    "d2l.train_ch8()"
   ],
   "metadata": {
    "collapsed": false,
    "pycharm": {
     "name": "#%%\n"
    }
   }
  }
 ],
 "metadata": {
  "kernelspec": {
   "display_name": "Python 3",
   "language": "python",
   "name": "python3"
  },
  "language_info": {
   "codemirror_mode": {
    "name": "ipython",
    "version": 2
   },
   "file_extension": ".py",
   "mimetype": "text/x-python",
   "name": "python",
   "nbconvert_exporter": "python",
   "pygments_lexer": "ipython2",
   "version": "2.7.6"
  }
 },
 "nbformat": 4,
 "nbformat_minor": 0
}