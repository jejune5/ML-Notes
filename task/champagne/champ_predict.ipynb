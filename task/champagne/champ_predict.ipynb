{
 "cells": [
  {
   "cell_type": "code",
   "execution_count": 28,
   "metadata": {
    "collapsed": true,
    "pycharm": {
     "name": "#%%\n"
    }
   },
   "outputs": [],
   "source": [
    "import pandas as pd\n",
    "import numpy as np\n",
    "import torch\n",
    "from torch import nn\n",
    "from torch.nn import functional as F\n",
    "from torch.utils.data import TensorDataset, DataLoader\n",
    "import torchkeras\n",
    "from plotly import graph_objects as go\n",
    "from sklearn.preprocessing import MinMaxScaler"
   ]
  },
  {
   "cell_type": "code",
   "execution_count": 29,
   "outputs": [
    {
     "data": {
      "text/plain": "         Sales\nMonth         \n1964-01   2815\n1964-02   2672\n1964-03   2755\n1964-04   2721\n1964-05   2946",
      "text/html": "<div>\n<style scoped>\n    .dataframe tbody tr th:only-of-type {\n        vertical-align: middle;\n    }\n\n    .dataframe tbody tr th {\n        vertical-align: top;\n    }\n\n    .dataframe thead th {\n        text-align: right;\n    }\n</style>\n<table border=\"1\" class=\"dataframe\">\n  <thead>\n    <tr style=\"text-align: right;\">\n      <th></th>\n      <th>Sales</th>\n    </tr>\n    <tr>\n      <th>Month</th>\n      <th></th>\n    </tr>\n  </thead>\n  <tbody>\n    <tr>\n      <th>1964-01</th>\n      <td>2815</td>\n    </tr>\n    <tr>\n      <th>1964-02</th>\n      <td>2672</td>\n    </tr>\n    <tr>\n      <th>1964-03</th>\n      <td>2755</td>\n    </tr>\n    <tr>\n      <th>1964-04</th>\n      <td>2721</td>\n    </tr>\n    <tr>\n      <th>1964-05</th>\n      <td>2946</td>\n    </tr>\n  </tbody>\n</table>\n</div>"
     },
     "execution_count": 29,
     "metadata": {},
     "output_type": "execute_result"
    }
   ],
   "source": [
    "# 导入数据\n",
    "# 数据下载：https://www.kaggle.com/kankanashukla/champagne-data\n",
    "df = pd.read_csv('champagne.csv', index_col=0)\n",
    "df.head()"
   ],
   "metadata": {
    "collapsed": false,
    "pycharm": {
     "name": "#%%\n"
    }
   }
  },
  {
   "cell_type": "code",
   "execution_count": 30,
   "outputs": [
    {
     "data": {
      "application/vnd.plotly.v1+json": {
       "data": [
        {
         "name": "Sales",
         "x": [
          "1964-01",
          "1964-02",
          "1964-03",
          "1964-04",
          "1964-05",
          "1964-06",
          "1964-07",
          "1964-08",
          "1964-09",
          "1964-10",
          "1964-11",
          "1964-12",
          "1965-01",
          "1965-02",
          "1965-03",
          "1965-04",
          "1965-05",
          "1965-06",
          "1965-07",
          "1965-08",
          "1965-09",
          "1965-10",
          "1965-11",
          "1965-12",
          "1966-01",
          "1966-02",
          "1966-03",
          "1966-04",
          "1966-05",
          "1966-06",
          "1966-07",
          "1966-08",
          "1966-09",
          "1966-10",
          "1966-11",
          "1966-12",
          "1967-01",
          "1967-02",
          "1967-03",
          "1967-04",
          "1967-05",
          "1967-06",
          "1967-07",
          "1967-08",
          "1967-09",
          "1967-10",
          "1967-11",
          "1967-12",
          "1968-01",
          "1968-02",
          "1968-03",
          "1968-04",
          "1968-05",
          "1968-06",
          "1968-07",
          "1968-08",
          "1968-09",
          "1968-10",
          "1968-11",
          "1968-12",
          "1969-01",
          "1969-02",
          "1969-03",
          "1969-04",
          "1969-05",
          "1969-06",
          "1969-07",
          "1969-08",
          "1969-09",
          "1969-10",
          "1969-11",
          "1969-12",
          "1970-01",
          "1970-02",
          "1970-03",
          "1970-04",
          "1970-05",
          "1970-06",
          "1970-07",
          "1970-08",
          "1970-09",
          "1970-10",
          "1970-11",
          "1970-12",
          "1971-01",
          "1971-02",
          "1971-03",
          "1971-04",
          "1971-05",
          "1971-06",
          "1971-07",
          "1971-08",
          "1971-09",
          "1971-10",
          "1971-11",
          "1971-12",
          "1972-01",
          "1972-02",
          "1972-03",
          "1972-04",
          "1972-05",
          "1972-06",
          "1972-07",
          "1972-08",
          "1972-09"
         ],
         "y": [
          2815,
          2672,
          2755,
          2721,
          2946,
          3036,
          2282,
          2212,
          2922,
          4301,
          5764,
          7312,
          2541,
          2475,
          3031,
          3266,
          3776,
          3230,
          3028,
          1759,
          3595,
          4474,
          6838,
          8357,
          3113,
          3006,
          4047,
          3523,
          3937,
          3986,
          3260,
          1573,
          3528,
          5211,
          7614,
          9254,
          5375,
          3088,
          3718,
          4514,
          4520,
          4539,
          3663,
          1643,
          4739,
          5428,
          8314,
          10651,
          3633,
          4292,
          4154,
          4121,
          4647,
          4753,
          3965,
          1723,
          5048,
          6922,
          9858,
          11331,
          4016,
          3957,
          4510,
          4276,
          4968,
          4677,
          3523,
          1821,
          5222,
          6872,
          10803,
          13916,
          2639,
          2899,
          3370,
          3740,
          2927,
          3986,
          4217,
          1738,
          5221,
          6424,
          9842,
          13076,
          3934,
          3162,
          4286,
          4676,
          5010,
          4874,
          4633,
          1659,
          5951,
          6981,
          9851,
          12670,
          4348,
          3564,
          4577,
          4788,
          4618,
          5312,
          4298,
          1413,
          5877
         ],
         "type": "scatter"
        }
       ],
       "layout": {
        "template": {
         "data": {
          "bar": [
           {
            "error_x": {
             "color": "#2a3f5f"
            },
            "error_y": {
             "color": "#2a3f5f"
            },
            "marker": {
             "line": {
              "color": "#E5ECF6",
              "width": 0.5
             },
             "pattern": {
              "fillmode": "overlay",
              "size": 10,
              "solidity": 0.2
             }
            },
            "type": "bar"
           }
          ],
          "barpolar": [
           {
            "marker": {
             "line": {
              "color": "#E5ECF6",
              "width": 0.5
             },
             "pattern": {
              "fillmode": "overlay",
              "size": 10,
              "solidity": 0.2
             }
            },
            "type": "barpolar"
           }
          ],
          "carpet": [
           {
            "aaxis": {
             "endlinecolor": "#2a3f5f",
             "gridcolor": "white",
             "linecolor": "white",
             "minorgridcolor": "white",
             "startlinecolor": "#2a3f5f"
            },
            "baxis": {
             "endlinecolor": "#2a3f5f",
             "gridcolor": "white",
             "linecolor": "white",
             "minorgridcolor": "white",
             "startlinecolor": "#2a3f5f"
            },
            "type": "carpet"
           }
          ],
          "choropleth": [
           {
            "colorbar": {
             "outlinewidth": 0,
             "ticks": ""
            },
            "type": "choropleth"
           }
          ],
          "contour": [
           {
            "colorbar": {
             "outlinewidth": 0,
             "ticks": ""
            },
            "colorscale": [
             [
              0.0,
              "#0d0887"
             ],
             [
              0.1111111111111111,
              "#46039f"
             ],
             [
              0.2222222222222222,
              "#7201a8"
             ],
             [
              0.3333333333333333,
              "#9c179e"
             ],
             [
              0.4444444444444444,
              "#bd3786"
             ],
             [
              0.5555555555555556,
              "#d8576b"
             ],
             [
              0.6666666666666666,
              "#ed7953"
             ],
             [
              0.7777777777777778,
              "#fb9f3a"
             ],
             [
              0.8888888888888888,
              "#fdca26"
             ],
             [
              1.0,
              "#f0f921"
             ]
            ],
            "type": "contour"
           }
          ],
          "contourcarpet": [
           {
            "colorbar": {
             "outlinewidth": 0,
             "ticks": ""
            },
            "type": "contourcarpet"
           }
          ],
          "heatmap": [
           {
            "colorbar": {
             "outlinewidth": 0,
             "ticks": ""
            },
            "colorscale": [
             [
              0.0,
              "#0d0887"
             ],
             [
              0.1111111111111111,
              "#46039f"
             ],
             [
              0.2222222222222222,
              "#7201a8"
             ],
             [
              0.3333333333333333,
              "#9c179e"
             ],
             [
              0.4444444444444444,
              "#bd3786"
             ],
             [
              0.5555555555555556,
              "#d8576b"
             ],
             [
              0.6666666666666666,
              "#ed7953"
             ],
             [
              0.7777777777777778,
              "#fb9f3a"
             ],
             [
              0.8888888888888888,
              "#fdca26"
             ],
             [
              1.0,
              "#f0f921"
             ]
            ],
            "type": "heatmap"
           }
          ],
          "heatmapgl": [
           {
            "colorbar": {
             "outlinewidth": 0,
             "ticks": ""
            },
            "colorscale": [
             [
              0.0,
              "#0d0887"
             ],
             [
              0.1111111111111111,
              "#46039f"
             ],
             [
              0.2222222222222222,
              "#7201a8"
             ],
             [
              0.3333333333333333,
              "#9c179e"
             ],
             [
              0.4444444444444444,
              "#bd3786"
             ],
             [
              0.5555555555555556,
              "#d8576b"
             ],
             [
              0.6666666666666666,
              "#ed7953"
             ],
             [
              0.7777777777777778,
              "#fb9f3a"
             ],
             [
              0.8888888888888888,
              "#fdca26"
             ],
             [
              1.0,
              "#f0f921"
             ]
            ],
            "type": "heatmapgl"
           }
          ],
          "histogram": [
           {
            "marker": {
             "pattern": {
              "fillmode": "overlay",
              "size": 10,
              "solidity": 0.2
             }
            },
            "type": "histogram"
           }
          ],
          "histogram2d": [
           {
            "colorbar": {
             "outlinewidth": 0,
             "ticks": ""
            },
            "colorscale": [
             [
              0.0,
              "#0d0887"
             ],
             [
              0.1111111111111111,
              "#46039f"
             ],
             [
              0.2222222222222222,
              "#7201a8"
             ],
             [
              0.3333333333333333,
              "#9c179e"
             ],
             [
              0.4444444444444444,
              "#bd3786"
             ],
             [
              0.5555555555555556,
              "#d8576b"
             ],
             [
              0.6666666666666666,
              "#ed7953"
             ],
             [
              0.7777777777777778,
              "#fb9f3a"
             ],
             [
              0.8888888888888888,
              "#fdca26"
             ],
             [
              1.0,
              "#f0f921"
             ]
            ],
            "type": "histogram2d"
           }
          ],
          "histogram2dcontour": [
           {
            "colorbar": {
             "outlinewidth": 0,
             "ticks": ""
            },
            "colorscale": [
             [
              0.0,
              "#0d0887"
             ],
             [
              0.1111111111111111,
              "#46039f"
             ],
             [
              0.2222222222222222,
              "#7201a8"
             ],
             [
              0.3333333333333333,
              "#9c179e"
             ],
             [
              0.4444444444444444,
              "#bd3786"
             ],
             [
              0.5555555555555556,
              "#d8576b"
             ],
             [
              0.6666666666666666,
              "#ed7953"
             ],
             [
              0.7777777777777778,
              "#fb9f3a"
             ],
             [
              0.8888888888888888,
              "#fdca26"
             ],
             [
              1.0,
              "#f0f921"
             ]
            ],
            "type": "histogram2dcontour"
           }
          ],
          "mesh3d": [
           {
            "colorbar": {
             "outlinewidth": 0,
             "ticks": ""
            },
            "type": "mesh3d"
           }
          ],
          "parcoords": [
           {
            "line": {
             "colorbar": {
              "outlinewidth": 0,
              "ticks": ""
             }
            },
            "type": "parcoords"
           }
          ],
          "pie": [
           {
            "automargin": true,
            "type": "pie"
           }
          ],
          "scatter": [
           {
            "marker": {
             "colorbar": {
              "outlinewidth": 0,
              "ticks": ""
             }
            },
            "type": "scatter"
           }
          ],
          "scatter3d": [
           {
            "line": {
             "colorbar": {
              "outlinewidth": 0,
              "ticks": ""
             }
            },
            "marker": {
             "colorbar": {
              "outlinewidth": 0,
              "ticks": ""
             }
            },
            "type": "scatter3d"
           }
          ],
          "scattercarpet": [
           {
            "marker": {
             "colorbar": {
              "outlinewidth": 0,
              "ticks": ""
             }
            },
            "type": "scattercarpet"
           }
          ],
          "scattergeo": [
           {
            "marker": {
             "colorbar": {
              "outlinewidth": 0,
              "ticks": ""
             }
            },
            "type": "scattergeo"
           }
          ],
          "scattergl": [
           {
            "marker": {
             "colorbar": {
              "outlinewidth": 0,
              "ticks": ""
             }
            },
            "type": "scattergl"
           }
          ],
          "scattermapbox": [
           {
            "marker": {
             "colorbar": {
              "outlinewidth": 0,
              "ticks": ""
             }
            },
            "type": "scattermapbox"
           }
          ],
          "scatterpolar": [
           {
            "marker": {
             "colorbar": {
              "outlinewidth": 0,
              "ticks": ""
             }
            },
            "type": "scatterpolar"
           }
          ],
          "scatterpolargl": [
           {
            "marker": {
             "colorbar": {
              "outlinewidth": 0,
              "ticks": ""
             }
            },
            "type": "scatterpolargl"
           }
          ],
          "scatterternary": [
           {
            "marker": {
             "colorbar": {
              "outlinewidth": 0,
              "ticks": ""
             }
            },
            "type": "scatterternary"
           }
          ],
          "surface": [
           {
            "colorbar": {
             "outlinewidth": 0,
             "ticks": ""
            },
            "colorscale": [
             [
              0.0,
              "#0d0887"
             ],
             [
              0.1111111111111111,
              "#46039f"
             ],
             [
              0.2222222222222222,
              "#7201a8"
             ],
             [
              0.3333333333333333,
              "#9c179e"
             ],
             [
              0.4444444444444444,
              "#bd3786"
             ],
             [
              0.5555555555555556,
              "#d8576b"
             ],
             [
              0.6666666666666666,
              "#ed7953"
             ],
             [
              0.7777777777777778,
              "#fb9f3a"
             ],
             [
              0.8888888888888888,
              "#fdca26"
             ],
             [
              1.0,
              "#f0f921"
             ]
            ],
            "type": "surface"
           }
          ],
          "table": [
           {
            "cells": {
             "fill": {
              "color": "#EBF0F8"
             },
             "line": {
              "color": "white"
             }
            },
            "header": {
             "fill": {
              "color": "#C8D4E3"
             },
             "line": {
              "color": "white"
             }
            },
            "type": "table"
           }
          ]
         },
         "layout": {
          "annotationdefaults": {
           "arrowcolor": "#2a3f5f",
           "arrowhead": 0,
           "arrowwidth": 1
          },
          "autotypenumbers": "strict",
          "coloraxis": {
           "colorbar": {
            "outlinewidth": 0,
            "ticks": ""
           }
          },
          "colorscale": {
           "diverging": [
            [
             0,
             "#8e0152"
            ],
            [
             0.1,
             "#c51b7d"
            ],
            [
             0.2,
             "#de77ae"
            ],
            [
             0.3,
             "#f1b6da"
            ],
            [
             0.4,
             "#fde0ef"
            ],
            [
             0.5,
             "#f7f7f7"
            ],
            [
             0.6,
             "#e6f5d0"
            ],
            [
             0.7,
             "#b8e186"
            ],
            [
             0.8,
             "#7fbc41"
            ],
            [
             0.9,
             "#4d9221"
            ],
            [
             1,
             "#276419"
            ]
           ],
           "sequential": [
            [
             0.0,
             "#0d0887"
            ],
            [
             0.1111111111111111,
             "#46039f"
            ],
            [
             0.2222222222222222,
             "#7201a8"
            ],
            [
             0.3333333333333333,
             "#9c179e"
            ],
            [
             0.4444444444444444,
             "#bd3786"
            ],
            [
             0.5555555555555556,
             "#d8576b"
            ],
            [
             0.6666666666666666,
             "#ed7953"
            ],
            [
             0.7777777777777778,
             "#fb9f3a"
            ],
            [
             0.8888888888888888,
             "#fdca26"
            ],
            [
             1.0,
             "#f0f921"
            ]
           ],
           "sequentialminus": [
            [
             0.0,
             "#0d0887"
            ],
            [
             0.1111111111111111,
             "#46039f"
            ],
            [
             0.2222222222222222,
             "#7201a8"
            ],
            [
             0.3333333333333333,
             "#9c179e"
            ],
            [
             0.4444444444444444,
             "#bd3786"
            ],
            [
             0.5555555555555556,
             "#d8576b"
            ],
            [
             0.6666666666666666,
             "#ed7953"
            ],
            [
             0.7777777777777778,
             "#fb9f3a"
            ],
            [
             0.8888888888888888,
             "#fdca26"
            ],
            [
             1.0,
             "#f0f921"
            ]
           ]
          },
          "colorway": [
           "#636efa",
           "#EF553B",
           "#00cc96",
           "#ab63fa",
           "#FFA15A",
           "#19d3f3",
           "#FF6692",
           "#B6E880",
           "#FF97FF",
           "#FECB52"
          ],
          "font": {
           "color": "#2a3f5f"
          },
          "geo": {
           "bgcolor": "white",
           "lakecolor": "white",
           "landcolor": "#E5ECF6",
           "showlakes": true,
           "showland": true,
           "subunitcolor": "white"
          },
          "hoverlabel": {
           "align": "left"
          },
          "hovermode": "closest",
          "mapbox": {
           "style": "light"
          },
          "paper_bgcolor": "white",
          "plot_bgcolor": "#E5ECF6",
          "polar": {
           "angularaxis": {
            "gridcolor": "white",
            "linecolor": "white",
            "ticks": ""
           },
           "bgcolor": "#E5ECF6",
           "radialaxis": {
            "gridcolor": "white",
            "linecolor": "white",
            "ticks": ""
           }
          },
          "scene": {
           "xaxis": {
            "backgroundcolor": "#E5ECF6",
            "gridcolor": "white",
            "gridwidth": 2,
            "linecolor": "white",
            "showbackground": true,
            "ticks": "",
            "zerolinecolor": "white"
           },
           "yaxis": {
            "backgroundcolor": "#E5ECF6",
            "gridcolor": "white",
            "gridwidth": 2,
            "linecolor": "white",
            "showbackground": true,
            "ticks": "",
            "zerolinecolor": "white"
           },
           "zaxis": {
            "backgroundcolor": "#E5ECF6",
            "gridcolor": "white",
            "gridwidth": 2,
            "linecolor": "white",
            "showbackground": true,
            "ticks": "",
            "zerolinecolor": "white"
           }
          },
          "shapedefaults": {
           "line": {
            "color": "#2a3f5f"
           }
          },
          "ternary": {
           "aaxis": {
            "gridcolor": "white",
            "linecolor": "white",
            "ticks": ""
           },
           "baxis": {
            "gridcolor": "white",
            "linecolor": "white",
            "ticks": ""
           },
           "bgcolor": "#E5ECF6",
           "caxis": {
            "gridcolor": "white",
            "linecolor": "white",
            "ticks": ""
           }
          },
          "title": {
           "x": 0.05
          },
          "xaxis": {
           "automargin": true,
           "gridcolor": "white",
           "linecolor": "white",
           "ticks": "",
           "title": {
            "standoff": 15
           },
           "zerolinecolor": "white",
           "zerolinewidth": 2
          },
          "yaxis": {
           "automargin": true,
           "gridcolor": "white",
           "linecolor": "white",
           "ticks": "",
           "title": {
            "standoff": 15
           },
           "zerolinecolor": "white",
           "zerolinewidth": 2
          }
         }
        }
       },
       "config": {
        "plotlyServerURL": "https://plot.ly"
       }
      },
      "text/html": "<div>                            <div id=\"8c1a9ca0-2168-417d-9354-b794be37242f\" class=\"plotly-graph-div\" style=\"height:525px; width:100%;\"></div>            <script type=\"text/javascript\">                require([\"plotly\"], function(Plotly) {                    window.PLOTLYENV=window.PLOTLYENV || {};                                    if (document.getElementById(\"8c1a9ca0-2168-417d-9354-b794be37242f\")) {                    Plotly.newPlot(                        \"8c1a9ca0-2168-417d-9354-b794be37242f\",                        [{\"name\":\"Sales\",\"x\":[\"1964-01\",\"1964-02\",\"1964-03\",\"1964-04\",\"1964-05\",\"1964-06\",\"1964-07\",\"1964-08\",\"1964-09\",\"1964-10\",\"1964-11\",\"1964-12\",\"1965-01\",\"1965-02\",\"1965-03\",\"1965-04\",\"1965-05\",\"1965-06\",\"1965-07\",\"1965-08\",\"1965-09\",\"1965-10\",\"1965-11\",\"1965-12\",\"1966-01\",\"1966-02\",\"1966-03\",\"1966-04\",\"1966-05\",\"1966-06\",\"1966-07\",\"1966-08\",\"1966-09\",\"1966-10\",\"1966-11\",\"1966-12\",\"1967-01\",\"1967-02\",\"1967-03\",\"1967-04\",\"1967-05\",\"1967-06\",\"1967-07\",\"1967-08\",\"1967-09\",\"1967-10\",\"1967-11\",\"1967-12\",\"1968-01\",\"1968-02\",\"1968-03\",\"1968-04\",\"1968-05\",\"1968-06\",\"1968-07\",\"1968-08\",\"1968-09\",\"1968-10\",\"1968-11\",\"1968-12\",\"1969-01\",\"1969-02\",\"1969-03\",\"1969-04\",\"1969-05\",\"1969-06\",\"1969-07\",\"1969-08\",\"1969-09\",\"1969-10\",\"1969-11\",\"1969-12\",\"1970-01\",\"1970-02\",\"1970-03\",\"1970-04\",\"1970-05\",\"1970-06\",\"1970-07\",\"1970-08\",\"1970-09\",\"1970-10\",\"1970-11\",\"1970-12\",\"1971-01\",\"1971-02\",\"1971-03\",\"1971-04\",\"1971-05\",\"1971-06\",\"1971-07\",\"1971-08\",\"1971-09\",\"1971-10\",\"1971-11\",\"1971-12\",\"1972-01\",\"1972-02\",\"1972-03\",\"1972-04\",\"1972-05\",\"1972-06\",\"1972-07\",\"1972-08\",\"1972-09\"],\"y\":[2815,2672,2755,2721,2946,3036,2282,2212,2922,4301,5764,7312,2541,2475,3031,3266,3776,3230,3028,1759,3595,4474,6838,8357,3113,3006,4047,3523,3937,3986,3260,1573,3528,5211,7614,9254,5375,3088,3718,4514,4520,4539,3663,1643,4739,5428,8314,10651,3633,4292,4154,4121,4647,4753,3965,1723,5048,6922,9858,11331,4016,3957,4510,4276,4968,4677,3523,1821,5222,6872,10803,13916,2639,2899,3370,3740,2927,3986,4217,1738,5221,6424,9842,13076,3934,3162,4286,4676,5010,4874,4633,1659,5951,6981,9851,12670,4348,3564,4577,4788,4618,5312,4298,1413,5877],\"type\":\"scatter\"}],                        {\"template\":{\"data\":{\"bar\":[{\"error_x\":{\"color\":\"#2a3f5f\"},\"error_y\":{\"color\":\"#2a3f5f\"},\"marker\":{\"line\":{\"color\":\"#E5ECF6\",\"width\":0.5},\"pattern\":{\"fillmode\":\"overlay\",\"size\":10,\"solidity\":0.2}},\"type\":\"bar\"}],\"barpolar\":[{\"marker\":{\"line\":{\"color\":\"#E5ECF6\",\"width\":0.5},\"pattern\":{\"fillmode\":\"overlay\",\"size\":10,\"solidity\":0.2}},\"type\":\"barpolar\"}],\"carpet\":[{\"aaxis\":{\"endlinecolor\":\"#2a3f5f\",\"gridcolor\":\"white\",\"linecolor\":\"white\",\"minorgridcolor\":\"white\",\"startlinecolor\":\"#2a3f5f\"},\"baxis\":{\"endlinecolor\":\"#2a3f5f\",\"gridcolor\":\"white\",\"linecolor\":\"white\",\"minorgridcolor\":\"white\",\"startlinecolor\":\"#2a3f5f\"},\"type\":\"carpet\"}],\"choropleth\":[{\"colorbar\":{\"outlinewidth\":0,\"ticks\":\"\"},\"type\":\"choropleth\"}],\"contour\":[{\"colorbar\":{\"outlinewidth\":0,\"ticks\":\"\"},\"colorscale\":[[0.0,\"#0d0887\"],[0.1111111111111111,\"#46039f\"],[0.2222222222222222,\"#7201a8\"],[0.3333333333333333,\"#9c179e\"],[0.4444444444444444,\"#bd3786\"],[0.5555555555555556,\"#d8576b\"],[0.6666666666666666,\"#ed7953\"],[0.7777777777777778,\"#fb9f3a\"],[0.8888888888888888,\"#fdca26\"],[1.0,\"#f0f921\"]],\"type\":\"contour\"}],\"contourcarpet\":[{\"colorbar\":{\"outlinewidth\":0,\"ticks\":\"\"},\"type\":\"contourcarpet\"}],\"heatmap\":[{\"colorbar\":{\"outlinewidth\":0,\"ticks\":\"\"},\"colorscale\":[[0.0,\"#0d0887\"],[0.1111111111111111,\"#46039f\"],[0.2222222222222222,\"#7201a8\"],[0.3333333333333333,\"#9c179e\"],[0.4444444444444444,\"#bd3786\"],[0.5555555555555556,\"#d8576b\"],[0.6666666666666666,\"#ed7953\"],[0.7777777777777778,\"#fb9f3a\"],[0.8888888888888888,\"#fdca26\"],[1.0,\"#f0f921\"]],\"type\":\"heatmap\"}],\"heatmapgl\":[{\"colorbar\":{\"outlinewidth\":0,\"ticks\":\"\"},\"colorscale\":[[0.0,\"#0d0887\"],[0.1111111111111111,\"#46039f\"],[0.2222222222222222,\"#7201a8\"],[0.3333333333333333,\"#9c179e\"],[0.4444444444444444,\"#bd3786\"],[0.5555555555555556,\"#d8576b\"],[0.6666666666666666,\"#ed7953\"],[0.7777777777777778,\"#fb9f3a\"],[0.8888888888888888,\"#fdca26\"],[1.0,\"#f0f921\"]],\"type\":\"heatmapgl\"}],\"histogram\":[{\"marker\":{\"pattern\":{\"fillmode\":\"overlay\",\"size\":10,\"solidity\":0.2}},\"type\":\"histogram\"}],\"histogram2d\":[{\"colorbar\":{\"outlinewidth\":0,\"ticks\":\"\"},\"colorscale\":[[0.0,\"#0d0887\"],[0.1111111111111111,\"#46039f\"],[0.2222222222222222,\"#7201a8\"],[0.3333333333333333,\"#9c179e\"],[0.4444444444444444,\"#bd3786\"],[0.5555555555555556,\"#d8576b\"],[0.6666666666666666,\"#ed7953\"],[0.7777777777777778,\"#fb9f3a\"],[0.8888888888888888,\"#fdca26\"],[1.0,\"#f0f921\"]],\"type\":\"histogram2d\"}],\"histogram2dcontour\":[{\"colorbar\":{\"outlinewidth\":0,\"ticks\":\"\"},\"colorscale\":[[0.0,\"#0d0887\"],[0.1111111111111111,\"#46039f\"],[0.2222222222222222,\"#7201a8\"],[0.3333333333333333,\"#9c179e\"],[0.4444444444444444,\"#bd3786\"],[0.5555555555555556,\"#d8576b\"],[0.6666666666666666,\"#ed7953\"],[0.7777777777777778,\"#fb9f3a\"],[0.8888888888888888,\"#fdca26\"],[1.0,\"#f0f921\"]],\"type\":\"histogram2dcontour\"}],\"mesh3d\":[{\"colorbar\":{\"outlinewidth\":0,\"ticks\":\"\"},\"type\":\"mesh3d\"}],\"parcoords\":[{\"line\":{\"colorbar\":{\"outlinewidth\":0,\"ticks\":\"\"}},\"type\":\"parcoords\"}],\"pie\":[{\"automargin\":true,\"type\":\"pie\"}],\"scatter\":[{\"marker\":{\"colorbar\":{\"outlinewidth\":0,\"ticks\":\"\"}},\"type\":\"scatter\"}],\"scatter3d\":[{\"line\":{\"colorbar\":{\"outlinewidth\":0,\"ticks\":\"\"}},\"marker\":{\"colorbar\":{\"outlinewidth\":0,\"ticks\":\"\"}},\"type\":\"scatter3d\"}],\"scattercarpet\":[{\"marker\":{\"colorbar\":{\"outlinewidth\":0,\"ticks\":\"\"}},\"type\":\"scattercarpet\"}],\"scattergeo\":[{\"marker\":{\"colorbar\":{\"outlinewidth\":0,\"ticks\":\"\"}},\"type\":\"scattergeo\"}],\"scattergl\":[{\"marker\":{\"colorbar\":{\"outlinewidth\":0,\"ticks\":\"\"}},\"type\":\"scattergl\"}],\"scattermapbox\":[{\"marker\":{\"colorbar\":{\"outlinewidth\":0,\"ticks\":\"\"}},\"type\":\"scattermapbox\"}],\"scatterpolar\":[{\"marker\":{\"colorbar\":{\"outlinewidth\":0,\"ticks\":\"\"}},\"type\":\"scatterpolar\"}],\"scatterpolargl\":[{\"marker\":{\"colorbar\":{\"outlinewidth\":0,\"ticks\":\"\"}},\"type\":\"scatterpolargl\"}],\"scatterternary\":[{\"marker\":{\"colorbar\":{\"outlinewidth\":0,\"ticks\":\"\"}},\"type\":\"scatterternary\"}],\"surface\":[{\"colorbar\":{\"outlinewidth\":0,\"ticks\":\"\"},\"colorscale\":[[0.0,\"#0d0887\"],[0.1111111111111111,\"#46039f\"],[0.2222222222222222,\"#7201a8\"],[0.3333333333333333,\"#9c179e\"],[0.4444444444444444,\"#bd3786\"],[0.5555555555555556,\"#d8576b\"],[0.6666666666666666,\"#ed7953\"],[0.7777777777777778,\"#fb9f3a\"],[0.8888888888888888,\"#fdca26\"],[1.0,\"#f0f921\"]],\"type\":\"surface\"}],\"table\":[{\"cells\":{\"fill\":{\"color\":\"#EBF0F8\"},\"line\":{\"color\":\"white\"}},\"header\":{\"fill\":{\"color\":\"#C8D4E3\"},\"line\":{\"color\":\"white\"}},\"type\":\"table\"}]},\"layout\":{\"annotationdefaults\":{\"arrowcolor\":\"#2a3f5f\",\"arrowhead\":0,\"arrowwidth\":1},\"autotypenumbers\":\"strict\",\"coloraxis\":{\"colorbar\":{\"outlinewidth\":0,\"ticks\":\"\"}},\"colorscale\":{\"diverging\":[[0,\"#8e0152\"],[0.1,\"#c51b7d\"],[0.2,\"#de77ae\"],[0.3,\"#f1b6da\"],[0.4,\"#fde0ef\"],[0.5,\"#f7f7f7\"],[0.6,\"#e6f5d0\"],[0.7,\"#b8e186\"],[0.8,\"#7fbc41\"],[0.9,\"#4d9221\"],[1,\"#276419\"]],\"sequential\":[[0.0,\"#0d0887\"],[0.1111111111111111,\"#46039f\"],[0.2222222222222222,\"#7201a8\"],[0.3333333333333333,\"#9c179e\"],[0.4444444444444444,\"#bd3786\"],[0.5555555555555556,\"#d8576b\"],[0.6666666666666666,\"#ed7953\"],[0.7777777777777778,\"#fb9f3a\"],[0.8888888888888888,\"#fdca26\"],[1.0,\"#f0f921\"]],\"sequentialminus\":[[0.0,\"#0d0887\"],[0.1111111111111111,\"#46039f\"],[0.2222222222222222,\"#7201a8\"],[0.3333333333333333,\"#9c179e\"],[0.4444444444444444,\"#bd3786\"],[0.5555555555555556,\"#d8576b\"],[0.6666666666666666,\"#ed7953\"],[0.7777777777777778,\"#fb9f3a\"],[0.8888888888888888,\"#fdca26\"],[1.0,\"#f0f921\"]]},\"colorway\":[\"#636efa\",\"#EF553B\",\"#00cc96\",\"#ab63fa\",\"#FFA15A\",\"#19d3f3\",\"#FF6692\",\"#B6E880\",\"#FF97FF\",\"#FECB52\"],\"font\":{\"color\":\"#2a3f5f\"},\"geo\":{\"bgcolor\":\"white\",\"lakecolor\":\"white\",\"landcolor\":\"#E5ECF6\",\"showlakes\":true,\"showland\":true,\"subunitcolor\":\"white\"},\"hoverlabel\":{\"align\":\"left\"},\"hovermode\":\"closest\",\"mapbox\":{\"style\":\"light\"},\"paper_bgcolor\":\"white\",\"plot_bgcolor\":\"#E5ECF6\",\"polar\":{\"angularaxis\":{\"gridcolor\":\"white\",\"linecolor\":\"white\",\"ticks\":\"\"},\"bgcolor\":\"#E5ECF6\",\"radialaxis\":{\"gridcolor\":\"white\",\"linecolor\":\"white\",\"ticks\":\"\"}},\"scene\":{\"xaxis\":{\"backgroundcolor\":\"#E5ECF6\",\"gridcolor\":\"white\",\"gridwidth\":2,\"linecolor\":\"white\",\"showbackground\":true,\"ticks\":\"\",\"zerolinecolor\":\"white\"},\"yaxis\":{\"backgroundcolor\":\"#E5ECF6\",\"gridcolor\":\"white\",\"gridwidth\":2,\"linecolor\":\"white\",\"showbackground\":true,\"ticks\":\"\",\"zerolinecolor\":\"white\"},\"zaxis\":{\"backgroundcolor\":\"#E5ECF6\",\"gridcolor\":\"white\",\"gridwidth\":2,\"linecolor\":\"white\",\"showbackground\":true,\"ticks\":\"\",\"zerolinecolor\":\"white\"}},\"shapedefaults\":{\"line\":{\"color\":\"#2a3f5f\"}},\"ternary\":{\"aaxis\":{\"gridcolor\":\"white\",\"linecolor\":\"white\",\"ticks\":\"\"},\"baxis\":{\"gridcolor\":\"white\",\"linecolor\":\"white\",\"ticks\":\"\"},\"bgcolor\":\"#E5ECF6\",\"caxis\":{\"gridcolor\":\"white\",\"linecolor\":\"white\",\"ticks\":\"\"}},\"title\":{\"x\":0.05},\"xaxis\":{\"automargin\":true,\"gridcolor\":\"white\",\"linecolor\":\"white\",\"ticks\":\"\",\"title\":{\"standoff\":15},\"zerolinecolor\":\"white\",\"zerolinewidth\":2},\"yaxis\":{\"automargin\":true,\"gridcolor\":\"white\",\"linecolor\":\"white\",\"ticks\":\"\",\"title\":{\"standoff\":15},\"zerolinecolor\":\"white\",\"zerolinewidth\":2}}}},                        {\"responsive\": true}                    ).then(function(){\n                            \nvar gd = document.getElementById('8c1a9ca0-2168-417d-9354-b794be37242f');\nvar x = new MutationObserver(function (mutations, observer) {{\n        var display = window.getComputedStyle(gd).display;\n        if (!display || display === 'none') {{\n            console.log([gd, 'removed!']);\n            Plotly.purge(gd);\n            observer.disconnect();\n        }}\n}});\n\n// Listen for the removal of the full notebook cells\nvar notebookContainer = gd.closest('#notebook-container');\nif (notebookContainer) {{\n    x.observe(notebookContainer, {childList: true});\n}}\n\n// Listen for the clearing of the current output cell\nvar outputEl = gd.closest('.output');\nif (outputEl) {{\n    x.observe(outputEl, {childList: true});\n}}\n\n                        })                };                });            </script>        </div>"
     },
     "metadata": {},
     "output_type": "display_data"
    }
   ],
   "source": [
    "# 数据预览\n",
    "fig = go.Figure()\n",
    "fig.add_trace(go.Scatter(x=df.index, y=df['Sales'], name='Sales'))\n",
    "fig.show()"
   ],
   "metadata": {
    "collapsed": false,
    "pycharm": {
     "name": "#%%\n"
    }
   }
  },
  {
   "cell_type": "code",
   "execution_count": 31,
   "outputs": [
    {
     "data": {
      "text/plain": "         Sales    Scaler\nMonth                   \n1964-01   2815  0.112133\n1964-02   2672  0.100696\n1964-03   2755  0.107334\n1964-04   2721  0.104615\n1964-05   2946  0.122611",
      "text/html": "<div>\n<style scoped>\n    .dataframe tbody tr th:only-of-type {\n        vertical-align: middle;\n    }\n\n    .dataframe tbody tr th {\n        vertical-align: top;\n    }\n\n    .dataframe thead th {\n        text-align: right;\n    }\n</style>\n<table border=\"1\" class=\"dataframe\">\n  <thead>\n    <tr style=\"text-align: right;\">\n      <th></th>\n      <th>Sales</th>\n      <th>Scaler</th>\n    </tr>\n    <tr>\n      <th>Month</th>\n      <th></th>\n      <th></th>\n    </tr>\n  </thead>\n  <tbody>\n    <tr>\n      <th>1964-01</th>\n      <td>2815</td>\n      <td>0.112133</td>\n    </tr>\n    <tr>\n      <th>1964-02</th>\n      <td>2672</td>\n      <td>0.100696</td>\n    </tr>\n    <tr>\n      <th>1964-03</th>\n      <td>2755</td>\n      <td>0.107334</td>\n    </tr>\n    <tr>\n      <th>1964-04</th>\n      <td>2721</td>\n      <td>0.104615</td>\n    </tr>\n    <tr>\n      <th>1964-05</th>\n      <td>2946</td>\n      <td>0.122611</td>\n    </tr>\n  </tbody>\n</table>\n</div>"
     },
     "execution_count": 31,
     "metadata": {},
     "output_type": "execute_result"
    }
   ],
   "source": [
    "# 数据处理\n",
    "# 归一化 [0, 1]\n",
    "scaler = MinMaxScaler()\n",
    "predict_field = 'Scaler'\n",
    "df[predict_field] = scaler.fit_transform(df['Sales'].values.reshape(-1, 1))\n",
    "df.head()"
   ],
   "metadata": {
    "collapsed": false,
    "pycharm": {
     "name": "#%%\n"
    }
   }
  },
  {
   "cell_type": "code",
   "execution_count": 32,
   "outputs": [
    {
     "name": "stdout",
     "output_type": "stream",
     "text": [
      "Device: cuda:0\n",
      "Total datasets:  torch.Size([96, 8, 1]) --> torch.Size([96, 1, 1])\n",
      "Train datasets:  torch.Size([76, 8, 1]) --> torch.Size([76, 1, 1])\n",
      "torch.Size([12, 8, 1])\n",
      "torch.Size([12, 1, 1])\n"
     ]
    }
   ],
   "source": [
    "def create_dataset(data: list, time_step: int):\n",
    "    arr_x, arr_y = [], []\n",
    "    for i in range(len(data) - time_step - 1):\n",
    "        x = data[i: i + time_step]\n",
    "        y = data[i + time_step]\n",
    "        arr_x.append(x)\n",
    "        arr_y.append(y)\n",
    "    return np.array(arr_x), np.array(arr_y)\n",
    "\n",
    "\n",
    "device = torch.device(\"cuda:0\" if torch.cuda.is_available() else \"cpu\")\n",
    "print('Device:', device)\n",
    "\n",
    "time_step = 8\n",
    "X, Y = create_dataset(df[predict_field].values, time_step)\n",
    "# 转化成 tensor->(batch_size, seq_len, feature_size)\n",
    "X = torch.tensor(X.reshape(-1, time_step, 1), dtype=torch.float).to(device)\n",
    "Y = torch.tensor(Y.reshape(-1, 1, 1), dtype=torch.float).to(device)\n",
    "print('Total datasets: ', X.shape, '-->', Y.shape)\n",
    "\n",
    "# 划分数据\n",
    "split_ratio = 0.8\n",
    "len_train = int(X.shape[0] * split_ratio)\n",
    "X_train, Y_train = X[:len_train, :, :], Y[:len_train, :, :]\n",
    "print('Train datasets: ', X_train.shape, '-->', Y_train.shape)\n",
    "\n",
    "# 构建迭代器\n",
    "batch_size = 12\n",
    "ds = TensorDataset(X, Y)\n",
    "dl = DataLoader(ds, batch_size=batch_size, num_workers=0)\n",
    "ds_train = TensorDataset(X_train, Y_train)\n",
    "dl_train = DataLoader(ds_train, batch_size=batch_size, num_workers=0)\n",
    "\n",
    "for x, y in dl_train:\n",
    "    print(x.shape)\n",
    "    print(y.shape)\n",
    "    break\n",
    "\n"
   ],
   "metadata": {
    "collapsed": false,
    "pycharm": {
     "name": "#%%\n"
    }
   }
  },
  {
   "cell_type": "code",
   "execution_count": 33,
   "outputs": [],
   "source": [
    "# 定义模型\n",
    "class Net(nn.Module):\n",
    "    def __init__(self):\n",
    "        super(Net, self).__init__()\n",
    "        self.lstm = nn.LSTM(input_size=1, hidden_size=6, num_layers=3, batch_first=True)\n",
    "        self.fc = nn.Linear(in_features=6, out_features=1)\n",
    "\n",
    "    def forward(self, x):\n",
    "        # x is input, size (seq_len, batch, input_size)\n",
    "        x, _ = self.lstm(x)\n",
    "        # x is output, size (seq_len, batch, hidden_size)\n",
    "        x = x[:, -1, :]\n",
    "        x = self.fc(x)\n",
    "        y = x.view(-1, 1, 1)\n",
    "        return y"
   ],
   "metadata": {
    "collapsed": false,
    "pycharm": {
     "name": "#%%\n"
    }
   }
  },
  {
   "cell_type": "code",
   "execution_count": 34,
   "outputs": [
    {
     "name": "stdout",
     "output_type": "stream",
     "text": [
      "----------------------------------------------------------------\n",
      "        Layer (type)               Output Shape         Param #\n",
      "================================================================\n",
      "              LSTM-1                 [-1, 8, 6]             888\n",
      "            Linear-2                    [-1, 1]               7\n",
      "================================================================\n",
      "Total params: 895\n",
      "Trainable params: 895\n",
      "Non-trainable params: 0\n",
      "----------------------------------------------------------------\n",
      "Input size (MB): 0.000031\n",
      "Forward/backward pass size (MB): 0.000374\n",
      "Params size (MB): 0.003414\n",
      "Estimated Total Size (MB): 0.003819\n",
      "----------------------------------------------------------------\n",
      "Start Training ...\n",
      "\n",
      "================================================================================2022-03-28 01:19:58\n",
      "\n",
      " +-------+-------+\n",
      "| epoch |  loss |\n",
      "+-------+-------+\n",
      "|   1   | 0.084 |\n",
      "+-------+-------+\n",
      "\n",
      "================================================================================2022-03-28 01:19:58\n",
      "\n",
      " +-------+-------+\n",
      "| epoch |  loss |\n",
      "+-------+-------+\n",
      "|   2   | 0.074 |\n",
      "+-------+-------+\n",
      "\n",
      "================================================================================2022-03-28 01:19:58\n",
      "\n",
      " +-------+-------+\n",
      "| epoch |  loss |\n",
      "+-------+-------+\n",
      "|   3   | 0.067 |\n",
      "+-------+-------+\n",
      "\n",
      "================================================================================2022-03-28 01:19:58\n",
      "\n",
      " +-------+-------+\n",
      "| epoch |  loss |\n",
      "+-------+-------+\n",
      "|   4   | 0.062 |\n",
      "+-------+-------+\n",
      "\n",
      "================================================================================2022-03-28 01:19:58\n",
      "\n",
      " +-------+-------+\n",
      "| epoch |  loss |\n",
      "+-------+-------+\n",
      "|   5   | 0.059 |\n",
      "+-------+-------+\n",
      "\n",
      "================================================================================2022-03-28 01:19:58\n",
      "\n",
      " +-------+-------+\n",
      "| epoch |  loss |\n",
      "+-------+-------+\n",
      "|   6   | 0.056 |\n",
      "+-------+-------+\n",
      "\n",
      "================================================================================2022-03-28 01:19:58\n",
      "\n",
      " +-------+-------+\n",
      "| epoch |  loss |\n",
      "+-------+-------+\n",
      "|   7   | 0.055 |\n",
      "+-------+-------+\n",
      "\n",
      "================================================================================2022-03-28 01:19:58\n",
      "\n",
      " +-------+-------+\n",
      "| epoch |  loss |\n",
      "+-------+-------+\n",
      "|   8   | 0.054 |\n",
      "+-------+-------+\n",
      "\n",
      "================================================================================2022-03-28 01:19:58\n",
      "\n",
      " +-------+-------+\n",
      "| epoch |  loss |\n",
      "+-------+-------+\n",
      "|   9   | 0.053 |\n",
      "+-------+-------+\n",
      "\n",
      "================================================================================2022-03-28 01:19:58\n",
      "\n",
      " +-------+-------+\n",
      "| epoch |  loss |\n",
      "+-------+-------+\n",
      "|   10  | 0.053 |\n",
      "+-------+-------+\n",
      "\n",
      "================================================================================2022-03-28 01:19:59\n",
      "\n",
      " +-------+-------+\n",
      "| epoch |  loss |\n",
      "+-------+-------+\n",
      "|   11  | 0.053 |\n",
      "+-------+-------+\n",
      "\n",
      "================================================================================2022-03-28 01:19:59\n",
      "\n",
      " +-------+-------+\n",
      "| epoch |  loss |\n",
      "+-------+-------+\n",
      "|   12  | 0.053 |\n",
      "+-------+-------+\n",
      "\n",
      "================================================================================2022-03-28 01:19:59\n",
      "\n",
      " +-------+-------+\n",
      "| epoch |  loss |\n",
      "+-------+-------+\n",
      "|   13  | 0.053 |\n",
      "+-------+-------+\n",
      "\n",
      "================================================================================2022-03-28 01:19:59\n",
      "\n",
      " +-------+-------+\n",
      "| epoch |  loss |\n",
      "+-------+-------+\n",
      "|   14  | 0.053 |\n",
      "+-------+-------+\n",
      "\n",
      "================================================================================2022-03-28 01:19:59\n",
      "\n",
      " +-------+-------+\n",
      "| epoch |  loss |\n",
      "+-------+-------+\n",
      "|   15  | 0.053 |\n",
      "+-------+-------+\n",
      "\n",
      "================================================================================2022-03-28 01:19:59\n",
      "\n",
      " +-------+-------+\n",
      "| epoch |  loss |\n",
      "+-------+-------+\n",
      "|   16  | 0.053 |\n",
      "+-------+-------+\n",
      "\n",
      "================================================================================2022-03-28 01:19:59\n",
      "\n",
      " +-------+-------+\n",
      "| epoch |  loss |\n",
      "+-------+-------+\n",
      "|   17  | 0.053 |\n",
      "+-------+-------+\n",
      "\n",
      "================================================================================2022-03-28 01:19:59\n",
      "\n",
      " +-------+-------+\n",
      "| epoch |  loss |\n",
      "+-------+-------+\n",
      "|   18  | 0.053 |\n",
      "+-------+-------+\n",
      "\n",
      "================================================================================2022-03-28 01:19:59\n",
      "\n",
      " +-------+-------+\n",
      "| epoch |  loss |\n",
      "+-------+-------+\n",
      "|   19  | 0.053 |\n",
      "+-------+-------+\n",
      "\n",
      "================================================================================2022-03-28 01:19:59\n",
      "\n",
      " +-------+-------+\n",
      "| epoch |  loss |\n",
      "+-------+-------+\n",
      "|   20  | 0.053 |\n",
      "+-------+-------+\n",
      "\n",
      "================================================================================2022-03-28 01:19:59\n",
      "\n",
      " +-------+-------+\n",
      "| epoch |  loss |\n",
      "+-------+-------+\n",
      "|   21  | 0.053 |\n",
      "+-------+-------+\n",
      "\n",
      "================================================================================2022-03-28 01:19:59\n",
      "\n",
      " +-------+-------+\n",
      "| epoch |  loss |\n",
      "+-------+-------+\n",
      "|   22  | 0.053 |\n",
      "+-------+-------+\n",
      "\n",
      "================================================================================2022-03-28 01:19:59\n",
      "\n",
      " +-------+-------+\n",
      "| epoch |  loss |\n",
      "+-------+-------+\n",
      "|   23  | 0.053 |\n",
      "+-------+-------+\n",
      "\n",
      "================================================================================2022-03-28 01:19:59\n",
      "\n",
      " +-------+-------+\n",
      "| epoch |  loss |\n",
      "+-------+-------+\n",
      "|   24  | 0.053 |\n",
      "+-------+-------+\n",
      "\n",
      "================================================================================2022-03-28 01:19:59\n",
      "\n",
      " +-------+-------+\n",
      "| epoch |  loss |\n",
      "+-------+-------+\n",
      "|   25  | 0.053 |\n",
      "+-------+-------+\n",
      "\n",
      "================================================================================2022-03-28 01:19:59\n",
      "\n",
      " +-------+-------+\n",
      "| epoch |  loss |\n",
      "+-------+-------+\n",
      "|   26  | 0.053 |\n",
      "+-------+-------+\n",
      "\n",
      "================================================================================2022-03-28 01:19:59\n",
      "\n",
      " +-------+-------+\n",
      "| epoch |  loss |\n",
      "+-------+-------+\n",
      "|   27  | 0.053 |\n",
      "+-------+-------+\n",
      "\n",
      "================================================================================2022-03-28 01:19:59\n",
      "\n",
      " +-------+-------+\n",
      "| epoch |  loss |\n",
      "+-------+-------+\n",
      "|   28  | 0.053 |\n",
      "+-------+-------+\n",
      "\n",
      "================================================================================2022-03-28 01:19:59\n",
      "\n",
      " +-------+-------+\n",
      "| epoch |  loss |\n",
      "+-------+-------+\n",
      "|   29  | 0.053 |\n",
      "+-------+-------+\n",
      "\n",
      "================================================================================2022-03-28 01:19:59\n",
      "\n",
      " +-------+-------+\n",
      "| epoch |  loss |\n",
      "+-------+-------+\n",
      "|   30  | 0.053 |\n",
      "+-------+-------+\n",
      "\n",
      "================================================================================2022-03-28 01:19:59\n",
      "\n",
      " +-------+-------+\n",
      "| epoch |  loss |\n",
      "+-------+-------+\n",
      "|   31  | 0.053 |\n",
      "+-------+-------+\n",
      "\n",
      "================================================================================2022-03-28 01:19:59\n",
      "\n",
      " +-------+-------+\n",
      "| epoch |  loss |\n",
      "+-------+-------+\n",
      "|   32  | 0.053 |\n",
      "+-------+-------+\n",
      "\n",
      "================================================================================2022-03-28 01:19:59\n",
      "\n",
      " +-------+-------+\n",
      "| epoch |  loss |\n",
      "+-------+-------+\n",
      "|   33  | 0.053 |\n",
      "+-------+-------+\n",
      "\n",
      "================================================================================2022-03-28 01:19:59\n",
      "\n",
      " +-------+-------+\n",
      "| epoch |  loss |\n",
      "+-------+-------+\n",
      "|   34  | 0.053 |\n",
      "+-------+-------+\n",
      "\n",
      "================================================================================2022-03-28 01:19:59\n",
      "\n",
      " +-------+-------+\n",
      "| epoch |  loss |\n",
      "+-------+-------+\n",
      "|   35  | 0.053 |\n",
      "+-------+-------+\n",
      "\n",
      "================================================================================2022-03-28 01:19:59\n",
      "\n",
      " +-------+-------+\n",
      "| epoch |  loss |\n",
      "+-------+-------+\n",
      "|   36  | 0.053 |\n",
      "+-------+-------+\n",
      "\n",
      "================================================================================2022-03-28 01:19:59\n",
      "\n",
      " +-------+-------+\n",
      "| epoch |  loss |\n",
      "+-------+-------+\n",
      "|   37  | 0.053 |\n",
      "+-------+-------+\n",
      "\n",
      "================================================================================2022-03-28 01:19:59\n",
      "\n",
      " +-------+-------+\n",
      "| epoch |  loss |\n",
      "+-------+-------+\n",
      "|   38  | 0.053 |\n",
      "+-------+-------+\n",
      "\n",
      "================================================================================2022-03-28 01:19:59\n",
      "\n",
      " +-------+-------+\n",
      "| epoch |  loss |\n",
      "+-------+-------+\n",
      "|   39  | 0.053 |\n",
      "+-------+-------+\n",
      "\n",
      "================================================================================2022-03-28 01:19:59\n",
      "\n",
      " +-------+-------+\n",
      "| epoch |  loss |\n",
      "+-------+-------+\n",
      "|   40  | 0.053 |\n",
      "+-------+-------+\n",
      "\n",
      "================================================================================2022-03-28 01:19:59\n",
      "\n",
      " +-------+-------+\n",
      "| epoch |  loss |\n",
      "+-------+-------+\n",
      "|   41  | 0.053 |\n",
      "+-------+-------+\n",
      "\n",
      "================================================================================2022-03-28 01:19:59\n",
      "\n",
      " +-------+-------+\n",
      "| epoch |  loss |\n",
      "+-------+-------+\n",
      "|   42  | 0.053 |\n",
      "+-------+-------+\n",
      "\n",
      "================================================================================2022-03-28 01:20:00\n",
      "\n",
      " +-------+-------+\n",
      "| epoch |  loss |\n",
      "+-------+-------+\n",
      "|   43  | 0.053 |\n",
      "+-------+-------+\n",
      "\n",
      "================================================================================2022-03-28 01:20:00\n",
      "\n",
      " +-------+-------+\n",
      "| epoch |  loss |\n",
      "+-------+-------+\n",
      "|   44  | 0.053 |\n",
      "+-------+-------+\n",
      "\n",
      "================================================================================2022-03-28 01:20:00\n",
      "\n",
      " +-------+-------+\n",
      "| epoch |  loss |\n",
      "+-------+-------+\n",
      "|   45  | 0.053 |\n",
      "+-------+-------+\n",
      "\n",
      "================================================================================2022-03-28 01:20:00\n",
      "\n",
      " +-------+-------+\n",
      "| epoch |  loss |\n",
      "+-------+-------+\n",
      "|   46  | 0.053 |\n",
      "+-------+-------+\n",
      "\n",
      "================================================================================2022-03-28 01:20:00\n",
      "\n",
      " +-------+-------+\n",
      "| epoch |  loss |\n",
      "+-------+-------+\n",
      "|   47  | 0.053 |\n",
      "+-------+-------+\n",
      "\n",
      "================================================================================2022-03-28 01:20:00\n",
      "\n",
      " +-------+-------+\n",
      "| epoch |  loss |\n",
      "+-------+-------+\n",
      "|   48  | 0.053 |\n",
      "+-------+-------+\n",
      "\n",
      "================================================================================2022-03-28 01:20:00\n",
      "\n",
      " +-------+-------+\n",
      "| epoch |  loss |\n",
      "+-------+-------+\n",
      "|   49  | 0.053 |\n",
      "+-------+-------+\n",
      "\n",
      "================================================================================2022-03-28 01:20:00\n",
      "\n",
      " +-------+-------+\n",
      "| epoch |  loss |\n",
      "+-------+-------+\n",
      "|   50  | 0.053 |\n",
      "+-------+-------+\n",
      "\n",
      "================================================================================2022-03-28 01:20:00\n",
      "Finished Training...\n"
     ]
    }
   ],
   "source": [
    "# torchkeras API 训练方式\n",
    "model = torchkeras.Model(Net())\n",
    "model.summary(input_shape=(time_step, 1))\n",
    "model.compile(loss_func=F.mse_loss, optimizer=torch.optim.Adam(model.parameters(), lr=1e-3), device=device)\n",
    "dfhistory = model.fit(epochs=50, dl_train=dl_train, log_step_freq=20)"
   ],
   "metadata": {
    "collapsed": false,
    "pycharm": {
     "name": "#%%\n"
    }
   }
  },
  {
   "cell_type": "code",
   "execution_count": 35,
   "outputs": [],
   "source": [
    "# 模型评估\n",
    "# fig = go.Figure()\n",
    "# fig.add_trace(go.Scatter(x=dfhistory.index, y=dfhistory['loss'], name='loss'))\n",
    "# fig.show()"
   ],
   "metadata": {
    "collapsed": false,
    "pycharm": {
     "name": "#%%\n"
    }
   }
  },
  {
   "cell_type": "code",
   "execution_count": 36,
   "outputs": [],
   "source": [
    "# 预测验证预览\n",
    "# y_pred = model.predict(dl)\n",
    "# y_pred = y_pred.detach().numpy()\n",
    "#\n",
    "# fig = go.Figure()\n",
    "# fig.add_trace(go.Scatter(y=Y.squeeze(), name='y_true'))\n",
    "# fig.add_trace(go.Scatter(y=y_pred.squeeze(), name='y_pred'))\n",
    "# fig.show()"
   ],
   "metadata": {
    "collapsed": false,
    "pycharm": {
     "name": "#%%\n"
    }
   }
  },
  {
   "cell_type": "code",
   "execution_count": 37,
   "outputs": [],
   "source": [
    "# 自定义训练方式\n",
    "# model = Net().to(device)\n",
    "# loss_function = nn.MSELoss()\n",
    "# optimizer = torch.optim.Adam(model.parameters(), lr=1e-2)\n",
    "\n",
    "\n",
    "def train_step(model, features, labels):\n",
    "    # 正向传播求损失\n",
    "    predictions = model.forward(features)\n",
    "    loss = loss_function(predictions, labels)\n",
    "    # 反向传播求梯度\n",
    "    loss.backward()\n",
    "    # 参数更新\n",
    "    optimizer.step()\n",
    "    optimizer.zero_grad()\n",
    "    return loss.item()\n",
    "\n",
    "# 测试一个batch\n",
    "# features, labels = next(iter(dl_train))\n",
    "# loss =  train_step(model, features, labels)\n",
    "# loss"
   ],
   "metadata": {
    "collapsed": false,
    "pycharm": {
     "name": "#%%\n"
    }
   }
  },
  {
   "cell_type": "code",
   "execution_count": 38,
   "outputs": [],
   "source": [
    "def train_model(model, epochs):\n",
    "    for epoch in range(1, epochs + 1):\n",
    "        list_loss = []\n",
    "        for features, labels in dl_train:\n",
    "            lossi = train_step(model, features, labels)\n",
    "            list_loss.append(lossi)\n",
    "        loss = np.mean(list_loss)\n",
    "        if epoch % 10 == 0:\n",
    "            print('epoch={} | loss={} '.format(epoch, loss))\n",
    "\n",
    "\n",
    "# train_model(model, 50)"
   ],
   "metadata": {
    "collapsed": false,
    "pycharm": {
     "name": "#%%\n"
    }
   }
  },
  {
   "cell_type": "code",
   "execution_count": 39,
   "outputs": [
    {
     "name": "stdout",
     "output_type": "stream",
     "text": [
      "torch.Size([96, 8, 1])\n",
      "torch.Size([96, 1, 1])\n"
     ]
    },
    {
     "data": {
      "application/vnd.plotly.v1+json": {
       "data": [
        {
         "name": "y_true",
         "y": [
          0.12069103121757507,
          0.23098456859588623,
          0.34799647331237793,
          0.47180676460266113,
          0.09021835029125214,
          0.0849396139383316,
          0.12940894067287445,
          0.14820443093776703,
          0.1889946460723877,
          0.14532512426376343,
          0.12916900217533112,
          0.027673358097672462,
          0.17451810836791992,
          0.244821235537529,
          0.43389585614204407,
          0.5553867220878601,
          0.13596737384796143,
          0.127409428358078,
          0.21066944301128387,
          0.16875949501991272,
          0.20187154412269592,
          0.20579060912132263,
          0.14772453904151917,
          0.012796929106116295,
          0.169159397482872,
          0.3037670850753784,
          0.4959609806537628,
          0.6271294951438904,
          0.31688395142555237,
          0.13396784663200378,
          0.1843557506799698,
          0.2480204701423645,
          0.24850036203861237,
          0.25001999735832214,
          0.1799568086862564,
          0.01839558593928814,
          0.2660161554813385,
          0.321122944355011,
          0.5519475340843201,
          0.7388626933097839,
          0.17755737900733948,
          0.23026473820209503,
          0.2192273885011673,
          0.21658802032470703,
          0.25865793228149414,
          0.267135888338089,
          0.2041110098361969,
          0.024794049561023712,
          0.29073023796081543,
          0.440614253282547,
          0.675437867641449,
          0.7932496070861816,
          0.20819003880023956,
          0.20347116887569427,
          0.2477005571126938,
          0.2289850413799286,
          0.2843317687511444,
          0.2610573470592499,
          0.16875949501991272,
          0.032632168382406235,
          0.30464687943458557,
          0.4366151988506317,
          0.7510197758674622,
          1.0,
          0.09805646538734436,
          0.11885147541761398,
          0.15652243793010712,
          0.1861153393983841,
          0.12109094113111496,
          0.20579060912132263,
          0.2242661714553833,
          0.02599376067519188,
          0.304566890001297,
          0.40078380703926086,
          0.6741582155227661,
          0.9328161478042603,
          0.2016316056251526,
          0.13988642394542694,
          0.22978484630584717,
          0.2609773576259613,
          0.2876909673213959,
          0.2768135666847229,
          0.25753819942474365,
          0.019675277173519135,
          0.3629528880119324,
          0.4453331232070923,
          0.6748780012130737,
          0.9003438949584961,
          0.2347436547279358,
          0.1720387041568756,
          0.2530592679977417,
          0.2699352204799652,
          0.2563384771347046,
          0.31184515357017517,
          0.2307446151971817,
          0.0
         ],
         "type": "scatter"
        },
        {
         "name": "y_pred",
         "y": [
          0.3076557517051697,
          0.307658314704895,
          0.3075757622718811,
          0.307420939207077,
          0.3071691393852234,
          0.30714404582977295,
          0.30723974108695984,
          0.3073350787162781,
          0.30739909410476685,
          0.3074232041835785,
          0.30744582414627075,
          0.3074791431427002,
          0.3075677454471588,
          0.30757075548171997,
          0.3074986934661865,
          0.3072982430458069,
          0.30701500177383423,
          0.30697792768478394,
          0.3070724308490753,
          0.3071476221084595,
          0.3072218596935272,
          0.30727866291999817,
          0.30730652809143066,
          0.3073543608188629,
          0.3074808418750763,
          0.30751103162765503,
          0.30743300914764404,
          0.3072078824043274,
          0.3068807125091553,
          0.3067513108253479,
          0.30684369802474976,
          0.3069716691970825,
          0.307063490152359,
          0.30711662769317627,
          0.3071531653404236,
          0.30721282958984375,
          0.3073667287826538,
          0.30737972259521484,
          0.3072971999645233,
          0.30706268548965454,
          0.3066982626914978,
          0.3066578805446625,
          0.3067449927330017,
          0.30688244104385376,
          0.3069975972175598,
          0.3070763051509857,
          0.30711591243743896,
          0.3071707487106323,
          0.30733048915863037,
          0.3073272109031677,
          0.30718642473220825,
          0.30687007308006287,
          0.3064720332622528,
          0.3064447343349457,
          0.3065939247608185,
          0.3067610263824463,
          0.3069101572036743,
          0.3070063591003418,
          0.30706995725631714,
          0.3071633577346802,
          0.30733609199523926,
          0.30732887983322144,
          0.30718663334846497,
          0.3068220913410187,
          0.30629000067710876,
          0.3062853217124939,
          0.30652207136154175,
          0.3067900538444519,
          0.30699673295021057,
          0.3071955144405365,
          0.30730196833610535,
          0.30734288692474365,
          0.30747151374816895,
          0.30741074681282043,
          0.3072516918182373,
          0.30691802501678467,
          0.30641695857048035,
          0.30635371804237366,
          0.3065401315689087,
          0.30675312876701355,
          0.3068993091583252,
          0.3069891333580017,
          0.30704620480537415,
          0.3070921301841736,
          0.3072705864906311,
          0.3072342276573181,
          0.3070874810218811,
          0.30679139494895935,
          0.3063569962978363,
          0.306317538022995,
          0.30649957060813904,
          0.3066953420639038,
          0.3068462014198303,
          0.30696409940719604,
          0.3070144057273865,
          0.3070819079875946
         ],
         "type": "scatter"
        }
       ],
       "layout": {
        "template": {
         "data": {
          "bar": [
           {
            "error_x": {
             "color": "#2a3f5f"
            },
            "error_y": {
             "color": "#2a3f5f"
            },
            "marker": {
             "line": {
              "color": "#E5ECF6",
              "width": 0.5
             },
             "pattern": {
              "fillmode": "overlay",
              "size": 10,
              "solidity": 0.2
             }
            },
            "type": "bar"
           }
          ],
          "barpolar": [
           {
            "marker": {
             "line": {
              "color": "#E5ECF6",
              "width": 0.5
             },
             "pattern": {
              "fillmode": "overlay",
              "size": 10,
              "solidity": 0.2
             }
            },
            "type": "barpolar"
           }
          ],
          "carpet": [
           {
            "aaxis": {
             "endlinecolor": "#2a3f5f",
             "gridcolor": "white",
             "linecolor": "white",
             "minorgridcolor": "white",
             "startlinecolor": "#2a3f5f"
            },
            "baxis": {
             "endlinecolor": "#2a3f5f",
             "gridcolor": "white",
             "linecolor": "white",
             "minorgridcolor": "white",
             "startlinecolor": "#2a3f5f"
            },
            "type": "carpet"
           }
          ],
          "choropleth": [
           {
            "colorbar": {
             "outlinewidth": 0,
             "ticks": ""
            },
            "type": "choropleth"
           }
          ],
          "contour": [
           {
            "colorbar": {
             "outlinewidth": 0,
             "ticks": ""
            },
            "colorscale": [
             [
              0.0,
              "#0d0887"
             ],
             [
              0.1111111111111111,
              "#46039f"
             ],
             [
              0.2222222222222222,
              "#7201a8"
             ],
             [
              0.3333333333333333,
              "#9c179e"
             ],
             [
              0.4444444444444444,
              "#bd3786"
             ],
             [
              0.5555555555555556,
              "#d8576b"
             ],
             [
              0.6666666666666666,
              "#ed7953"
             ],
             [
              0.7777777777777778,
              "#fb9f3a"
             ],
             [
              0.8888888888888888,
              "#fdca26"
             ],
             [
              1.0,
              "#f0f921"
             ]
            ],
            "type": "contour"
           }
          ],
          "contourcarpet": [
           {
            "colorbar": {
             "outlinewidth": 0,
             "ticks": ""
            },
            "type": "contourcarpet"
           }
          ],
          "heatmap": [
           {
            "colorbar": {
             "outlinewidth": 0,
             "ticks": ""
            },
            "colorscale": [
             [
              0.0,
              "#0d0887"
             ],
             [
              0.1111111111111111,
              "#46039f"
             ],
             [
              0.2222222222222222,
              "#7201a8"
             ],
             [
              0.3333333333333333,
              "#9c179e"
             ],
             [
              0.4444444444444444,
              "#bd3786"
             ],
             [
              0.5555555555555556,
              "#d8576b"
             ],
             [
              0.6666666666666666,
              "#ed7953"
             ],
             [
              0.7777777777777778,
              "#fb9f3a"
             ],
             [
              0.8888888888888888,
              "#fdca26"
             ],
             [
              1.0,
              "#f0f921"
             ]
            ],
            "type": "heatmap"
           }
          ],
          "heatmapgl": [
           {
            "colorbar": {
             "outlinewidth": 0,
             "ticks": ""
            },
            "colorscale": [
             [
              0.0,
              "#0d0887"
             ],
             [
              0.1111111111111111,
              "#46039f"
             ],
             [
              0.2222222222222222,
              "#7201a8"
             ],
             [
              0.3333333333333333,
              "#9c179e"
             ],
             [
              0.4444444444444444,
              "#bd3786"
             ],
             [
              0.5555555555555556,
              "#d8576b"
             ],
             [
              0.6666666666666666,
              "#ed7953"
             ],
             [
              0.7777777777777778,
              "#fb9f3a"
             ],
             [
              0.8888888888888888,
              "#fdca26"
             ],
             [
              1.0,
              "#f0f921"
             ]
            ],
            "type": "heatmapgl"
           }
          ],
          "histogram": [
           {
            "marker": {
             "pattern": {
              "fillmode": "overlay",
              "size": 10,
              "solidity": 0.2
             }
            },
            "type": "histogram"
           }
          ],
          "histogram2d": [
           {
            "colorbar": {
             "outlinewidth": 0,
             "ticks": ""
            },
            "colorscale": [
             [
              0.0,
              "#0d0887"
             ],
             [
              0.1111111111111111,
              "#46039f"
             ],
             [
              0.2222222222222222,
              "#7201a8"
             ],
             [
              0.3333333333333333,
              "#9c179e"
             ],
             [
              0.4444444444444444,
              "#bd3786"
             ],
             [
              0.5555555555555556,
              "#d8576b"
             ],
             [
              0.6666666666666666,
              "#ed7953"
             ],
             [
              0.7777777777777778,
              "#fb9f3a"
             ],
             [
              0.8888888888888888,
              "#fdca26"
             ],
             [
              1.0,
              "#f0f921"
             ]
            ],
            "type": "histogram2d"
           }
          ],
          "histogram2dcontour": [
           {
            "colorbar": {
             "outlinewidth": 0,
             "ticks": ""
            },
            "colorscale": [
             [
              0.0,
              "#0d0887"
             ],
             [
              0.1111111111111111,
              "#46039f"
             ],
             [
              0.2222222222222222,
              "#7201a8"
             ],
             [
              0.3333333333333333,
              "#9c179e"
             ],
             [
              0.4444444444444444,
              "#bd3786"
             ],
             [
              0.5555555555555556,
              "#d8576b"
             ],
             [
              0.6666666666666666,
              "#ed7953"
             ],
             [
              0.7777777777777778,
              "#fb9f3a"
             ],
             [
              0.8888888888888888,
              "#fdca26"
             ],
             [
              1.0,
              "#f0f921"
             ]
            ],
            "type": "histogram2dcontour"
           }
          ],
          "mesh3d": [
           {
            "colorbar": {
             "outlinewidth": 0,
             "ticks": ""
            },
            "type": "mesh3d"
           }
          ],
          "parcoords": [
           {
            "line": {
             "colorbar": {
              "outlinewidth": 0,
              "ticks": ""
             }
            },
            "type": "parcoords"
           }
          ],
          "pie": [
           {
            "automargin": true,
            "type": "pie"
           }
          ],
          "scatter": [
           {
            "marker": {
             "colorbar": {
              "outlinewidth": 0,
              "ticks": ""
             }
            },
            "type": "scatter"
           }
          ],
          "scatter3d": [
           {
            "line": {
             "colorbar": {
              "outlinewidth": 0,
              "ticks": ""
             }
            },
            "marker": {
             "colorbar": {
              "outlinewidth": 0,
              "ticks": ""
             }
            },
            "type": "scatter3d"
           }
          ],
          "scattercarpet": [
           {
            "marker": {
             "colorbar": {
              "outlinewidth": 0,
              "ticks": ""
             }
            },
            "type": "scattercarpet"
           }
          ],
          "scattergeo": [
           {
            "marker": {
             "colorbar": {
              "outlinewidth": 0,
              "ticks": ""
             }
            },
            "type": "scattergeo"
           }
          ],
          "scattergl": [
           {
            "marker": {
             "colorbar": {
              "outlinewidth": 0,
              "ticks": ""
             }
            },
            "type": "scattergl"
           }
          ],
          "scattermapbox": [
           {
            "marker": {
             "colorbar": {
              "outlinewidth": 0,
              "ticks": ""
             }
            },
            "type": "scattermapbox"
           }
          ],
          "scatterpolar": [
           {
            "marker": {
             "colorbar": {
              "outlinewidth": 0,
              "ticks": ""
             }
            },
            "type": "scatterpolar"
           }
          ],
          "scatterpolargl": [
           {
            "marker": {
             "colorbar": {
              "outlinewidth": 0,
              "ticks": ""
             }
            },
            "type": "scatterpolargl"
           }
          ],
          "scatterternary": [
           {
            "marker": {
             "colorbar": {
              "outlinewidth": 0,
              "ticks": ""
             }
            },
            "type": "scatterternary"
           }
          ],
          "surface": [
           {
            "colorbar": {
             "outlinewidth": 0,
             "ticks": ""
            },
            "colorscale": [
             [
              0.0,
              "#0d0887"
             ],
             [
              0.1111111111111111,
              "#46039f"
             ],
             [
              0.2222222222222222,
              "#7201a8"
             ],
             [
              0.3333333333333333,
              "#9c179e"
             ],
             [
              0.4444444444444444,
              "#bd3786"
             ],
             [
              0.5555555555555556,
              "#d8576b"
             ],
             [
              0.6666666666666666,
              "#ed7953"
             ],
             [
              0.7777777777777778,
              "#fb9f3a"
             ],
             [
              0.8888888888888888,
              "#fdca26"
             ],
             [
              1.0,
              "#f0f921"
             ]
            ],
            "type": "surface"
           }
          ],
          "table": [
           {
            "cells": {
             "fill": {
              "color": "#EBF0F8"
             },
             "line": {
              "color": "white"
             }
            },
            "header": {
             "fill": {
              "color": "#C8D4E3"
             },
             "line": {
              "color": "white"
             }
            },
            "type": "table"
           }
          ]
         },
         "layout": {
          "annotationdefaults": {
           "arrowcolor": "#2a3f5f",
           "arrowhead": 0,
           "arrowwidth": 1
          },
          "autotypenumbers": "strict",
          "coloraxis": {
           "colorbar": {
            "outlinewidth": 0,
            "ticks": ""
           }
          },
          "colorscale": {
           "diverging": [
            [
             0,
             "#8e0152"
            ],
            [
             0.1,
             "#c51b7d"
            ],
            [
             0.2,
             "#de77ae"
            ],
            [
             0.3,
             "#f1b6da"
            ],
            [
             0.4,
             "#fde0ef"
            ],
            [
             0.5,
             "#f7f7f7"
            ],
            [
             0.6,
             "#e6f5d0"
            ],
            [
             0.7,
             "#b8e186"
            ],
            [
             0.8,
             "#7fbc41"
            ],
            [
             0.9,
             "#4d9221"
            ],
            [
             1,
             "#276419"
            ]
           ],
           "sequential": [
            [
             0.0,
             "#0d0887"
            ],
            [
             0.1111111111111111,
             "#46039f"
            ],
            [
             0.2222222222222222,
             "#7201a8"
            ],
            [
             0.3333333333333333,
             "#9c179e"
            ],
            [
             0.4444444444444444,
             "#bd3786"
            ],
            [
             0.5555555555555556,
             "#d8576b"
            ],
            [
             0.6666666666666666,
             "#ed7953"
            ],
            [
             0.7777777777777778,
             "#fb9f3a"
            ],
            [
             0.8888888888888888,
             "#fdca26"
            ],
            [
             1.0,
             "#f0f921"
            ]
           ],
           "sequentialminus": [
            [
             0.0,
             "#0d0887"
            ],
            [
             0.1111111111111111,
             "#46039f"
            ],
            [
             0.2222222222222222,
             "#7201a8"
            ],
            [
             0.3333333333333333,
             "#9c179e"
            ],
            [
             0.4444444444444444,
             "#bd3786"
            ],
            [
             0.5555555555555556,
             "#d8576b"
            ],
            [
             0.6666666666666666,
             "#ed7953"
            ],
            [
             0.7777777777777778,
             "#fb9f3a"
            ],
            [
             0.8888888888888888,
             "#fdca26"
            ],
            [
             1.0,
             "#f0f921"
            ]
           ]
          },
          "colorway": [
           "#636efa",
           "#EF553B",
           "#00cc96",
           "#ab63fa",
           "#FFA15A",
           "#19d3f3",
           "#FF6692",
           "#B6E880",
           "#FF97FF",
           "#FECB52"
          ],
          "font": {
           "color": "#2a3f5f"
          },
          "geo": {
           "bgcolor": "white",
           "lakecolor": "white",
           "landcolor": "#E5ECF6",
           "showlakes": true,
           "showland": true,
           "subunitcolor": "white"
          },
          "hoverlabel": {
           "align": "left"
          },
          "hovermode": "closest",
          "mapbox": {
           "style": "light"
          },
          "paper_bgcolor": "white",
          "plot_bgcolor": "#E5ECF6",
          "polar": {
           "angularaxis": {
            "gridcolor": "white",
            "linecolor": "white",
            "ticks": ""
           },
           "bgcolor": "#E5ECF6",
           "radialaxis": {
            "gridcolor": "white",
            "linecolor": "white",
            "ticks": ""
           }
          },
          "scene": {
           "xaxis": {
            "backgroundcolor": "#E5ECF6",
            "gridcolor": "white",
            "gridwidth": 2,
            "linecolor": "white",
            "showbackground": true,
            "ticks": "",
            "zerolinecolor": "white"
           },
           "yaxis": {
            "backgroundcolor": "#E5ECF6",
            "gridcolor": "white",
            "gridwidth": 2,
            "linecolor": "white",
            "showbackground": true,
            "ticks": "",
            "zerolinecolor": "white"
           },
           "zaxis": {
            "backgroundcolor": "#E5ECF6",
            "gridcolor": "white",
            "gridwidth": 2,
            "linecolor": "white",
            "showbackground": true,
            "ticks": "",
            "zerolinecolor": "white"
           }
          },
          "shapedefaults": {
           "line": {
            "color": "#2a3f5f"
           }
          },
          "ternary": {
           "aaxis": {
            "gridcolor": "white",
            "linecolor": "white",
            "ticks": ""
           },
           "baxis": {
            "gridcolor": "white",
            "linecolor": "white",
            "ticks": ""
           },
           "bgcolor": "#E5ECF6",
           "caxis": {
            "gridcolor": "white",
            "linecolor": "white",
            "ticks": ""
           }
          },
          "title": {
           "x": 0.05
          },
          "xaxis": {
           "automargin": true,
           "gridcolor": "white",
           "linecolor": "white",
           "ticks": "",
           "title": {
            "standoff": 15
           },
           "zerolinecolor": "white",
           "zerolinewidth": 2
          },
          "yaxis": {
           "automargin": true,
           "gridcolor": "white",
           "linecolor": "white",
           "ticks": "",
           "title": {
            "standoff": 15
           },
           "zerolinecolor": "white",
           "zerolinewidth": 2
          }
         }
        }
       },
       "config": {
        "plotlyServerURL": "https://plot.ly"
       }
      },
      "text/html": "<div>                            <div id=\"e4ce9166-ed7e-4a92-b47c-35a65fb749e6\" class=\"plotly-graph-div\" style=\"height:525px; width:100%;\"></div>            <script type=\"text/javascript\">                require([\"plotly\"], function(Plotly) {                    window.PLOTLYENV=window.PLOTLYENV || {};                                    if (document.getElementById(\"e4ce9166-ed7e-4a92-b47c-35a65fb749e6\")) {                    Plotly.newPlot(                        \"e4ce9166-ed7e-4a92-b47c-35a65fb749e6\",                        [{\"name\":\"y_true\",\"y\":[0.12069103121757507,0.23098456859588623,0.34799647331237793,0.47180676460266113,0.09021835029125214,0.0849396139383316,0.12940894067287445,0.14820443093776703,0.1889946460723877,0.14532512426376343,0.12916900217533112,0.027673358097672462,0.17451810836791992,0.244821235537529,0.43389585614204407,0.5553867220878601,0.13596737384796143,0.127409428358078,0.21066944301128387,0.16875949501991272,0.20187154412269592,0.20579060912132263,0.14772453904151917,0.012796929106116295,0.169159397482872,0.3037670850753784,0.4959609806537628,0.6271294951438904,0.31688395142555237,0.13396784663200378,0.1843557506799698,0.2480204701423645,0.24850036203861237,0.25001999735832214,0.1799568086862564,0.01839558593928814,0.2660161554813385,0.321122944355011,0.5519475340843201,0.7388626933097839,0.17755737900733948,0.23026473820209503,0.2192273885011673,0.21658802032470703,0.25865793228149414,0.267135888338089,0.2041110098361969,0.024794049561023712,0.29073023796081543,0.440614253282547,0.675437867641449,0.7932496070861816,0.20819003880023956,0.20347116887569427,0.2477005571126938,0.2289850413799286,0.2843317687511444,0.2610573470592499,0.16875949501991272,0.032632168382406235,0.30464687943458557,0.4366151988506317,0.7510197758674622,1.0,0.09805646538734436,0.11885147541761398,0.15652243793010712,0.1861153393983841,0.12109094113111496,0.20579060912132263,0.2242661714553833,0.02599376067519188,0.304566890001297,0.40078380703926086,0.6741582155227661,0.9328161478042603,0.2016316056251526,0.13988642394542694,0.22978484630584717,0.2609773576259613,0.2876909673213959,0.2768135666847229,0.25753819942474365,0.019675277173519135,0.3629528880119324,0.4453331232070923,0.6748780012130737,0.9003438949584961,0.2347436547279358,0.1720387041568756,0.2530592679977417,0.2699352204799652,0.2563384771347046,0.31184515357017517,0.2307446151971817,0.0],\"type\":\"scatter\"},{\"name\":\"y_pred\",\"y\":[0.3076557517051697,0.307658314704895,0.3075757622718811,0.307420939207077,0.3071691393852234,0.30714404582977295,0.30723974108695984,0.3073350787162781,0.30739909410476685,0.3074232041835785,0.30744582414627075,0.3074791431427002,0.3075677454471588,0.30757075548171997,0.3074986934661865,0.3072982430458069,0.30701500177383423,0.30697792768478394,0.3070724308490753,0.3071476221084595,0.3072218596935272,0.30727866291999817,0.30730652809143066,0.3073543608188629,0.3074808418750763,0.30751103162765503,0.30743300914764404,0.3072078824043274,0.3068807125091553,0.3067513108253479,0.30684369802474976,0.3069716691970825,0.307063490152359,0.30711662769317627,0.3071531653404236,0.30721282958984375,0.3073667287826538,0.30737972259521484,0.3072971999645233,0.30706268548965454,0.3066982626914978,0.3066578805446625,0.3067449927330017,0.30688244104385376,0.3069975972175598,0.3070763051509857,0.30711591243743896,0.3071707487106323,0.30733048915863037,0.3073272109031677,0.30718642473220825,0.30687007308006287,0.3064720332622528,0.3064447343349457,0.3065939247608185,0.3067610263824463,0.3069101572036743,0.3070063591003418,0.30706995725631714,0.3071633577346802,0.30733609199523926,0.30732887983322144,0.30718663334846497,0.3068220913410187,0.30629000067710876,0.3062853217124939,0.30652207136154175,0.3067900538444519,0.30699673295021057,0.3071955144405365,0.30730196833610535,0.30734288692474365,0.30747151374816895,0.30741074681282043,0.3072516918182373,0.30691802501678467,0.30641695857048035,0.30635371804237366,0.3065401315689087,0.30675312876701355,0.3068993091583252,0.3069891333580017,0.30704620480537415,0.3070921301841736,0.3072705864906311,0.3072342276573181,0.3070874810218811,0.30679139494895935,0.3063569962978363,0.306317538022995,0.30649957060813904,0.3066953420639038,0.3068462014198303,0.30696409940719604,0.3070144057273865,0.3070819079875946],\"type\":\"scatter\"}],                        {\"template\":{\"data\":{\"bar\":[{\"error_x\":{\"color\":\"#2a3f5f\"},\"error_y\":{\"color\":\"#2a3f5f\"},\"marker\":{\"line\":{\"color\":\"#E5ECF6\",\"width\":0.5},\"pattern\":{\"fillmode\":\"overlay\",\"size\":10,\"solidity\":0.2}},\"type\":\"bar\"}],\"barpolar\":[{\"marker\":{\"line\":{\"color\":\"#E5ECF6\",\"width\":0.5},\"pattern\":{\"fillmode\":\"overlay\",\"size\":10,\"solidity\":0.2}},\"type\":\"barpolar\"}],\"carpet\":[{\"aaxis\":{\"endlinecolor\":\"#2a3f5f\",\"gridcolor\":\"white\",\"linecolor\":\"white\",\"minorgridcolor\":\"white\",\"startlinecolor\":\"#2a3f5f\"},\"baxis\":{\"endlinecolor\":\"#2a3f5f\",\"gridcolor\":\"white\",\"linecolor\":\"white\",\"minorgridcolor\":\"white\",\"startlinecolor\":\"#2a3f5f\"},\"type\":\"carpet\"}],\"choropleth\":[{\"colorbar\":{\"outlinewidth\":0,\"ticks\":\"\"},\"type\":\"choropleth\"}],\"contour\":[{\"colorbar\":{\"outlinewidth\":0,\"ticks\":\"\"},\"colorscale\":[[0.0,\"#0d0887\"],[0.1111111111111111,\"#46039f\"],[0.2222222222222222,\"#7201a8\"],[0.3333333333333333,\"#9c179e\"],[0.4444444444444444,\"#bd3786\"],[0.5555555555555556,\"#d8576b\"],[0.6666666666666666,\"#ed7953\"],[0.7777777777777778,\"#fb9f3a\"],[0.8888888888888888,\"#fdca26\"],[1.0,\"#f0f921\"]],\"type\":\"contour\"}],\"contourcarpet\":[{\"colorbar\":{\"outlinewidth\":0,\"ticks\":\"\"},\"type\":\"contourcarpet\"}],\"heatmap\":[{\"colorbar\":{\"outlinewidth\":0,\"ticks\":\"\"},\"colorscale\":[[0.0,\"#0d0887\"],[0.1111111111111111,\"#46039f\"],[0.2222222222222222,\"#7201a8\"],[0.3333333333333333,\"#9c179e\"],[0.4444444444444444,\"#bd3786\"],[0.5555555555555556,\"#d8576b\"],[0.6666666666666666,\"#ed7953\"],[0.7777777777777778,\"#fb9f3a\"],[0.8888888888888888,\"#fdca26\"],[1.0,\"#f0f921\"]],\"type\":\"heatmap\"}],\"heatmapgl\":[{\"colorbar\":{\"outlinewidth\":0,\"ticks\":\"\"},\"colorscale\":[[0.0,\"#0d0887\"],[0.1111111111111111,\"#46039f\"],[0.2222222222222222,\"#7201a8\"],[0.3333333333333333,\"#9c179e\"],[0.4444444444444444,\"#bd3786\"],[0.5555555555555556,\"#d8576b\"],[0.6666666666666666,\"#ed7953\"],[0.7777777777777778,\"#fb9f3a\"],[0.8888888888888888,\"#fdca26\"],[1.0,\"#f0f921\"]],\"type\":\"heatmapgl\"}],\"histogram\":[{\"marker\":{\"pattern\":{\"fillmode\":\"overlay\",\"size\":10,\"solidity\":0.2}},\"type\":\"histogram\"}],\"histogram2d\":[{\"colorbar\":{\"outlinewidth\":0,\"ticks\":\"\"},\"colorscale\":[[0.0,\"#0d0887\"],[0.1111111111111111,\"#46039f\"],[0.2222222222222222,\"#7201a8\"],[0.3333333333333333,\"#9c179e\"],[0.4444444444444444,\"#bd3786\"],[0.5555555555555556,\"#d8576b\"],[0.6666666666666666,\"#ed7953\"],[0.7777777777777778,\"#fb9f3a\"],[0.8888888888888888,\"#fdca26\"],[1.0,\"#f0f921\"]],\"type\":\"histogram2d\"}],\"histogram2dcontour\":[{\"colorbar\":{\"outlinewidth\":0,\"ticks\":\"\"},\"colorscale\":[[0.0,\"#0d0887\"],[0.1111111111111111,\"#46039f\"],[0.2222222222222222,\"#7201a8\"],[0.3333333333333333,\"#9c179e\"],[0.4444444444444444,\"#bd3786\"],[0.5555555555555556,\"#d8576b\"],[0.6666666666666666,\"#ed7953\"],[0.7777777777777778,\"#fb9f3a\"],[0.8888888888888888,\"#fdca26\"],[1.0,\"#f0f921\"]],\"type\":\"histogram2dcontour\"}],\"mesh3d\":[{\"colorbar\":{\"outlinewidth\":0,\"ticks\":\"\"},\"type\":\"mesh3d\"}],\"parcoords\":[{\"line\":{\"colorbar\":{\"outlinewidth\":0,\"ticks\":\"\"}},\"type\":\"parcoords\"}],\"pie\":[{\"automargin\":true,\"type\":\"pie\"}],\"scatter\":[{\"marker\":{\"colorbar\":{\"outlinewidth\":0,\"ticks\":\"\"}},\"type\":\"scatter\"}],\"scatter3d\":[{\"line\":{\"colorbar\":{\"outlinewidth\":0,\"ticks\":\"\"}},\"marker\":{\"colorbar\":{\"outlinewidth\":0,\"ticks\":\"\"}},\"type\":\"scatter3d\"}],\"scattercarpet\":[{\"marker\":{\"colorbar\":{\"outlinewidth\":0,\"ticks\":\"\"}},\"type\":\"scattercarpet\"}],\"scattergeo\":[{\"marker\":{\"colorbar\":{\"outlinewidth\":0,\"ticks\":\"\"}},\"type\":\"scattergeo\"}],\"scattergl\":[{\"marker\":{\"colorbar\":{\"outlinewidth\":0,\"ticks\":\"\"}},\"type\":\"scattergl\"}],\"scattermapbox\":[{\"marker\":{\"colorbar\":{\"outlinewidth\":0,\"ticks\":\"\"}},\"type\":\"scattermapbox\"}],\"scatterpolar\":[{\"marker\":{\"colorbar\":{\"outlinewidth\":0,\"ticks\":\"\"}},\"type\":\"scatterpolar\"}],\"scatterpolargl\":[{\"marker\":{\"colorbar\":{\"outlinewidth\":0,\"ticks\":\"\"}},\"type\":\"scatterpolargl\"}],\"scatterternary\":[{\"marker\":{\"colorbar\":{\"outlinewidth\":0,\"ticks\":\"\"}},\"type\":\"scatterternary\"}],\"surface\":[{\"colorbar\":{\"outlinewidth\":0,\"ticks\":\"\"},\"colorscale\":[[0.0,\"#0d0887\"],[0.1111111111111111,\"#46039f\"],[0.2222222222222222,\"#7201a8\"],[0.3333333333333333,\"#9c179e\"],[0.4444444444444444,\"#bd3786\"],[0.5555555555555556,\"#d8576b\"],[0.6666666666666666,\"#ed7953\"],[0.7777777777777778,\"#fb9f3a\"],[0.8888888888888888,\"#fdca26\"],[1.0,\"#f0f921\"]],\"type\":\"surface\"}],\"table\":[{\"cells\":{\"fill\":{\"color\":\"#EBF0F8\"},\"line\":{\"color\":\"white\"}},\"header\":{\"fill\":{\"color\":\"#C8D4E3\"},\"line\":{\"color\":\"white\"}},\"type\":\"table\"}]},\"layout\":{\"annotationdefaults\":{\"arrowcolor\":\"#2a3f5f\",\"arrowhead\":0,\"arrowwidth\":1},\"autotypenumbers\":\"strict\",\"coloraxis\":{\"colorbar\":{\"outlinewidth\":0,\"ticks\":\"\"}},\"colorscale\":{\"diverging\":[[0,\"#8e0152\"],[0.1,\"#c51b7d\"],[0.2,\"#de77ae\"],[0.3,\"#f1b6da\"],[0.4,\"#fde0ef\"],[0.5,\"#f7f7f7\"],[0.6,\"#e6f5d0\"],[0.7,\"#b8e186\"],[0.8,\"#7fbc41\"],[0.9,\"#4d9221\"],[1,\"#276419\"]],\"sequential\":[[0.0,\"#0d0887\"],[0.1111111111111111,\"#46039f\"],[0.2222222222222222,\"#7201a8\"],[0.3333333333333333,\"#9c179e\"],[0.4444444444444444,\"#bd3786\"],[0.5555555555555556,\"#d8576b\"],[0.6666666666666666,\"#ed7953\"],[0.7777777777777778,\"#fb9f3a\"],[0.8888888888888888,\"#fdca26\"],[1.0,\"#f0f921\"]],\"sequentialminus\":[[0.0,\"#0d0887\"],[0.1111111111111111,\"#46039f\"],[0.2222222222222222,\"#7201a8\"],[0.3333333333333333,\"#9c179e\"],[0.4444444444444444,\"#bd3786\"],[0.5555555555555556,\"#d8576b\"],[0.6666666666666666,\"#ed7953\"],[0.7777777777777778,\"#fb9f3a\"],[0.8888888888888888,\"#fdca26\"],[1.0,\"#f0f921\"]]},\"colorway\":[\"#636efa\",\"#EF553B\",\"#00cc96\",\"#ab63fa\",\"#FFA15A\",\"#19d3f3\",\"#FF6692\",\"#B6E880\",\"#FF97FF\",\"#FECB52\"],\"font\":{\"color\":\"#2a3f5f\"},\"geo\":{\"bgcolor\":\"white\",\"lakecolor\":\"white\",\"landcolor\":\"#E5ECF6\",\"showlakes\":true,\"showland\":true,\"subunitcolor\":\"white\"},\"hoverlabel\":{\"align\":\"left\"},\"hovermode\":\"closest\",\"mapbox\":{\"style\":\"light\"},\"paper_bgcolor\":\"white\",\"plot_bgcolor\":\"#E5ECF6\",\"polar\":{\"angularaxis\":{\"gridcolor\":\"white\",\"linecolor\":\"white\",\"ticks\":\"\"},\"bgcolor\":\"#E5ECF6\",\"radialaxis\":{\"gridcolor\":\"white\",\"linecolor\":\"white\",\"ticks\":\"\"}},\"scene\":{\"xaxis\":{\"backgroundcolor\":\"#E5ECF6\",\"gridcolor\":\"white\",\"gridwidth\":2,\"linecolor\":\"white\",\"showbackground\":true,\"ticks\":\"\",\"zerolinecolor\":\"white\"},\"yaxis\":{\"backgroundcolor\":\"#E5ECF6\",\"gridcolor\":\"white\",\"gridwidth\":2,\"linecolor\":\"white\",\"showbackground\":true,\"ticks\":\"\",\"zerolinecolor\":\"white\"},\"zaxis\":{\"backgroundcolor\":\"#E5ECF6\",\"gridcolor\":\"white\",\"gridwidth\":2,\"linecolor\":\"white\",\"showbackground\":true,\"ticks\":\"\",\"zerolinecolor\":\"white\"}},\"shapedefaults\":{\"line\":{\"color\":\"#2a3f5f\"}},\"ternary\":{\"aaxis\":{\"gridcolor\":\"white\",\"linecolor\":\"white\",\"ticks\":\"\"},\"baxis\":{\"gridcolor\":\"white\",\"linecolor\":\"white\",\"ticks\":\"\"},\"bgcolor\":\"#E5ECF6\",\"caxis\":{\"gridcolor\":\"white\",\"linecolor\":\"white\",\"ticks\":\"\"}},\"title\":{\"x\":0.05},\"xaxis\":{\"automargin\":true,\"gridcolor\":\"white\",\"linecolor\":\"white\",\"ticks\":\"\",\"title\":{\"standoff\":15},\"zerolinecolor\":\"white\",\"zerolinewidth\":2},\"yaxis\":{\"automargin\":true,\"gridcolor\":\"white\",\"linecolor\":\"white\",\"ticks\":\"\",\"title\":{\"standoff\":15},\"zerolinecolor\":\"white\",\"zerolinewidth\":2}}}},                        {\"responsive\": true}                    ).then(function(){\n                            \nvar gd = document.getElementById('e4ce9166-ed7e-4a92-b47c-35a65fb749e6');\nvar x = new MutationObserver(function (mutations, observer) {{\n        var display = window.getComputedStyle(gd).display;\n        if (!display || display === 'none') {{\n            console.log([gd, 'removed!']);\n            Plotly.purge(gd);\n            observer.disconnect();\n        }}\n}});\n\n// Listen for the removal of the full notebook cells\nvar notebookContainer = gd.closest('#notebook-container');\nif (notebookContainer) {{\n    x.observe(notebookContainer, {childList: true});\n}}\n\n// Listen for the clearing of the current output cell\nvar outputEl = gd.closest('.output');\nif (outputEl) {{\n    x.observe(outputEl, {childList: true});\n}}\n\n                        })                };                });            </script>        </div>"
     },
     "metadata": {},
     "output_type": "display_data"
    }
   ],
   "source": [
    "# 预测验证预览\n",
    "\n",
    "y_pred = model.forward(X)\n",
    "print(X.shape)\n",
    "print(y_pred.shape)\n",
    "# print(y_pred)\n",
    "y_p_pred = y_pred.detach().cpu().numpy().squeeze()\n",
    "Y_p_true = Y.cpu().squeeze()\n",
    "fig = go.Figure()\n",
    "fig.add_trace(go.Scatter(y=Y_p_true, name='y_true'))\n",
    "fig.add_trace(go.Scatter(y=y_p_pred, name='y_pred'))\n",
    "fig.show()"
   ],
   "metadata": {
    "collapsed": false,
    "pycharm": {
     "name": "#%%\n"
    }
   }
  },
  {
   "cell_type": "code",
   "execution_count": 40,
   "outputs": [
    {
     "data": {
      "application/vnd.plotly.v1+json": {
       "data": [
        {
         "name": "y_true",
         "y": [
          0.12069103121757507,
          0.23098456859588623,
          0.34799647331237793,
          0.47180676460266113,
          0.09021835029125214,
          0.0849396139383316,
          0.12940894067287445,
          0.14820443093776703,
          0.1889946460723877,
          0.14532512426376343,
          0.12916900217533112,
          0.027673358097672462,
          0.17451810836791992,
          0.244821235537529,
          0.43389585614204407,
          0.5553867220878601,
          0.13596737384796143,
          0.127409428358078,
          0.21066944301128387,
          0.16875949501991272,
          0.20187154412269592,
          0.20579060912132263,
          0.14772453904151917,
          0.012796929106116295,
          0.169159397482872,
          0.3037670850753784,
          0.4959609806537628,
          0.6271294951438904,
          0.31688395142555237,
          0.13396784663200378,
          0.1843557506799698,
          0.2480204701423645,
          0.24850036203861237,
          0.25001999735832214,
          0.1799568086862564,
          0.01839558593928814,
          0.2660161554813385,
          0.321122944355011,
          0.5519475340843201,
          0.7388626933097839,
          0.17755737900733948,
          0.23026473820209503,
          0.2192273885011673,
          0.21658802032470703,
          0.25865793228149414,
          0.267135888338089,
          0.2041110098361969,
          0.024794049561023712,
          0.29073023796081543,
          0.440614253282547,
          0.675437867641449,
          0.7932496070861816,
          0.20819003880023956,
          0.20347116887569427,
          0.2477005571126938,
          0.2289850413799286,
          0.2843317687511444,
          0.2610573470592499,
          0.16875949501991272,
          0.032632168382406235,
          0.30464687943458557,
          0.4366151988506317,
          0.7510197758674622,
          1.0,
          0.09805646538734436,
          0.11885147541761398,
          0.15652243793010712,
          0.1861153393983841,
          0.12109094113111496,
          0.20579060912132263,
          0.2242661714553833,
          0.02599376067519188,
          0.304566890001297,
          0.40078380703926086,
          0.6741582155227661,
          0.9328161478042603,
          0.2016316056251526,
          0.13988642394542694,
          0.22978484630584717,
          0.2609773576259613,
          0.2876909673213959,
          0.2768135666847229,
          0.25753819942474365,
          0.019675277173519135,
          0.3629528880119324,
          0.4453331232070923,
          0.6748780012130737,
          0.9003438949584961,
          0.2347436547279358,
          0.1720387041568756,
          0.2530592679977417,
          0.2699352204799652,
          0.2563384771347046,
          0.31184515357017517,
          0.2307446151971817,
          0.0
         ],
         "type": "scatter"
        },
        {
         "name": "y_pred",
         "y": [
          0.3076557517051697,
          0.307658314704895,
          0.3075757622718811,
          0.307420939207077,
          0.3071691393852234,
          0.30714404582977295,
          0.30723974108695984,
          0.3073350787162781,
          0.30739909410476685,
          0.3074232041835785,
          0.30744582414627075,
          0.3074791431427002,
          0.3075677454471588,
          0.30757075548171997,
          0.3074986934661865,
          0.3072982430458069,
          0.30701500177383423,
          0.30697792768478394,
          0.3070724308490753,
          0.3071476221084595,
          0.3072218596935272,
          0.30727866291999817,
          0.30730652809143066,
          0.3073543608188629,
          0.3074808418750763,
          0.30751103162765503,
          0.30743300914764404,
          0.3072078824043274,
          0.3068807125091553,
          0.3067513108253479,
          0.30684369802474976,
          0.3069716691970825,
          0.307063490152359,
          0.30711662769317627,
          0.3071531653404236,
          0.30721282958984375,
          0.3073667287826538,
          0.30737972259521484,
          0.3072971999645233,
          0.30706268548965454,
          0.3066982626914978,
          0.3066578805446625,
          0.3067449927330017,
          0.30688244104385376,
          0.3069975972175598,
          0.3070763051509857,
          0.30711591243743896,
          0.3071707487106323,
          0.30733048915863037,
          0.3073272109031677,
          0.30718642473220825,
          0.30687007308006287,
          0.3064720332622528,
          0.3064447343349457,
          0.3065939247608185,
          0.3067610263824463,
          0.3069101572036743,
          0.3070063591003418,
          0.30706995725631714,
          0.3071633577346802,
          0.30733609199523926,
          0.30732887983322144,
          0.30718663334846497,
          0.3068220913410187,
          0.30629000067710876,
          0.3062853217124939,
          0.30652207136154175,
          0.3067900538444519,
          0.30699673295021057,
          0.3071955144405365,
          0.30730196833610535,
          0.30734288692474365,
          0.30747151374816895,
          0.30741074681282043,
          0.3072516918182373,
          0.30691802501678467,
          0.30641695857048035,
          0.30635371804237366,
          0.3065401315689087,
          0.30675312876701355,
          0.3068993091583252,
          0.3069891333580017,
          0.30704620480537415,
          0.3070921301841736,
          0.3072705864906311,
          0.3072342276573181,
          0.3070874810218811,
          0.30679139494895935,
          0.3063569962978363,
          0.306317538022995,
          0.30649957060813904,
          0.3066953420639038,
          0.3068462014198303,
          0.30696409940719604,
          0.3070144057273865,
          0.3070819079875946,
          0.3070995509624481,
          0.3071131110191345,
          0.30706095695495605,
          0.3070080876350403,
          0.30699747800827026,
          0.3069985806941986,
          0.3069879710674286,
          0.3069879710674286,
          0.30695444345474243,
          0.30695444345474243,
          0.3069887161254883,
          0.30695444345474243,
          0.30695444345474243,
          0.30695444345474243,
          0.30695444345474243,
          0.30695444345474243,
          0.30695444345474243,
          0.30695444345474243,
          0.30695444345474243,
          0.30695444345474243
         ],
         "type": "scatter"
        }
       ],
       "layout": {
        "template": {
         "data": {
          "bar": [
           {
            "error_x": {
             "color": "#2a3f5f"
            },
            "error_y": {
             "color": "#2a3f5f"
            },
            "marker": {
             "line": {
              "color": "#E5ECF6",
              "width": 0.5
             },
             "pattern": {
              "fillmode": "overlay",
              "size": 10,
              "solidity": 0.2
             }
            },
            "type": "bar"
           }
          ],
          "barpolar": [
           {
            "marker": {
             "line": {
              "color": "#E5ECF6",
              "width": 0.5
             },
             "pattern": {
              "fillmode": "overlay",
              "size": 10,
              "solidity": 0.2
             }
            },
            "type": "barpolar"
           }
          ],
          "carpet": [
           {
            "aaxis": {
             "endlinecolor": "#2a3f5f",
             "gridcolor": "white",
             "linecolor": "white",
             "minorgridcolor": "white",
             "startlinecolor": "#2a3f5f"
            },
            "baxis": {
             "endlinecolor": "#2a3f5f",
             "gridcolor": "white",
             "linecolor": "white",
             "minorgridcolor": "white",
             "startlinecolor": "#2a3f5f"
            },
            "type": "carpet"
           }
          ],
          "choropleth": [
           {
            "colorbar": {
             "outlinewidth": 0,
             "ticks": ""
            },
            "type": "choropleth"
           }
          ],
          "contour": [
           {
            "colorbar": {
             "outlinewidth": 0,
             "ticks": ""
            },
            "colorscale": [
             [
              0.0,
              "#0d0887"
             ],
             [
              0.1111111111111111,
              "#46039f"
             ],
             [
              0.2222222222222222,
              "#7201a8"
             ],
             [
              0.3333333333333333,
              "#9c179e"
             ],
             [
              0.4444444444444444,
              "#bd3786"
             ],
             [
              0.5555555555555556,
              "#d8576b"
             ],
             [
              0.6666666666666666,
              "#ed7953"
             ],
             [
              0.7777777777777778,
              "#fb9f3a"
             ],
             [
              0.8888888888888888,
              "#fdca26"
             ],
             [
              1.0,
              "#f0f921"
             ]
            ],
            "type": "contour"
           }
          ],
          "contourcarpet": [
           {
            "colorbar": {
             "outlinewidth": 0,
             "ticks": ""
            },
            "type": "contourcarpet"
           }
          ],
          "heatmap": [
           {
            "colorbar": {
             "outlinewidth": 0,
             "ticks": ""
            },
            "colorscale": [
             [
              0.0,
              "#0d0887"
             ],
             [
              0.1111111111111111,
              "#46039f"
             ],
             [
              0.2222222222222222,
              "#7201a8"
             ],
             [
              0.3333333333333333,
              "#9c179e"
             ],
             [
              0.4444444444444444,
              "#bd3786"
             ],
             [
              0.5555555555555556,
              "#d8576b"
             ],
             [
              0.6666666666666666,
              "#ed7953"
             ],
             [
              0.7777777777777778,
              "#fb9f3a"
             ],
             [
              0.8888888888888888,
              "#fdca26"
             ],
             [
              1.0,
              "#f0f921"
             ]
            ],
            "type": "heatmap"
           }
          ],
          "heatmapgl": [
           {
            "colorbar": {
             "outlinewidth": 0,
             "ticks": ""
            },
            "colorscale": [
             [
              0.0,
              "#0d0887"
             ],
             [
              0.1111111111111111,
              "#46039f"
             ],
             [
              0.2222222222222222,
              "#7201a8"
             ],
             [
              0.3333333333333333,
              "#9c179e"
             ],
             [
              0.4444444444444444,
              "#bd3786"
             ],
             [
              0.5555555555555556,
              "#d8576b"
             ],
             [
              0.6666666666666666,
              "#ed7953"
             ],
             [
              0.7777777777777778,
              "#fb9f3a"
             ],
             [
              0.8888888888888888,
              "#fdca26"
             ],
             [
              1.0,
              "#f0f921"
             ]
            ],
            "type": "heatmapgl"
           }
          ],
          "histogram": [
           {
            "marker": {
             "pattern": {
              "fillmode": "overlay",
              "size": 10,
              "solidity": 0.2
             }
            },
            "type": "histogram"
           }
          ],
          "histogram2d": [
           {
            "colorbar": {
             "outlinewidth": 0,
             "ticks": ""
            },
            "colorscale": [
             [
              0.0,
              "#0d0887"
             ],
             [
              0.1111111111111111,
              "#46039f"
             ],
             [
              0.2222222222222222,
              "#7201a8"
             ],
             [
              0.3333333333333333,
              "#9c179e"
             ],
             [
              0.4444444444444444,
              "#bd3786"
             ],
             [
              0.5555555555555556,
              "#d8576b"
             ],
             [
              0.6666666666666666,
              "#ed7953"
             ],
             [
              0.7777777777777778,
              "#fb9f3a"
             ],
             [
              0.8888888888888888,
              "#fdca26"
             ],
             [
              1.0,
              "#f0f921"
             ]
            ],
            "type": "histogram2d"
           }
          ],
          "histogram2dcontour": [
           {
            "colorbar": {
             "outlinewidth": 0,
             "ticks": ""
            },
            "colorscale": [
             [
              0.0,
              "#0d0887"
             ],
             [
              0.1111111111111111,
              "#46039f"
             ],
             [
              0.2222222222222222,
              "#7201a8"
             ],
             [
              0.3333333333333333,
              "#9c179e"
             ],
             [
              0.4444444444444444,
              "#bd3786"
             ],
             [
              0.5555555555555556,
              "#d8576b"
             ],
             [
              0.6666666666666666,
              "#ed7953"
             ],
             [
              0.7777777777777778,
              "#fb9f3a"
             ],
             [
              0.8888888888888888,
              "#fdca26"
             ],
             [
              1.0,
              "#f0f921"
             ]
            ],
            "type": "histogram2dcontour"
           }
          ],
          "mesh3d": [
           {
            "colorbar": {
             "outlinewidth": 0,
             "ticks": ""
            },
            "type": "mesh3d"
           }
          ],
          "parcoords": [
           {
            "line": {
             "colorbar": {
              "outlinewidth": 0,
              "ticks": ""
             }
            },
            "type": "parcoords"
           }
          ],
          "pie": [
           {
            "automargin": true,
            "type": "pie"
           }
          ],
          "scatter": [
           {
            "marker": {
             "colorbar": {
              "outlinewidth": 0,
              "ticks": ""
             }
            },
            "type": "scatter"
           }
          ],
          "scatter3d": [
           {
            "line": {
             "colorbar": {
              "outlinewidth": 0,
              "ticks": ""
             }
            },
            "marker": {
             "colorbar": {
              "outlinewidth": 0,
              "ticks": ""
             }
            },
            "type": "scatter3d"
           }
          ],
          "scattercarpet": [
           {
            "marker": {
             "colorbar": {
              "outlinewidth": 0,
              "ticks": ""
             }
            },
            "type": "scattercarpet"
           }
          ],
          "scattergeo": [
           {
            "marker": {
             "colorbar": {
              "outlinewidth": 0,
              "ticks": ""
             }
            },
            "type": "scattergeo"
           }
          ],
          "scattergl": [
           {
            "marker": {
             "colorbar": {
              "outlinewidth": 0,
              "ticks": ""
             }
            },
            "type": "scattergl"
           }
          ],
          "scattermapbox": [
           {
            "marker": {
             "colorbar": {
              "outlinewidth": 0,
              "ticks": ""
             }
            },
            "type": "scattermapbox"
           }
          ],
          "scatterpolar": [
           {
            "marker": {
             "colorbar": {
              "outlinewidth": 0,
              "ticks": ""
             }
            },
            "type": "scatterpolar"
           }
          ],
          "scatterpolargl": [
           {
            "marker": {
             "colorbar": {
              "outlinewidth": 0,
              "ticks": ""
             }
            },
            "type": "scatterpolargl"
           }
          ],
          "scatterternary": [
           {
            "marker": {
             "colorbar": {
              "outlinewidth": 0,
              "ticks": ""
             }
            },
            "type": "scatterternary"
           }
          ],
          "surface": [
           {
            "colorbar": {
             "outlinewidth": 0,
             "ticks": ""
            },
            "colorscale": [
             [
              0.0,
              "#0d0887"
             ],
             [
              0.1111111111111111,
              "#46039f"
             ],
             [
              0.2222222222222222,
              "#7201a8"
             ],
             [
              0.3333333333333333,
              "#9c179e"
             ],
             [
              0.4444444444444444,
              "#bd3786"
             ],
             [
              0.5555555555555556,
              "#d8576b"
             ],
             [
              0.6666666666666666,
              "#ed7953"
             ],
             [
              0.7777777777777778,
              "#fb9f3a"
             ],
             [
              0.8888888888888888,
              "#fdca26"
             ],
             [
              1.0,
              "#f0f921"
             ]
            ],
            "type": "surface"
           }
          ],
          "table": [
           {
            "cells": {
             "fill": {
              "color": "#EBF0F8"
             },
             "line": {
              "color": "white"
             }
            },
            "header": {
             "fill": {
              "color": "#C8D4E3"
             },
             "line": {
              "color": "white"
             }
            },
            "type": "table"
           }
          ]
         },
         "layout": {
          "annotationdefaults": {
           "arrowcolor": "#2a3f5f",
           "arrowhead": 0,
           "arrowwidth": 1
          },
          "autotypenumbers": "strict",
          "coloraxis": {
           "colorbar": {
            "outlinewidth": 0,
            "ticks": ""
           }
          },
          "colorscale": {
           "diverging": [
            [
             0,
             "#8e0152"
            ],
            [
             0.1,
             "#c51b7d"
            ],
            [
             0.2,
             "#de77ae"
            ],
            [
             0.3,
             "#f1b6da"
            ],
            [
             0.4,
             "#fde0ef"
            ],
            [
             0.5,
             "#f7f7f7"
            ],
            [
             0.6,
             "#e6f5d0"
            ],
            [
             0.7,
             "#b8e186"
            ],
            [
             0.8,
             "#7fbc41"
            ],
            [
             0.9,
             "#4d9221"
            ],
            [
             1,
             "#276419"
            ]
           ],
           "sequential": [
            [
             0.0,
             "#0d0887"
            ],
            [
             0.1111111111111111,
             "#46039f"
            ],
            [
             0.2222222222222222,
             "#7201a8"
            ],
            [
             0.3333333333333333,
             "#9c179e"
            ],
            [
             0.4444444444444444,
             "#bd3786"
            ],
            [
             0.5555555555555556,
             "#d8576b"
            ],
            [
             0.6666666666666666,
             "#ed7953"
            ],
            [
             0.7777777777777778,
             "#fb9f3a"
            ],
            [
             0.8888888888888888,
             "#fdca26"
            ],
            [
             1.0,
             "#f0f921"
            ]
           ],
           "sequentialminus": [
            [
             0.0,
             "#0d0887"
            ],
            [
             0.1111111111111111,
             "#46039f"
            ],
            [
             0.2222222222222222,
             "#7201a8"
            ],
            [
             0.3333333333333333,
             "#9c179e"
            ],
            [
             0.4444444444444444,
             "#bd3786"
            ],
            [
             0.5555555555555556,
             "#d8576b"
            ],
            [
             0.6666666666666666,
             "#ed7953"
            ],
            [
             0.7777777777777778,
             "#fb9f3a"
            ],
            [
             0.8888888888888888,
             "#fdca26"
            ],
            [
             1.0,
             "#f0f921"
            ]
           ]
          },
          "colorway": [
           "#636efa",
           "#EF553B",
           "#00cc96",
           "#ab63fa",
           "#FFA15A",
           "#19d3f3",
           "#FF6692",
           "#B6E880",
           "#FF97FF",
           "#FECB52"
          ],
          "font": {
           "color": "#2a3f5f"
          },
          "geo": {
           "bgcolor": "white",
           "lakecolor": "white",
           "landcolor": "#E5ECF6",
           "showlakes": true,
           "showland": true,
           "subunitcolor": "white"
          },
          "hoverlabel": {
           "align": "left"
          },
          "hovermode": "closest",
          "mapbox": {
           "style": "light"
          },
          "paper_bgcolor": "white",
          "plot_bgcolor": "#E5ECF6",
          "polar": {
           "angularaxis": {
            "gridcolor": "white",
            "linecolor": "white",
            "ticks": ""
           },
           "bgcolor": "#E5ECF6",
           "radialaxis": {
            "gridcolor": "white",
            "linecolor": "white",
            "ticks": ""
           }
          },
          "scene": {
           "xaxis": {
            "backgroundcolor": "#E5ECF6",
            "gridcolor": "white",
            "gridwidth": 2,
            "linecolor": "white",
            "showbackground": true,
            "ticks": "",
            "zerolinecolor": "white"
           },
           "yaxis": {
            "backgroundcolor": "#E5ECF6",
            "gridcolor": "white",
            "gridwidth": 2,
            "linecolor": "white",
            "showbackground": true,
            "ticks": "",
            "zerolinecolor": "white"
           },
           "zaxis": {
            "backgroundcolor": "#E5ECF6",
            "gridcolor": "white",
            "gridwidth": 2,
            "linecolor": "white",
            "showbackground": true,
            "ticks": "",
            "zerolinecolor": "white"
           }
          },
          "shapedefaults": {
           "line": {
            "color": "#2a3f5f"
           }
          },
          "ternary": {
           "aaxis": {
            "gridcolor": "white",
            "linecolor": "white",
            "ticks": ""
           },
           "baxis": {
            "gridcolor": "white",
            "linecolor": "white",
            "ticks": ""
           },
           "bgcolor": "#E5ECF6",
           "caxis": {
            "gridcolor": "white",
            "linecolor": "white",
            "ticks": ""
           }
          },
          "title": {
           "x": 0.05
          },
          "xaxis": {
           "automargin": true,
           "gridcolor": "white",
           "linecolor": "white",
           "ticks": "",
           "title": {
            "standoff": 15
           },
           "zerolinecolor": "white",
           "zerolinewidth": 2
          },
          "yaxis": {
           "automargin": true,
           "gridcolor": "white",
           "linecolor": "white",
           "ticks": "",
           "title": {
            "standoff": 15
           },
           "zerolinecolor": "white",
           "zerolinewidth": 2
          }
         }
        }
       },
       "config": {
        "plotlyServerURL": "https://plot.ly"
       }
      },
      "text/html": "<div>                            <div id=\"fbc6060b-ee82-48ac-a01d-9fad01e859bb\" class=\"plotly-graph-div\" style=\"height:525px; width:100%;\"></div>            <script type=\"text/javascript\">                require([\"plotly\"], function(Plotly) {                    window.PLOTLYENV=window.PLOTLYENV || {};                                    if (document.getElementById(\"fbc6060b-ee82-48ac-a01d-9fad01e859bb\")) {                    Plotly.newPlot(                        \"fbc6060b-ee82-48ac-a01d-9fad01e859bb\",                        [{\"name\":\"y_true\",\"y\":[0.12069103121757507,0.23098456859588623,0.34799647331237793,0.47180676460266113,0.09021835029125214,0.0849396139383316,0.12940894067287445,0.14820443093776703,0.1889946460723877,0.14532512426376343,0.12916900217533112,0.027673358097672462,0.17451810836791992,0.244821235537529,0.43389585614204407,0.5553867220878601,0.13596737384796143,0.127409428358078,0.21066944301128387,0.16875949501991272,0.20187154412269592,0.20579060912132263,0.14772453904151917,0.012796929106116295,0.169159397482872,0.3037670850753784,0.4959609806537628,0.6271294951438904,0.31688395142555237,0.13396784663200378,0.1843557506799698,0.2480204701423645,0.24850036203861237,0.25001999735832214,0.1799568086862564,0.01839558593928814,0.2660161554813385,0.321122944355011,0.5519475340843201,0.7388626933097839,0.17755737900733948,0.23026473820209503,0.2192273885011673,0.21658802032470703,0.25865793228149414,0.267135888338089,0.2041110098361969,0.024794049561023712,0.29073023796081543,0.440614253282547,0.675437867641449,0.7932496070861816,0.20819003880023956,0.20347116887569427,0.2477005571126938,0.2289850413799286,0.2843317687511444,0.2610573470592499,0.16875949501991272,0.032632168382406235,0.30464687943458557,0.4366151988506317,0.7510197758674622,1.0,0.09805646538734436,0.11885147541761398,0.15652243793010712,0.1861153393983841,0.12109094113111496,0.20579060912132263,0.2242661714553833,0.02599376067519188,0.304566890001297,0.40078380703926086,0.6741582155227661,0.9328161478042603,0.2016316056251526,0.13988642394542694,0.22978484630584717,0.2609773576259613,0.2876909673213959,0.2768135666847229,0.25753819942474365,0.019675277173519135,0.3629528880119324,0.4453331232070923,0.6748780012130737,0.9003438949584961,0.2347436547279358,0.1720387041568756,0.2530592679977417,0.2699352204799652,0.2563384771347046,0.31184515357017517,0.2307446151971817,0.0],\"type\":\"scatter\"},{\"name\":\"y_pred\",\"y\":[0.3076557517051697,0.307658314704895,0.3075757622718811,0.307420939207077,0.3071691393852234,0.30714404582977295,0.30723974108695984,0.3073350787162781,0.30739909410476685,0.3074232041835785,0.30744582414627075,0.3074791431427002,0.3075677454471588,0.30757075548171997,0.3074986934661865,0.3072982430458069,0.30701500177383423,0.30697792768478394,0.3070724308490753,0.3071476221084595,0.3072218596935272,0.30727866291999817,0.30730652809143066,0.3073543608188629,0.3074808418750763,0.30751103162765503,0.30743300914764404,0.3072078824043274,0.3068807125091553,0.3067513108253479,0.30684369802474976,0.3069716691970825,0.307063490152359,0.30711662769317627,0.3071531653404236,0.30721282958984375,0.3073667287826538,0.30737972259521484,0.3072971999645233,0.30706268548965454,0.3066982626914978,0.3066578805446625,0.3067449927330017,0.30688244104385376,0.3069975972175598,0.3070763051509857,0.30711591243743896,0.3071707487106323,0.30733048915863037,0.3073272109031677,0.30718642473220825,0.30687007308006287,0.3064720332622528,0.3064447343349457,0.3065939247608185,0.3067610263824463,0.3069101572036743,0.3070063591003418,0.30706995725631714,0.3071633577346802,0.30733609199523926,0.30732887983322144,0.30718663334846497,0.3068220913410187,0.30629000067710876,0.3062853217124939,0.30652207136154175,0.3067900538444519,0.30699673295021057,0.3071955144405365,0.30730196833610535,0.30734288692474365,0.30747151374816895,0.30741074681282043,0.3072516918182373,0.30691802501678467,0.30641695857048035,0.30635371804237366,0.3065401315689087,0.30675312876701355,0.3068993091583252,0.3069891333580017,0.30704620480537415,0.3070921301841736,0.3072705864906311,0.3072342276573181,0.3070874810218811,0.30679139494895935,0.3063569962978363,0.306317538022995,0.30649957060813904,0.3066953420639038,0.3068462014198303,0.30696409940719604,0.3070144057273865,0.3070819079875946,0.3070995509624481,0.3071131110191345,0.30706095695495605,0.3070080876350403,0.30699747800827026,0.3069985806941986,0.3069879710674286,0.3069879710674286,0.30695444345474243,0.30695444345474243,0.3069887161254883,0.30695444345474243,0.30695444345474243,0.30695444345474243,0.30695444345474243,0.30695444345474243,0.30695444345474243,0.30695444345474243,0.30695444345474243,0.30695444345474243],\"type\":\"scatter\"}],                        {\"template\":{\"data\":{\"bar\":[{\"error_x\":{\"color\":\"#2a3f5f\"},\"error_y\":{\"color\":\"#2a3f5f\"},\"marker\":{\"line\":{\"color\":\"#E5ECF6\",\"width\":0.5},\"pattern\":{\"fillmode\":\"overlay\",\"size\":10,\"solidity\":0.2}},\"type\":\"bar\"}],\"barpolar\":[{\"marker\":{\"line\":{\"color\":\"#E5ECF6\",\"width\":0.5},\"pattern\":{\"fillmode\":\"overlay\",\"size\":10,\"solidity\":0.2}},\"type\":\"barpolar\"}],\"carpet\":[{\"aaxis\":{\"endlinecolor\":\"#2a3f5f\",\"gridcolor\":\"white\",\"linecolor\":\"white\",\"minorgridcolor\":\"white\",\"startlinecolor\":\"#2a3f5f\"},\"baxis\":{\"endlinecolor\":\"#2a3f5f\",\"gridcolor\":\"white\",\"linecolor\":\"white\",\"minorgridcolor\":\"white\",\"startlinecolor\":\"#2a3f5f\"},\"type\":\"carpet\"}],\"choropleth\":[{\"colorbar\":{\"outlinewidth\":0,\"ticks\":\"\"},\"type\":\"choropleth\"}],\"contour\":[{\"colorbar\":{\"outlinewidth\":0,\"ticks\":\"\"},\"colorscale\":[[0.0,\"#0d0887\"],[0.1111111111111111,\"#46039f\"],[0.2222222222222222,\"#7201a8\"],[0.3333333333333333,\"#9c179e\"],[0.4444444444444444,\"#bd3786\"],[0.5555555555555556,\"#d8576b\"],[0.6666666666666666,\"#ed7953\"],[0.7777777777777778,\"#fb9f3a\"],[0.8888888888888888,\"#fdca26\"],[1.0,\"#f0f921\"]],\"type\":\"contour\"}],\"contourcarpet\":[{\"colorbar\":{\"outlinewidth\":0,\"ticks\":\"\"},\"type\":\"contourcarpet\"}],\"heatmap\":[{\"colorbar\":{\"outlinewidth\":0,\"ticks\":\"\"},\"colorscale\":[[0.0,\"#0d0887\"],[0.1111111111111111,\"#46039f\"],[0.2222222222222222,\"#7201a8\"],[0.3333333333333333,\"#9c179e\"],[0.4444444444444444,\"#bd3786\"],[0.5555555555555556,\"#d8576b\"],[0.6666666666666666,\"#ed7953\"],[0.7777777777777778,\"#fb9f3a\"],[0.8888888888888888,\"#fdca26\"],[1.0,\"#f0f921\"]],\"type\":\"heatmap\"}],\"heatmapgl\":[{\"colorbar\":{\"outlinewidth\":0,\"ticks\":\"\"},\"colorscale\":[[0.0,\"#0d0887\"],[0.1111111111111111,\"#46039f\"],[0.2222222222222222,\"#7201a8\"],[0.3333333333333333,\"#9c179e\"],[0.4444444444444444,\"#bd3786\"],[0.5555555555555556,\"#d8576b\"],[0.6666666666666666,\"#ed7953\"],[0.7777777777777778,\"#fb9f3a\"],[0.8888888888888888,\"#fdca26\"],[1.0,\"#f0f921\"]],\"type\":\"heatmapgl\"}],\"histogram\":[{\"marker\":{\"pattern\":{\"fillmode\":\"overlay\",\"size\":10,\"solidity\":0.2}},\"type\":\"histogram\"}],\"histogram2d\":[{\"colorbar\":{\"outlinewidth\":0,\"ticks\":\"\"},\"colorscale\":[[0.0,\"#0d0887\"],[0.1111111111111111,\"#46039f\"],[0.2222222222222222,\"#7201a8\"],[0.3333333333333333,\"#9c179e\"],[0.4444444444444444,\"#bd3786\"],[0.5555555555555556,\"#d8576b\"],[0.6666666666666666,\"#ed7953\"],[0.7777777777777778,\"#fb9f3a\"],[0.8888888888888888,\"#fdca26\"],[1.0,\"#f0f921\"]],\"type\":\"histogram2d\"}],\"histogram2dcontour\":[{\"colorbar\":{\"outlinewidth\":0,\"ticks\":\"\"},\"colorscale\":[[0.0,\"#0d0887\"],[0.1111111111111111,\"#46039f\"],[0.2222222222222222,\"#7201a8\"],[0.3333333333333333,\"#9c179e\"],[0.4444444444444444,\"#bd3786\"],[0.5555555555555556,\"#d8576b\"],[0.6666666666666666,\"#ed7953\"],[0.7777777777777778,\"#fb9f3a\"],[0.8888888888888888,\"#fdca26\"],[1.0,\"#f0f921\"]],\"type\":\"histogram2dcontour\"}],\"mesh3d\":[{\"colorbar\":{\"outlinewidth\":0,\"ticks\":\"\"},\"type\":\"mesh3d\"}],\"parcoords\":[{\"line\":{\"colorbar\":{\"outlinewidth\":0,\"ticks\":\"\"}},\"type\":\"parcoords\"}],\"pie\":[{\"automargin\":true,\"type\":\"pie\"}],\"scatter\":[{\"marker\":{\"colorbar\":{\"outlinewidth\":0,\"ticks\":\"\"}},\"type\":\"scatter\"}],\"scatter3d\":[{\"line\":{\"colorbar\":{\"outlinewidth\":0,\"ticks\":\"\"}},\"marker\":{\"colorbar\":{\"outlinewidth\":0,\"ticks\":\"\"}},\"type\":\"scatter3d\"}],\"scattercarpet\":[{\"marker\":{\"colorbar\":{\"outlinewidth\":0,\"ticks\":\"\"}},\"type\":\"scattercarpet\"}],\"scattergeo\":[{\"marker\":{\"colorbar\":{\"outlinewidth\":0,\"ticks\":\"\"}},\"type\":\"scattergeo\"}],\"scattergl\":[{\"marker\":{\"colorbar\":{\"outlinewidth\":0,\"ticks\":\"\"}},\"type\":\"scattergl\"}],\"scattermapbox\":[{\"marker\":{\"colorbar\":{\"outlinewidth\":0,\"ticks\":\"\"}},\"type\":\"scattermapbox\"}],\"scatterpolar\":[{\"marker\":{\"colorbar\":{\"outlinewidth\":0,\"ticks\":\"\"}},\"type\":\"scatterpolar\"}],\"scatterpolargl\":[{\"marker\":{\"colorbar\":{\"outlinewidth\":0,\"ticks\":\"\"}},\"type\":\"scatterpolargl\"}],\"scatterternary\":[{\"marker\":{\"colorbar\":{\"outlinewidth\":0,\"ticks\":\"\"}},\"type\":\"scatterternary\"}],\"surface\":[{\"colorbar\":{\"outlinewidth\":0,\"ticks\":\"\"},\"colorscale\":[[0.0,\"#0d0887\"],[0.1111111111111111,\"#46039f\"],[0.2222222222222222,\"#7201a8\"],[0.3333333333333333,\"#9c179e\"],[0.4444444444444444,\"#bd3786\"],[0.5555555555555556,\"#d8576b\"],[0.6666666666666666,\"#ed7953\"],[0.7777777777777778,\"#fb9f3a\"],[0.8888888888888888,\"#fdca26\"],[1.0,\"#f0f921\"]],\"type\":\"surface\"}],\"table\":[{\"cells\":{\"fill\":{\"color\":\"#EBF0F8\"},\"line\":{\"color\":\"white\"}},\"header\":{\"fill\":{\"color\":\"#C8D4E3\"},\"line\":{\"color\":\"white\"}},\"type\":\"table\"}]},\"layout\":{\"annotationdefaults\":{\"arrowcolor\":\"#2a3f5f\",\"arrowhead\":0,\"arrowwidth\":1},\"autotypenumbers\":\"strict\",\"coloraxis\":{\"colorbar\":{\"outlinewidth\":0,\"ticks\":\"\"}},\"colorscale\":{\"diverging\":[[0,\"#8e0152\"],[0.1,\"#c51b7d\"],[0.2,\"#de77ae\"],[0.3,\"#f1b6da\"],[0.4,\"#fde0ef\"],[0.5,\"#f7f7f7\"],[0.6,\"#e6f5d0\"],[0.7,\"#b8e186\"],[0.8,\"#7fbc41\"],[0.9,\"#4d9221\"],[1,\"#276419\"]],\"sequential\":[[0.0,\"#0d0887\"],[0.1111111111111111,\"#46039f\"],[0.2222222222222222,\"#7201a8\"],[0.3333333333333333,\"#9c179e\"],[0.4444444444444444,\"#bd3786\"],[0.5555555555555556,\"#d8576b\"],[0.6666666666666666,\"#ed7953\"],[0.7777777777777778,\"#fb9f3a\"],[0.8888888888888888,\"#fdca26\"],[1.0,\"#f0f921\"]],\"sequentialminus\":[[0.0,\"#0d0887\"],[0.1111111111111111,\"#46039f\"],[0.2222222222222222,\"#7201a8\"],[0.3333333333333333,\"#9c179e\"],[0.4444444444444444,\"#bd3786\"],[0.5555555555555556,\"#d8576b\"],[0.6666666666666666,\"#ed7953\"],[0.7777777777777778,\"#fb9f3a\"],[0.8888888888888888,\"#fdca26\"],[1.0,\"#f0f921\"]]},\"colorway\":[\"#636efa\",\"#EF553B\",\"#00cc96\",\"#ab63fa\",\"#FFA15A\",\"#19d3f3\",\"#FF6692\",\"#B6E880\",\"#FF97FF\",\"#FECB52\"],\"font\":{\"color\":\"#2a3f5f\"},\"geo\":{\"bgcolor\":\"white\",\"lakecolor\":\"white\",\"landcolor\":\"#E5ECF6\",\"showlakes\":true,\"showland\":true,\"subunitcolor\":\"white\"},\"hoverlabel\":{\"align\":\"left\"},\"hovermode\":\"closest\",\"mapbox\":{\"style\":\"light\"},\"paper_bgcolor\":\"white\",\"plot_bgcolor\":\"#E5ECF6\",\"polar\":{\"angularaxis\":{\"gridcolor\":\"white\",\"linecolor\":\"white\",\"ticks\":\"\"},\"bgcolor\":\"#E5ECF6\",\"radialaxis\":{\"gridcolor\":\"white\",\"linecolor\":\"white\",\"ticks\":\"\"}},\"scene\":{\"xaxis\":{\"backgroundcolor\":\"#E5ECF6\",\"gridcolor\":\"white\",\"gridwidth\":2,\"linecolor\":\"white\",\"showbackground\":true,\"ticks\":\"\",\"zerolinecolor\":\"white\"},\"yaxis\":{\"backgroundcolor\":\"#E5ECF6\",\"gridcolor\":\"white\",\"gridwidth\":2,\"linecolor\":\"white\",\"showbackground\":true,\"ticks\":\"\",\"zerolinecolor\":\"white\"},\"zaxis\":{\"backgroundcolor\":\"#E5ECF6\",\"gridcolor\":\"white\",\"gridwidth\":2,\"linecolor\":\"white\",\"showbackground\":true,\"ticks\":\"\",\"zerolinecolor\":\"white\"}},\"shapedefaults\":{\"line\":{\"color\":\"#2a3f5f\"}},\"ternary\":{\"aaxis\":{\"gridcolor\":\"white\",\"linecolor\":\"white\",\"ticks\":\"\"},\"baxis\":{\"gridcolor\":\"white\",\"linecolor\":\"white\",\"ticks\":\"\"},\"bgcolor\":\"#E5ECF6\",\"caxis\":{\"gridcolor\":\"white\",\"linecolor\":\"white\",\"ticks\":\"\"}},\"title\":{\"x\":0.05},\"xaxis\":{\"automargin\":true,\"gridcolor\":\"white\",\"linecolor\":\"white\",\"ticks\":\"\",\"title\":{\"standoff\":15},\"zerolinecolor\":\"white\",\"zerolinewidth\":2},\"yaxis\":{\"automargin\":true,\"gridcolor\":\"white\",\"linecolor\":\"white\",\"ticks\":\"\",\"title\":{\"standoff\":15},\"zerolinecolor\":\"white\",\"zerolinewidth\":2}}}},                        {\"responsive\": true}                    ).then(function(){\n                            \nvar gd = document.getElementById('fbc6060b-ee82-48ac-a01d-9fad01e859bb');\nvar x = new MutationObserver(function (mutations, observer) {{\n        var display = window.getComputedStyle(gd).display;\n        if (!display || display === 'none') {{\n            console.log([gd, 'removed!']);\n            Plotly.purge(gd);\n            observer.disconnect();\n        }}\n}});\n\n// Listen for the removal of the full notebook cells\nvar notebookContainer = gd.closest('#notebook-container');\nif (notebookContainer) {{\n    x.observe(notebookContainer, {childList: true});\n}}\n\n// Listen for the clearing of the current output cell\nvar outputEl = gd.closest('.output');\nif (outputEl) {{\n    x.observe(outputEl, {childList: true});\n}}\n\n                        })                };                });            </script>        </div>"
     },
     "metadata": {},
     "output_type": "display_data"
    }
   ],
   "source": [
    "# 外推20个点\n",
    "n = 20\n",
    "\n",
    "list_y_pre = []\n",
    "x = X[-1].view(1, time_step, 1)\n",
    "\n",
    "for n in range(1, n + 1):\n",
    "    y = model.forward(x)\n",
    "    # y = y.view(-1,1,1)\n",
    "    list_y_pre.append(y.item())\n",
    "    x = torch.cat([x, y], dim=1)\n",
    "    x = x[:, 1:, :]\n",
    "\n",
    "y_p2_pred = np.concatenate((y_p_pred, np.array(list_y_pre)))\n",
    "fig = go.Figure()\n",
    "fig.add_trace(go.Scatter(y=Y_p_true, name='y_true'))\n",
    "fig.add_trace(go.Scatter(y=y_p2_pred, name='y_pred'))\n",
    "fig.show()"
   ],
   "metadata": {
    "collapsed": false,
    "pycharm": {
     "name": "#%%\n"
    }
   }
  }
 ],
 "metadata": {
  "kernelspec": {
   "display_name": "Python 3",
   "language": "python",
   "name": "python3"
  },
  "language_info": {
   "codemirror_mode": {
    "name": "ipython",
    "version": 2
   },
   "file_extension": ".py",
   "mimetype": "text/x-python",
   "name": "python",
   "nbconvert_exporter": "python",
   "pygments_lexer": "ipython2",
   "version": "2.7.6"
  }
 },
 "nbformat": 4,
 "nbformat_minor": 0
}