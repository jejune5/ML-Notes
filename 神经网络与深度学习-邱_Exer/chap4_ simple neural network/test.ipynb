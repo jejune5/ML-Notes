{
 "cells": [
  {
   "cell_type": "code",
   "execution_count": 13,
   "metadata": {
    "collapsed": true,
    "pycharm": {
     "is_executing": false
    }
   },
   "outputs": [
    {
     "name": "stdout",
     "text": [
      "[[-1.51859967]\n [-0.08104279]\n [-1.08436849]\n [ 2.15174722]\n [ 0.93358411]]\n= = = = \n[[-1.57407874  0.02765302 -0.23093761  0.78477838 -0.16193724]]\n= = = = \n[[ 2.39039546e+00 -4.19938746e-02  3.50701780e-01 -1.19176419e+00\n   2.45917843e-01]\n [ 1.27567738e-01 -2.24107839e-03  1.87158291e-02 -6.36006323e-02\n   1.31238464e-02]\n [ 1.70688139e+00 -2.99860690e-02  2.50421469e-01 -8.50988953e-01\n   1.75599643e-01]\n [-3.38701954e+00  5.95023195e-02 -4.96919361e-01  1.68864470e+00\n  -3.48448010e-01]\n [-1.46953489e+00  2.58164246e-02 -2.15599683e-01  7.32656625e-01\n  -1.51182035e-01]]\n= = = = \n[[-0.37982523  1.93833216  0.60370372  0.67956682 -0.57296236]\n [-0.19116708  0.3854764   0.79877182  0.67254274  0.760732  ]\n [ 1.13008643  0.69240958  0.33178282 -0.04921469 -1.22929949]\n [-0.34533272 -0.64547221  0.36245661 -0.48433302 -0.28483688]\n [ 0.24830619  0.78486833 -0.06937894 -0.03752732  1.36477807]]\n"
     ],
     "output_type": "stream"
    }
   ],
   "source": [
    "import numpy as np\n",
    "\n",
    "w = np.random.randn(5,1)\n",
    "print(w)\n",
    "print('= = = = ')\n",
    "\n",
    "x = np.random.randn(1,5)\n",
    "print(x)\n",
    "print('= = = = ')\n",
    "\n",
    "D = w.dot(x)\n",
    "print(D)\n",
    "print('= = = = ')\n",
    "\n",
    "dD = np.random.randn(*D.shape)\n",
    "print(dD)"
   ]
  }
 ],
 "metadata": {
  "language_info": {
   "codemirror_mode": {
    "name": "ipython",
    "version": 2
   },
   "file_extension": ".py",
   "mimetype": "text/x-python",
   "name": "python",
   "nbconvert_exporter": "python",
   "pygments_lexer": "ipython2",
   "version": "2.7.6"
  },
  "kernelspec": {
   "name": "python3",
   "language": "python",
   "display_name": "Python 3"
  },
  "pycharm": {
   "stem_cell": {
    "cell_type": "raw",
    "source": [],
    "metadata": {
     "collapsed": false
    }
   }
  }
 },
 "nbformat": 4,
 "nbformat_minor": 0
}