{
 "cells": [
  {
   "cell_type": "code",
   "execution_count": 29,
   "metadata": {
    "collapsed": true,
    "pycharm": {
     "is_executing": false
    }
   },
   "outputs": [
    {
     "name": "stdout",
     "text": [
      "[[ 0.37483536]\n [-0.4950004 ]\n [ 0.82235805]\n [-1.36801803]\n [ 0.03883433]]\n= = = = \n[[-0.99202896  0.71732229  0.64519076 -1.11537264  1.23611161]]\n= = = = \n[[-0.37184753  0.26887776  0.24184031 -0.41808111  0.46333834]\n [ 0.49105473 -0.35507482 -0.31936969  0.5521099  -0.61187574]\n [-0.815803    0.58989576  0.53057782 -0.91723567  1.01652633]\n [ 1.3571135  -0.98130983 -0.8826326   1.52584988 -1.69102297]\n [-0.03852478  0.02785673  0.02505555 -0.04331474  0.04800356]]\n= = = = \n[[ 0.08545029 -0.90962466  0.30121181 -0.68490131  0.86335318]\n [ 0.60497321 -0.98974085  1.23094273 -1.42600226  0.50965974]\n [-1.41112795  0.22334232  0.09912216 -1.5010084  -1.49243366]\n [-0.66970493  0.53454501  1.92544683 -0.19339168  0.1061864 ]\n [ 1.29404049 -1.73681565  1.12803352 -0.01675582  0.37703076]]\n"
     ],
     "output_type": "stream"
    }
   ],
   "source": [
    "import numpy as np\n",
    "\n",
    "w = np.random.randn(5,1)\n",
    "print(w)\n",
    "print('= = = = ')\n",
    "\n",
    "x = np.random.randn(1,5)\n",
    "print(x)\n",
    "print('= = = = ')\n",
    "\n",
    "D = w.dot(x)\n",
    "print(D)\n",
    "print('= = = = ')\n",
    "\n",
    "dD = np.random.randn(*D.shape)\n",
    "print(dD)"
   ]
  }
 ],
 "metadata": {
  "language_info": {
   "codemirror_mode": {
    "name": "ipython",
    "version": 2
   },
   "file_extension": ".py",
   "mimetype": "text/x-python",
   "name": "python",
   "nbconvert_exporter": "python",
   "pygments_lexer": "ipython2",
   "version": "2.7.6"
  },
  "kernelspec": {
   "name": "python3",
   "language": "python",
   "display_name": "Python 3"
  },
  "pycharm": {
   "stem_cell": {
    "cell_type": "raw",
    "source": [],
    "metadata": {
     "collapsed": false
    }
   }
  }
 },
 "nbformat": 4,
 "nbformat_minor": 0
}