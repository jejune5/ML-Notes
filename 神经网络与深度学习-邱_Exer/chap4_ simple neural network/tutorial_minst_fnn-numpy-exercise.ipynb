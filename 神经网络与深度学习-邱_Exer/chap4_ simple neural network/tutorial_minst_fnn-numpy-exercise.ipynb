{
 "cells": [
  {
   "cell_type": "markdown",
   "metadata": {},
   "source": [
    "## 准备数据"
   ]
  },
  {
   "cell_type": "code",
   "execution_count": 30,
   "metadata": {
    "pycharm": {
     "is_executing": false
    }
   },
   "outputs": [],
   "source": [
    "import os\n",
    "import numpy as np\n",
    "import tensorflow as tf\n",
    "from tensorflow import keras\n",
    "from tensorflow.keras import layers, optimizers, datasets\n",
    "\n",
    "os.environ['TF_CPP_MIN_LOG_LEVEL'] = '2'  # or any {'0', '1', '2'}\n",
    "\n",
    "def mnist_dataset():\n",
    "    (x, y), (x_test, y_test) = datasets.mnist.load_data()\n",
    "    #normalize\n",
    "    x = x/255.0\n",
    "    x_test = x_test/255.0\n",
    "    \n",
    "    return (x, y), (x_test, y_test)\n",
    "\n",
    "# a, b = mnist_dataset()\n",
    "# print(a)"
   ]
  },
  {
   "cell_type": "markdown",
   "metadata": {},
   "source": [
    "## Demo numpy based auto differentiation"
   ]
  },
  {
   "cell_type": "code",
   "execution_count": 31,
   "metadata": {
    "pycharm": {
     "is_executing": false
    }
   },
   "outputs": [],
   "source": [
    "import numpy as np\n",
    "\n",
    "class Matmul:\n",
    "    def __init__(self):\n",
    "        self.mem = {}\n",
    "        \n",
    "    def forward(self, x, W):\n",
    "        h = np.matmul(x, W)\n",
    "        self.mem={'x': x, 'W':W}\n",
    "        return h\n",
    "    \n",
    "    def backward(self, grad_y):\n",
    "        '''\n",
    "        x: shape(N, d)\n",
    "        w: shape(d, d')\n",
    "        grad_y: shape(N, d')\n",
    "        '''\n",
    "        x = self.mem['x']\n",
    "        W = self.mem['W']\n",
    "        \n",
    "        ####################\n",
    "        '''计算矩阵乘法的对应的梯度'''\n",
    "        ####################\n",
    "        grad_W = x.T.dot(grad_y)        \n",
    "        grad_x = grad_y.dot(W.T)\n",
    "        return grad_x, grad_W\n",
    "\n",
    "\n",
    "class Relu:\n",
    "    def __init__(self):\n",
    "        self.mem = {}\n",
    "        \n",
    "    def forward(self, x):\n",
    "        self.mem['x']=x\n",
    "        return np.where(x > 0, x, np.zeros_like(x))\n",
    "    \n",
    "    def backward(self, grad_y):\n",
    "        '''\n",
    "        grad_y: same shape as x\n",
    "        '''\n",
    "        ####################\n",
    "        '''计算relu 激活函数对应的梯度'''\n",
    "        ####################\n",
    "        relu_grad = self.mem['x']\n",
    "        grad_x = (np.where(relu_grad > 0, relu_grad, np.zeros_like(relu_grad))).astype(np.float32)*grad_y\n",
    "        \n",
    "        #x = self.mem['x']\n",
    "        #grad_x = (x > 0).astype(np.float32) * grad_y\n",
    "        return grad_x\n",
    "    \n",
    "\n",
    "\n",
    "class Softmax:\n",
    "    '''\n",
    "    softmax over last dimention\n",
    "    '''\n",
    "    def __init__(self):\n",
    "        self.epsilon = 1e-12\n",
    "        self.mem = {}\n",
    "        \n",
    "    def forward(self, x):\n",
    "        '''\n",
    "        x: shape(N, c)\n",
    "        '''\n",
    "        x_exp = np.exp(x)\n",
    "        partition = np.sum(x_exp, axis=1, keepdims=True)\n",
    "        out = x_exp/(partition+self.epsilon)\n",
    "        \n",
    "        self.mem['out'] = out\n",
    "        self.mem['x_exp'] = x_exp\n",
    "        return out\n",
    "    \n",
    "    def backward(self, grad_y):\n",
    "        '''\n",
    "        grad_y: same shape as x\n",
    "        '''\n",
    "        s = self.mem['out']\n",
    "        sisj = np.matmul(np.expand_dims(s,axis=2), np.expand_dims(s, axis=1)) # (N, c, c)\n",
    "        g_y_exp = np.expand_dims(grad_y, axis=1)\n",
    "        tmp = np.matmul(g_y_exp, sisj) #(N, 1, c)\n",
    "        tmp = np.squeeze(tmp, axis=1)\n",
    "        tmp = -tmp+grad_y*s \n",
    "        return tmp\n",
    "    \n",
    "class Log:\n",
    "    '''\n",
    "    softmax over last dimention\n",
    "    '''\n",
    "    def __init__(self):\n",
    "        self.epsilon = 1e-12\n",
    "        self.mem = {}\n",
    "        \n",
    "    def forward(self, x):\n",
    "        '''\n",
    "        x: shape(N, c)\n",
    "        '''\n",
    "        out = np.log(x+self.epsilon)\n",
    "        \n",
    "        self.mem['x'] = x\n",
    "        return out\n",
    "    \n",
    "    def backward(self, grad_y):\n",
    "        '''\n",
    "        grad_y: same shape as x\n",
    "        '''\n",
    "        x = self.mem['x']\n",
    "        \n",
    "        return 1./(x+1e-12) * grad_y\n",
    "    \n"
   ]
  },
  {
   "cell_type": "markdown",
   "metadata": {},
   "source": [
    "## Gradient check"
   ]
  },
  {
   "cell_type": "code",
   "execution_count": 32,
   "metadata": {
    "pycharm": {
     "is_executing": false
    }
   },
   "outputs": [
    {
     "name": "stdout",
     "text": [
      "(array([[-1.44770178,  1.75932211,  4.83361115,  1.86110622,  0.38123472,\n         3.11345904],\n       [-1.44770178,  1.75932211,  4.83361115,  1.86110622,  0.38123472,\n         3.11345904],\n       [-1.44770178,  1.75932211,  4.83361115,  1.86110622,  0.38123472,\n         3.11345904],\n       [-1.44770178,  1.75932211,  4.83361115,  1.86110622,  0.38123472,\n         3.11345904],\n       [-1.44770178,  1.75932211,  4.83361115,  1.86110622,  0.38123472,\n         3.11345904]]), array([[-2.57823513, -2.57823513, -2.57823513, -2.57823513],\n       [ 0.72524991,  0.72524991,  0.72524991,  0.72524991],\n       [ 0.11178849,  0.11178849,  0.11178849,  0.11178849],\n       [ 5.17848155,  5.17848155,  5.17848155,  5.17848155],\n       [-1.45835488, -1.45835488, -1.45835488, -1.45835488],\n       [ 0.58613903,  0.58613903,  0.58613903,  0.58613903]]))\ntf.Tensor(\n[[-1.44770178  1.75932211  4.83361115  1.86110622  0.38123472  3.11345904]\n [-1.44770178  1.75932211  4.83361115  1.86110622  0.38123472  3.11345904]\n [-1.44770178  1.75932211  4.83361115  1.86110622  0.38123472  3.11345904]\n [-1.44770178  1.75932211  4.83361115  1.86110622  0.38123472  3.11345904]\n [-1.44770178  1.75932211  4.83361115  1.86110622  0.38123472  3.11345904]], shape=(5, 6), dtype=float64)\n[[0.         0.         0.         0.78409803 1.59928763 0.0252616 ]\n [1.91711402 0.72629809 0.         0.         0.         0.        ]\n [0.         0.         0.         0.71420664 0.         0.        ]\n [0.17204781 0.77851564 0.13653724 0.         2.02902007 0.        ]\n [0.64333785 0.         0.2652835  0.         1.62884974 0.24717887]]\ntf.Tensor(\n[[0. 0. 0. 1. 1. 1.]\n [1. 1. 0. 0. 0. 0.]\n [0. 0. 0. 1. 0. 0.]\n [1. 1. 1. 0. 1. 0.]\n [1. 0. 1. 0. 1. 1.]], shape=(5, 6), dtype=float64)\n[[0. 1. 0. 0. 0. 0.]\n [1. 1. 0. 0. 0. 0.]\n [0. 0. 0. 1. 0. 0.]\n [0. 0. 0. 0. 0. 1.]\n [1. 0. 0. 0. 0. 0.]]\n[[-1.25549241e-03  4.96809073e-02 -4.76006008e-05 -5.27945212e-04\n  -4.73321977e-02 -5.17671380e-04]\n [ 2.15654005e-01  1.81593011e-02 -1.98702219e-05 -1.66695576e-04\n  -1.59685094e-03 -2.32029889e-01]\n [-3.84599193e-04 -2.89542441e-06 -4.61863476e-06  3.92114005e-04\n  -6.81524573e-10 -7.15351068e-11]\n [-1.91716213e-07 -9.75094356e-06 -4.84416595e-08 -2.23189235e-10\n  -3.22541096e-07  1.03138657e-05]\n [ 2.82519788e-04 -1.20631583e-07 -3.84442834e-09 -4.33403203e-09\n  -2.82387990e-04 -2.98739400e-09]]\ntf.Tensor(\n[[-1.25549241e-03  4.96809073e-02 -4.76006008e-05 -5.27945212e-04\n  -4.73321977e-02 -5.17671380e-04]\n [ 2.15654005e-01  1.81593011e-02 -1.98702219e-05 -1.66695576e-04\n  -1.59685094e-03 -2.32029889e-01]\n [-3.84599193e-04 -2.89542441e-06 -4.61863476e-06  3.92114005e-04\n  -6.81524573e-10 -7.15351068e-11]\n [-1.91716213e-07 -9.75094356e-06 -4.84416595e-08 -2.23189235e-10\n  -3.22541096e-07  1.03138657e-05]\n [ 2.82519788e-04 -1.20631583e-07 -3.84442834e-09 -4.33403203e-09\n  -2.82387990e-04 -2.98739400e-09]], shape=(5, 6), dtype=float64)\n[[-0.         -0.37987601  0.         -0.          0.          0.        ]\n [ 0.85543683  1.99538808 -0.          0.         -0.         -0.        ]\n [-0.          0.          0.          5.55753742 -0.         -0.        ]\n [-0.          0.         -0.          0.          0.         -1.95471348]\n [ 1.87856443  0.          0.          0.         -0.          0.        ]]\ntf.Tensor(\n[[-0.         -0.37987601  0.         -0.          0.          0.        ]\n [ 0.85543683  1.99538808 -0.          0.         -0.         -0.        ]\n [-0.          0.          0.          5.55753742 -0.         -0.        ]\n [-0.          0.         -0.          0.          0.         -1.95471348]\n [ 1.87856443  0.          0.          0.         -0.          0.        ]], shape=(5, 6), dtype=float64)\n"
     ],
     "output_type": "stream"
    },
    {
     "name": "stderr",
     "text": [
      "G:\\Python\\Anaconda3\\lib\\site-packages\\ipykernel_launcher.py:97: RuntimeWarning: invalid value encountered in log\n"
     ],
     "output_type": "stream"
    }
   ],
   "source": [
    "import tensorflow as tf\n",
    "\n",
    "x = np.random.normal(size=[5, 6])\n",
    "W = np.random.normal(size=[6, 4])\n",
    "aa = Matmul()\n",
    "out = aa.forward(x, W) # shape(5, 4)\n",
    "grad = aa.backward(np.ones_like(out))\n",
    "print (grad)\n",
    "\n",
    "with tf.GradientTape() as tape:\n",
    "    x, W = tf.constant(x), tf.constant(W)\n",
    "    tape.watch(x)\n",
    "    y = tf.matmul(x, W)\n",
    "    loss = tf.reduce_sum(y)\n",
    "    grads = tape.gradient(loss, x)\n",
    "    print (grads)\n",
    "\n",
    "import tensorflow as tf\n",
    "\n",
    "x = np.random.normal(size=[5, 6])\n",
    "aa = Relu()\n",
    "out = aa.forward(x) # shape(5, 4)\n",
    "grad = aa.backward(np.ones_like(out))\n",
    "print (grad)\n",
    "\n",
    "with tf.GradientTape() as tape:\n",
    "    x= tf.constant(x)\n",
    "    tape.watch(x)\n",
    "    y = tf.nn.relu(x)\n",
    "    loss = tf.reduce_sum(y)\n",
    "    grads = tape.gradient(loss, x)\n",
    "    print (grads)\n",
    "\n",
    "import tensorflow as tf\n",
    "x = np.random.normal(size=[5, 6], scale=5.0, loc=1)\n",
    "label = np.zeros_like(x)\n",
    "label[0, 1]=1.\n",
    "label[1, 0]=1\n",
    "label[1, 1]=1\n",
    "label[2, 3]=1\n",
    "label[3, 5]=1\n",
    "label[4, 0]=1\n",
    "print(label)\n",
    "aa = Softmax()\n",
    "out = aa.forward(x) # shape(5, 6)\n",
    "grad = aa.backward(label)\n",
    "print (grad)\n",
    "\n",
    "with tf.GradientTape() as tape:\n",
    "    x= tf.constant(x)\n",
    "    tape.watch(x)\n",
    "    y = tf.nn.softmax(x)\n",
    "    loss = tf.reduce_sum(y*label)\n",
    "    grads = tape.gradient(loss, x)\n",
    "    print (grads)\n",
    "\n",
    "import tensorflow as tf\n",
    "\n",
    "x = np.random.normal(size=[5, 6])\n",
    "aa = Log()\n",
    "out = aa.forward(x) # shape(5, 4)\n",
    "grad = aa.backward(label)\n",
    "print (grad)\n",
    "\n",
    "with tf.GradientTape() as tape:\n",
    "    x= tf.constant(x)\n",
    "    tape.watch(x)\n",
    "    y = tf.math.log(x)\n",
    "    loss = tf.reduce_sum(y*label)\n",
    "    grads = tape.gradient(loss, x)\n",
    "    print (grads)"
   ]
  },
  {
   "cell_type": "markdown",
   "metadata": {},
   "source": [
    "# Final Gradient Check"
   ]
  },
  {
   "cell_type": "code",
   "execution_count": 33,
   "metadata": {
    "pycharm": {
     "is_executing": false
    }
   },
   "outputs": [
    {
     "name": "stdout",
     "text": [
      "[[0.00000000e+00 5.14915630e+04 0.00000000e+00 0.00000000e+00\n  0.00000000e+00 0.00000000e+00]\n [9.54776379e+01 0.00000000e+00 0.00000000e+00 0.00000000e+00\n  0.00000000e+00 0.00000000e+00]\n [0.00000000e+00 0.00000000e+00 0.00000000e+00 7.11966350e+00\n  0.00000000e+00 0.00000000e+00]\n [0.00000000e+00 0.00000000e+00 0.00000000e+00 0.00000000e+00\n  0.00000000e+00 7.43446468e+04]\n [9.84470628e+00 0.00000000e+00 0.00000000e+00 0.00000000e+00\n  0.00000000e+00 0.00000000e+00]]\n----------------------------------------\n[[0.00000000e+00 5.14915656e+04 0.00000000e+00 0.00000000e+00\n  0.00000000e+00 0.00000000e+00]\n [9.54776379e+01 0.00000000e+00 0.00000000e+00 0.00000000e+00\n  0.00000000e+00 0.00000000e+00]\n [0.00000000e+00 0.00000000e+00 0.00000000e+00 7.11966350e+00\n  0.00000000e+00 0.00000000e+00]\n [0.00000000e+00 0.00000000e+00 0.00000000e+00 0.00000000e+00\n  0.00000000e+00 7.43446523e+04]\n [9.84470628e+00 0.00000000e+00 0.00000000e+00 0.00000000e+00\n  0.00000000e+00 0.00000000e+00]]\n"
     ],
     "output_type": "stream"
    }
   ],
   "source": [
    "import tensorflow as tf\n",
    "\n",
    "label = np.zeros_like(x)\n",
    "label[0, 1]=1.\n",
    "label[1, 0]=1\n",
    "label[2, 3]=1\n",
    "label[3, 5]=1\n",
    "label[4, 0]=1\n",
    "\n",
    "x = np.random.normal(size=[5, 6])\n",
    "W1 = np.random.normal(size=[6, 5])\n",
    "W2 = np.random.normal(size=[5, 6])\n",
    "\n",
    "mul_h1 = Matmul()\n",
    "mul_h2 = Matmul()\n",
    "relu = Relu()\n",
    "softmax = Softmax()\n",
    "log = Log()\n",
    "\n",
    "h1 = mul_h1.forward(x, W1) # shape(5, 4)\n",
    "h1_relu = relu.forward(h1)\n",
    "h2 = mul_h2.forward(h1_relu, W2)\n",
    "h2_soft = softmax.forward(h2)\n",
    "h2_log = log.forward(h2_soft)\n",
    "\n",
    "\n",
    "h2_log_grad = log.backward(label)\n",
    "h2_soft_grad = softmax.backward(h2_log_grad)\n",
    "h2_grad, W2_grad = mul_h2.backward(h2_soft_grad)\n",
    "h1_relu_grad = relu.backward(h2_grad)\n",
    "h1_grad, W1_grad = mul_h1.backward(h1_relu_grad)\n",
    "\n",
    "print(h2_log_grad)\n",
    "print('--'*20)\n",
    "# print(W2_grad)\n",
    "\n",
    "with tf.GradientTape() as tape:\n",
    "    x, W1, W2, label = tf.constant(x), tf.constant(W1), tf.constant(W2), tf.constant(label)\n",
    "    tape.watch(W1)\n",
    "    tape.watch(W2)\n",
    "    h1 = tf.matmul(x, W1)\n",
    "    h1_relu = tf.nn.relu(h1)\n",
    "    h2 = tf.matmul(h1_relu, W2)\n",
    "    prob = tf.nn.softmax(h2)\n",
    "    log_prob = tf.math.log(prob)\n",
    "    loss = tf.reduce_sum(label * log_prob)\n",
    "    grads = tape.gradient(loss, [prob])\n",
    "    print (grads[0].numpy())"
   ]
  },
  {
   "cell_type": "markdown",
   "metadata": {},
   "source": [
    "## 建立模型"
   ]
  },
  {
   "cell_type": "code",
   "execution_count": 34,
   "metadata": {
    "pycharm": {
     "is_executing": false
    }
   },
   "outputs": [],
   "source": [
    "class myModel:\n",
    "    def __init__(self):\n",
    "        \n",
    "        self.W1 = np.random.normal(size=[28*28+1, 100])\n",
    "        self.W2 = np.random.normal(size=[100, 10])\n",
    "        \n",
    "        self.mul_h1 = Matmul()\n",
    "        self.mul_h2 = Matmul()\n",
    "        self.relu = Relu()\n",
    "        self.softmax = Softmax()\n",
    "        self.log = Log()\n",
    "        \n",
    "        \n",
    "    def forward(self, x):\n",
    "        x = x.reshape(-1, 28*28)\n",
    "        bias = np.ones(shape=[x.shape[0], 1])\n",
    "        x = np.concatenate([x, bias], axis=1)\n",
    "        \n",
    "        self.h1 = self.mul_h1.forward(x, self.W1) # shape(5, 4)\n",
    "        self.h1_relu = self.relu.forward(self.h1)\n",
    "        self.h2 = self.mul_h2.forward(self.h1_relu, self.W2)\n",
    "        self.h2_soft = self.softmax.forward(self.h2)\n",
    "        self.h2_log = self.log.forward(self.h2_soft)\n",
    "            \n",
    "    def backward(self, label):\n",
    "        self.h2_log_grad = self.log.backward(-label)\n",
    "        self.h2_soft_grad = self.softmax.backward(self.h2_log_grad)\n",
    "        self.h2_grad, self.W2_grad = self.mul_h2.backward(self.h2_soft_grad)\n",
    "        self.h1_relu_grad = self.relu.backward(self.h2_grad)\n",
    "        self.h1_grad, self.W1_grad = self.mul_h1.backward(self.h1_relu_grad)\n",
    "        \n",
    "model = myModel()\n"
   ]
  },
  {
   "cell_type": "markdown",
   "metadata": {},
   "source": [
    "## 计算 loss"
   ]
  },
  {
   "cell_type": "code",
   "execution_count": 35,
   "metadata": {
    "pycharm": {
     "is_executing": false
    }
   },
   "outputs": [],
   "source": [
    "def compute_loss(log_prob, labels):\n",
    "     return np.mean(np.sum(-log_prob*labels, axis=1))\n",
    "    \n",
    "\n",
    "def compute_accuracy(log_prob, labels):\n",
    "    predictions = np.argmax(log_prob, axis=1)\n",
    "    truth = np.argmax(labels, axis=1)\n",
    "    return np.mean(predictions==truth)\n",
    "\n",
    "def train_one_step(model, x, y):\n",
    "    model.forward(x)\n",
    "    model.backward(y)\n",
    "    model.W1 -= 1e-5* model.W1_grad\n",
    "    model.W2 -= 1e-5* model.W2_grad\n",
    "    loss = compute_loss(model.h2_log, y)\n",
    "    accuracy = compute_accuracy(model.h2_log, y)\n",
    "    return loss, accuracy\n",
    "\n",
    "def test(model, x, y):\n",
    "    model.forward(x)\n",
    "    loss = compute_loss(model.h2_log, y)\n",
    "    accuracy = compute_accuracy(model.h2_log, y)\n",
    "    return loss, accuracy"
   ]
  },
  {
   "cell_type": "markdown",
   "metadata": {},
   "source": [
    "## 实际训练"
   ]
  },
  {
   "cell_type": "code",
   "execution_count": 36,
   "metadata": {
    "pycharm": {
     "is_executing": false
    }
   },
   "outputs": [
    {
     "name": "stdout",
     "text": [
      "epoch 0 : loss 23.240307703496054 ; accuracy 0.10331666666666667\n",
      "epoch 1 : loss 20.320495161158973 ; accuracy 0.23791666666666667\n",
      "epoch 2 : loss 17.94226968029642 ; accuracy 0.3083666666666667\n",
      "epoch 3 : loss 16.43492413937614 ; accuracy 0.37035\n",
      "epoch 4 : loss 17.62432266485101 ; accuracy 0.33781666666666665\n",
      "epoch 5 : loss 17.680356255081296 ; accuracy 0.3256\n",
      "epoch 6 : loss 18.299641321785266 ; accuracy 0.3095\n",
      "epoch 7 : loss 16.31238617265293 ; accuracy 0.3900666666666667\n",
      "epoch 8 : loss 17.59928976970244 ; accuracy 0.3509333333333333\n",
      "epoch 9 : loss 17.556880173405666 ; accuracy 0.34751666666666664\n",
      "epoch 10 : loss 18.680492841255905 ; accuracy 0.29646666666666666\n",
      "epoch 11 : loss 16.803043799102813 ; accuracy 0.37688333333333335\n",
      "epoch 12 : loss 14.770015266618858 ; accuracy 0.45115\n",
      "epoch 13 : loss 13.645705117259446 ; accuracy 0.48911666666666664\n",
      "epoch 14 : loss 13.483366741725742 ; accuracy 0.49448333333333333\n",
      "epoch 15 : loss 13.755176464550111 ; accuracy 0.48156666666666664\n",
      "epoch 16 : loss 14.21232176355011 ; accuracy 0.4683833333333333\n",
      "epoch 17 : loss 12.344484156921109 ; accuracy 0.5298166666666667\n",
      "epoch 18 : loss 12.022880316177115 ; accuracy 0.5385333333333333\n",
      "epoch 19 : loss 11.387273663475057 ; accuracy 0.5647666666666666\n",
      "epoch 20 : loss 11.489049302899364 ; accuracy 0.5629\n",
      "epoch 21 : loss 10.982577611310635 ; accuracy 0.5776166666666667\n",
      "epoch 22 : loss 10.829183313691118 ; accuracy 0.5849166666666666\n",
      "epoch 23 : loss 10.892676616374247 ; accuracy 0.5821666666666667\n",
      "epoch 24 : loss 10.1044312833111 ; accuracy 0.6084333333333334\n",
      "epoch 25 : loss 8.35652527299202 ; accuracy 0.6685833333333333\n",
      "epoch 26 : loss 9.019018109615217 ; accuracy 0.6453666666666666\n",
      "epoch 27 : loss 7.720396305499377 ; accuracy 0.6917333333333333\n",
      "epoch 28 : loss 6.590148096585784 ; accuracy 0.73135\n",
      "epoch 29 : loss 5.70905076230886 ; accuracy 0.7602666666666666\n",
      "epoch 30 : loss 6.47161614649414 ; accuracy 0.73335\n",
      "epoch 31 : loss 5.973882988113886 ; accuracy 0.7501666666666666\n",
      "epoch 32 : loss 6.22209873682206 ; accuracy 0.7415833333333334\n",
      "epoch 33 : loss 5.194547083079947 ; accuracy 0.7819166666666667\n",
      "epoch 34 : loss 5.023848049633187 ; accuracy 0.7866333333333333\n",
      "epoch 35 : loss 4.907226068717107 ; accuracy 0.7920333333333334\n",
      "epoch 36 : loss 4.791320076234031 ; accuracy 0.7943333333333333\n",
      "epoch 37 : loss 4.675105744078375 ; accuracy 0.7984166666666667\n",
      "epoch 38 : loss 4.536466860486338 ; accuracy 0.8012666666666667\n",
      "epoch 39 : loss 4.182412068006933 ; accuracy 0.80845\n",
      "epoch 40 : loss 3.400779116584622 ; accuracy 0.82705\n",
      "epoch 41 : loss 3.0753153639516007 ; accuracy 0.8395666666666667\n",
      "epoch 42 : loss 3.017233365896474 ; accuracy 0.83675\n",
      "epoch 43 : loss 4.143594169723651 ; accuracy 0.8017666666666666\n",
      "epoch 44 : loss 2.947622733435757 ; accuracy 0.8368833333333333\n",
      "epoch 45 : loss 2.677312645501235 ; accuracy 0.847\n",
      "epoch 46 : loss 2.8000071822509285 ; accuracy 0.83825\n",
      "epoch 47 : loss 2.422617512038946 ; accuracy 0.8540666666666666\n",
      "epoch 48 : loss 2.238966869685407 ; accuracy 0.8609833333333333\n",
      "epoch 49 : loss 2.01759784927054 ; accuracy 0.8688833333333333\ntest loss 1.8650117765819916 ; accuracy 0.8751\n"
     ],
     "output_type": "stream"
    }
   ],
   "source": [
    "train_data, test_data = mnist_dataset()\n",
    "train_label = np.zeros(shape=[train_data[0].shape[0], 10])\n",
    "test_label = np.zeros(shape=[test_data[0].shape[0], 10])\n",
    "train_label[np.arange(train_data[0].shape[0]), np.array(train_data[1])] = 1.\n",
    "test_label[np.arange(test_data[0].shape[0]), np.array(test_data[1])] = 1.\n",
    "\n",
    "for epoch in range(50):\n",
    "    loss, accuracy = train_one_step(model, train_data[0], train_label)\n",
    "    print('epoch', epoch, ': loss', loss, '; accuracy', accuracy)\n",
    "loss, accuracy = test(model, test_data[0], test_label)\n",
    "\n",
    "print('test loss', loss, '; accuracy', accuracy)"
   ]
  }
 ],
 "metadata": {
  "kernelspec": {
   "display_name": "Python 3",
   "language": "python",
   "name": "python3"
  },
  "language_info": {
   "codemirror_mode": {
    "name": "ipython",
    "version": 3
   },
   "file_extension": ".py",
   "mimetype": "text/x-python",
   "name": "python",
   "nbconvert_exporter": "python",
   "pygments_lexer": "ipython3",
   "version": "3.7.0"
  },
  "pycharm": {
   "stem_cell": {
    "cell_type": "raw",
    "source": [],
    "metadata": {
     "collapsed": false
    }
   }
  }
 },
 "nbformat": 4,
 "nbformat_minor": 2
}