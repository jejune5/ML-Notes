{
 "cells": [
  {
   "cell_type": "markdown",
   "metadata": {},
   "source": [
    "# CH6 循环神经网络\n",
    "## 6.1 给网络增加记忆能力\n",
    "延时网络\n",
    "$\\boldsymbol{h}_{t}^{(l)}=f\\left(\\boldsymbol{h}_{t}^{(l-1)}, \\boldsymbol{h}_{t-1}^{(l-1)}, \\cdots, \\boldsymbol{h}_{t-K}^{(l-1)}\\right)$\n",
    "## 6.4 参数学习\n",
    "对数据集，***x1***为输入，*y1*为标签（长度均为T）：\n",
    "\n",
    "$\\boldsymbol{x}_{1: T}=\\left(\\boldsymbol{x}_{1}, \\cdots, \\boldsymbol{x}_{T}\\right)$\n",
    "\n",
    "$y_{1: T}=\\left(y_{1}, \\cdots, y_{T}\\right)$\n",
    "\n",
    "*t* 时刻损失函数:$\\mathcal{L}_{t}=\\mathcal{L}\\left(y_{t}, g\\left(\\boldsymbol{h}_{t}\\right)\\right)$\n",
    "\n",
    "对参数 U 求梯度：\n",
    "$\\frac{\\partial \\mathcal{L}}{\\partial \\boldsymbol{U}}=\\sum_{t=1}^{T} \\frac{\\partial \\mathcal{L}_{t}}{\\partial \\boldsymbol{U}}$\n",
    "\n",
    "### 6.4.1 随时间反向传播（BPTT）\n",
    "计算偏导数：\n",
    "$\\frac{\\partial \\mathcal{L}_{t}}{\\partial \\boldsymbol{U}}$\n",
    "### 6.4.2 实时循环学习（RTRL）\n",
    "\n"
   ]
  },
  {
   "cell_type": "code",
   "execution_count": null,
   "metadata": {},
   "outputs": [],
   "source": []
  }
 ],
 "metadata": {
  "kernelspec": {
   "display_name": "Python 3",
   "language": "python",
   "name": "python3"
  },
  "language_info": {
   "codemirror_mode": {
    "name": "ipython",
    "version": 3
   },
   "file_extension": ".py",
   "mimetype": "text/x-python",
   "name": "python",
   "nbconvert_exporter": "python",
   "pygments_lexer": "ipython3",
   "version": "3.7.6"
  }
 },
 "nbformat": 4,
 "nbformat_minor": 4
}
