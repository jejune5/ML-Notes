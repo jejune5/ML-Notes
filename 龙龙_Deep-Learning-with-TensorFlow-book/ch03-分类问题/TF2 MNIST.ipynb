{
 "cells": [
  {
   "cell_type": "code",
   "execution_count": 4,
   "metadata": {
    "collapsed": true,
    "pycharm": {
     "is_executing": false
    }
   },
   "outputs": [
    {
     "name": "stdout",
     "text": [
      "(60000, 28, 28) (60000,) --> (10000, 28, 28) (10000,)\n"
     ],
     "output_type": "stream"
    }
   ],
   "source": [
    "import os\n",
    "import tensorflow as tf\n",
    "from tensorflow import keras\n",
    "from tensorflow.keras import layers,optimizers,datasets"
   ]
  },
  {
   "cell_type": "code",
   "execution_count": 19,
   "outputs": [
    {
     "name": "stdout",
     "text": [
      "(60000, 28, 28) (60000, 10) --> (10000, 28, 28) (10000,)\n"
     ],
     "output_type": "stream"
    }
   ],
   "source": [
    "# 1 准备数据\n",
    "(x,y), (x_val,y_val) = datasets.mnist.load_data()\n",
    "#转化到浮点，并缩放到 [-1,1]\n",
    "x = 2*tf.convert_to_tensor(x,dtype=tf.float32)/255. - 1\n",
    "#转换为整形张量\n",
    "y = tf.convert_to_tensor(y,dtype = tf.int32) \n",
    "y = tf.one_hot(y,depth=10)#one-hot编码\n",
    "print(x.shape,y.shape,'-->',x_val.shape,y_val.shape)\n",
    "#构建数据集对象\n",
    "train_dataset = tf.data.Dataset.from_tensor_slices((x, y))\n",
    "#批量训练\n",
    "train_dataset = train_dataset.batch(512)"
   ],
   "metadata": {
    "collapsed": false,
    "pycharm": {
     "name": "#%%\n",
     "is_executing": false
    }
   }
  },
  {
   "cell_type": "code",
   "execution_count": null,
   "outputs": [],
   "source": [
    "# 2 构建模型"
   ],
   "metadata": {
    "collapsed": false,
    "pycharm": {
     "name": "#%%\n"
    }
   }
  }
 ],
 "metadata": {
  "kernelspec": {
   "display_name": "Python 3",
   "language": "python",
   "name": "python3"
  },
  "language_info": {
   "codemirror_mode": {
    "name": "ipython",
    "version": 2
   },
   "file_extension": ".py",
   "mimetype": "text/x-python",
   "name": "python",
   "nbconvert_exporter": "python",
   "pygments_lexer": "ipython2",
   "version": "2.7.6"
  },
  "pycharm": {
   "stem_cell": {
    "cell_type": "raw",
    "source": [],
    "metadata": {
     "collapsed": false
    }
   }
  }
 },
 "nbformat": 4,
 "nbformat_minor": 0
}